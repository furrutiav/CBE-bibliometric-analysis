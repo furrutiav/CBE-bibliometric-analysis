{
 "cells": [
  {
   "cell_type": "code",
   "execution_count": 1,
   "id": "53ead5a7",
   "metadata": {},
   "outputs": [],
   "source": [
    "import pickle"
   ]
  },
  {
   "cell_type": "code",
   "execution_count": 33,
   "id": "c55a8e67",
   "metadata": {},
   "outputs": [],
   "source": [
    "df_docs_outside = pickle.load(open(\"df_docs_outside.pickle\", \"rb\"))\n",
    "weighted_cluster_1 = pickle.load(open(\"weighted_cluster_1.pickle\", \"rb\"))\n",
    "weighted_cluster_2 = pickle.load(open(\"weighted_cluster_2.pickle\", \"rb\"))\n",
    "weighted_cluster_3 = pickle.load(open(\"weighted_cluster_3.pickle\", \"rb\"))"
   ]
  },
  {
   "cell_type": "code",
   "execution_count": 34,
   "id": "818ac002",
   "metadata": {},
   "outputs": [],
   "source": [
    "rel_columns = ['doc_clean',\n",
    " 'topic_0',\n",
    " 'topic_1',\n",
    " 'topic_2',\n",
    " 'topic_3',\n",
    " 'topic_4',\n",
    " 'topic_5']"
   ]
  },
  {
   "cell_type": "code",
   "execution_count": 35,
   "id": "ed0a8f2e",
   "metadata": {},
   "outputs": [],
   "source": [
    "train_set_c1 = weighted_cluster_1[rel_columns]\n",
    "train_set_c2 = weighted_cluster_2[rel_columns]\n",
    "train_set_c3 = weighted_cluster_3[rel_columns]"
   ]
  },
  {
   "cell_type": "code",
   "execution_count": 36,
   "id": "64b2179c",
   "metadata": {},
   "outputs": [],
   "source": [
    "test_set = df_docs_outside[\"doc_clean\"]"
   ]
  },
  {
   "cell_type": "code",
   "execution_count": 37,
   "id": "1e9a7a6a",
   "metadata": {},
   "outputs": [
    {
     "name": "stdout",
     "output_type": "stream",
     "text": [
      " --Cluster 0--\n",
      "Size: 89\n",
      "Size topic 0: 9\n",
      "Size topic 1: 16\n",
      "Size topic 2: 13\n",
      "Size topic 3: 6\n",
      "Size topic 4: 7\n",
      "Size topic 5: 9\n",
      " --Cluster 1--\n",
      "Size: 57\n",
      "Size topic 0: 8\n",
      "Size topic 1: 3\n",
      "Size topic 2: 11\n",
      "Size topic 3: 6\n",
      "Size topic 4: 8\n",
      "Size topic 5: 7\n",
      " --Cluster 2--\n",
      "Size: 43\n",
      "Size topic 0: 8\n",
      "Size topic 1: 7\n",
      "Size topic 2: 4\n",
      "Size topic 3: 4\n",
      "Size topic 4: 6\n",
      "Size topic 5: 6\n"
     ]
    }
   ],
   "source": [
    "for j in range(3):    \n",
    "    train_set = [train_set_c1, train_set_c2, train_set_c3][j]\n",
    "    print(f\" --Cluster {j}--\")\n",
    "    print(\"Size:\", train_set.shape[0])\n",
    "    for i in range(6):\n",
    "        print(f\"Size topic {i}:\", train_set[train_set[f\"topic_{i}\"]>0].shape[0])"
   ]
  },
  {
   "cell_type": "code",
   "execution_count": 145,
   "id": "a836c288",
   "metadata": {},
   "outputs": [
    {
     "data": {
      "text/html": [
       "<div>\n",
       "<style scoped>\n",
       "    .dataframe tbody tr th:only-of-type {\n",
       "        vertical-align: middle;\n",
       "    }\n",
       "\n",
       "    .dataframe tbody tr th {\n",
       "        vertical-align: top;\n",
       "    }\n",
       "\n",
       "    .dataframe thead th {\n",
       "        text-align: right;\n",
       "    }\n",
       "</style>\n",
       "<table border=\"1\" class=\"dataframe\">\n",
       "  <thead>\n",
       "    <tr style=\"text-align: right;\">\n",
       "      <th></th>\n",
       "      <th>doc_clean</th>\n",
       "      <th>topic_1</th>\n",
       "      <th>text</th>\n",
       "      <th>y</th>\n",
       "    </tr>\n",
       "  </thead>\n",
       "  <tbody>\n",
       "    <tr>\n",
       "      <th>0</th>\n",
       "      <td>[student, learn, implicit, explicit, non, exis...</td>\n",
       "      <td>0.000000</td>\n",
       "      <td>student learn implicit explicit non existent c...</td>\n",
       "      <td>0</td>\n",
       "    </tr>\n",
       "    <tr>\n",
       "      <th>1</th>\n",
       "      <td>[competence, base, approach, organizational, i...</td>\n",
       "      <td>0.000000</td>\n",
       "      <td>competence base approach organizational indivi...</td>\n",
       "      <td>0</td>\n",
       "    </tr>\n",
       "    <tr>\n",
       "      <th>2</th>\n",
       "      <td>[develop, key, competency, project, base, lear...</td>\n",
       "      <td>0.000000</td>\n",
       "      <td>develop key competency project base learning g...</td>\n",
       "      <td>0</td>\n",
       "    </tr>\n",
       "    <tr>\n",
       "      <th>3</th>\n",
       "      <td>[competency, professionals, empirical, study, ...</td>\n",
       "      <td>0.000000</td>\n",
       "      <td>competency professionals empirical study key c...</td>\n",
       "      <td>0</td>\n",
       "    </tr>\n",
       "    <tr>\n",
       "      <th>4</th>\n",
       "      <td>[coach, prepare, student, school, work, transi...</td>\n",
       "      <td>0.000000</td>\n",
       "      <td>coach prepare student school work transition c...</td>\n",
       "      <td>0</td>\n",
       "    </tr>\n",
       "    <tr>\n",
       "      <th>...</th>\n",
       "      <td>...</td>\n",
       "      <td>...</td>\n",
       "      <td>...</td>\n",
       "      <td>...</td>\n",
       "    </tr>\n",
       "    <tr>\n",
       "      <th>84</th>\n",
       "      <td>[evaluate, assessment, quality, competence, ba...</td>\n",
       "      <td>0.284201</td>\n",
       "      <td>evaluate assessment quality competence base ed...</td>\n",
       "      <td>1</td>\n",
       "    </tr>\n",
       "    <tr>\n",
       "      <th>85</th>\n",
       "      <td>[export, failure, strange, case, national, voc...</td>\n",
       "      <td>0.319629</td>\n",
       "      <td>export failure strange case national vocationa...</td>\n",
       "      <td>1</td>\n",
       "    </tr>\n",
       "    <tr>\n",
       "      <th>86</th>\n",
       "      <td>[reconsider, competence, attempt, david, bridg...</td>\n",
       "      <td>0.000000</td>\n",
       "      <td>reconsider competence attempt david bridges ju...</td>\n",
       "      <td>0</td>\n",
       "    </tr>\n",
       "    <tr>\n",
       "      <th>87</th>\n",
       "      <td>[competence, base, education, training, progre...</td>\n",
       "      <td>0.228439</td>\n",
       "      <td>competence base education training progress vi...</td>\n",
       "      <td>1</td>\n",
       "    </tr>\n",
       "    <tr>\n",
       "      <th>88</th>\n",
       "      <td>[tilt, windmill, problem, challenge, national,...</td>\n",
       "      <td>0.325450</td>\n",
       "      <td>tilt windmill problem challenge national counc...</td>\n",
       "      <td>1</td>\n",
       "    </tr>\n",
       "  </tbody>\n",
       "</table>\n",
       "<p>89 rows × 4 columns</p>\n",
       "</div>"
      ],
      "text/plain": [
       "                                            doc_clean   topic_1  \\\n",
       "0   [student, learn, implicit, explicit, non, exis...  0.000000   \n",
       "1   [competence, base, approach, organizational, i...  0.000000   \n",
       "2   [develop, key, competency, project, base, lear...  0.000000   \n",
       "3   [competency, professionals, empirical, study, ...  0.000000   \n",
       "4   [coach, prepare, student, school, work, transi...  0.000000   \n",
       "..                                                ...       ...   \n",
       "84  [evaluate, assessment, quality, competence, ba...  0.284201   \n",
       "85  [export, failure, strange, case, national, voc...  0.319629   \n",
       "86  [reconsider, competence, attempt, david, bridg...  0.000000   \n",
       "87  [competence, base, education, training, progre...  0.228439   \n",
       "88  [tilt, windmill, problem, challenge, national,...  0.325450   \n",
       "\n",
       "                                                 text  y  \n",
       "0   student learn implicit explicit non existent c...  0  \n",
       "1   competence base approach organizational indivi...  0  \n",
       "2   develop key competency project base learning g...  0  \n",
       "3   competency professionals empirical study key c...  0  \n",
       "4   coach prepare student school work transition c...  0  \n",
       "..                                                ... ..  \n",
       "84  evaluate assessment quality competence base ed...  1  \n",
       "85  export failure strange case national vocationa...  1  \n",
       "86  reconsider competence attempt david bridges ju...  0  \n",
       "87  competence base education training progress vi...  1  \n",
       "88  tilt windmill problem challenge national counc...  1  \n",
       "\n",
       "[89 rows x 4 columns]"
      ]
     },
     "execution_count": 145,
     "metadata": {},
     "output_type": "execute_result"
    }
   ],
   "source": [
    "t = 1\n",
    "train_set_c1_t0 = train_set_c1[f\"doc_clean topic_{t}\".split()].copy()\n",
    "train_set_c1_t0[\"text\"] = train_set_c1_t0[\"doc_clean\"].apply(lambda x: \" \".join(x))\n",
    "train_set_c1_t0[\"y\"] = (train_set_c1_t0[f\"topic_{t}\"]>0).astype(int)\n",
    "train_set_c1_t0"
   ]
  },
  {
   "cell_type": "code",
   "execution_count": 146,
   "id": "32f03fbd",
   "metadata": {},
   "outputs": [
    {
     "data": {
      "text/plain": [
       "0    73\n",
       "1    16\n",
       "Name: y, dtype: int64"
      ]
     },
     "execution_count": 146,
     "metadata": {},
     "output_type": "execute_result"
    }
   ],
   "source": [
    "train_set_c1_t0[\"y\"].value_counts()"
   ]
  },
  {
   "cell_type": "code",
   "execution_count": 78,
   "id": "e197a9ea",
   "metadata": {},
   "outputs": [],
   "source": [
    "from sklearn.feature_extraction.text import TfidfVectorizer\n",
    "from sklearn.pipeline import Pipeline\n",
    "from sklearn.naive_bayes import MultinomialNB\n",
    "from sklearn.linear_model import LogisticRegression\n",
    "from sklearn.metrics import plot_confusion_matrix\n",
    "import numpy as np"
   ]
  },
  {
   "cell_type": "code",
   "execution_count": 147,
   "id": "a930b8ec",
   "metadata": {},
   "outputs": [
    {
     "name": "stdout",
     "output_type": "stream",
     "text": [
      "['sustainable_development', 'development_goal', 'competence', 'assessment', 'mobile', 'policy', 'covid', '19', 'culinary', 'vocational', 'european', 'hope', 'narrative', 'movement', 'philosophy', 'competence_movement', 'philosophy_education', 'practical_competence']\n",
      "Wall time: 114 ms\n"
     ]
    },
    {
     "name": "stderr",
     "output_type": "stream",
     "text": [
      "C:\\Users\\felip\\anaconda3\\lib\\site-packages\\sklearn\\utils\\deprecation.py:87: FutureWarning: Function plot_confusion_matrix is deprecated; Function `plot_confusion_matrix` is deprecated in 1.0 and will be removed in 1.2. Use one of the class methods: ConfusionMatrixDisplay.from_predictions or ConfusionMatrixDisplay.from_estimator.\n",
      "  warnings.warn(msg, category=FutureWarning)\n"
     ]
    },
    {
     "data": {
      "text/plain": [
       "<sklearn.metrics._plot.confusion_matrix.ConfusionMatrixDisplay at 0x19f6119d7c0>"
      ]
     },
     "execution_count": 147,
     "metadata": {},
     "output_type": "execute_result"
    },
    {
     "data": {
      "image/png": "[encoded data removed]",
      "text/plain": [
       "<Figure size 432x288 with 2 Axes>"
      ]
     },
     "metadata": {
      "needs_background": "light"
     },
     "output_type": "display_data"
    }
   ],
   "source": [
    "%%time\n",
    "pipe = Pipeline(steps=[\n",
    "    ('tfidf', TfidfVectorizer()),\n",
    "    (\"clf\", LogisticRegression(\n",
    "        C=15,\n",
    "        penalty=\"l1\", \n",
    "        class_weight=\"balanced\", \n",
    "        solver=\"liblinear\", \n",
    "        random_state=0))\n",
    "])\n",
    "pipe.fit(train_set_c1_t0[\"text\"], train_set_c1_t0[\"y\"])\n",
    "ixs = np.where(pipe[\"clf\"].coef_>0)[1]\n",
    "cols = [k for k, v in pipe[\"tfidf\"].vocabulary_.items() if v in ixs]\n",
    "print(cols)\n",
    "plot_confusion_matrix(pipe, train_set_c1_t0[\"text\"], train_set_c1_t0[\"y\"]);"
   ]
  }
 ],
 "metadata": {
  "kernelspec": {
   "display_name": "Python 3 (ipykernel)",
   "language": "python",
   "name": "python3"
  },
  "language_info": {
   "codemirror_mode": {
    "name": "ipython",
    "version": 3
   },
   "file_extension": ".py",
   "mimetype": "text/x-python",
   "name": "python",
   "nbconvert_exporter": "python",
   "pygments_lexer": "ipython3",
   "version": "3.8.5"
  }
 },
 "nbformat": 4,
 "nbformat_minor": 5
}
