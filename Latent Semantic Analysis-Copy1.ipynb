{
 "cells": [
  {
   "cell_type": "code",
   "execution_count": 1,
   "metadata": {},
   "outputs": [
    {
     "name": "stdout",
     "output_type": "stream",
     "text": [
      "Requirement already satisfied: gensim in c:\\users\\felip\\anaconda3\\lib\\site-packages (4.2.0)\n",
      "Requirement already satisfied: numpy>=1.17.0 in c:\\users\\felip\\anaconda3\\lib\\site-packages (from gensim) (1.20.3)\n",
      "Requirement already satisfied: scipy>=0.18.1 in c:\\users\\felip\\anaconda3\\lib\\site-packages (from gensim) (1.6.2)\n",
      "Requirement already satisfied: smart-open>=1.8.1 in c:\\users\\felip\\anaconda3\\lib\\site-packages (from gensim) (5.2.1)\n",
      "Requirement already satisfied: Cython==0.29.28 in c:\\users\\felip\\anaconda3\\lib\\site-packages (from gensim) (0.29.28)\n"
     ]
    }
   ],
   "source": [
    "!pip install gensim"
   ]
  },
  {
   "cell_type": "code",
   "execution_count": 2,
   "metadata": {},
   "outputs": [],
   "source": [
    "import csv\n",
    "import pandas as pd\n",
    "import numpy as np\n",
    "\n",
    "import os.path\n",
    "from gensim import corpora\n",
    "from gensim.models import LsiModel\n",
    "from nltk.tokenize import RegexpTokenizer\n",
    "from nltk.corpus import stopwords\n",
    "from nltk.stem.porter import PorterStemmer\n",
    "from gensim.models.coherencemodel import CoherenceModel\n",
    "import matplotlib.pyplot as plt\n",
    "import plotly.express as px"
   ]
  },
  {
   "cell_type": "code",
   "execution_count": 115,
   "metadata": {},
   "outputs": [],
   "source": [
    "import json"
   ]
  },
  {
   "cell_type": "code",
   "execution_count": 222,
   "metadata": {},
   "outputs": [],
   "source": [
    "f = open('direct_citation_net.json', encoding='utf-8-sig') # delete descripcion:\n",
    "network = json.load(f)[\"network\"]"
   ]
  },
  {
   "cell_type": "code",
   "execution_count": 223,
   "metadata": {},
   "outputs": [
    {
     "data": {
      "text/html": [
       "<div>\n",
       "<style scoped>\n",
       "    .dataframe tbody tr th:only-of-type {\n",
       "        vertical-align: middle;\n",
       "    }\n",
       "\n",
       "    .dataframe tbody tr th {\n",
       "        vertical-align: top;\n",
       "    }\n",
       "\n",
       "    .dataframe thead th {\n",
       "        text-align: right;\n",
       "    }\n",
       "</style>\n",
       "<table border=\"1\" class=\"dataframe\">\n",
       "  <thead>\n",
       "    <tr style=\"text-align: right;\">\n",
       "      <th></th>\n",
       "      <th>id</th>\n",
       "      <th>label</th>\n",
       "      <th>description</th>\n",
       "      <th>url</th>\n",
       "      <th>x</th>\n",
       "      <th>y</th>\n",
       "      <th>cluster</th>\n",
       "      <th>weights</th>\n",
       "      <th>scores</th>\n",
       "      <th>DOI</th>\n",
       "    </tr>\n",
       "  </thead>\n",
       "  <tbody>\n",
       "    <tr>\n",
       "      <th>0</th>\n",
       "      <td>1</td>\n",
       "      <td>alm k. (2022)</td>\n",
       "      <td>&lt;table&gt;&lt;tr&gt;&lt;td&gt;Authors:&lt;/td&gt;&lt;td&gt;alm k.; beery ...</td>\n",
       "      <td>https://doi.org/10.1108/ijshe-12-2020-0484</td>\n",
       "      <td>0.8769</td>\n",
       "      <td>-0.1183</td>\n",
       "      <td>1</td>\n",
       "      <td>{'Links': 4.0, 'Citations': 1.0, 'Norm. citati...</td>\n",
       "      <td>{'Pub. year': 2022.0, 'Citations': 1.0, 'Norm....</td>\n",
       "      <td>10.1108/ijshe-12-2020-0484</td>\n",
       "    </tr>\n",
       "    <tr>\n",
       "      <th>1</th>\n",
       "      <td>7</td>\n",
       "      <td>škrinjarić b. (2022)</td>\n",
       "      <td>&lt;table&gt;&lt;tr&gt;&lt;td&gt;Authors:&lt;/td&gt;&lt;td&gt;škrinjarić b.&lt;...</td>\n",
       "      <td>https://doi.org/10.1057/s41599-022-01047-1</td>\n",
       "      <td>0.6362</td>\n",
       "      <td>0.3087</td>\n",
       "      <td>1</td>\n",
       "      <td>{'Links': 5.0, 'Citations': 0.0, 'Norm. citati...</td>\n",
       "      <td>{'Pub. year': 2022.0, 'Citations': 0.0, 'Norm....</td>\n",
       "      <td>10.1057/s41599-022-01047-1</td>\n",
       "    </tr>\n",
       "    <tr>\n",
       "      <th>2</th>\n",
       "      <td>10</td>\n",
       "      <td>leal m.s. (2022)</td>\n",
       "      <td>&lt;table&gt;&lt;tr&gt;&lt;td&gt;Authors:&lt;/td&gt;&lt;td&gt;leal m.s.; góm...</td>\n",
       "      <td>https://doi.org/10.14201/teri.25394</td>\n",
       "      <td>-0.3645</td>\n",
       "      <td>0.3677</td>\n",
       "      <td>3</td>\n",
       "      <td>{'Links': 1.0, 'Citations': 0.0, 'Norm. citati...</td>\n",
       "      <td>{'Pub. year': 2022.0, 'Citations': 0.0, 'Norm....</td>\n",
       "      <td>10.14201/teri.25394</td>\n",
       "    </tr>\n",
       "    <tr>\n",
       "      <th>3</th>\n",
       "      <td>11</td>\n",
       "      <td>birdman j. (2022)</td>\n",
       "      <td>&lt;table&gt;&lt;tr&gt;&lt;td&gt;Authors:&lt;/td&gt;&lt;td&gt;birdman j.; wi...</td>\n",
       "      <td>https://doi.org/10.1108/ijshe-12-2020-0506</td>\n",
       "      <td>0.8405</td>\n",
       "      <td>-0.0474</td>\n",
       "      <td>1</td>\n",
       "      <td>{'Links': 5.0, 'Citations': 1.0, 'Norm. citati...</td>\n",
       "      <td>{'Pub. year': 2022.0, 'Citations': 1.0, 'Norm....</td>\n",
       "      <td>10.1108/ijshe-12-2020-0506</td>\n",
       "    </tr>\n",
       "    <tr>\n",
       "      <th>4</th>\n",
       "      <td>12</td>\n",
       "      <td>venn r. (2022)</td>\n",
       "      <td>&lt;table&gt;&lt;tr&gt;&lt;td&gt;Authors:&lt;/td&gt;&lt;td&gt;venn r.; perez...</td>\n",
       "      <td>https://doi.org/10.3390/su14094916</td>\n",
       "      <td>0.4182</td>\n",
       "      <td>-0.0716</td>\n",
       "      <td>1</td>\n",
       "      <td>{'Links': 6.0, 'Citations': 0.0, 'Norm. citati...</td>\n",
       "      <td>{'Pub. year': 2022.0, 'Citations': 0.0, 'Norm....</td>\n",
       "      <td>10.3390/su14094916</td>\n",
       "    </tr>\n",
       "    <tr>\n",
       "      <th>...</th>\n",
       "      <td>...</td>\n",
       "      <td>...</td>\n",
       "      <td>...</td>\n",
       "      <td>...</td>\n",
       "      <td>...</td>\n",
       "      <td>...</td>\n",
       "      <td>...</td>\n",
       "      <td>...</td>\n",
       "      <td>...</td>\n",
       "      <td>...</td>\n",
       "    </tr>\n",
       "    <tr>\n",
       "      <th>182</th>\n",
       "      <td>880</td>\n",
       "      <td>hyland t. (1997)</td>\n",
       "      <td>&lt;table&gt;&lt;tr&gt;&lt;td&gt;Authors:&lt;/td&gt;&lt;td&gt;hyland t.&lt;/td&gt;...</td>\n",
       "      <td>https://doi.org/10.1111/1467-9752.00070</td>\n",
       "      <td>1.1907</td>\n",
       "      <td>-0.1967</td>\n",
       "      <td>1</td>\n",
       "      <td>{'Links': 2.0, 'Citations': 55.0, 'Norm. citat...</td>\n",
       "      <td>{'Pub. year': 1997.0, 'Citations': 55.0, 'Norm...</td>\n",
       "      <td>10.1111/1467-9752.00070</td>\n",
       "    </tr>\n",
       "    <tr>\n",
       "      <th>183</th>\n",
       "      <td>882</td>\n",
       "      <td>foot s. (1996)</td>\n",
       "      <td>&lt;table&gt;&lt;tr&gt;&lt;td&gt;Authors:&lt;/td&gt;&lt;td&gt;foot s.; meggi...</td>\n",
       "      <td>https://doi.org/10.1108/00400919610117380</td>\n",
       "      <td>-1.1517</td>\n",
       "      <td>-0.4479</td>\n",
       "      <td>2</td>\n",
       "      <td>{'Links': 1.0, 'Citations': 4.0, 'Norm. citati...</td>\n",
       "      <td>{'Pub. year': 1996.0, 'Citations': 4.0, 'Norm....</td>\n",
       "      <td>10.1108/00400919610117380</td>\n",
       "    </tr>\n",
       "    <tr>\n",
       "      <th>184</th>\n",
       "      <td>885</td>\n",
       "      <td>bridges d. (1996)</td>\n",
       "      <td>&lt;table&gt;&lt;tr&gt;&lt;td&gt;Authors:&lt;/td&gt;&lt;td&gt;bridges d.&lt;/td...</td>\n",
       "      <td>https://doi.org/10.1111/j.1467-9752.1996.tb004...</td>\n",
       "      <td>0.5256</td>\n",
       "      <td>0.3076</td>\n",
       "      <td>1</td>\n",
       "      <td>{'Links': 1.0, 'Citations': 18.0, 'Norm. citat...</td>\n",
       "      <td>{'Pub. year': 1996.0, 'Citations': 18.0, 'Norm...</td>\n",
       "      <td>10.1111/j.1467-9752.1996.tb00406.x</td>\n",
       "    </tr>\n",
       "    <tr>\n",
       "      <th>185</th>\n",
       "      <td>898</td>\n",
       "      <td>hyland t. (1994b)</td>\n",
       "      <td>&lt;table&gt;&lt;tr&gt;&lt;td&gt;Authors:&lt;/td&gt;&lt;td&gt;hyland t.&lt;/td&gt;...</td>\n",
       "      <td>https://doi.org/10.1080/0305569940200208</td>\n",
       "      <td>1.6081</td>\n",
       "      <td>-0.2421</td>\n",
       "      <td>1</td>\n",
       "      <td>{'Links': 1.0, 'Citations': 6.0, 'Norm. citati...</td>\n",
       "      <td>{'Pub. year': 1994.0, 'Citations': 6.0, 'Norm....</td>\n",
       "      <td>10.1080/0305569940200208</td>\n",
       "    </tr>\n",
       "    <tr>\n",
       "      <th>186</th>\n",
       "      <td>901</td>\n",
       "      <td>everwijn s.e.m. (1993)</td>\n",
       "      <td>&lt;table&gt;&lt;tr&gt;&lt;td&gt;Authors:&lt;/td&gt;&lt;td&gt;everwijn s.e.m...</td>\n",
       "      <td>https://doi.org/10.1007/bf01383845</td>\n",
       "      <td>-0.7519</td>\n",
       "      <td>0.0568</td>\n",
       "      <td>2</td>\n",
       "      <td>{'Links': 2.0, 'Citations': 24.0, 'Norm. citat...</td>\n",
       "      <td>{'Pub. year': 1993.0, 'Citations': 24.0, 'Norm...</td>\n",
       "      <td>10.1007/bf01383845</td>\n",
       "    </tr>\n",
       "  </tbody>\n",
       "</table>\n",
       "<p>187 rows × 10 columns</p>\n",
       "</div>"
      ],
      "text/plain": [
       "      id                   label  \\\n",
       "0      1           alm k. (2022)   \n",
       "1      7    škrinjarić b. (2022)   \n",
       "2     10        leal m.s. (2022)   \n",
       "3     11       birdman j. (2022)   \n",
       "4     12          venn r. (2022)   \n",
       "..   ...                     ...   \n",
       "182  880        hyland t. (1997)   \n",
       "183  882          foot s. (1996)   \n",
       "184  885       bridges d. (1996)   \n",
       "185  898       hyland t. (1994b)   \n",
       "186  901  everwijn s.e.m. (1993)   \n",
       "\n",
       "                                           description  \\\n",
       "0    <table><tr><td>Authors:</td><td>alm k.; beery ...   \n",
       "1    <table><tr><td>Authors:</td><td>škrinjarić b.<...   \n",
       "2    <table><tr><td>Authors:</td><td>leal m.s.; góm...   \n",
       "3    <table><tr><td>Authors:</td><td>birdman j.; wi...   \n",
       "4    <table><tr><td>Authors:</td><td>venn r.; perez...   \n",
       "..                                                 ...   \n",
       "182  <table><tr><td>Authors:</td><td>hyland t.</td>...   \n",
       "183  <table><tr><td>Authors:</td><td>foot s.; meggi...   \n",
       "184  <table><tr><td>Authors:</td><td>bridges d.</td...   \n",
       "185  <table><tr><td>Authors:</td><td>hyland t.</td>...   \n",
       "186  <table><tr><td>Authors:</td><td>everwijn s.e.m...   \n",
       "\n",
       "                                                   url       x       y  \\\n",
       "0           https://doi.org/10.1108/ijshe-12-2020-0484  0.8769 -0.1183   \n",
       "1           https://doi.org/10.1057/s41599-022-01047-1  0.6362  0.3087   \n",
       "2                  https://doi.org/10.14201/teri.25394 -0.3645  0.3677   \n",
       "3           https://doi.org/10.1108/ijshe-12-2020-0506  0.8405 -0.0474   \n",
       "4                   https://doi.org/10.3390/su14094916  0.4182 -0.0716   \n",
       "..                                                 ...     ...     ...   \n",
       "182            https://doi.org/10.1111/1467-9752.00070  1.1907 -0.1967   \n",
       "183          https://doi.org/10.1108/00400919610117380 -1.1517 -0.4479   \n",
       "184  https://doi.org/10.1111/j.1467-9752.1996.tb004...  0.5256  0.3076   \n",
       "185           https://doi.org/10.1080/0305569940200208  1.6081 -0.2421   \n",
       "186                 https://doi.org/10.1007/bf01383845 -0.7519  0.0568   \n",
       "\n",
       "     cluster                                            weights  \\\n",
       "0          1  {'Links': 4.0, 'Citations': 1.0, 'Norm. citati...   \n",
       "1          1  {'Links': 5.0, 'Citations': 0.0, 'Norm. citati...   \n",
       "2          3  {'Links': 1.0, 'Citations': 0.0, 'Norm. citati...   \n",
       "3          1  {'Links': 5.0, 'Citations': 1.0, 'Norm. citati...   \n",
       "4          1  {'Links': 6.0, 'Citations': 0.0, 'Norm. citati...   \n",
       "..       ...                                                ...   \n",
       "182        1  {'Links': 2.0, 'Citations': 55.0, 'Norm. citat...   \n",
       "183        2  {'Links': 1.0, 'Citations': 4.0, 'Norm. citati...   \n",
       "184        1  {'Links': 1.0, 'Citations': 18.0, 'Norm. citat...   \n",
       "185        1  {'Links': 1.0, 'Citations': 6.0, 'Norm. citati...   \n",
       "186        2  {'Links': 2.0, 'Citations': 24.0, 'Norm. citat...   \n",
       "\n",
       "                                                scores  \\\n",
       "0    {'Pub. year': 2022.0, 'Citations': 1.0, 'Norm....   \n",
       "1    {'Pub. year': 2022.0, 'Citations': 0.0, 'Norm....   \n",
       "2    {'Pub. year': 2022.0, 'Citations': 0.0, 'Norm....   \n",
       "3    {'Pub. year': 2022.0, 'Citations': 1.0, 'Norm....   \n",
       "4    {'Pub. year': 2022.0, 'Citations': 0.0, 'Norm....   \n",
       "..                                                 ...   \n",
       "182  {'Pub. year': 1997.0, 'Citations': 55.0, 'Norm...   \n",
       "183  {'Pub. year': 1996.0, 'Citations': 4.0, 'Norm....   \n",
       "184  {'Pub. year': 1996.0, 'Citations': 18.0, 'Norm...   \n",
       "185  {'Pub. year': 1994.0, 'Citations': 6.0, 'Norm....   \n",
       "186  {'Pub. year': 1993.0, 'Citations': 24.0, 'Norm...   \n",
       "\n",
       "                                    DOI  \n",
       "0            10.1108/ijshe-12-2020-0484  \n",
       "1            10.1057/s41599-022-01047-1  \n",
       "2                   10.14201/teri.25394  \n",
       "3            10.1108/ijshe-12-2020-0506  \n",
       "4                    10.3390/su14094916  \n",
       "..                                  ...  \n",
       "182             10.1111/1467-9752.00070  \n",
       "183           10.1108/00400919610117380  \n",
       "184  10.1111/j.1467-9752.1996.tb00406.x  \n",
       "185            10.1080/0305569940200208  \n",
       "186                  10.1007/bf01383845  \n",
       "\n",
       "[187 rows x 10 columns]"
      ]
     },
     "execution_count": 223,
     "metadata": {},
     "output_type": "execute_result"
    }
   ],
   "source": [
    "network_items = pd.DataFrame(network[\"items\"])\n",
    "network_items[\"DOI\"] = network_items[\"url\"].apply(lambda x: x.replace(\"https://doi.org/\", \"\").lower() if str(x) != \"nan\" else np.nan)\n",
    "network_items"
   ]
  },
  {
   "cell_type": "code",
   "execution_count": 224,
   "metadata": {},
   "outputs": [
    {
     "name": "stdout",
     "output_type": "stream",
     "text": [
      "<class 'pandas.core.frame.DataFrame'>\n",
      "RangeIndex: 908 entries, 0 to 907\n",
      "Data columns (total 24 columns):\n",
      " #   Column             Non-Null Count  Dtype  \n",
      "---  ------             --------------  -----  \n",
      " 0   id                 908 non-null    int64  \n",
      " 1   Authors            908 non-null    object \n",
      " 2   Author(s) ID       907 non-null    object \n",
      " 3   Title              908 non-null    object \n",
      " 4   Year               908 non-null    int64  \n",
      " 5   Source title       908 non-null    object \n",
      " 6   Volume             871 non-null    object \n",
      " 7   Issue              802 non-null    object \n",
      " 8   Art. No.           144 non-null    object \n",
      " 9   Page start         756 non-null    object \n",
      " 10  Page end           756 non-null    object \n",
      " 11  Page count         1 non-null      float64\n",
      " 12  Cited by           724 non-null    float64\n",
      " 13  DOI                803 non-null    object \n",
      " 14  Link               908 non-null    object \n",
      " 15  Abstract           908 non-null    object \n",
      " 16  Author Keywords    783 non-null    object \n",
      " 17  Index Keywords     221 non-null    object \n",
      " 18  References         901 non-null    object \n",
      " 19  Document Type      908 non-null    object \n",
      " 20  Publication Stage  908 non-null    object \n",
      " 21  Open Access        379 non-null    object \n",
      " 22  Source             908 non-null    object \n",
      " 23  EID                908 non-null    object \n",
      "dtypes: float64(2), int64(2), object(20)\n",
      "memory usage: 170.4+ KB\n"
     ]
    }
   ],
   "source": [
    "file_name = \"scopus.csv\"\n",
    "df_scopus = pd.read_csv(file_name)\n",
    "df_scopus = df_scopus.reset_index().rename(columns={\"index\": \"id\"})\n",
    "df_scopus.info()"
   ]
  },
  {
   "cell_type": "code",
   "execution_count": 225,
   "metadata": {},
   "outputs": [],
   "source": [
    "relevant_columns = {\n",
    "    \"LSA\": \"Title  Abstract  Author Keywords  Index Keywords\".split(\"  \")\n",
    "}"
   ]
  },
  {
   "cell_type": "code",
   "execution_count": 226,
   "metadata": {},
   "outputs": [
    {
     "data": {
      "text/html": [
       "<div>\n",
       "<style scoped>\n",
       "    .dataframe tbody tr th:only-of-type {\n",
       "        vertical-align: middle;\n",
       "    }\n",
       "\n",
       "    .dataframe tbody tr th {\n",
       "        vertical-align: top;\n",
       "    }\n",
       "\n",
       "    .dataframe thead th {\n",
       "        text-align: right;\n",
       "    }\n",
       "</style>\n",
       "<table border=\"1\" class=\"dataframe\">\n",
       "  <thead>\n",
       "    <tr style=\"text-align: right;\">\n",
       "      <th></th>\n",
       "      <th>id</th>\n",
       "      <th>Title</th>\n",
       "      <th>Abstract</th>\n",
       "      <th>Author Keywords</th>\n",
       "      <th>Index Keywords</th>\n",
       "      <th>label</th>\n",
       "      <th>description</th>\n",
       "      <th>url</th>\n",
       "      <th>x</th>\n",
       "      <th>y</th>\n",
       "      <th>cluster</th>\n",
       "      <th>weights</th>\n",
       "      <th>scores</th>\n",
       "      <th>DOI</th>\n",
       "    </tr>\n",
       "  </thead>\n",
       "  <tbody>\n",
       "    <tr>\n",
       "      <th>0</th>\n",
       "      <td>1</td>\n",
       "      <td>Going beyond the AHA! moment: insight discover...</td>\n",
       "      <td>In this paper, we develop and apply the concep...</td>\n",
       "      <td></td>\n",
       "      <td></td>\n",
       "      <td>alm k. (2022)</td>\n",
       "      <td>&lt;table&gt;&lt;tr&gt;&lt;td&gt;Authors:&lt;/td&gt;&lt;td&gt;alm k.; beery ...</td>\n",
       "      <td>https://doi.org/10.1108/ijshe-12-2020-0484</td>\n",
       "      <td>0.8769</td>\n",
       "      <td>-0.1183</td>\n",
       "      <td>1</td>\n",
       "      <td>{'Links': 4.0, 'Citations': 1.0, 'Norm. citati...</td>\n",
       "      <td>{'Pub. year': 2022.0, 'Citations': 1.0, 'Norm....</td>\n",
       "      <td>10.1108/ijshe-12-2020-0484</td>\n",
       "    </tr>\n",
       "    <tr>\n",
       "      <th>1</th>\n",
       "      <td>7</td>\n",
       "      <td>Understanding student teachers’ collaborative ...</td>\n",
       "      <td>Collaborative problem solving, as a key compet...</td>\n",
       "      <td>Computer-mediated communication; Cooperative/c...</td>\n",
       "      <td>Cooperative communication; E-learning; Academi...</td>\n",
       "      <td>škrinjarić b. (2022)</td>\n",
       "      <td>&lt;table&gt;&lt;tr&gt;&lt;td&gt;Authors:&lt;/td&gt;&lt;td&gt;škrinjarić b.&lt;...</td>\n",
       "      <td>https://doi.org/10.1057/s41599-022-01047-1</td>\n",
       "      <td>0.6362</td>\n",
       "      <td>0.3087</td>\n",
       "      <td>1</td>\n",
       "      <td>{'Links': 5.0, 'Citations': 0.0, 'Norm. citati...</td>\n",
       "      <td>{'Pub. year': 2022.0, 'Citations': 0.0, 'Norm....</td>\n",
       "      <td>10.1057/s41599-022-01047-1</td>\n",
       "    </tr>\n",
       "    <tr>\n",
       "      <th>2</th>\n",
       "      <td>10</td>\n",
       "      <td>Developing key competencies in sustainability ...</td>\n",
       "      <td>Purpose: This research aims to investigate the...</td>\n",
       "      <td>Curriculum; Education for sustainable developm...</td>\n",
       "      <td></td>\n",
       "      <td>leal m.s. (2022)</td>\n",
       "      <td>&lt;table&gt;&lt;tr&gt;&lt;td&gt;Authors:&lt;/td&gt;&lt;td&gt;leal m.s.; góm...</td>\n",
       "      <td>https://doi.org/10.14201/teri.25394</td>\n",
       "      <td>-0.3645</td>\n",
       "      <td>0.3677</td>\n",
       "      <td>3</td>\n",
       "      <td>{'Links': 1.0, 'Citations': 0.0, 'Norm. citati...</td>\n",
       "      <td>{'Pub. year': 2022.0, 'Citations': 0.0, 'Norm....</td>\n",
       "      <td>10.14201/teri.25394</td>\n",
       "    </tr>\n",
       "    <tr>\n",
       "      <th>3</th>\n",
       "      <td>11</td>\n",
       "      <td>Competencies of Sustainability Professionals: ...</td>\n",
       "      <td>This paper presents an empirical study on key ...</td>\n",
       "      <td>higher education; human resource management; k...</td>\n",
       "      <td>higher education; human resource; sustainabili...</td>\n",
       "      <td>birdman j. (2022)</td>\n",
       "      <td>&lt;table&gt;&lt;tr&gt;&lt;td&gt;Authors:&lt;/td&gt;&lt;td&gt;birdman j.; wi...</td>\n",
       "      <td>https://doi.org/10.1108/ijshe-12-2020-0506</td>\n",
       "      <td>0.8405</td>\n",
       "      <td>-0.0474</td>\n",
       "      <td>1</td>\n",
       "      <td>{'Links': 5.0, 'Citations': 1.0, 'Norm. citati...</td>\n",
       "      <td>{'Pub. year': 2022.0, 'Citations': 1.0, 'Norm....</td>\n",
       "      <td>10.1108/ijshe-12-2020-0506</td>\n",
       "    </tr>\n",
       "    <tr>\n",
       "      <th>4</th>\n",
       "      <td>12</td>\n",
       "      <td>Coaching to prepare students for their school-...</td>\n",
       "      <td>Purpose: The present study proposes coaching a...</td>\n",
       "      <td>Coaching; Employability competences; Higher ed...</td>\n",
       "      <td></td>\n",
       "      <td>venn r. (2022)</td>\n",
       "      <td>&lt;table&gt;&lt;tr&gt;&lt;td&gt;Authors:&lt;/td&gt;&lt;td&gt;venn r.; perez...</td>\n",
       "      <td>https://doi.org/10.3390/su14094916</td>\n",
       "      <td>0.4182</td>\n",
       "      <td>-0.0716</td>\n",
       "      <td>1</td>\n",
       "      <td>{'Links': 6.0, 'Citations': 0.0, 'Norm. citati...</td>\n",
       "      <td>{'Pub. year': 2022.0, 'Citations': 0.0, 'Norm....</td>\n",
       "      <td>10.3390/su14094916</td>\n",
       "    </tr>\n",
       "    <tr>\n",
       "      <th>...</th>\n",
       "      <td>...</td>\n",
       "      <td>...</td>\n",
       "      <td>...</td>\n",
       "      <td>...</td>\n",
       "      <td>...</td>\n",
       "      <td>...</td>\n",
       "      <td>...</td>\n",
       "      <td>...</td>\n",
       "      <td>...</td>\n",
       "      <td>...</td>\n",
       "      <td>...</td>\n",
       "      <td>...</td>\n",
       "      <td>...</td>\n",
       "      <td>...</td>\n",
       "    </tr>\n",
       "    <tr>\n",
       "      <th>182</th>\n",
       "      <td>880</td>\n",
       "      <td>The interaction between technical and vocation...</td>\n",
       "      <td>The economies in developed countries have been...</td>\n",
       "      <td></td>\n",
       "      <td></td>\n",
       "      <td>hyland t. (1997)</td>\n",
       "      <td>&lt;table&gt;&lt;tr&gt;&lt;td&gt;Authors:&lt;/td&gt;&lt;td&gt;hyland t.&lt;/td&gt;...</td>\n",
       "      <td>https://doi.org/10.1111/1467-9752.00070</td>\n",
       "      <td>1.1907</td>\n",
       "      <td>-0.1967</td>\n",
       "      <td>1</td>\n",
       "      <td>{'Links': 2.0, 'Citations': 55.0, 'Norm. citat...</td>\n",
       "      <td>{'Pub. year': 1997.0, 'Citations': 55.0, 'Norm...</td>\n",
       "      <td>10.1111/1467-9752.00070</td>\n",
       "    </tr>\n",
       "    <tr>\n",
       "      <th>183</th>\n",
       "      <td>882</td>\n",
       "      <td>Film, adult learning and the prussian peacherino</td>\n",
       "      <td>This article will examine the design and deliv...</td>\n",
       "      <td></td>\n",
       "      <td></td>\n",
       "      <td>foot s. (1996)</td>\n",
       "      <td>&lt;table&gt;&lt;tr&gt;&lt;td&gt;Authors:&lt;/td&gt;&lt;td&gt;foot s.; meggi...</td>\n",
       "      <td>https://doi.org/10.1108/00400919610117380</td>\n",
       "      <td>-1.1517</td>\n",
       "      <td>-0.4479</td>\n",
       "      <td>2</td>\n",
       "      <td>{'Links': 1.0, 'Citations': 4.0, 'Norm. citati...</td>\n",
       "      <td>{'Pub. year': 1996.0, 'Citations': 4.0, 'Norm....</td>\n",
       "      <td>10.1108/00400919610117380</td>\n",
       "    </tr>\n",
       "    <tr>\n",
       "      <th>184</th>\n",
       "      <td>885</td>\n",
       "      <td>Professionalism, ethics and work-based learning</td>\n",
       "      <td>Recent policy developments within the public s...</td>\n",
       "      <td>Competences; Deprofessionalisation; Profession...</td>\n",
       "      <td></td>\n",
       "      <td>bridges d. (1996)</td>\n",
       "      <td>&lt;table&gt;&lt;tr&gt;&lt;td&gt;Authors:&lt;/td&gt;&lt;td&gt;bridges d.&lt;/td...</td>\n",
       "      <td>https://doi.org/10.1111/j.1467-9752.1996.tb004...</td>\n",
       "      <td>0.5256</td>\n",
       "      <td>0.3076</td>\n",
       "      <td>1</td>\n",
       "      <td>{'Links': 1.0, 'Citations': 18.0, 'Norm. citat...</td>\n",
       "      <td>{'Pub. year': 1996.0, 'Citations': 18.0, 'Norm...</td>\n",
       "      <td>10.1111/j.1467-9752.1996.tb00406.x</td>\n",
       "    </tr>\n",
       "    <tr>\n",
       "      <th>185</th>\n",
       "      <td>898</td>\n",
       "      <td>Relationship competencies in child welfare ser...</td>\n",
       "      <td>A series of nine focus groups were conducted t...</td>\n",
       "      <td>Child protection; Child welfare; Clients; Comp...</td>\n",
       "      <td>article; child; child welfare; health insuranc...</td>\n",
       "      <td>hyland t. (1994b)</td>\n",
       "      <td>&lt;table&gt;&lt;tr&gt;&lt;td&gt;Authors:&lt;/td&gt;&lt;td&gt;hyland t.&lt;/td&gt;...</td>\n",
       "      <td>https://doi.org/10.1080/0305569940200208</td>\n",
       "      <td>1.6081</td>\n",
       "      <td>-0.2421</td>\n",
       "      <td>1</td>\n",
       "      <td>{'Links': 1.0, 'Citations': 6.0, 'Norm. citati...</td>\n",
       "      <td>{'Pub. year': 1994.0, 'Citations': 6.0, 'Norm....</td>\n",
       "      <td>10.1080/0305569940200208</td>\n",
       "    </tr>\n",
       "    <tr>\n",
       "      <th>186</th>\n",
       "      <td>901</td>\n",
       "      <td>Professional Development and Competence-based ...</td>\n",
       "      <td>The rapid expansion of competence-based educat...</td>\n",
       "      <td></td>\n",
       "      <td></td>\n",
       "      <td>everwijn s.e.m. (1993)</td>\n",
       "      <td>&lt;table&gt;&lt;tr&gt;&lt;td&gt;Authors:&lt;/td&gt;&lt;td&gt;everwijn s.e.m...</td>\n",
       "      <td>https://doi.org/10.1007/bf01383845</td>\n",
       "      <td>-0.7519</td>\n",
       "      <td>0.0568</td>\n",
       "      <td>2</td>\n",
       "      <td>{'Links': 2.0, 'Citations': 24.0, 'Norm. citat...</td>\n",
       "      <td>{'Pub. year': 1993.0, 'Citations': 24.0, 'Norm...</td>\n",
       "      <td>10.1007/bf01383845</td>\n",
       "    </tr>\n",
       "  </tbody>\n",
       "</table>\n",
       "<p>187 rows × 14 columns</p>\n",
       "</div>"
      ],
      "text/plain": [
       "      id                                              Title  \\\n",
       "0      1  Going beyond the AHA! moment: insight discover...   \n",
       "1      7  Understanding student teachers’ collaborative ...   \n",
       "2     10  Developing key competencies in sustainability ...   \n",
       "3     11  Competencies of Sustainability Professionals: ...   \n",
       "4     12  Coaching to prepare students for their school-...   \n",
       "..   ...                                                ...   \n",
       "182  880  The interaction between technical and vocation...   \n",
       "183  882   Film, adult learning and the prussian peacherino   \n",
       "184  885    Professionalism, ethics and work-based learning   \n",
       "185  898  Relationship competencies in child welfare ser...   \n",
       "186  901  Professional Development and Competence-based ...   \n",
       "\n",
       "                                              Abstract  \\\n",
       "0    In this paper, we develop and apply the concep...   \n",
       "1    Collaborative problem solving, as a key compet...   \n",
       "2    Purpose: This research aims to investigate the...   \n",
       "3    This paper presents an empirical study on key ...   \n",
       "4    Purpose: The present study proposes coaching a...   \n",
       "..                                                 ...   \n",
       "182  The economies in developed countries have been...   \n",
       "183  This article will examine the design and deliv...   \n",
       "184  Recent policy developments within the public s...   \n",
       "185  A series of nine focus groups were conducted t...   \n",
       "186  The rapid expansion of competence-based educat...   \n",
       "\n",
       "                                       Author Keywords  \\\n",
       "0                                                        \n",
       "1    Computer-mediated communication; Cooperative/c...   \n",
       "2    Curriculum; Education for sustainable developm...   \n",
       "3    higher education; human resource management; k...   \n",
       "4    Coaching; Employability competences; Higher ed...   \n",
       "..                                                 ...   \n",
       "182                                                      \n",
       "183                                                      \n",
       "184  Competences; Deprofessionalisation; Profession...   \n",
       "185  Child protection; Child welfare; Clients; Comp...   \n",
       "186                                                      \n",
       "\n",
       "                                        Index Keywords  \\\n",
       "0                                                        \n",
       "1    Cooperative communication; E-learning; Academi...   \n",
       "2                                                        \n",
       "3    higher education; human resource; sustainabili...   \n",
       "4                                                        \n",
       "..                                                 ...   \n",
       "182                                                      \n",
       "183                                                      \n",
       "184                                                      \n",
       "185  article; child; child welfare; health insuranc...   \n",
       "186                                                      \n",
       "\n",
       "                      label  \\\n",
       "0             alm k. (2022)   \n",
       "1      škrinjarić b. (2022)   \n",
       "2          leal m.s. (2022)   \n",
       "3         birdman j. (2022)   \n",
       "4            venn r. (2022)   \n",
       "..                      ...   \n",
       "182        hyland t. (1997)   \n",
       "183          foot s. (1996)   \n",
       "184       bridges d. (1996)   \n",
       "185       hyland t. (1994b)   \n",
       "186  everwijn s.e.m. (1993)   \n",
       "\n",
       "                                           description  \\\n",
       "0    <table><tr><td>Authors:</td><td>alm k.; beery ...   \n",
       "1    <table><tr><td>Authors:</td><td>škrinjarić b.<...   \n",
       "2    <table><tr><td>Authors:</td><td>leal m.s.; góm...   \n",
       "3    <table><tr><td>Authors:</td><td>birdman j.; wi...   \n",
       "4    <table><tr><td>Authors:</td><td>venn r.; perez...   \n",
       "..                                                 ...   \n",
       "182  <table><tr><td>Authors:</td><td>hyland t.</td>...   \n",
       "183  <table><tr><td>Authors:</td><td>foot s.; meggi...   \n",
       "184  <table><tr><td>Authors:</td><td>bridges d.</td...   \n",
       "185  <table><tr><td>Authors:</td><td>hyland t.</td>...   \n",
       "186  <table><tr><td>Authors:</td><td>everwijn s.e.m...   \n",
       "\n",
       "                                                   url       x       y  \\\n",
       "0           https://doi.org/10.1108/ijshe-12-2020-0484  0.8769 -0.1183   \n",
       "1           https://doi.org/10.1057/s41599-022-01047-1  0.6362  0.3087   \n",
       "2                  https://doi.org/10.14201/teri.25394 -0.3645  0.3677   \n",
       "3           https://doi.org/10.1108/ijshe-12-2020-0506  0.8405 -0.0474   \n",
       "4                   https://doi.org/10.3390/su14094916  0.4182 -0.0716   \n",
       "..                                                 ...     ...     ...   \n",
       "182            https://doi.org/10.1111/1467-9752.00070  1.1907 -0.1967   \n",
       "183          https://doi.org/10.1108/00400919610117380 -1.1517 -0.4479   \n",
       "184  https://doi.org/10.1111/j.1467-9752.1996.tb004...  0.5256  0.3076   \n",
       "185           https://doi.org/10.1080/0305569940200208  1.6081 -0.2421   \n",
       "186                 https://doi.org/10.1007/bf01383845 -0.7519  0.0568   \n",
       "\n",
       "     cluster                                            weights  \\\n",
       "0          1  {'Links': 4.0, 'Citations': 1.0, 'Norm. citati...   \n",
       "1          1  {'Links': 5.0, 'Citations': 0.0, 'Norm. citati...   \n",
       "2          3  {'Links': 1.0, 'Citations': 0.0, 'Norm. citati...   \n",
       "3          1  {'Links': 5.0, 'Citations': 1.0, 'Norm. citati...   \n",
       "4          1  {'Links': 6.0, 'Citations': 0.0, 'Norm. citati...   \n",
       "..       ...                                                ...   \n",
       "182        1  {'Links': 2.0, 'Citations': 55.0, 'Norm. citat...   \n",
       "183        2  {'Links': 1.0, 'Citations': 4.0, 'Norm. citati...   \n",
       "184        1  {'Links': 1.0, 'Citations': 18.0, 'Norm. citat...   \n",
       "185        1  {'Links': 1.0, 'Citations': 6.0, 'Norm. citati...   \n",
       "186        2  {'Links': 2.0, 'Citations': 24.0, 'Norm. citat...   \n",
       "\n",
       "                                                scores  \\\n",
       "0    {'Pub. year': 2022.0, 'Citations': 1.0, 'Norm....   \n",
       "1    {'Pub. year': 2022.0, 'Citations': 0.0, 'Norm....   \n",
       "2    {'Pub. year': 2022.0, 'Citations': 0.0, 'Norm....   \n",
       "3    {'Pub. year': 2022.0, 'Citations': 1.0, 'Norm....   \n",
       "4    {'Pub. year': 2022.0, 'Citations': 0.0, 'Norm....   \n",
       "..                                                 ...   \n",
       "182  {'Pub. year': 1997.0, 'Citations': 55.0, 'Norm...   \n",
       "183  {'Pub. year': 1996.0, 'Citations': 4.0, 'Norm....   \n",
       "184  {'Pub. year': 1996.0, 'Citations': 18.0, 'Norm...   \n",
       "185  {'Pub. year': 1994.0, 'Citations': 6.0, 'Norm....   \n",
       "186  {'Pub. year': 1993.0, 'Citations': 24.0, 'Norm...   \n",
       "\n",
       "                                    DOI  \n",
       "0            10.1108/ijshe-12-2020-0484  \n",
       "1            10.1057/s41599-022-01047-1  \n",
       "2                   10.14201/teri.25394  \n",
       "3            10.1108/ijshe-12-2020-0506  \n",
       "4                    10.3390/su14094916  \n",
       "..                                  ...  \n",
       "182             10.1111/1467-9752.00070  \n",
       "183           10.1108/00400919610117380  \n",
       "184  10.1111/j.1467-9752.1996.tb00406.x  \n",
       "185            10.1080/0305569940200208  \n",
       "186                  10.1007/bf01383845  \n",
       "\n",
       "[187 rows x 14 columns]"
      ]
     },
     "execution_count": 226,
     "metadata": {},
     "output_type": "execute_result"
    }
   ],
   "source": [
    "df_docs = df_scopus[[\"id\"]+relevant_columns[\"LSA\"]]\n",
    "df_docs = df_docs.merge(network_items, how=\"inner\", on=\"id\")\n",
    "df_docs[\"Abstract\"] = df_docs[\"Abstract\"].replace({\"[No abstract available]\": np.nan})\n",
    "df_docs = df_docs.fillna(\"\")\n",
    "df_docs"
   ]
  },
  {
   "cell_type": "code",
   "execution_count": 227,
   "metadata": {},
   "outputs": [
    {
     "data": {
      "text/html": [
       "<div>\n",
       "<style scoped>\n",
       "    .dataframe tbody tr th:only-of-type {\n",
       "        vertical-align: middle;\n",
       "    }\n",
       "\n",
       "    .dataframe tbody tr th {\n",
       "        vertical-align: top;\n",
       "    }\n",
       "\n",
       "    .dataframe thead th {\n",
       "        text-align: right;\n",
       "    }\n",
       "</style>\n",
       "<table border=\"1\" class=\"dataframe\">\n",
       "  <thead>\n",
       "    <tr style=\"text-align: right;\">\n",
       "      <th></th>\n",
       "      <th>id</th>\n",
       "      <th>Title</th>\n",
       "      <th>Abstract</th>\n",
       "      <th>Author Keywords</th>\n",
       "      <th>Index Keywords</th>\n",
       "      <th>label</th>\n",
       "      <th>description</th>\n",
       "      <th>url</th>\n",
       "      <th>x</th>\n",
       "      <th>y</th>\n",
       "      <th>cluster</th>\n",
       "      <th>weights</th>\n",
       "      <th>scores</th>\n",
       "      <th>DOI</th>\n",
       "      <th>doc</th>\n",
       "    </tr>\n",
       "  </thead>\n",
       "  <tbody>\n",
       "    <tr>\n",
       "      <th>0</th>\n",
       "      <td>1</td>\n",
       "      <td>Going beyond the AHA! moment: insight discover...</td>\n",
       "      <td>In this paper, we develop and apply the concep...</td>\n",
       "      <td></td>\n",
       "      <td></td>\n",
       "      <td>alm k. (2022)</td>\n",
       "      <td>&lt;table&gt;&lt;tr&gt;&lt;td&gt;Authors:&lt;/td&gt;&lt;td&gt;alm k.; beery ...</td>\n",
       "      <td>https://doi.org/10.1108/ijshe-12-2020-0484</td>\n",
       "      <td>0.8769</td>\n",
       "      <td>-0.1183</td>\n",
       "      <td>1</td>\n",
       "      <td>{'Links': 4.0, 'Citations': 1.0, 'Norm. citati...</td>\n",
       "      <td>{'Pub. year': 2022.0, 'Citations': 1.0, 'Norm....</td>\n",
       "      <td>10.1108/ijshe-12-2020-0484</td>\n",
       "      <td>Going beyond the AHA! moment: insight discover...</td>\n",
       "    </tr>\n",
       "    <tr>\n",
       "      <th>1</th>\n",
       "      <td>7</td>\n",
       "      <td>Understanding student teachers’ collaborative ...</td>\n",
       "      <td>Collaborative problem solving, as a key compet...</td>\n",
       "      <td>Computer-mediated communication; Cooperative/c...</td>\n",
       "      <td>Cooperative communication; E-learning; Academi...</td>\n",
       "      <td>škrinjarić b. (2022)</td>\n",
       "      <td>&lt;table&gt;&lt;tr&gt;&lt;td&gt;Authors:&lt;/td&gt;&lt;td&gt;škrinjarić b.&lt;...</td>\n",
       "      <td>https://doi.org/10.1057/s41599-022-01047-1</td>\n",
       "      <td>0.6362</td>\n",
       "      <td>0.3087</td>\n",
       "      <td>1</td>\n",
       "      <td>{'Links': 5.0, 'Citations': 0.0, 'Norm. citati...</td>\n",
       "      <td>{'Pub. year': 2022.0, 'Citations': 0.0, 'Norm....</td>\n",
       "      <td>10.1057/s41599-022-01047-1</td>\n",
       "      <td>Understanding student teachers’ collaborative ...</td>\n",
       "    </tr>\n",
       "    <tr>\n",
       "      <th>2</th>\n",
       "      <td>10</td>\n",
       "      <td>Developing key competencies in sustainability ...</td>\n",
       "      <td>Purpose: This research aims to investigate the...</td>\n",
       "      <td>Curriculum; Education for sustainable developm...</td>\n",
       "      <td></td>\n",
       "      <td>leal m.s. (2022)</td>\n",
       "      <td>&lt;table&gt;&lt;tr&gt;&lt;td&gt;Authors:&lt;/td&gt;&lt;td&gt;leal m.s.; góm...</td>\n",
       "      <td>https://doi.org/10.14201/teri.25394</td>\n",
       "      <td>-0.3645</td>\n",
       "      <td>0.3677</td>\n",
       "      <td>3</td>\n",
       "      <td>{'Links': 1.0, 'Citations': 0.0, 'Norm. citati...</td>\n",
       "      <td>{'Pub. year': 2022.0, 'Citations': 0.0, 'Norm....</td>\n",
       "      <td>10.14201/teri.25394</td>\n",
       "      <td>Developing key competencies in sustainability ...</td>\n",
       "    </tr>\n",
       "    <tr>\n",
       "      <th>3</th>\n",
       "      <td>11</td>\n",
       "      <td>Competencies of Sustainability Professionals: ...</td>\n",
       "      <td>This paper presents an empirical study on key ...</td>\n",
       "      <td>higher education; human resource management; k...</td>\n",
       "      <td>higher education; human resource; sustainabili...</td>\n",
       "      <td>birdman j. (2022)</td>\n",
       "      <td>&lt;table&gt;&lt;tr&gt;&lt;td&gt;Authors:&lt;/td&gt;&lt;td&gt;birdman j.; wi...</td>\n",
       "      <td>https://doi.org/10.1108/ijshe-12-2020-0506</td>\n",
       "      <td>0.8405</td>\n",
       "      <td>-0.0474</td>\n",
       "      <td>1</td>\n",
       "      <td>{'Links': 5.0, 'Citations': 1.0, 'Norm. citati...</td>\n",
       "      <td>{'Pub. year': 2022.0, 'Citations': 1.0, 'Norm....</td>\n",
       "      <td>10.1108/ijshe-12-2020-0506</td>\n",
       "      <td>Competencies of Sustainability Professionals: ...</td>\n",
       "    </tr>\n",
       "    <tr>\n",
       "      <th>4</th>\n",
       "      <td>12</td>\n",
       "      <td>Coaching to prepare students for their school-...</td>\n",
       "      <td>Purpose: The present study proposes coaching a...</td>\n",
       "      <td>Coaching; Employability competences; Higher ed...</td>\n",
       "      <td></td>\n",
       "      <td>venn r. (2022)</td>\n",
       "      <td>&lt;table&gt;&lt;tr&gt;&lt;td&gt;Authors:&lt;/td&gt;&lt;td&gt;venn r.; perez...</td>\n",
       "      <td>https://doi.org/10.3390/su14094916</td>\n",
       "      <td>0.4182</td>\n",
       "      <td>-0.0716</td>\n",
       "      <td>1</td>\n",
       "      <td>{'Links': 6.0, 'Citations': 0.0, 'Norm. citati...</td>\n",
       "      <td>{'Pub. year': 2022.0, 'Citations': 0.0, 'Norm....</td>\n",
       "      <td>10.3390/su14094916</td>\n",
       "      <td>Coaching to prepare students for their school-...</td>\n",
       "    </tr>\n",
       "    <tr>\n",
       "      <th>...</th>\n",
       "      <td>...</td>\n",
       "      <td>...</td>\n",
       "      <td>...</td>\n",
       "      <td>...</td>\n",
       "      <td>...</td>\n",
       "      <td>...</td>\n",
       "      <td>...</td>\n",
       "      <td>...</td>\n",
       "      <td>...</td>\n",
       "      <td>...</td>\n",
       "      <td>...</td>\n",
       "      <td>...</td>\n",
       "      <td>...</td>\n",
       "      <td>...</td>\n",
       "      <td>...</td>\n",
       "    </tr>\n",
       "    <tr>\n",
       "      <th>182</th>\n",
       "      <td>880</td>\n",
       "      <td>The interaction between technical and vocation...</td>\n",
       "      <td>The economies in developed countries have been...</td>\n",
       "      <td></td>\n",
       "      <td></td>\n",
       "      <td>hyland t. (1997)</td>\n",
       "      <td>&lt;table&gt;&lt;tr&gt;&lt;td&gt;Authors:&lt;/td&gt;&lt;td&gt;hyland t.&lt;/td&gt;...</td>\n",
       "      <td>https://doi.org/10.1111/1467-9752.00070</td>\n",
       "      <td>1.1907</td>\n",
       "      <td>-0.1967</td>\n",
       "      <td>1</td>\n",
       "      <td>{'Links': 2.0, 'Citations': 55.0, 'Norm. citat...</td>\n",
       "      <td>{'Pub. year': 1997.0, 'Citations': 55.0, 'Norm...</td>\n",
       "      <td>10.1111/1467-9752.00070</td>\n",
       "      <td>The interaction between technical and vocation...</td>\n",
       "    </tr>\n",
       "    <tr>\n",
       "      <th>183</th>\n",
       "      <td>882</td>\n",
       "      <td>Film, adult learning and the prussian peacherino</td>\n",
       "      <td>This article will examine the design and deliv...</td>\n",
       "      <td></td>\n",
       "      <td></td>\n",
       "      <td>foot s. (1996)</td>\n",
       "      <td>&lt;table&gt;&lt;tr&gt;&lt;td&gt;Authors:&lt;/td&gt;&lt;td&gt;foot s.; meggi...</td>\n",
       "      <td>https://doi.org/10.1108/00400919610117380</td>\n",
       "      <td>-1.1517</td>\n",
       "      <td>-0.4479</td>\n",
       "      <td>2</td>\n",
       "      <td>{'Links': 1.0, 'Citations': 4.0, 'Norm. citati...</td>\n",
       "      <td>{'Pub. year': 1996.0, 'Citations': 4.0, 'Norm....</td>\n",
       "      <td>10.1108/00400919610117380</td>\n",
       "      <td>Film, adult learning and the prussian peacheri...</td>\n",
       "    </tr>\n",
       "    <tr>\n",
       "      <th>184</th>\n",
       "      <td>885</td>\n",
       "      <td>Professionalism, ethics and work-based learning</td>\n",
       "      <td>Recent policy developments within the public s...</td>\n",
       "      <td>Competences; Deprofessionalisation; Profession...</td>\n",
       "      <td></td>\n",
       "      <td>bridges d. (1996)</td>\n",
       "      <td>&lt;table&gt;&lt;tr&gt;&lt;td&gt;Authors:&lt;/td&gt;&lt;td&gt;bridges d.&lt;/td...</td>\n",
       "      <td>https://doi.org/10.1111/j.1467-9752.1996.tb004...</td>\n",
       "      <td>0.5256</td>\n",
       "      <td>0.3076</td>\n",
       "      <td>1</td>\n",
       "      <td>{'Links': 1.0, 'Citations': 18.0, 'Norm. citat...</td>\n",
       "      <td>{'Pub. year': 1996.0, 'Citations': 18.0, 'Norm...</td>\n",
       "      <td>10.1111/j.1467-9752.1996.tb00406.x</td>\n",
       "      <td>Professionalism, ethics and work-based learnin...</td>\n",
       "    </tr>\n",
       "    <tr>\n",
       "      <th>185</th>\n",
       "      <td>898</td>\n",
       "      <td>Relationship competencies in child welfare ser...</td>\n",
       "      <td>A series of nine focus groups were conducted t...</td>\n",
       "      <td>Child protection; Child welfare; Clients; Comp...</td>\n",
       "      <td>article; child; child welfare; health insuranc...</td>\n",
       "      <td>hyland t. (1994b)</td>\n",
       "      <td>&lt;table&gt;&lt;tr&gt;&lt;td&gt;Authors:&lt;/td&gt;&lt;td&gt;hyland t.&lt;/td&gt;...</td>\n",
       "      <td>https://doi.org/10.1080/0305569940200208</td>\n",
       "      <td>1.6081</td>\n",
       "      <td>-0.2421</td>\n",
       "      <td>1</td>\n",
       "      <td>{'Links': 1.0, 'Citations': 6.0, 'Norm. citati...</td>\n",
       "      <td>{'Pub. year': 1994.0, 'Citations': 6.0, 'Norm....</td>\n",
       "      <td>10.1080/0305569940200208</td>\n",
       "      <td>Relationship competencies in child welfare ser...</td>\n",
       "    </tr>\n",
       "    <tr>\n",
       "      <th>186</th>\n",
       "      <td>901</td>\n",
       "      <td>Professional Development and Competence-based ...</td>\n",
       "      <td>The rapid expansion of competence-based educat...</td>\n",
       "      <td></td>\n",
       "      <td></td>\n",
       "      <td>everwijn s.e.m. (1993)</td>\n",
       "      <td>&lt;table&gt;&lt;tr&gt;&lt;td&gt;Authors:&lt;/td&gt;&lt;td&gt;everwijn s.e.m...</td>\n",
       "      <td>https://doi.org/10.1007/bf01383845</td>\n",
       "      <td>-0.7519</td>\n",
       "      <td>0.0568</td>\n",
       "      <td>2</td>\n",
       "      <td>{'Links': 2.0, 'Citations': 24.0, 'Norm. citat...</td>\n",
       "      <td>{'Pub. year': 1993.0, 'Citations': 24.0, 'Norm...</td>\n",
       "      <td>10.1007/bf01383845</td>\n",
       "      <td>Professional Development and Competence-based ...</td>\n",
       "    </tr>\n",
       "  </tbody>\n",
       "</table>\n",
       "<p>187 rows × 15 columns</p>\n",
       "</div>"
      ],
      "text/plain": [
       "      id                                              Title  \\\n",
       "0      1  Going beyond the AHA! moment: insight discover...   \n",
       "1      7  Understanding student teachers’ collaborative ...   \n",
       "2     10  Developing key competencies in sustainability ...   \n",
       "3     11  Competencies of Sustainability Professionals: ...   \n",
       "4     12  Coaching to prepare students for their school-...   \n",
       "..   ...                                                ...   \n",
       "182  880  The interaction between technical and vocation...   \n",
       "183  882   Film, adult learning and the prussian peacherino   \n",
       "184  885    Professionalism, ethics and work-based learning   \n",
       "185  898  Relationship competencies in child welfare ser...   \n",
       "186  901  Professional Development and Competence-based ...   \n",
       "\n",
       "                                              Abstract  \\\n",
       "0    In this paper, we develop and apply the concep...   \n",
       "1    Collaborative problem solving, as a key compet...   \n",
       "2    Purpose: This research aims to investigate the...   \n",
       "3    This paper presents an empirical study on key ...   \n",
       "4    Purpose: The present study proposes coaching a...   \n",
       "..                                                 ...   \n",
       "182  The economies in developed countries have been...   \n",
       "183  This article will examine the design and deliv...   \n",
       "184  Recent policy developments within the public s...   \n",
       "185  A series of nine focus groups were conducted t...   \n",
       "186  The rapid expansion of competence-based educat...   \n",
       "\n",
       "                                       Author Keywords  \\\n",
       "0                                                        \n",
       "1    Computer-mediated communication; Cooperative/c...   \n",
       "2    Curriculum; Education for sustainable developm...   \n",
       "3    higher education; human resource management; k...   \n",
       "4    Coaching; Employability competences; Higher ed...   \n",
       "..                                                 ...   \n",
       "182                                                      \n",
       "183                                                      \n",
       "184  Competences; Deprofessionalisation; Profession...   \n",
       "185  Child protection; Child welfare; Clients; Comp...   \n",
       "186                                                      \n",
       "\n",
       "                                        Index Keywords  \\\n",
       "0                                                        \n",
       "1    Cooperative communication; E-learning; Academi...   \n",
       "2                                                        \n",
       "3    higher education; human resource; sustainabili...   \n",
       "4                                                        \n",
       "..                                                 ...   \n",
       "182                                                      \n",
       "183                                                      \n",
       "184                                                      \n",
       "185  article; child; child welfare; health insuranc...   \n",
       "186                                                      \n",
       "\n",
       "                      label  \\\n",
       "0             alm k. (2022)   \n",
       "1      škrinjarić b. (2022)   \n",
       "2          leal m.s. (2022)   \n",
       "3         birdman j. (2022)   \n",
       "4            venn r. (2022)   \n",
       "..                      ...   \n",
       "182        hyland t. (1997)   \n",
       "183          foot s. (1996)   \n",
       "184       bridges d. (1996)   \n",
       "185       hyland t. (1994b)   \n",
       "186  everwijn s.e.m. (1993)   \n",
       "\n",
       "                                           description  \\\n",
       "0    <table><tr><td>Authors:</td><td>alm k.; beery ...   \n",
       "1    <table><tr><td>Authors:</td><td>škrinjarić b.<...   \n",
       "2    <table><tr><td>Authors:</td><td>leal m.s.; góm...   \n",
       "3    <table><tr><td>Authors:</td><td>birdman j.; wi...   \n",
       "4    <table><tr><td>Authors:</td><td>venn r.; perez...   \n",
       "..                                                 ...   \n",
       "182  <table><tr><td>Authors:</td><td>hyland t.</td>...   \n",
       "183  <table><tr><td>Authors:</td><td>foot s.; meggi...   \n",
       "184  <table><tr><td>Authors:</td><td>bridges d.</td...   \n",
       "185  <table><tr><td>Authors:</td><td>hyland t.</td>...   \n",
       "186  <table><tr><td>Authors:</td><td>everwijn s.e.m...   \n",
       "\n",
       "                                                   url       x       y  \\\n",
       "0           https://doi.org/10.1108/ijshe-12-2020-0484  0.8769 -0.1183   \n",
       "1           https://doi.org/10.1057/s41599-022-01047-1  0.6362  0.3087   \n",
       "2                  https://doi.org/10.14201/teri.25394 -0.3645  0.3677   \n",
       "3           https://doi.org/10.1108/ijshe-12-2020-0506  0.8405 -0.0474   \n",
       "4                   https://doi.org/10.3390/su14094916  0.4182 -0.0716   \n",
       "..                                                 ...     ...     ...   \n",
       "182            https://doi.org/10.1111/1467-9752.00070  1.1907 -0.1967   \n",
       "183          https://doi.org/10.1108/00400919610117380 -1.1517 -0.4479   \n",
       "184  https://doi.org/10.1111/j.1467-9752.1996.tb004...  0.5256  0.3076   \n",
       "185           https://doi.org/10.1080/0305569940200208  1.6081 -0.2421   \n",
       "186                 https://doi.org/10.1007/bf01383845 -0.7519  0.0568   \n",
       "\n",
       "     cluster                                            weights  \\\n",
       "0          1  {'Links': 4.0, 'Citations': 1.0, 'Norm. citati...   \n",
       "1          1  {'Links': 5.0, 'Citations': 0.0, 'Norm. citati...   \n",
       "2          3  {'Links': 1.0, 'Citations': 0.0, 'Norm. citati...   \n",
       "3          1  {'Links': 5.0, 'Citations': 1.0, 'Norm. citati...   \n",
       "4          1  {'Links': 6.0, 'Citations': 0.0, 'Norm. citati...   \n",
       "..       ...                                                ...   \n",
       "182        1  {'Links': 2.0, 'Citations': 55.0, 'Norm. citat...   \n",
       "183        2  {'Links': 1.0, 'Citations': 4.0, 'Norm. citati...   \n",
       "184        1  {'Links': 1.0, 'Citations': 18.0, 'Norm. citat...   \n",
       "185        1  {'Links': 1.0, 'Citations': 6.0, 'Norm. citati...   \n",
       "186        2  {'Links': 2.0, 'Citations': 24.0, 'Norm. citat...   \n",
       "\n",
       "                                                scores  \\\n",
       "0    {'Pub. year': 2022.0, 'Citations': 1.0, 'Norm....   \n",
       "1    {'Pub. year': 2022.0, 'Citations': 0.0, 'Norm....   \n",
       "2    {'Pub. year': 2022.0, 'Citations': 0.0, 'Norm....   \n",
       "3    {'Pub. year': 2022.0, 'Citations': 1.0, 'Norm....   \n",
       "4    {'Pub. year': 2022.0, 'Citations': 0.0, 'Norm....   \n",
       "..                                                 ...   \n",
       "182  {'Pub. year': 1997.0, 'Citations': 55.0, 'Norm...   \n",
       "183  {'Pub. year': 1996.0, 'Citations': 4.0, 'Norm....   \n",
       "184  {'Pub. year': 1996.0, 'Citations': 18.0, 'Norm...   \n",
       "185  {'Pub. year': 1994.0, 'Citations': 6.0, 'Norm....   \n",
       "186  {'Pub. year': 1993.0, 'Citations': 24.0, 'Norm...   \n",
       "\n",
       "                                    DOI  \\\n",
       "0            10.1108/ijshe-12-2020-0484   \n",
       "1            10.1057/s41599-022-01047-1   \n",
       "2                   10.14201/teri.25394   \n",
       "3            10.1108/ijshe-12-2020-0506   \n",
       "4                    10.3390/su14094916   \n",
       "..                                  ...   \n",
       "182             10.1111/1467-9752.00070   \n",
       "183           10.1108/00400919610117380   \n",
       "184  10.1111/j.1467-9752.1996.tb00406.x   \n",
       "185            10.1080/0305569940200208   \n",
       "186                  10.1007/bf01383845   \n",
       "\n",
       "                                                   doc  \n",
       "0    Going beyond the AHA! moment: insight discover...  \n",
       "1    Understanding student teachers’ collaborative ...  \n",
       "2    Developing key competencies in sustainability ...  \n",
       "3    Competencies of Sustainability Professionals: ...  \n",
       "4    Coaching to prepare students for their school-...  \n",
       "..                                                 ...  \n",
       "182  The interaction between technical and vocation...  \n",
       "183  Film, adult learning and the prussian peacheri...  \n",
       "184  Professionalism, ethics and work-based learnin...  \n",
       "185  Relationship competencies in child welfare ser...  \n",
       "186  Professional Development and Competence-based ...  \n",
       "\n",
       "[187 rows x 15 columns]"
      ]
     },
     "execution_count": 227,
     "metadata": {},
     "output_type": "execute_result"
    }
   ],
   "source": [
    "df_docs[\"doc\"] = df_docs.apply(lambda x: \". \".join(x.values[1:4+1]), axis=1)\n",
    "df_docs"
   ]
  },
  {
   "cell_type": "code",
   "execution_count": null,
   "metadata": {},
   "outputs": [],
   "source": [
    "import spacy\n",
    "\n",
    "nlp = spacy.load(\"en_core_web_sm\")"
   ]
  },
  {
   "cell_type": "code",
   "execution_count": 287,
   "metadata": {},
   "outputs": [
    {
     "data": {
      "text/plain": [
       "'!\"#$%&\\'()*+,-./:;<=>?@[\\\\]^_`{|}~'"
      ]
     },
     "execution_count": 287,
     "metadata": {},
     "output_type": "execute_result"
    }
   ],
   "source": [
    "import string "
   ]
  },
  {
   "cell_type": "code",
   "execution_count": 284,
   "metadata": {},
   "outputs": [],
   "source": [
    "doc = nlp(\"Teacher, student, group, skill, classroom, learning, assessment, class, environment, outcome\")"
   ]
  },
  {
   "cell_type": "code",
   "execution_count": 323,
   "metadata": {},
   "outputs": [],
   "source": [
    "def preprocess(text):\n",
    "    tokens = []\n",
    "    for token in nlp(text):\n",
    "        val = token.text\n",
    "        if val not in string.punctuation:\n",
    "            if not token.is_stop:\n",
    "                tokens.append(token.lemma_.lower())\n",
    "    bi_tokens = [f\"{tokens[i]}_{tokens[i+1]}\" for i in range(len(tokens)-1)]\n",
    "    return tokens+bi_tokens"
   ]
  },
  {
   "cell_type": "code",
   "execution_count": 324,
   "metadata": {},
   "outputs": [],
   "source": [
    "df_docs['doc_clean'] = df_docs['doc'].apply(lambda x: preprocess(x))"
   ]
  },
  {
   "cell_type": "code",
   "execution_count": 327,
   "metadata": {},
   "outputs": [
    {
     "data": {
      "application/vnd.plotly.v1+json": {
       "config": {
        "plotlyServerURL": "https://plot.ly"
       },
       "data": [
        {
         "alignmentgroup": "True",
         "hovertemplate": "Cluster=%{x}<br>Frequency=%{y}<extra></extra>",
         "legendgroup": "1",
         "marker": {
          "color": "#d63f4b",
          "pattern": {
           "shape": ""
          }
         },
         "name": "1",
         "offsetgroup": "1",
         "orientation": "v",
         "showlegend": true,
         "textposition": "auto",
         "type": "bar",
         "x": [
          "1"
         ],
         "xaxis": "x",
         "y": [
          87
         ],
         "yaxis": "y"
        },
        {
         "alignmentgroup": "True",
         "hovertemplate": "Cluster=%{x}<br>Frequency=%{y}<extra></extra>",
         "legendgroup": "2",
         "marker": {
          "color": "#58bd5b",
          "pattern": {
           "shape": ""
          }
         },
         "name": "2",
         "offsetgroup": "2",
         "orientation": "v",
         "showlegend": true,
         "textposition": "auto",
         "type": "bar",
         "x": [
          "2"
         ],
         "xaxis": "x",
         "y": [
          57
         ],
         "yaxis": "y"
        },
        {
         "alignmentgroup": "True",
         "hovertemplate": "Cluster=%{x}<br>Frequency=%{y}<extra></extra>",
         "legendgroup": "3",
         "marker": {
          "color": "#5599c3",
          "pattern": {
           "shape": ""
          }
         },
         "name": "3",
         "offsetgroup": "3",
         "orientation": "v",
         "showlegend": true,
         "textposition": "auto",
         "type": "bar",
         "x": [
          "3"
         ],
         "xaxis": "x",
         "y": [
          43
         ],
         "yaxis": "y"
        }
       ],
       "layout": {
        "barmode": "relative",
        "font": {
         "size": 18
        },
        "legend": {
         "title": {
          "text": "Cluster"
         },
         "tracegroupgap": 0
        },
        "template": {
         "data": {
          "bar": [
           {
            "error_x": {
             "color": "#2a3f5f"
            },
            "error_y": {
             "color": "#2a3f5f"
            },
            "marker": {
             "line": {
              "color": "#E5ECF6",
              "width": 0.5
             },
             "pattern": {
              "fillmode": "overlay",
              "size": 10,
              "solidity": 0.2
             }
            },
            "type": "bar"
           }
          ],
          "barpolar": [
           {
            "marker": {
             "line": {
              "color": "#E5ECF6",
              "width": 0.5
             },
             "pattern": {
              "fillmode": "overlay",
              "size": 10,
              "solidity": 0.2
             }
            },
            "type": "barpolar"
           }
          ],
          "carpet": [
           {
            "aaxis": {
             "endlinecolor": "#2a3f5f",
             "gridcolor": "white",
             "linecolor": "white",
             "minorgridcolor": "white",
             "startlinecolor": "#2a3f5f"
            },
            "baxis": {
             "endlinecolor": "#2a3f5f",
             "gridcolor": "white",
             "linecolor": "white",
             "minorgridcolor": "white",
             "startlinecolor": "#2a3f5f"
            },
            "type": "carpet"
           }
          ],
          "choropleth": [
           {
            "colorbar": {
             "outlinewidth": 0,
             "ticks": ""
            },
            "type": "choropleth"
           }
          ],
          "contour": [
           {
            "colorbar": {
             "outlinewidth": 0,
             "ticks": ""
            },
            "colorscale": [
             [
              0,
              "#0d0887"
             ],
             [
              0.1111111111111111,
              "#46039f"
             ],
             [
              0.2222222222222222,
              "#7201a8"
             ],
             [
              0.3333333333333333,
              "#9c179e"
             ],
             [
              0.4444444444444444,
              "#bd3786"
             ],
             [
              0.5555555555555556,
              "#d8576b"
             ],
             [
              0.6666666666666666,
              "#ed7953"
             ],
             [
              0.7777777777777778,
              "#fb9f3a"
             ],
             [
              0.8888888888888888,
              "#fdca26"
             ],
             [
              1,
              "#f0f921"
             ]
            ],
            "type": "contour"
           }
          ],
          "contourcarpet": [
           {
            "colorbar": {
             "outlinewidth": 0,
             "ticks": ""
            },
            "type": "contourcarpet"
           }
          ],
          "heatmap": [
           {
            "colorbar": {
             "outlinewidth": 0,
             "ticks": ""
            },
            "colorscale": [
             [
              0,
              "#0d0887"
             ],
             [
              0.1111111111111111,
              "#46039f"
             ],
             [
              0.2222222222222222,
              "#7201a8"
             ],
             [
              0.3333333333333333,
              "#9c179e"
             ],
             [
              0.4444444444444444,
              "#bd3786"
             ],
             [
              0.5555555555555556,
              "#d8576b"
             ],
             [
              0.6666666666666666,
              "#ed7953"
             ],
             [
              0.7777777777777778,
              "#fb9f3a"
             ],
             [
              0.8888888888888888,
              "#fdca26"
             ],
             [
              1,
              "#f0f921"
             ]
            ],
            "type": "heatmap"
           }
          ],
          "heatmapgl": [
           {
            "colorbar": {
             "outlinewidth": 0,
             "ticks": ""
            },
            "colorscale": [
             [
              0,
              "#0d0887"
             ],
             [
              0.1111111111111111,
              "#46039f"
             ],
             [
              0.2222222222222222,
              "#7201a8"
             ],
             [
              0.3333333333333333,
              "#9c179e"
             ],
             [
              0.4444444444444444,
              "#bd3786"
             ],
             [
              0.5555555555555556,
              "#d8576b"
             ],
             [
              0.6666666666666666,
              "#ed7953"
             ],
             [
              0.7777777777777778,
              "#fb9f3a"
             ],
             [
              0.8888888888888888,
              "#fdca26"
             ],
             [
              1,
              "#f0f921"
             ]
            ],
            "type": "heatmapgl"
           }
          ],
          "histogram": [
           {
            "marker": {
             "pattern": {
              "fillmode": "overlay",
              "size": 10,
              "solidity": 0.2
             }
            },
            "type": "histogram"
           }
          ],
          "histogram2d": [
           {
            "colorbar": {
             "outlinewidth": 0,
             "ticks": ""
            },
            "colorscale": [
             [
              0,
              "#0d0887"
             ],
             [
              0.1111111111111111,
              "#46039f"
             ],
             [
              0.2222222222222222,
              "#7201a8"
             ],
             [
              0.3333333333333333,
              "#9c179e"
             ],
             [
              0.4444444444444444,
              "#bd3786"
             ],
             [
              0.5555555555555556,
              "#d8576b"
             ],
             [
              0.6666666666666666,
              "#ed7953"
             ],
             [
              0.7777777777777778,
              "#fb9f3a"
             ],
             [
              0.8888888888888888,
              "#fdca26"
             ],
             [
              1,
              "#f0f921"
             ]
            ],
            "type": "histogram2d"
           }
          ],
          "histogram2dcontour": [
           {
            "colorbar": {
             "outlinewidth": 0,
             "ticks": ""
            },
            "colorscale": [
             [
              0,
              "#0d0887"
             ],
             [
              0.1111111111111111,
              "#46039f"
             ],
             [
              0.2222222222222222,
              "#7201a8"
             ],
             [
              0.3333333333333333,
              "#9c179e"
             ],
             [
              0.4444444444444444,
              "#bd3786"
             ],
             [
              0.5555555555555556,
              "#d8576b"
             ],
             [
              0.6666666666666666,
              "#ed7953"
             ],
             [
              0.7777777777777778,
              "#fb9f3a"
             ],
             [
              0.8888888888888888,
              "#fdca26"
             ],
             [
              1,
              "#f0f921"
             ]
            ],
            "type": "histogram2dcontour"
           }
          ],
          "mesh3d": [
           {
            "colorbar": {
             "outlinewidth": 0,
             "ticks": ""
            },
            "type": "mesh3d"
           }
          ],
          "parcoords": [
           {
            "line": {
             "colorbar": {
              "outlinewidth": 0,
              "ticks": ""
             }
            },
            "type": "parcoords"
           }
          ],
          "pie": [
           {
            "automargin": true,
            "type": "pie"
           }
          ],
          "scatter": [
           {
            "fillpattern": {
             "fillmode": "overlay",
             "size": 10,
             "solidity": 0.2
            },
            "type": "scatter"
           }
          ],
          "scatter3d": [
           {
            "line": {
             "colorbar": {
              "outlinewidth": 0,
              "ticks": ""
             }
            },
            "marker": {
             "colorbar": {
              "outlinewidth": 0,
              "ticks": ""
             }
            },
            "type": "scatter3d"
           }
          ],
          "scattercarpet": [
           {
            "marker": {
             "colorbar": {
              "outlinewidth": 0,
              "ticks": ""
             }
            },
            "type": "scattercarpet"
           }
          ],
          "scattergeo": [
           {
            "marker": {
             "colorbar": {
              "outlinewidth": 0,
              "ticks": ""
             }
            },
            "type": "scattergeo"
           }
          ],
          "scattergl": [
           {
            "marker": {
             "colorbar": {
              "outlinewidth": 0,
              "ticks": ""
             }
            },
            "type": "scattergl"
           }
          ],
          "scattermapbox": [
           {
            "marker": {
             "colorbar": {
              "outlinewidth": 0,
              "ticks": ""
             }
            },
            "type": "scattermapbox"
           }
          ],
          "scatterpolar": [
           {
            "marker": {
             "colorbar": {
              "outlinewidth": 0,
              "ticks": ""
             }
            },
            "type": "scatterpolar"
           }
          ],
          "scatterpolargl": [
           {
            "marker": {
             "colorbar": {
              "outlinewidth": 0,
              "ticks": ""
             }
            },
            "type": "scatterpolargl"
           }
          ],
          "scatterternary": [
           {
            "marker": {
             "colorbar": {
              "outlinewidth": 0,
              "ticks": ""
             }
            },
            "type": "scatterternary"
           }
          ],
          "surface": [
           {
            "colorbar": {
             "outlinewidth": 0,
             "ticks": ""
            },
            "colorscale": [
             [
              0,
              "#0d0887"
             ],
             [
              0.1111111111111111,
              "#46039f"
             ],
             [
              0.2222222222222222,
              "#7201a8"
             ],
             [
              0.3333333333333333,
              "#9c179e"
             ],
             [
              0.4444444444444444,
              "#bd3786"
             ],
             [
              0.5555555555555556,
              "#d8576b"
             ],
             [
              0.6666666666666666,
              "#ed7953"
             ],
             [
              0.7777777777777778,
              "#fb9f3a"
             ],
             [
              0.8888888888888888,
              "#fdca26"
             ],
             [
              1,
              "#f0f921"
             ]
            ],
            "type": "surface"
           }
          ],
          "table": [
           {
            "cells": {
             "fill": {
              "color": "#EBF0F8"
             },
             "line": {
              "color": "white"
             }
            },
            "header": {
             "fill": {
              "color": "#C8D4E3"
             },
             "line": {
              "color": "white"
             }
            },
            "type": "table"
           }
          ]
         },
         "layout": {
          "annotationdefaults": {
           "arrowcolor": "#2a3f5f",
           "arrowhead": 0,
           "arrowwidth": 1
          },
          "autotypenumbers": "strict",
          "coloraxis": {
           "colorbar": {
            "outlinewidth": 0,
            "ticks": ""
           }
          },
          "colorscale": {
           "diverging": [
            [
             0,
             "#8e0152"
            ],
            [
             0.1,
             "#c51b7d"
            ],
            [
             0.2,
             "#de77ae"
            ],
            [
             0.3,
             "#f1b6da"
            ],
            [
             0.4,
             "#fde0ef"
            ],
            [
             0.5,
             "#f7f7f7"
            ],
            [
             0.6,
             "#e6f5d0"
            ],
            [
             0.7,
             "#b8e186"
            ],
            [
             0.8,
             "#7fbc41"
            ],
            [
             0.9,
             "#4d9221"
            ],
            [
             1,
             "#276419"
            ]
           ],
           "sequential": [
            [
             0,
             "#0d0887"
            ],
            [
             0.1111111111111111,
             "#46039f"
            ],
            [
             0.2222222222222222,
             "#7201a8"
            ],
            [
             0.3333333333333333,
             "#9c179e"
            ],
            [
             0.4444444444444444,
             "#bd3786"
            ],
            [
             0.5555555555555556,
             "#d8576b"
            ],
            [
             0.6666666666666666,
             "#ed7953"
            ],
            [
             0.7777777777777778,
             "#fb9f3a"
            ],
            [
             0.8888888888888888,
             "#fdca26"
            ],
            [
             1,
             "#f0f921"
            ]
           ],
           "sequentialminus": [
            [
             0,
             "#0d0887"
            ],
            [
             0.1111111111111111,
             "#46039f"
            ],
            [
             0.2222222222222222,
             "#7201a8"
            ],
            [
             0.3333333333333333,
             "#9c179e"
            ],
            [
             0.4444444444444444,
             "#bd3786"
            ],
            [
             0.5555555555555556,
             "#d8576b"
            ],
            [
             0.6666666666666666,
             "#ed7953"
            ],
            [
             0.7777777777777778,
             "#fb9f3a"
            ],
            [
             0.8888888888888888,
             "#fdca26"
            ],
            [
             1,
             "#f0f921"
            ]
           ]
          },
          "colorway": [
           "#636efa",
           "#EF553B",
           "#00cc96",
           "#ab63fa",
           "#FFA15A",
           "#19d3f3",
           "#FF6692",
           "#B6E880",
           "#FF97FF",
           "#FECB52"
          ],
          "font": {
           "color": "#2a3f5f"
          },
          "geo": {
           "bgcolor": "white",
           "lakecolor": "white",
           "landcolor": "#E5ECF6",
           "showlakes": true,
           "showland": true,
           "subunitcolor": "white"
          },
          "hoverlabel": {
           "align": "left"
          },
          "hovermode": "closest",
          "mapbox": {
           "style": "light"
          },
          "paper_bgcolor": "white",
          "plot_bgcolor": "#E5ECF6",
          "polar": {
           "angularaxis": {
            "gridcolor": "white",
            "linecolor": "white",
            "ticks": ""
           },
           "bgcolor": "#E5ECF6",
           "radialaxis": {
            "gridcolor": "white",
            "linecolor": "white",
            "ticks": ""
           }
          },
          "scene": {
           "xaxis": {
            "backgroundcolor": "#E5ECF6",
            "gridcolor": "white",
            "gridwidth": 2,
            "linecolor": "white",
            "showbackground": true,
            "ticks": "",
            "zerolinecolor": "white"
           },
           "yaxis": {
            "backgroundcolor": "#E5ECF6",
            "gridcolor": "white",
            "gridwidth": 2,
            "linecolor": "white",
            "showbackground": true,
            "ticks": "",
            "zerolinecolor": "white"
           },
           "zaxis": {
            "backgroundcolor": "#E5ECF6",
            "gridcolor": "white",
            "gridwidth": 2,
            "linecolor": "white",
            "showbackground": true,
            "ticks": "",
            "zerolinecolor": "white"
           }
          },
          "shapedefaults": {
           "line": {
            "color": "#2a3f5f"
           }
          },
          "ternary": {
           "aaxis": {
            "gridcolor": "white",
            "linecolor": "white",
            "ticks": ""
           },
           "baxis": {
            "gridcolor": "white",
            "linecolor": "white",
            "ticks": ""
           },
           "bgcolor": "#E5ECF6",
           "caxis": {
            "gridcolor": "white",
            "linecolor": "white",
            "ticks": ""
           }
          },
          "title": {
           "x": 0.05
          },
          "xaxis": {
           "automargin": true,
           "gridcolor": "white",
           "linecolor": "white",
           "ticks": "",
           "title": {
            "standoff": 15
           },
           "zerolinecolor": "white",
           "zerolinewidth": 2
          },
          "yaxis": {
           "automargin": true,
           "gridcolor": "white",
           "linecolor": "white",
           "ticks": "",
           "title": {
            "standoff": 15
           },
           "zerolinecolor": "white",
           "zerolinewidth": 2
          }
         }
        },
        "title": {
         "text": "Frecuency of clusters (LinLog/mod.)"
        },
        "xaxis": {
         "anchor": "y",
         "categoryarray": [
          "1",
          "2",
          "3"
         ],
         "categoryorder": "array",
         "domain": [
          0,
          1
         ],
         "title": {
          "text": "Cluster"
         }
        },
        "yaxis": {
         "anchor": "x",
         "domain": [
          0,
          1
         ],
         "title": {
          "text": "Frequency"
         }
        }
       }
      },
      "text/html": [
       "<div>                            <div id=\"e1c7e734-d3a3-43e5-b421-e1069b2de119\" class=\"plotly-graph-div\" style=\"height:525px; width:100%;\"></div>            <script type=\"text/javascript\">                require([\"plotly\"], function(Plotly) {                    window.PLOTLYENV=window.PLOTLYENV || {};                                    if (document.getElementById(\"e1c7e734-d3a3-43e5-b421-e1069b2de119\")) {                    Plotly.newPlot(                        \"e1c7e734-d3a3-43e5-b421-e1069b2de119\",                        [{\"alignmentgroup\":\"True\",\"hovertemplate\":\"Cluster=%{x}<br>Frequency=%{y}<extra></extra>\",\"legendgroup\":\"1\",\"marker\":{\"color\":\"#d63f4b\",\"pattern\":{\"shape\":\"\"}},\"name\":\"1\",\"offsetgroup\":\"1\",\"orientation\":\"v\",\"showlegend\":true,\"textposition\":\"auto\",\"x\":[\"1\"],\"xaxis\":\"x\",\"y\":[87],\"yaxis\":\"y\",\"type\":\"bar\"},{\"alignmentgroup\":\"True\",\"hovertemplate\":\"Cluster=%{x}<br>Frequency=%{y}<extra></extra>\",\"legendgroup\":\"2\",\"marker\":{\"color\":\"#58bd5b\",\"pattern\":{\"shape\":\"\"}},\"name\":\"2\",\"offsetgroup\":\"2\",\"orientation\":\"v\",\"showlegend\":true,\"textposition\":\"auto\",\"x\":[\"2\"],\"xaxis\":\"x\",\"y\":[57],\"yaxis\":\"y\",\"type\":\"bar\"},{\"alignmentgroup\":\"True\",\"hovertemplate\":\"Cluster=%{x}<br>Frequency=%{y}<extra></extra>\",\"legendgroup\":\"3\",\"marker\":{\"color\":\"#5599c3\",\"pattern\":{\"shape\":\"\"}},\"name\":\"3\",\"offsetgroup\":\"3\",\"orientation\":\"v\",\"showlegend\":true,\"textposition\":\"auto\",\"x\":[\"3\"],\"xaxis\":\"x\",\"y\":[43],\"yaxis\":\"y\",\"type\":\"bar\"}],                        {\"template\":{\"data\":{\"histogram2dcontour\":[{\"type\":\"histogram2dcontour\",\"colorbar\":{\"outlinewidth\":0,\"ticks\":\"\"},\"colorscale\":[[0.0,\"#0d0887\"],[0.1111111111111111,\"#46039f\"],[0.2222222222222222,\"#7201a8\"],[0.3333333333333333,\"#9c179e\"],[0.4444444444444444,\"#bd3786\"],[0.5555555555555556,\"#d8576b\"],[0.6666666666666666,\"#ed7953\"],[0.7777777777777778,\"#fb9f3a\"],[0.8888888888888888,\"#fdca26\"],[1.0,\"#f0f921\"]]}],\"choropleth\":[{\"type\":\"choropleth\",\"colorbar\":{\"outlinewidth\":0,\"ticks\":\"\"}}],\"histogram2d\":[{\"type\":\"histogram2d\",\"colorbar\":{\"outlinewidth\":0,\"ticks\":\"\"},\"colorscale\":[[0.0,\"#0d0887\"],[0.1111111111111111,\"#46039f\"],[0.2222222222222222,\"#7201a8\"],[0.3333333333333333,\"#9c179e\"],[0.4444444444444444,\"#bd3786\"],[0.5555555555555556,\"#d8576b\"],[0.6666666666666666,\"#ed7953\"],[0.7777777777777778,\"#fb9f3a\"],[0.8888888888888888,\"#fdca26\"],[1.0,\"#f0f921\"]]}],\"heatmap\":[{\"type\":\"heatmap\",\"colorbar\":{\"outlinewidth\":0,\"ticks\":\"\"},\"colorscale\":[[0.0,\"#0d0887\"],[0.1111111111111111,\"#46039f\"],[0.2222222222222222,\"#7201a8\"],[0.3333333333333333,\"#9c179e\"],[0.4444444444444444,\"#bd3786\"],[0.5555555555555556,\"#d8576b\"],[0.6666666666666666,\"#ed7953\"],[0.7777777777777778,\"#fb9f3a\"],[0.8888888888888888,\"#fdca26\"],[1.0,\"#f0f921\"]]}],\"heatmapgl\":[{\"type\":\"heatmapgl\",\"colorbar\":{\"outlinewidth\":0,\"ticks\":\"\"},\"colorscale\":[[0.0,\"#0d0887\"],[0.1111111111111111,\"#46039f\"],[0.2222222222222222,\"#7201a8\"],[0.3333333333333333,\"#9c179e\"],[0.4444444444444444,\"#bd3786\"],[0.5555555555555556,\"#d8576b\"],[0.6666666666666666,\"#ed7953\"],[0.7777777777777778,\"#fb9f3a\"],[0.8888888888888888,\"#fdca26\"],[1.0,\"#f0f921\"]]}],\"contourcarpet\":[{\"type\":\"contourcarpet\",\"colorbar\":{\"outlinewidth\":0,\"ticks\":\"\"}}],\"contour\":[{\"type\":\"contour\",\"colorbar\":{\"outlinewidth\":0,\"ticks\":\"\"},\"colorscale\":[[0.0,\"#0d0887\"],[0.1111111111111111,\"#46039f\"],[0.2222222222222222,\"#7201a8\"],[0.3333333333333333,\"#9c179e\"],[0.4444444444444444,\"#bd3786\"],[0.5555555555555556,\"#d8576b\"],[0.6666666666666666,\"#ed7953\"],[0.7777777777777778,\"#fb9f3a\"],[0.8888888888888888,\"#fdca26\"],[1.0,\"#f0f921\"]]}],\"surface\":[{\"type\":\"surface\",\"colorbar\":{\"outlinewidth\":0,\"ticks\":\"\"},\"colorscale\":[[0.0,\"#0d0887\"],[0.1111111111111111,\"#46039f\"],[0.2222222222222222,\"#7201a8\"],[0.3333333333333333,\"#9c179e\"],[0.4444444444444444,\"#bd3786\"],[0.5555555555555556,\"#d8576b\"],[0.6666666666666666,\"#ed7953\"],[0.7777777777777778,\"#fb9f3a\"],[0.8888888888888888,\"#fdca26\"],[1.0,\"#f0f921\"]]}],\"mesh3d\":[{\"type\":\"mesh3d\",\"colorbar\":{\"outlinewidth\":0,\"ticks\":\"\"}}],\"scatter\":[{\"fillpattern\":{\"fillmode\":\"overlay\",\"size\":10,\"solidity\":0.2},\"type\":\"scatter\"}],\"parcoords\":[{\"type\":\"parcoords\",\"line\":{\"colorbar\":{\"outlinewidth\":0,\"ticks\":\"\"}}}],\"scatterpolargl\":[{\"type\":\"scatterpolargl\",\"marker\":{\"colorbar\":{\"outlinewidth\":0,\"ticks\":\"\"}}}],\"bar\":[{\"error_x\":{\"color\":\"#2a3f5f\"},\"error_y\":{\"color\":\"#2a3f5f\"},\"marker\":{\"line\":{\"color\":\"#E5ECF6\",\"width\":0.5},\"pattern\":{\"fillmode\":\"overlay\",\"size\":10,\"solidity\":0.2}},\"type\":\"bar\"}],\"scattergeo\":[{\"type\":\"scattergeo\",\"marker\":{\"colorbar\":{\"outlinewidth\":0,\"ticks\":\"\"}}}],\"scatterpolar\":[{\"type\":\"scatterpolar\",\"marker\":{\"colorbar\":{\"outlinewidth\":0,\"ticks\":\"\"}}}],\"histogram\":[{\"marker\":{\"pattern\":{\"fillmode\":\"overlay\",\"size\":10,\"solidity\":0.2}},\"type\":\"histogram\"}],\"scattergl\":[{\"type\":\"scattergl\",\"marker\":{\"colorbar\":{\"outlinewidth\":0,\"ticks\":\"\"}}}],\"scatter3d\":[{\"type\":\"scatter3d\",\"line\":{\"colorbar\":{\"outlinewidth\":0,\"ticks\":\"\"}},\"marker\":{\"colorbar\":{\"outlinewidth\":0,\"ticks\":\"\"}}}],\"scattermapbox\":[{\"type\":\"scattermapbox\",\"marker\":{\"colorbar\":{\"outlinewidth\":0,\"ticks\":\"\"}}}],\"scatterternary\":[{\"type\":\"scatterternary\",\"marker\":{\"colorbar\":{\"outlinewidth\":0,\"ticks\":\"\"}}}],\"scattercarpet\":[{\"type\":\"scattercarpet\",\"marker\":{\"colorbar\":{\"outlinewidth\":0,\"ticks\":\"\"}}}],\"carpet\":[{\"aaxis\":{\"endlinecolor\":\"#2a3f5f\",\"gridcolor\":\"white\",\"linecolor\":\"white\",\"minorgridcolor\":\"white\",\"startlinecolor\":\"#2a3f5f\"},\"baxis\":{\"endlinecolor\":\"#2a3f5f\",\"gridcolor\":\"white\",\"linecolor\":\"white\",\"minorgridcolor\":\"white\",\"startlinecolor\":\"#2a3f5f\"},\"type\":\"carpet\"}],\"table\":[{\"cells\":{\"fill\":{\"color\":\"#EBF0F8\"},\"line\":{\"color\":\"white\"}},\"header\":{\"fill\":{\"color\":\"#C8D4E3\"},\"line\":{\"color\":\"white\"}},\"type\":\"table\"}],\"barpolar\":[{\"marker\":{\"line\":{\"color\":\"#E5ECF6\",\"width\":0.5},\"pattern\":{\"fillmode\":\"overlay\",\"size\":10,\"solidity\":0.2}},\"type\":\"barpolar\"}],\"pie\":[{\"automargin\":true,\"type\":\"pie\"}]},\"layout\":{\"autotypenumbers\":\"strict\",\"colorway\":[\"#636efa\",\"#EF553B\",\"#00cc96\",\"#ab63fa\",\"#FFA15A\",\"#19d3f3\",\"#FF6692\",\"#B6E880\",\"#FF97FF\",\"#FECB52\"],\"font\":{\"color\":\"#2a3f5f\"},\"hovermode\":\"closest\",\"hoverlabel\":{\"align\":\"left\"},\"paper_bgcolor\":\"white\",\"plot_bgcolor\":\"#E5ECF6\",\"polar\":{\"bgcolor\":\"#E5ECF6\",\"angularaxis\":{\"gridcolor\":\"white\",\"linecolor\":\"white\",\"ticks\":\"\"},\"radialaxis\":{\"gridcolor\":\"white\",\"linecolor\":\"white\",\"ticks\":\"\"}},\"ternary\":{\"bgcolor\":\"#E5ECF6\",\"aaxis\":{\"gridcolor\":\"white\",\"linecolor\":\"white\",\"ticks\":\"\"},\"baxis\":{\"gridcolor\":\"white\",\"linecolor\":\"white\",\"ticks\":\"\"},\"caxis\":{\"gridcolor\":\"white\",\"linecolor\":\"white\",\"ticks\":\"\"}},\"coloraxis\":{\"colorbar\":{\"outlinewidth\":0,\"ticks\":\"\"}},\"colorscale\":{\"sequential\":[[0.0,\"#0d0887\"],[0.1111111111111111,\"#46039f\"],[0.2222222222222222,\"#7201a8\"],[0.3333333333333333,\"#9c179e\"],[0.4444444444444444,\"#bd3786\"],[0.5555555555555556,\"#d8576b\"],[0.6666666666666666,\"#ed7953\"],[0.7777777777777778,\"#fb9f3a\"],[0.8888888888888888,\"#fdca26\"],[1.0,\"#f0f921\"]],\"sequentialminus\":[[0.0,\"#0d0887\"],[0.1111111111111111,\"#46039f\"],[0.2222222222222222,\"#7201a8\"],[0.3333333333333333,\"#9c179e\"],[0.4444444444444444,\"#bd3786\"],[0.5555555555555556,\"#d8576b\"],[0.6666666666666666,\"#ed7953\"],[0.7777777777777778,\"#fb9f3a\"],[0.8888888888888888,\"#fdca26\"],[1.0,\"#f0f921\"]],\"diverging\":[[0,\"#8e0152\"],[0.1,\"#c51b7d\"],[0.2,\"#de77ae\"],[0.3,\"#f1b6da\"],[0.4,\"#fde0ef\"],[0.5,\"#f7f7f7\"],[0.6,\"#e6f5d0\"],[0.7,\"#b8e186\"],[0.8,\"#7fbc41\"],[0.9,\"#4d9221\"],[1,\"#276419\"]]},\"xaxis\":{\"gridcolor\":\"white\",\"linecolor\":\"white\",\"ticks\":\"\",\"title\":{\"standoff\":15},\"zerolinecolor\":\"white\",\"automargin\":true,\"zerolinewidth\":2},\"yaxis\":{\"gridcolor\":\"white\",\"linecolor\":\"white\",\"ticks\":\"\",\"title\":{\"standoff\":15},\"zerolinecolor\":\"white\",\"automargin\":true,\"zerolinewidth\":2},\"scene\":{\"xaxis\":{\"backgroundcolor\":\"#E5ECF6\",\"gridcolor\":\"white\",\"linecolor\":\"white\",\"showbackground\":true,\"ticks\":\"\",\"zerolinecolor\":\"white\",\"gridwidth\":2},\"yaxis\":{\"backgroundcolor\":\"#E5ECF6\",\"gridcolor\":\"white\",\"linecolor\":\"white\",\"showbackground\":true,\"ticks\":\"\",\"zerolinecolor\":\"white\",\"gridwidth\":2},\"zaxis\":{\"backgroundcolor\":\"#E5ECF6\",\"gridcolor\":\"white\",\"linecolor\":\"white\",\"showbackground\":true,\"ticks\":\"\",\"zerolinecolor\":\"white\",\"gridwidth\":2}},\"shapedefaults\":{\"line\":{\"color\":\"#2a3f5f\"}},\"annotationdefaults\":{\"arrowcolor\":\"#2a3f5f\",\"arrowhead\":0,\"arrowwidth\":1},\"geo\":{\"bgcolor\":\"white\",\"landcolor\":\"#E5ECF6\",\"subunitcolor\":\"white\",\"showland\":true,\"showlakes\":true,\"lakecolor\":\"white\"},\"title\":{\"x\":0.05},\"mapbox\":{\"style\":\"light\"}}},\"xaxis\":{\"anchor\":\"y\",\"domain\":[0.0,1.0],\"title\":{\"text\":\"Cluster\"},\"categoryorder\":\"array\",\"categoryarray\":[\"1\",\"2\",\"3\"]},\"yaxis\":{\"anchor\":\"x\",\"domain\":[0.0,1.0],\"title\":{\"text\":\"Frequency\"}},\"legend\":{\"title\":{\"text\":\"Cluster\"},\"tracegroupgap\":0},\"title\":{\"text\":\"Frecuency of clusters (LinLog/mod.)\"},\"barmode\":\"relative\",\"font\":{\"size\":18}},                        {\"responsive\": true}                    ).then(function(){\n",
       "                            \n",
       "var gd = document.getElementById('e1c7e734-d3a3-43e5-b421-e1069b2de119');\n",
       "var x = new MutationObserver(function (mutations, observer) {{\n",
       "        var display = window.getComputedStyle(gd).display;\n",
       "        if (!display || display === 'none') {{\n",
       "            console.log([gd, 'removed!']);\n",
       "            Plotly.purge(gd);\n",
       "            observer.disconnect();\n",
       "        }}\n",
       "}});\n",
       "\n",
       "// Listen for the removal of the full notebook cells\n",
       "var notebookContainer = gd.closest('#notebook-container');\n",
       "if (notebookContainer) {{\n",
       "    x.observe(notebookContainer, {childList: true});\n",
       "}}\n",
       "\n",
       "// Listen for the clearing of the current output cell\n",
       "var outputEl = gd.closest('.output');\n",
       "if (outputEl) {{\n",
       "    x.observe(outputEl, {childList: true});\n",
       "}}\n",
       "\n",
       "                        })                };                });            </script>        </div>"
      ]
     },
     "metadata": {},
     "output_type": "display_data"
    }
   ],
   "source": [
    "num_clusters = 3\n",
    "table_hist = pd.DataFrame()\n",
    "table_hist[\"Frequency\"] = df_docs[\"cluster\"].value_counts().values\n",
    "table_hist[\"Cluster\"] = [str(i) for i in range(1, num_clusters+1)]\n",
    "\n",
    "color_discrete_sequence = ['#d63f4b', \"#58bd5b\", \"#5599c3\", \"#bcbe4f\", \"#996fc0\", \"#5cccd9\"][:num_clusters]\n",
    "\n",
    "fig = px.bar(table_hist, \n",
    "             x=\"Cluster\", \n",
    "             y=\"Frequency\", \n",
    "             color=\"Cluster\", \n",
    "             title=\"Frecuency of clusters (LinLog/mod.)\", \n",
    "             color_discrete_sequence=color_discrete_sequence)\n",
    "fig.update_layout(\n",
    "    font=dict(\n",
    "        size=18\n",
    "    )\n",
    ")\n",
    "fig.show()"
   ]
  },
  {
   "cell_type": "code",
   "execution_count": 328,
   "metadata": {},
   "outputs": [
    {
     "data": {
      "text/html": [
       "<div>\n",
       "<style scoped>\n",
       "    .dataframe tbody tr th:only-of-type {\n",
       "        vertical-align: middle;\n",
       "    }\n",
       "\n",
       "    .dataframe tbody tr th {\n",
       "        vertical-align: top;\n",
       "    }\n",
       "\n",
       "    .dataframe thead th {\n",
       "        text-align: right;\n",
       "    }\n",
       "</style>\n",
       "<table border=\"1\" class=\"dataframe\">\n",
       "  <thead>\n",
       "    <tr style=\"text-align: right;\">\n",
       "      <th></th>\n",
       "      <th>Frequency</th>\n",
       "      <th>Cluster</th>\n",
       "    </tr>\n",
       "  </thead>\n",
       "  <tbody>\n",
       "    <tr>\n",
       "      <th>0</th>\n",
       "      <td>87</td>\n",
       "      <td>1</td>\n",
       "    </tr>\n",
       "    <tr>\n",
       "      <th>1</th>\n",
       "      <td>57</td>\n",
       "      <td>2</td>\n",
       "    </tr>\n",
       "    <tr>\n",
       "      <th>2</th>\n",
       "      <td>43</td>\n",
       "      <td>3</td>\n",
       "    </tr>\n",
       "  </tbody>\n",
       "</table>\n",
       "</div>"
      ],
      "text/plain": [
       "   Frequency Cluster\n",
       "0         87       1\n",
       "1         57       2\n",
       "2         43       3"
      ]
     },
     "execution_count": 328,
     "metadata": {},
     "output_type": "execute_result"
    }
   ],
   "source": [
    "table_hist"
   ]
  },
  {
   "cell_type": "code",
   "execution_count": 301,
   "metadata": {},
   "outputs": [],
   "source": [
    "from gensim import corpora\n",
    "from gensim import models"
   ]
  },
  {
   "cell_type": "code",
   "execution_count": 337,
   "metadata": {},
   "outputs": [],
   "source": [
    "cluster_id = 2\n",
    "df_docs_cluster = df_docs[df_docs[\"cluster\"] == cluster_id]\n",
    "corpus = df_docs_cluster['doc_clean']\n",
    "dictionary = corpora.Dictionary(corpus)\n",
    "\n",
    "bow = [dictionary.doc2bow(text) for text in corpus]\n",
    "\n",
    "tfidf = models.TfidfModel(bow)\n",
    "corpus_tfidf = tfidf[bow]"
   ]
  },
  {
   "cell_type": "code",
   "execution_count": 303,
   "metadata": {},
   "outputs": [],
   "source": [
    "from gensim.models import LsiModel\n",
    "from gensim.models.coherencemodel import CoherenceModel"
   ]
  },
  {
   "cell_type": "code",
   "execution_count": 330,
   "metadata": {},
   "outputs": [
    {
     "name": "stdout",
     "output_type": "stream",
     "text": [
      "Coherence score with 2 topics: 0.4858794562521013\n",
      "Coherence score with 3 topics: 0.5783951252042933\n",
      "Coherence score with 4 topics: 0.46818431362331325\n",
      "Coherence score with 5 topics: 0.43420701194828226\n"
     ]
    },
    {
     "ename": "KeyboardInterrupt",
     "evalue": "",
     "output_type": "error",
     "traceback": [
      "\u001b[1;31m---------------------------------------------------------------------------\u001b[0m",
      "\u001b[1;31mKeyboardInterrupt\u001b[0m                         Traceback (most recent call last)",
      "\u001b[1;32m<timed exec>\u001b[0m in \u001b[0;36m<module>\u001b[1;34m\u001b[0m\n",
      "\u001b[1;32m~\\anaconda3\\lib\\site-packages\\gensim\\models\\coherencemodel.py\u001b[0m in \u001b[0;36mget_coherence\u001b[1;34m(self)\u001b[0m\n\u001b[0;32m    613\u001b[0m \u001b[1;33m\u001b[0m\u001b[0m\n\u001b[0;32m    614\u001b[0m         \"\"\"\n\u001b[1;32m--> 615\u001b[1;33m         \u001b[0mconfirmed_measures\u001b[0m \u001b[1;33m=\u001b[0m \u001b[0mself\u001b[0m\u001b[1;33m.\u001b[0m\u001b[0mget_coherence_per_topic\u001b[0m\u001b[1;33m(\u001b[0m\u001b[1;33m)\u001b[0m\u001b[1;33m\u001b[0m\u001b[1;33m\u001b[0m\u001b[0m\n\u001b[0m\u001b[0;32m    616\u001b[0m         \u001b[1;32mreturn\u001b[0m \u001b[0mself\u001b[0m\u001b[1;33m.\u001b[0m\u001b[0maggregate_measures\u001b[0m\u001b[1;33m(\u001b[0m\u001b[0mconfirmed_measures\u001b[0m\u001b[1;33m)\u001b[0m\u001b[1;33m\u001b[0m\u001b[1;33m\u001b[0m\u001b[0m\n\u001b[0;32m    617\u001b[0m \u001b[1;33m\u001b[0m\u001b[0m\n",
      "\u001b[1;32m~\\anaconda3\\lib\\site-packages\\gensim\\models\\coherencemodel.py\u001b[0m in \u001b[0;36mget_coherence_per_topic\u001b[1;34m(self, segmented_topics, with_std, with_support)\u001b[0m\n\u001b[0;32m    573\u001b[0m             \u001b[0msegmented_topics\u001b[0m \u001b[1;33m=\u001b[0m \u001b[0mmeasure\u001b[0m\u001b[1;33m.\u001b[0m\u001b[0mseg\u001b[0m\u001b[1;33m(\u001b[0m\u001b[0mself\u001b[0m\u001b[1;33m.\u001b[0m\u001b[0mtopics\u001b[0m\u001b[1;33m)\u001b[0m\u001b[1;33m\u001b[0m\u001b[1;33m\u001b[0m\u001b[0m\n\u001b[0;32m    574\u001b[0m         \u001b[1;32mif\u001b[0m \u001b[0mself\u001b[0m\u001b[1;33m.\u001b[0m\u001b[0m_accumulator\u001b[0m \u001b[1;32mis\u001b[0m \u001b[1;32mNone\u001b[0m\u001b[1;33m:\u001b[0m\u001b[1;33m\u001b[0m\u001b[1;33m\u001b[0m\u001b[0m\n\u001b[1;32m--> 575\u001b[1;33m             \u001b[0mself\u001b[0m\u001b[1;33m.\u001b[0m\u001b[0mestimate_probabilities\u001b[0m\u001b[1;33m(\u001b[0m\u001b[0msegmented_topics\u001b[0m\u001b[1;33m)\u001b[0m\u001b[1;33m\u001b[0m\u001b[1;33m\u001b[0m\u001b[0m\n\u001b[0m\u001b[0;32m    576\u001b[0m \u001b[1;33m\u001b[0m\u001b[0m\n\u001b[0;32m    577\u001b[0m         \u001b[0mkwargs\u001b[0m \u001b[1;33m=\u001b[0m \u001b[0mdict\u001b[0m\u001b[1;33m(\u001b[0m\u001b[0mwith_std\u001b[0m\u001b[1;33m=\u001b[0m\u001b[0mwith_std\u001b[0m\u001b[1;33m,\u001b[0m \u001b[0mwith_support\u001b[0m\u001b[1;33m=\u001b[0m\u001b[0mwith_support\u001b[0m\u001b[1;33m)\u001b[0m\u001b[1;33m\u001b[0m\u001b[1;33m\u001b[0m\u001b[0m\n",
      "\u001b[1;32m~\\anaconda3\\lib\\site-packages\\gensim\\models\\coherencemodel.py\u001b[0m in \u001b[0;36mestimate_probabilities\u001b[1;34m(self, segmented_topics)\u001b[0m\n\u001b[0;32m    545\u001b[0m                 \u001b[0mkwargs\u001b[0m\u001b[1;33m[\u001b[0m\u001b[1;34m'model'\u001b[0m\u001b[1;33m]\u001b[0m \u001b[1;33m=\u001b[0m \u001b[0mself\u001b[0m\u001b[1;33m.\u001b[0m\u001b[0mkeyed_vectors\u001b[0m\u001b[1;33m\u001b[0m\u001b[1;33m\u001b[0m\u001b[0m\n\u001b[0;32m    546\u001b[0m \u001b[1;33m\u001b[0m\u001b[0m\n\u001b[1;32m--> 547\u001b[1;33m             \u001b[0mself\u001b[0m\u001b[1;33m.\u001b[0m\u001b[0m_accumulator\u001b[0m \u001b[1;33m=\u001b[0m \u001b[0mself\u001b[0m\u001b[1;33m.\u001b[0m\u001b[0mmeasure\u001b[0m\u001b[1;33m.\u001b[0m\u001b[0mprob\u001b[0m\u001b[1;33m(\u001b[0m\u001b[1;33m**\u001b[0m\u001b[0mkwargs\u001b[0m\u001b[1;33m)\u001b[0m\u001b[1;33m\u001b[0m\u001b[1;33m\u001b[0m\u001b[0m\n\u001b[0m\u001b[0;32m    548\u001b[0m \u001b[1;33m\u001b[0m\u001b[0m\n\u001b[0;32m    549\u001b[0m         \u001b[1;32mreturn\u001b[0m \u001b[0mself\u001b[0m\u001b[1;33m.\u001b[0m\u001b[0m_accumulator\u001b[0m\u001b[1;33m\u001b[0m\u001b[1;33m\u001b[0m\u001b[0m\n",
      "\u001b[1;32m~\\anaconda3\\lib\\site-packages\\gensim\\topic_coherence\\probability_estimation.py\u001b[0m in \u001b[0;36mp_boolean_sliding_window\u001b[1;34m(texts, segmented_topics, dictionary, window_size, processes)\u001b[0m\n\u001b[0;32m    154\u001b[0m         \u001b[0maccumulator\u001b[0m \u001b[1;33m=\u001b[0m \u001b[0mParallelWordOccurrenceAccumulator\u001b[0m\u001b[1;33m(\u001b[0m\u001b[0mprocesses\u001b[0m\u001b[1;33m,\u001b[0m \u001b[0mtop_ids\u001b[0m\u001b[1;33m,\u001b[0m \u001b[0mdictionary\u001b[0m\u001b[1;33m)\u001b[0m\u001b[1;33m\u001b[0m\u001b[1;33m\u001b[0m\u001b[0m\n\u001b[0;32m    155\u001b[0m     \u001b[0mlogger\u001b[0m\u001b[1;33m.\u001b[0m\u001b[0minfo\u001b[0m\u001b[1;33m(\u001b[0m\u001b[1;34m\"using %s to estimate probabilities from sliding windows\"\u001b[0m\u001b[1;33m,\u001b[0m \u001b[0maccumulator\u001b[0m\u001b[1;33m)\u001b[0m\u001b[1;33m\u001b[0m\u001b[1;33m\u001b[0m\u001b[0m\n\u001b[1;32m--> 156\u001b[1;33m     \u001b[1;32mreturn\u001b[0m \u001b[0maccumulator\u001b[0m\u001b[1;33m.\u001b[0m\u001b[0maccumulate\u001b[0m\u001b[1;33m(\u001b[0m\u001b[0mtexts\u001b[0m\u001b[1;33m,\u001b[0m \u001b[0mwindow_size\u001b[0m\u001b[1;33m)\u001b[0m\u001b[1;33m\u001b[0m\u001b[1;33m\u001b[0m\u001b[0m\n\u001b[0m\u001b[0;32m    157\u001b[0m \u001b[1;33m\u001b[0m\u001b[0m\n\u001b[0;32m    158\u001b[0m \u001b[1;33m\u001b[0m\u001b[0m\n",
      "\u001b[1;32m~\\anaconda3\\lib\\site-packages\\gensim\\topic_coherence\\text_analysis.py\u001b[0m in \u001b[0;36maccumulate\u001b[1;34m(self, texts, window_size)\u001b[0m\n\u001b[0;32m    434\u001b[0m \u001b[1;33m\u001b[0m\u001b[0m\n\u001b[0;32m    435\u001b[0m     \u001b[1;32mdef\u001b[0m \u001b[0maccumulate\u001b[0m\u001b[1;33m(\u001b[0m\u001b[0mself\u001b[0m\u001b[1;33m,\u001b[0m \u001b[0mtexts\u001b[0m\u001b[1;33m,\u001b[0m \u001b[0mwindow_size\u001b[0m\u001b[1;33m)\u001b[0m\u001b[1;33m:\u001b[0m\u001b[1;33m\u001b[0m\u001b[1;33m\u001b[0m\u001b[0m\n\u001b[1;32m--> 436\u001b[1;33m         \u001b[0mworkers\u001b[0m\u001b[1;33m,\u001b[0m \u001b[0minput_q\u001b[0m\u001b[1;33m,\u001b[0m \u001b[0moutput_q\u001b[0m \u001b[1;33m=\u001b[0m \u001b[0mself\u001b[0m\u001b[1;33m.\u001b[0m\u001b[0mstart_workers\u001b[0m\u001b[1;33m(\u001b[0m\u001b[0mwindow_size\u001b[0m\u001b[1;33m)\u001b[0m\u001b[1;33m\u001b[0m\u001b[1;33m\u001b[0m\u001b[0m\n\u001b[0m\u001b[0;32m    437\u001b[0m         \u001b[1;32mtry\u001b[0m\u001b[1;33m:\u001b[0m\u001b[1;33m\u001b[0m\u001b[1;33m\u001b[0m\u001b[0m\n\u001b[0;32m    438\u001b[0m             \u001b[0mself\u001b[0m\u001b[1;33m.\u001b[0m\u001b[0mqueue_all_texts\u001b[0m\u001b[1;33m(\u001b[0m\u001b[0minput_q\u001b[0m\u001b[1;33m,\u001b[0m \u001b[0mtexts\u001b[0m\u001b[1;33m,\u001b[0m \u001b[0mwindow_size\u001b[0m\u001b[1;33m)\u001b[0m\u001b[1;33m\u001b[0m\u001b[1;33m\u001b[0m\u001b[0m\n",
      "\u001b[1;32m~\\anaconda3\\lib\\site-packages\\gensim\\topic_coherence\\text_analysis.py\u001b[0m in \u001b[0;36mstart_workers\u001b[1;34m(self, window_size)\u001b[0m\n\u001b[0;32m    468\u001b[0m             \u001b[0maccumulator\u001b[0m \u001b[1;33m=\u001b[0m \u001b[0mPatchedWordOccurrenceAccumulator\u001b[0m\u001b[1;33m(\u001b[0m\u001b[0mself\u001b[0m\u001b[1;33m.\u001b[0m\u001b[0mrelevant_ids\u001b[0m\u001b[1;33m,\u001b[0m \u001b[0mself\u001b[0m\u001b[1;33m.\u001b[0m\u001b[0mdictionary\u001b[0m\u001b[1;33m)\u001b[0m\u001b[1;33m\u001b[0m\u001b[1;33m\u001b[0m\u001b[0m\n\u001b[0;32m    469\u001b[0m             \u001b[0mworker\u001b[0m \u001b[1;33m=\u001b[0m \u001b[0mAccumulatingWorker\u001b[0m\u001b[1;33m(\u001b[0m\u001b[0minput_q\u001b[0m\u001b[1;33m,\u001b[0m \u001b[0moutput_q\u001b[0m\u001b[1;33m,\u001b[0m \u001b[0maccumulator\u001b[0m\u001b[1;33m,\u001b[0m \u001b[0mwindow_size\u001b[0m\u001b[1;33m)\u001b[0m\u001b[1;33m\u001b[0m\u001b[1;33m\u001b[0m\u001b[0m\n\u001b[1;32m--> 470\u001b[1;33m             \u001b[0mworker\u001b[0m\u001b[1;33m.\u001b[0m\u001b[0mstart\u001b[0m\u001b[1;33m(\u001b[0m\u001b[1;33m)\u001b[0m\u001b[1;33m\u001b[0m\u001b[1;33m\u001b[0m\u001b[0m\n\u001b[0m\u001b[0;32m    471\u001b[0m             \u001b[0mworkers\u001b[0m\u001b[1;33m.\u001b[0m\u001b[0mappend\u001b[0m\u001b[1;33m(\u001b[0m\u001b[0mworker\u001b[0m\u001b[1;33m)\u001b[0m\u001b[1;33m\u001b[0m\u001b[1;33m\u001b[0m\u001b[0m\n\u001b[0;32m    472\u001b[0m \u001b[1;33m\u001b[0m\u001b[0m\n",
      "\u001b[1;32m~\\anaconda3\\lib\\multiprocessing\\process.py\u001b[0m in \u001b[0;36mstart\u001b[1;34m(self)\u001b[0m\n\u001b[0;32m    119\u001b[0m                \u001b[1;34m'daemonic processes are not allowed to have children'\u001b[0m\u001b[1;33m\u001b[0m\u001b[1;33m\u001b[0m\u001b[0m\n\u001b[0;32m    120\u001b[0m         \u001b[0m_cleanup\u001b[0m\u001b[1;33m(\u001b[0m\u001b[1;33m)\u001b[0m\u001b[1;33m\u001b[0m\u001b[1;33m\u001b[0m\u001b[0m\n\u001b[1;32m--> 121\u001b[1;33m         \u001b[0mself\u001b[0m\u001b[1;33m.\u001b[0m\u001b[0m_popen\u001b[0m \u001b[1;33m=\u001b[0m \u001b[0mself\u001b[0m\u001b[1;33m.\u001b[0m\u001b[0m_Popen\u001b[0m\u001b[1;33m(\u001b[0m\u001b[0mself\u001b[0m\u001b[1;33m)\u001b[0m\u001b[1;33m\u001b[0m\u001b[1;33m\u001b[0m\u001b[0m\n\u001b[0m\u001b[0;32m    122\u001b[0m         \u001b[0mself\u001b[0m\u001b[1;33m.\u001b[0m\u001b[0m_sentinel\u001b[0m \u001b[1;33m=\u001b[0m \u001b[0mself\u001b[0m\u001b[1;33m.\u001b[0m\u001b[0m_popen\u001b[0m\u001b[1;33m.\u001b[0m\u001b[0msentinel\u001b[0m\u001b[1;33m\u001b[0m\u001b[1;33m\u001b[0m\u001b[0m\n\u001b[0;32m    123\u001b[0m         \u001b[1;31m# Avoid a refcycle if the target function holds an indirect\u001b[0m\u001b[1;33m\u001b[0m\u001b[1;33m\u001b[0m\u001b[1;33m\u001b[0m\u001b[0m\n",
      "\u001b[1;32m~\\anaconda3\\lib\\multiprocessing\\context.py\u001b[0m in \u001b[0;36m_Popen\u001b[1;34m(process_obj)\u001b[0m\n\u001b[0;32m    222\u001b[0m     \u001b[1;33m@\u001b[0m\u001b[0mstaticmethod\u001b[0m\u001b[1;33m\u001b[0m\u001b[1;33m\u001b[0m\u001b[0m\n\u001b[0;32m    223\u001b[0m     \u001b[1;32mdef\u001b[0m \u001b[0m_Popen\u001b[0m\u001b[1;33m(\u001b[0m\u001b[0mprocess_obj\u001b[0m\u001b[1;33m)\u001b[0m\u001b[1;33m:\u001b[0m\u001b[1;33m\u001b[0m\u001b[1;33m\u001b[0m\u001b[0m\n\u001b[1;32m--> 224\u001b[1;33m         \u001b[1;32mreturn\u001b[0m \u001b[0m_default_context\u001b[0m\u001b[1;33m.\u001b[0m\u001b[0mget_context\u001b[0m\u001b[1;33m(\u001b[0m\u001b[1;33m)\u001b[0m\u001b[1;33m.\u001b[0m\u001b[0mProcess\u001b[0m\u001b[1;33m.\u001b[0m\u001b[0m_Popen\u001b[0m\u001b[1;33m(\u001b[0m\u001b[0mprocess_obj\u001b[0m\u001b[1;33m)\u001b[0m\u001b[1;33m\u001b[0m\u001b[1;33m\u001b[0m\u001b[0m\n\u001b[0m\u001b[0;32m    225\u001b[0m \u001b[1;33m\u001b[0m\u001b[0m\n\u001b[0;32m    226\u001b[0m \u001b[1;32mclass\u001b[0m \u001b[0mDefaultContext\u001b[0m\u001b[1;33m(\u001b[0m\u001b[0mBaseContext\u001b[0m\u001b[1;33m)\u001b[0m\u001b[1;33m:\u001b[0m\u001b[1;33m\u001b[0m\u001b[1;33m\u001b[0m\u001b[0m\n",
      "\u001b[1;32m~\\anaconda3\\lib\\multiprocessing\\context.py\u001b[0m in \u001b[0;36m_Popen\u001b[1;34m(process_obj)\u001b[0m\n\u001b[0;32m    325\u001b[0m         \u001b[1;32mdef\u001b[0m \u001b[0m_Popen\u001b[0m\u001b[1;33m(\u001b[0m\u001b[0mprocess_obj\u001b[0m\u001b[1;33m)\u001b[0m\u001b[1;33m:\u001b[0m\u001b[1;33m\u001b[0m\u001b[1;33m\u001b[0m\u001b[0m\n\u001b[0;32m    326\u001b[0m             \u001b[1;32mfrom\u001b[0m \u001b[1;33m.\u001b[0m\u001b[0mpopen_spawn_win32\u001b[0m \u001b[1;32mimport\u001b[0m \u001b[0mPopen\u001b[0m\u001b[1;33m\u001b[0m\u001b[1;33m\u001b[0m\u001b[0m\n\u001b[1;32m--> 327\u001b[1;33m             \u001b[1;32mreturn\u001b[0m \u001b[0mPopen\u001b[0m\u001b[1;33m(\u001b[0m\u001b[0mprocess_obj\u001b[0m\u001b[1;33m)\u001b[0m\u001b[1;33m\u001b[0m\u001b[1;33m\u001b[0m\u001b[0m\n\u001b[0m\u001b[0;32m    328\u001b[0m \u001b[1;33m\u001b[0m\u001b[0m\n\u001b[0;32m    329\u001b[0m     \u001b[1;32mclass\u001b[0m \u001b[0mSpawnContext\u001b[0m\u001b[1;33m(\u001b[0m\u001b[0mBaseContext\u001b[0m\u001b[1;33m)\u001b[0m\u001b[1;33m:\u001b[0m\u001b[1;33m\u001b[0m\u001b[1;33m\u001b[0m\u001b[0m\n",
      "\u001b[1;32m~\\anaconda3\\lib\\multiprocessing\\popen_spawn_win32.py\u001b[0m in \u001b[0;36m__init__\u001b[1;34m(self, process_obj)\u001b[0m\n\u001b[0;32m     91\u001b[0m             \u001b[1;32mtry\u001b[0m\u001b[1;33m:\u001b[0m\u001b[1;33m\u001b[0m\u001b[1;33m\u001b[0m\u001b[0m\n\u001b[0;32m     92\u001b[0m                 \u001b[0mreduction\u001b[0m\u001b[1;33m.\u001b[0m\u001b[0mdump\u001b[0m\u001b[1;33m(\u001b[0m\u001b[0mprep_data\u001b[0m\u001b[1;33m,\u001b[0m \u001b[0mto_child\u001b[0m\u001b[1;33m)\u001b[0m\u001b[1;33m\u001b[0m\u001b[1;33m\u001b[0m\u001b[0m\n\u001b[1;32m---> 93\u001b[1;33m                 \u001b[0mreduction\u001b[0m\u001b[1;33m.\u001b[0m\u001b[0mdump\u001b[0m\u001b[1;33m(\u001b[0m\u001b[0mprocess_obj\u001b[0m\u001b[1;33m,\u001b[0m \u001b[0mto_child\u001b[0m\u001b[1;33m)\u001b[0m\u001b[1;33m\u001b[0m\u001b[1;33m\u001b[0m\u001b[0m\n\u001b[0m\u001b[0;32m     94\u001b[0m             \u001b[1;32mfinally\u001b[0m\u001b[1;33m:\u001b[0m\u001b[1;33m\u001b[0m\u001b[1;33m\u001b[0m\u001b[0m\n\u001b[0;32m     95\u001b[0m                 \u001b[0mset_spawning_popen\u001b[0m\u001b[1;33m(\u001b[0m\u001b[1;32mNone\u001b[0m\u001b[1;33m)\u001b[0m\u001b[1;33m\u001b[0m\u001b[1;33m\u001b[0m\u001b[0m\n",
      "\u001b[1;32m~\\anaconda3\\lib\\multiprocessing\\reduction.py\u001b[0m in \u001b[0;36mdump\u001b[1;34m(obj, file, protocol)\u001b[0m\n\u001b[0;32m     58\u001b[0m \u001b[1;32mdef\u001b[0m \u001b[0mdump\u001b[0m\u001b[1;33m(\u001b[0m\u001b[0mobj\u001b[0m\u001b[1;33m,\u001b[0m \u001b[0mfile\u001b[0m\u001b[1;33m,\u001b[0m \u001b[0mprotocol\u001b[0m\u001b[1;33m=\u001b[0m\u001b[1;32mNone\u001b[0m\u001b[1;33m)\u001b[0m\u001b[1;33m:\u001b[0m\u001b[1;33m\u001b[0m\u001b[1;33m\u001b[0m\u001b[0m\n\u001b[0;32m     59\u001b[0m     \u001b[1;34m'''Replacement for pickle.dump() using ForkingPickler.'''\u001b[0m\u001b[1;33m\u001b[0m\u001b[1;33m\u001b[0m\u001b[0m\n\u001b[1;32m---> 60\u001b[1;33m     \u001b[0mForkingPickler\u001b[0m\u001b[1;33m(\u001b[0m\u001b[0mfile\u001b[0m\u001b[1;33m,\u001b[0m \u001b[0mprotocol\u001b[0m\u001b[1;33m)\u001b[0m\u001b[1;33m.\u001b[0m\u001b[0mdump\u001b[0m\u001b[1;33m(\u001b[0m\u001b[0mobj\u001b[0m\u001b[1;33m)\u001b[0m\u001b[1;33m\u001b[0m\u001b[1;33m\u001b[0m\u001b[0m\n\u001b[0m\u001b[0;32m     61\u001b[0m \u001b[1;33m\u001b[0m\u001b[0m\n\u001b[0;32m     62\u001b[0m \u001b[1;31m#\u001b[0m\u001b[1;33m\u001b[0m\u001b[1;33m\u001b[0m\u001b[1;33m\u001b[0m\u001b[0m\n",
      "\u001b[1;31mKeyboardInterrupt\u001b[0m: "
     ]
    }
   ],
   "source": [
    "%%time\n",
    "for i in range(2, 16):\n",
    "    lsi = LsiModel(corpus_tfidf, num_topics=i, id2word=dictionary)\n",
    "    coherence_model = CoherenceModel(model=lsi, texts=df_docs_cluster['doc_clean'], dictionary=dictionary, coherence='c_v')\n",
    "    coherence_score = coherence_model.get_coherence()\n",
    "    print('Coherence score with {} topics: {}'.format(i, coherence_score))"
   ]
  },
  {
   "cell_type": "code",
   "execution_count": 338,
   "metadata": {},
   "outputs": [],
   "source": [
    "num_topics = 3\n",
    "lsi = LsiModel(corpus_tfidf, num_topics=num_topics, id2word=dictionary)"
   ]
  },
  {
   "cell_type": "code",
   "execution_count": 339,
   "metadata": {},
   "outputs": [
    {
     "data": {
      "text/html": [
       "<div>\n",
       "<style scoped>\n",
       "    .dataframe tbody tr th:only-of-type {\n",
       "        vertical-align: middle;\n",
       "    }\n",
       "\n",
       "    .dataframe tbody tr th {\n",
       "        vertical-align: top;\n",
       "    }\n",
       "\n",
       "    .dataframe thead th {\n",
       "        text-align: right;\n",
       "    }\n",
       "</style>\n",
       "<table border=\"1\" class=\"dataframe\">\n",
       "  <thead>\n",
       "    <tr style=\"text-align: right;\">\n",
       "      <th></th>\n",
       "      <th>id</th>\n",
       "      <th>Title</th>\n",
       "      <th>Abstract</th>\n",
       "      <th>Author Keywords</th>\n",
       "      <th>Index Keywords</th>\n",
       "      <th>label</th>\n",
       "      <th>description</th>\n",
       "      <th>url</th>\n",
       "      <th>x</th>\n",
       "      <th>y</th>\n",
       "      <th>cluster</th>\n",
       "      <th>weights</th>\n",
       "      <th>scores</th>\n",
       "      <th>DOI</th>\n",
       "      <th>doc</th>\n",
       "      <th>doc_clean</th>\n",
       "      <th>score_topic_0</th>\n",
       "      <th>score_topic_1</th>\n",
       "      <th>score_topic_2</th>\n",
       "      <th>Topic</th>\n",
       "    </tr>\n",
       "  </thead>\n",
       "  <tbody>\n",
       "    <tr>\n",
       "      <th>7</th>\n",
       "      <td>17</td>\n",
       "      <td>Practitioner competencies for working with ref...</td>\n",
       "      <td>Research indicates that refugee and asylum see...</td>\n",
       "      <td>Children; competency; practitioner; refugee; y...</td>\n",
       "      <td>asylum seeker; child; cultural competence; edu...</td>\n",
       "      <td>nissilä s.-p. (2022)</td>\n",
       "      <td>&lt;table&gt;&lt;tr&gt;&lt;td&gt;Authors:&lt;/td&gt;&lt;td&gt;nissilä s.-p.;...</td>\n",
       "      <td>https://doi.org/10.12973/eu-jer.11.2.965</td>\n",
       "      <td>-1.1450</td>\n",
       "      <td>-0.4909</td>\n",
       "      <td>2</td>\n",
       "      <td>{'Links': 1.0, 'Citations': 0.0, 'Norm. citati...</td>\n",
       "      <td>{'Pub. year': 2022.0, 'Citations': 0.0, 'Norm....</td>\n",
       "      <td>10.12973/eu-jer.11.2.965</td>\n",
       "      <td>Practitioner competencies for working with ref...</td>\n",
       "      <td>[practitioner, competencie, work, refugee, chi...</td>\n",
       "      <td>-5.94</td>\n",
       "      <td>-2.24</td>\n",
       "      <td>1.02</td>\n",
       "      <td>2</td>\n",
       "    </tr>\n",
       "    <tr>\n",
       "      <th>12</th>\n",
       "      <td>35</td>\n",
       "      <td>How Key Competencies Progress across School Te...</td>\n",
       "      <td>The recent round of curriculum reform in China...</td>\n",
       "      <td>cognitive development; Geographic competency; ...</td>\n",
       "      <td></td>\n",
       "      <td>tarekegne c. (2022)</td>\n",
       "      <td>&lt;table&gt;&lt;tr&gt;&lt;td&gt;Authors:&lt;/td&gt;&lt;td&gt;tarekegne c.; ...</td>\n",
       "      <td>https://doi.org/10.1111/ijtd.12265</td>\n",
       "      <td>-0.6759</td>\n",
       "      <td>-0.2058</td>\n",
       "      <td>2</td>\n",
       "      <td>{'Links': 5.0, 'Citations': 0.0, 'Norm. citati...</td>\n",
       "      <td>{'Pub. year': 2022.0, 'Citations': 0.0, 'Norm....</td>\n",
       "      <td>10.1111/ijtd.12265</td>\n",
       "      <td>How Key Competencies Progress across School Te...</td>\n",
       "      <td>[key, competencies, progress, school, term, st...</td>\n",
       "      <td>-3.81</td>\n",
       "      <td>0.34</td>\n",
       "      <td>2.78</td>\n",
       "      <td>2</td>\n",
       "    </tr>\n",
       "    <tr>\n",
       "      <th>14</th>\n",
       "      <td>57</td>\n",
       "      <td>Feasibility and acceptability of virtually coa...</td>\n",
       "      <td>Background: Developing communication skills is...</td>\n",
       "      <td>Communication skills; Resident curriculum; Res...</td>\n",
       "      <td>feasibility study; human; interpersonal commun...</td>\n",
       "      <td>bükki e. (2021)</td>\n",
       "      <td>&lt;table&gt;&lt;tr&gt;&lt;td&gt;Authors:&lt;/td&gt;&lt;td&gt;bükki e.; fehé...</td>\n",
       "      <td>https://doi.org/10.1186/s40461-020-00108-6</td>\n",
       "      <td>-1.1471</td>\n",
       "      <td>-0.4880</td>\n",
       "      <td>2</td>\n",
       "      <td>{'Links': 1.0, 'Citations': 1.0, 'Norm. citati...</td>\n",
       "      <td>{'Pub. year': 2021.0, 'Citations': 1.0, 'Norm....</td>\n",
       "      <td>10.1186/s40461-020-00108-6</td>\n",
       "      <td>Feasibility and acceptability of virtually coa...</td>\n",
       "      <td>[feasibility, acceptability, virtually, coach,...</td>\n",
       "      <td>-7.57</td>\n",
       "      <td>-7.54</td>\n",
       "      <td>7.94</td>\n",
       "      <td>2</td>\n",
       "    </tr>\n",
       "    <tr>\n",
       "      <th>17</th>\n",
       "      <td>64</td>\n",
       "      <td>Digital competence in higher education: Studen...</td>\n",
       "      <td>University students are expected to have the a...</td>\n",
       "      <td>Digital competence; Higher education; ICT; Stu...</td>\n",
       "      <td>digital mapping; factor analysis; higher educa...</td>\n",
       "      <td>brauer s. (2021)</td>\n",
       "      <td>&lt;table&gt;&lt;tr&gt;&lt;td&gt;Authors:&lt;/td&gt;&lt;td&gt;brauer s.&lt;/td&gt;...</td>\n",
       "      <td>https://doi.org/10.1108/et-07-2020-0216</td>\n",
       "      <td>-0.6495</td>\n",
       "      <td>-0.1055</td>\n",
       "      <td>2</td>\n",
       "      <td>{'Links': 4.0, 'Citations': 1.0, 'Norm. citati...</td>\n",
       "      <td>{'Pub. year': 2021.0, 'Citations': 1.0, 'Norm....</td>\n",
       "      <td>10.1108/et-07-2020-0216</td>\n",
       "      <td>Digital competence in higher education: Studen...</td>\n",
       "      <td>[digital, competence, high, education, student...</td>\n",
       "      <td>-9.23</td>\n",
       "      <td>1.54</td>\n",
       "      <td>5.00</td>\n",
       "      <td>2</td>\n",
       "    </tr>\n",
       "    <tr>\n",
       "      <th>29</th>\n",
       "      <td>128</td>\n",
       "      <td>Botswana teachers: competencies perceived as i...</td>\n",
       "      <td>The implementation of inclusive education cont...</td>\n",
       "      <td>Botswana; inclusive education; teachers’ compe...</td>\n",
       "      <td></td>\n",
       "      <td>misbah z. (2021)</td>\n",
       "      <td>&lt;table&gt;&lt;tr&gt;&lt;td&gt;Authors:&lt;/td&gt;&lt;td&gt;misbah z.; gul...</td>\n",
       "      <td>https://doi.org/10.1007/s10984-021-09395-6</td>\n",
       "      <td>-0.9648</td>\n",
       "      <td>-0.3274</td>\n",
       "      <td>2</td>\n",
       "      <td>{'Links': 2.0, 'Citations': 1.0, 'Norm. citati...</td>\n",
       "      <td>{'Pub. year': 2021.0, 'Citations': 1.0, 'Norm....</td>\n",
       "      <td>10.1007/s10984-021-09395-6</td>\n",
       "      <td>Botswana teachers: competencies perceived as i...</td>\n",
       "      <td>[botswana, teacher, competency, perceive, impo...</td>\n",
       "      <td>-6.84</td>\n",
       "      <td>3.08</td>\n",
       "      <td>-0.91</td>\n",
       "      <td>1</td>\n",
       "    </tr>\n",
       "    <tr>\n",
       "      <th>33</th>\n",
       "      <td>135</td>\n",
       "      <td>University graduates: Potential advantage or t...</td>\n",
       "      <td>The objectives of the study, as presented in t...</td>\n",
       "      <td>Employment and unemployment; Higher education;...</td>\n",
       "      <td></td>\n",
       "      <td>chen p. (2021)</td>\n",
       "      <td>&lt;table&gt;&lt;tr&gt;&lt;td&gt;Authors:&lt;/td&gt;&lt;td&gt;chen p.; gonch...</td>\n",
       "      <td>https://doi.org/10.13152/ijrvet.8.4.2</td>\n",
       "      <td>-0.6727</td>\n",
       "      <td>-0.2469</td>\n",
       "      <td>2</td>\n",
       "      <td>{'Links': 3.0, 'Citations': 1.0, 'Norm. citati...</td>\n",
       "      <td>{'Pub. year': 2021.0, 'Citations': 1.0, 'Norm....</td>\n",
       "      <td>10.13152/ijrvet.8.4.2</td>\n",
       "      <td>University graduates: Potential advantage or t...</td>\n",
       "      <td>[university, graduate, potential, advantage, t...</td>\n",
       "      <td>-5.06</td>\n",
       "      <td>0.73</td>\n",
       "      <td>2.10</td>\n",
       "      <td>2</td>\n",
       "    </tr>\n",
       "    <tr>\n",
       "      <th>37</th>\n",
       "      <td>161</td>\n",
       "      <td>The introduction of competence-based education...</td>\n",
       "      <td>In France, the notion of competence began to b...</td>\n",
       "      <td>Competence; education reform; France; new publ...</td>\n",
       "      <td>comparative study; curriculum; education refor...</td>\n",
       "      <td>diego-mantecón j.-m. (2021)</td>\n",
       "      <td>&lt;table&gt;&lt;tr&gt;&lt;td&gt;Authors:&lt;/td&gt;&lt;td&gt;diego-mantecón...</td>\n",
       "      <td>https://doi.org/10.3916/c66-2021-03</td>\n",
       "      <td>-1.1900</td>\n",
       "      <td>-0.4417</td>\n",
       "      <td>2</td>\n",
       "      <td>{'Links': 1.0, 'Citations': 7.0, 'Norm. citati...</td>\n",
       "      <td>{'Pub. year': 2021.0, 'Citations': 7.0, 'Norm....</td>\n",
       "      <td>10.3916/c66-2021-03</td>\n",
       "      <td>The introduction of competence-based education...</td>\n",
       "      <td>[introduction, competence, base, education, co...</td>\n",
       "      <td>-5.11</td>\n",
       "      <td>1.91</td>\n",
       "      <td>-2.63</td>\n",
       "      <td>1</td>\n",
       "    </tr>\n",
       "    <tr>\n",
       "      <th>49</th>\n",
       "      <td>219</td>\n",
       "      <td>Relationship between organizational climate an...</td>\n",
       "      <td>Successfully developing a new product, service...</td>\n",
       "      <td>Exploitation; Exploration; Innovation capabili...</td>\n",
       "      <td></td>\n",
       "      <td>kepanen p. (2020)</td>\n",
       "      <td>&lt;table&gt;&lt;tr&gt;&lt;td&gt;Authors:&lt;/td&gt;&lt;td&gt;kepanen p.; mä...</td>\n",
       "      <td>https://doi.org/10.1007/s42087-019-00080-y</td>\n",
       "      <td>-0.7147</td>\n",
       "      <td>-0.2473</td>\n",
       "      <td>2</td>\n",
       "      <td>{'Links': 4.0, 'Citations': 0.0, 'Norm. citati...</td>\n",
       "      <td>{'Pub. year': 2020.0, 'Citations': 0.0, 'Norm....</td>\n",
       "      <td>10.1007/s42087-019-00080-y</td>\n",
       "      <td>Relationship between organizational climate an...</td>\n",
       "      <td>[relationship, organizational, climate, innova...</td>\n",
       "      <td>-3.74</td>\n",
       "      <td>-2.37</td>\n",
       "      <td>0.24</td>\n",
       "      <td>2</td>\n",
       "    </tr>\n",
       "    <tr>\n",
       "      <th>52</th>\n",
       "      <td>235</td>\n",
       "      <td>EFL teacher's integrated key competency cultiv...</td>\n",
       "      <td>Teachers' professional development is a contin...</td>\n",
       "      <td>EFL teacher; Integrated cultivation; Key compe...</td>\n",
       "      <td></td>\n",
       "      <td>placklé i. (2020)</td>\n",
       "      <td>&lt;table&gt;&lt;tr&gt;&lt;td&gt;Authors:&lt;/td&gt;&lt;td&gt;placklé i.; kö...</td>\n",
       "      <td>https://doi.org/10.1080/02619768.2019.1681965</td>\n",
       "      <td>-1.2584</td>\n",
       "      <td>-0.2865</td>\n",
       "      <td>2</td>\n",
       "      <td>{'Links': 1.0, 'Citations': 4.0, 'Norm. citati...</td>\n",
       "      <td>{'Pub. year': 2020.0, 'Citations': 4.0, 'Norm....</td>\n",
       "      <td>10.1080/02619768.2019.1681965</td>\n",
       "      <td>EFL teacher's integrated key competency cultiv...</td>\n",
       "      <td>[efl, teacher, integrated, key, competency, cu...</td>\n",
       "      <td>-6.21</td>\n",
       "      <td>1.31</td>\n",
       "      <td>0.15</td>\n",
       "      <td>1</td>\n",
       "    </tr>\n",
       "    <tr>\n",
       "      <th>57</th>\n",
       "      <td>263</td>\n",
       "      <td>Integrating 21st century competencies into a K...</td>\n",
       "      <td>In recent decades, the term “competencies” has...</td>\n",
       "      <td>21st century competencies; Competencies; curri...</td>\n",
       "      <td></td>\n",
       "      <td>van griethuijsen r.a.l.f. (2020)</td>\n",
       "      <td>&lt;table&gt;&lt;tr&gt;&lt;td&gt;Authors:&lt;/td&gt;&lt;td&gt;van griethuijs...</td>\n",
       "      <td>https://doi.org/10.1080/13636820.2019.1644364</td>\n",
       "      <td>-0.7701</td>\n",
       "      <td>-0.1028</td>\n",
       "      <td>2</td>\n",
       "      <td>{'Links': 10.0, 'Citations': 5.0, 'Norm. citat...</td>\n",
       "      <td>{'Pub. year': 2020.0, 'Citations': 5.0, 'Norm....</td>\n",
       "      <td>10.1080/13636820.2019.1644364</td>\n",
       "      <td>Integrating 21st century competencies into a K...</td>\n",
       "      <td>[integrate, 21st, century, competency, k-12, c...</td>\n",
       "      <td>-7.15</td>\n",
       "      <td>-0.90</td>\n",
       "      <td>8.20</td>\n",
       "      <td>2</td>\n",
       "    </tr>\n",
       "    <tr>\n",
       "      <th>58</th>\n",
       "      <td>277</td>\n",
       "      <td>Reflection on science competence-based curricu...</td>\n",
       "      <td>Based on the qualitative data gathered from th...</td>\n",
       "      <td>Competence-based curriculum; reflection; scien...</td>\n",
       "      <td></td>\n",
       "      <td>virkkula e. (2020)</td>\n",
       "      <td>&lt;table&gt;&lt;tr&gt;&lt;td&gt;Authors:&lt;/td&gt;&lt;td&gt;virkkula e.&lt;/t...</td>\n",
       "      <td>https://doi.org/10.1080/02619768.2020.1806229</td>\n",
       "      <td>-0.7517</td>\n",
       "      <td>-0.1505</td>\n",
       "      <td>2</td>\n",
       "      <td>{'Links': 10.0, 'Citations': 0.0, 'Norm. citat...</td>\n",
       "      <td>{'Pub. year': 2020.0, 'Citations': 0.0, 'Norm....</td>\n",
       "      <td>10.1080/02619768.2020.1806229</td>\n",
       "      <td>Reflection on science competence-based curricu...</td>\n",
       "      <td>[reflection, science, competence, base, curric...</td>\n",
       "      <td>-6.98</td>\n",
       "      <td>1.55</td>\n",
       "      <td>-0.39</td>\n",
       "      <td>1</td>\n",
       "    </tr>\n",
       "    <tr>\n",
       "      <th>59</th>\n",
       "      <td>291</td>\n",
       "      <td>What Major “Socio-Scientific Topics” Should th...</td>\n",
       "      <td>Science and technology play an important role ...</td>\n",
       "      <td>Delphi method; Frontiers of science; Science c...</td>\n",
       "      <td></td>\n",
       "      <td>misbah z. (2020)</td>\n",
       "      <td>&lt;table&gt;&lt;tr&gt;&lt;td&gt;Authors:&lt;/td&gt;&lt;td&gt;misbah z.; gul...</td>\n",
       "      <td>https://doi.org/10.1080/13636820.2019.1635634</td>\n",
       "      <td>-0.8742</td>\n",
       "      <td>-0.3642</td>\n",
       "      <td>2</td>\n",
       "      <td>{'Links': 5.0, 'Citations': 5.0, 'Norm. citati...</td>\n",
       "      <td>{'Pub. year': 2020.0, 'Citations': 5.0, 'Norm....</td>\n",
       "      <td>10.1080/13636820.2019.1635634</td>\n",
       "      <td>What Major “Socio-Scientific Topics” Should th...</td>\n",
       "      <td>[major, \", socio, scientific, topic, \", scienc...</td>\n",
       "      <td>-8.65</td>\n",
       "      <td>-2.71</td>\n",
       "      <td>11.89</td>\n",
       "      <td>2</td>\n",
       "    </tr>\n",
       "    <tr>\n",
       "      <th>63</th>\n",
       "      <td>315</td>\n",
       "      <td>Professional skills development for mathematic...</td>\n",
       "      <td>Purpose: The purpose of this paper is to descr...</td>\n",
       "      <td>Employability; Graduate skills; Mathematics; M...</td>\n",
       "      <td></td>\n",
       "      <td>saadvandi m. (2019)</td>\n",
       "      <td>&lt;table&gt;&lt;tr&gt;&lt;td&gt;Authors:&lt;/td&gt;&lt;td&gt;saadvandi m.; ...</td>\n",
       "      <td>https://doi.org/10.1080/1389224x.2019.1627225</td>\n",
       "      <td>-0.6724</td>\n",
       "      <td>-0.1442</td>\n",
       "      <td>2</td>\n",
       "      <td>{'Links': 4.0, 'Citations': 3.0, 'Norm. citati...</td>\n",
       "      <td>{'Pub. year': 2019.0, 'Citations': 3.0, 'Norm....</td>\n",
       "      <td>10.1080/1389224x.2019.1627225</td>\n",
       "      <td>Professional skills development for mathematic...</td>\n",
       "      <td>[professional, skill, development, mathematic,...</td>\n",
       "      <td>-7.94</td>\n",
       "      <td>-0.69</td>\n",
       "      <td>3.93</td>\n",
       "      <td>2</td>\n",
       "    </tr>\n",
       "    <tr>\n",
       "      <th>64</th>\n",
       "      <td>317</td>\n",
       "      <td>The development of teachers pedagogical compet...</td>\n",
       "      <td>Purpose: The ideas of integrity, unity, system...</td>\n",
       "      <td>Key competences; Pedagogical activity; Pedagog...</td>\n",
       "      <td></td>\n",
       "      <td>misbah z. (2019)</td>\n",
       "      <td>&lt;table&gt;&lt;tr&gt;&lt;td&gt;Authors:&lt;/td&gt;&lt;td&gt;misbah z.; gul...</td>\n",
       "      <td>https://doi.org/10.1007/s10984-018-9276-y</td>\n",
       "      <td>-0.6873</td>\n",
       "      <td>-0.2763</td>\n",
       "      <td>2</td>\n",
       "      <td>{'Links': 10.0, 'Citations': 4.0, 'Norm. citat...</td>\n",
       "      <td>{'Pub. year': 2019.0, 'Citations': 4.0, 'Norm....</td>\n",
       "      <td>10.1007/s10984-018-9276-y</td>\n",
       "      <td>The development of teachers pedagogical compet...</td>\n",
       "      <td>[development, teacher, pedagogical, competence...</td>\n",
       "      <td>-9.37</td>\n",
       "      <td>3.17</td>\n",
       "      <td>-0.04</td>\n",
       "      <td>1</td>\n",
       "    </tr>\n",
       "    <tr>\n",
       "      <th>65</th>\n",
       "      <td>326</td>\n",
       "      <td>How do pupils perceive educational robotics as...</td>\n",
       "      <td>In the past years, the use of educational robo...</td>\n",
       "      <td>Educational robotics; Gender; Key competences;...</td>\n",
       "      <td></td>\n",
       "      <td>escalié g. (2019)</td>\n",
       "      <td>&lt;table&gt;&lt;tr&gt;&lt;td&gt;Authors:&lt;/td&gt;&lt;td&gt;escalié g.; re...</td>\n",
       "      <td>https://doi.org/10.1080/13573322.2017.1397507</td>\n",
       "      <td>-0.6033</td>\n",
       "      <td>-0.2425</td>\n",
       "      <td>2</td>\n",
       "      <td>{'Links': 1.0, 'Citations': 11.0, 'Norm. citat...</td>\n",
       "      <td>{'Pub. year': 2019.0, 'Citations': 11.0, 'Norm...</td>\n",
       "      <td>10.1080/13573322.2017.1397507</td>\n",
       "      <td>How do pupils perceive educational robotics as...</td>\n",
       "      <td>[pupil, perceive, educational, robotic, tool, ...</td>\n",
       "      <td>-5.32</td>\n",
       "      <td>0.86</td>\n",
       "      <td>4.59</td>\n",
       "      <td>2</td>\n",
       "    </tr>\n",
       "    <tr>\n",
       "      <th>71</th>\n",
       "      <td>360</td>\n",
       "      <td>Prediction model for the inclusion of key comp...</td>\n",
       "      <td>The purposes of this paper were twofold: (a) t...</td>\n",
       "      <td>Curriculum; Key competences; Professional deve...</td>\n",
       "      <td></td>\n",
       "      <td>geitz g. (2019)</td>\n",
       "      <td>&lt;table&gt;&lt;tr&gt;&lt;td&gt;Authors:&lt;/td&gt;&lt;td&gt;geitz g.; de g...</td>\n",
       "      <td>https://doi.org/10.1080/2331186x.2019.1647919</td>\n",
       "      <td>-0.7328</td>\n",
       "      <td>-0.0142</td>\n",
       "      <td>2</td>\n",
       "      <td>{'Links': 2.0, 'Citations': 5.0, 'Norm. citati...</td>\n",
       "      <td>{'Pub. year': 2019.0, 'Citations': 5.0, 'Norm....</td>\n",
       "      <td>10.1080/2331186x.2019.1647919</td>\n",
       "      <td>Prediction model for the inclusion of key comp...</td>\n",
       "      <td>[prediction, model, inclusion, key, competence...</td>\n",
       "      <td>-8.99</td>\n",
       "      <td>3.92</td>\n",
       "      <td>-0.78</td>\n",
       "      <td>1</td>\n",
       "    </tr>\n",
       "    <tr>\n",
       "      <th>78</th>\n",
       "      <td>389</td>\n",
       "      <td>Technology’s role for achieving creativity, di...</td>\n",
       "      <td>This article provides an overview of six years...</td>\n",
       "      <td>Creative teaching scenarios; Diversity; Histor...</td>\n",
       "      <td></td>\n",
       "      <td>morselli d. (2018)</td>\n",
       "      <td>&lt;table&gt;&lt;tr&gt;&lt;td&gt;Authors:&lt;/td&gt;&lt;td&gt;morselli d.&lt;/t...</td>\n",
       "      <td>https://doi.org/10.1108/et-03-2017-0046</td>\n",
       "      <td>-0.1982</td>\n",
       "      <td>0.0751</td>\n",
       "      <td>2</td>\n",
       "      <td>{'Links': 4.0, 'Citations': 8.0, 'Norm. citati...</td>\n",
       "      <td>{'Pub. year': 2018.0, 'Citations': 8.0, 'Norm....</td>\n",
       "      <td>10.1108/et-03-2017-0046</td>\n",
       "      <td>Technology’s role for achieving creativity, di...</td>\n",
       "      <td>[technology, role, achieve, creativity, divers...</td>\n",
       "      <td>-5.07</td>\n",
       "      <td>-1.29</td>\n",
       "      <td>1.74</td>\n",
       "      <td>2</td>\n",
       "    </tr>\n",
       "    <tr>\n",
       "      <th>93</th>\n",
       "      <td>490</td>\n",
       "      <td>Geriatrician-Led Patient Safety Rounds at the ...</td>\n",
       "      <td>This pilot project provides a bedside teaching...</td>\n",
       "      <td>Bedside rounds; Geriatrics; Patient safety; Un...</td>\n",
       "      <td></td>\n",
       "      <td>cremers p.h.m. (2016)</td>\n",
       "      <td>&lt;table&gt;&lt;tr&gt;&lt;td&gt;Authors:&lt;/td&gt;&lt;td&gt;cremers p.h.m....</td>\n",
       "      <td>https://doi.org/10.1007/s10984-016-9209-6</td>\n",
       "      <td>-0.5960</td>\n",
       "      <td>-0.2505</td>\n",
       "      <td>2</td>\n",
       "      <td>{'Links': 1.0, 'Citations': 20.0, 'Norm. citat...</td>\n",
       "      <td>{'Pub. year': 2016.0, 'Citations': 20.0, 'Norm...</td>\n",
       "      <td>10.1007/s10984-016-9209-6</td>\n",
       "      <td>Geriatrician-Led Patient Safety Rounds at the ...</td>\n",
       "      <td>[geriatrician, led, patient, safety, rounds, b...</td>\n",
       "      <td>-3.57</td>\n",
       "      <td>-7.48</td>\n",
       "      <td>-2.97</td>\n",
       "      <td>2</td>\n",
       "    </tr>\n",
       "    <tr>\n",
       "      <th>95</th>\n",
       "      <td>503</td>\n",
       "      <td>Which variables predict teachers' diagnostic c...</td>\n",
       "      <td>Diagnosing is one of teachers' key competences...</td>\n",
       "      <td>competence; Diagnosing; knowledge; motivation;...</td>\n",
       "      <td></td>\n",
       "      <td>jerez o. (2016)</td>\n",
       "      <td>&lt;table&gt;&lt;tr&gt;&lt;td&gt;Authors:&lt;/td&gt;&lt;td&gt;jerez o.; vale...</td>\n",
       "      <td>https://doi.org/10.1080/13540602.2015.1082728</td>\n",
       "      <td>-0.8470</td>\n",
       "      <td>-0.1353</td>\n",
       "      <td>2</td>\n",
       "      <td>{'Links': 1.0, 'Citations': 4.0, 'Norm. citati...</td>\n",
       "      <td>{'Pub. year': 2016.0, 'Citations': 4.0, 'Norm....</td>\n",
       "      <td>10.1080/13540602.2015.1082728</td>\n",
       "      <td>Which variables predict teachers' diagnostic c...</td>\n",
       "      <td>[variable, predict, teacher, diagnostic, compe...</td>\n",
       "      <td>-11.01</td>\n",
       "      <td>4.64</td>\n",
       "      <td>-4.38</td>\n",
       "      <td>1</td>\n",
       "    </tr>\n",
       "    <tr>\n",
       "      <th>96</th>\n",
       "      <td>506</td>\n",
       "      <td>Are There 'Honorable Merchants' in Internation...</td>\n",
       "      <td>The starting points of this initial explorator...</td>\n",
       "      <td></td>\n",
       "      <td></td>\n",
       "      <td>wijnia l. (2016)</td>\n",
       "      <td>&lt;table&gt;&lt;tr&gt;&lt;td&gt;Authors:&lt;/td&gt;&lt;td&gt;wijnia l.; kun...</td>\n",
       "      <td>https://doi.org/10.1016/j.tate.2016.02.006</td>\n",
       "      <td>-0.7496</td>\n",
       "      <td>-0.1618</td>\n",
       "      <td>2</td>\n",
       "      <td>{'Links': 11.0, 'Citations': 23.0, 'Norm. cita...</td>\n",
       "      <td>{'Pub. year': 2016.0, 'Citations': 23.0, 'Norm...</td>\n",
       "      <td>10.1016/j.tate.2016.02.006</td>\n",
       "      <td>Are There 'Honorable Merchants' in Internation...</td>\n",
       "      <td>[honorable, merchants, international, marketin...</td>\n",
       "      <td>-4.15</td>\n",
       "      <td>-0.57</td>\n",
       "      <td>0.61</td>\n",
       "      <td>2</td>\n",
       "    </tr>\n",
       "    <tr>\n",
       "      <th>98</th>\n",
       "      <td>519</td>\n",
       "      <td>Learning portfolio in translator training: The...</td>\n",
       "      <td>This article presents a practical example of t...</td>\n",
       "      <td>Assessment; Competence assessment; Competence-...</td>\n",
       "      <td></td>\n",
       "      <td>nikitina n.i. (2016)</td>\n",
       "      <td>&lt;table&gt;&lt;tr&gt;&lt;td&gt;Authors:&lt;/td&gt;&lt;td&gt;nikitina n.i.;...</td>\n",
       "      <td></td>\n",
       "      <td>-0.9343</td>\n",
       "      <td>0.1007</td>\n",
       "      <td>2</td>\n",
       "      <td>{'Links': 1.0, 'Citations': 0.0, 'Norm. citati...</td>\n",
       "      <td>{'Pub. year': 2016.0, 'Citations': 0.0, 'Norm....</td>\n",
       "      <td></td>\n",
       "      <td>Learning portfolio in translator training: The...</td>\n",
       "      <td>[learning, portfolio, translator, training, to...</td>\n",
       "      <td>-5.72</td>\n",
       "      <td>2.57</td>\n",
       "      <td>-3.22</td>\n",
       "      <td>1</td>\n",
       "    </tr>\n",
       "    <tr>\n",
       "      <th>102</th>\n",
       "      <td>544</td>\n",
       "      <td>A phenomenographic analysis of the implementat...</td>\n",
       "      <td>After one decade of Competence-Based Education...</td>\n",
       "      <td>Assessment; Competence-based education; Higher...</td>\n",
       "      <td></td>\n",
       "      <td>misbah z. (2015)</td>\n",
       "      <td>&lt;table&gt;&lt;tr&gt;&lt;td&gt;Authors:&lt;/td&gt;&lt;td&gt;misbah z.; gul...</td>\n",
       "      <td>https://doi.org/10.1016/j.tate.2015.04.007</td>\n",
       "      <td>-0.7552</td>\n",
       "      <td>-0.2256</td>\n",
       "      <td>2</td>\n",
       "      <td>{'Links': 11.0, 'Citations': 34.0, 'Norm. cita...</td>\n",
       "      <td>{'Pub. year': 2015.0, 'Citations': 34.0, 'Norm...</td>\n",
       "      <td>10.1016/j.tate.2015.04.007</td>\n",
       "      <td>A phenomenographic analysis of the implementat...</td>\n",
       "      <td>[phenomenographic, analysis, implementation, c...</td>\n",
       "      <td>-5.70</td>\n",
       "      <td>3.84</td>\n",
       "      <td>-5.56</td>\n",
       "      <td>1</td>\n",
       "    </tr>\n",
       "    <tr>\n",
       "      <th>103</th>\n",
       "      <td>545</td>\n",
       "      <td>Transversal competences of university students...</td>\n",
       "      <td>One of the key changes of the European Higher ...</td>\n",
       "      <td>Competence based education; Engineering educat...</td>\n",
       "      <td></td>\n",
       "      <td>koenen a.-k. (2015)</td>\n",
       "      <td>&lt;table&gt;&lt;tr&gt;&lt;td&gt;Authors:&lt;/td&gt;&lt;td&gt;koenen a.-k.; ...</td>\n",
       "      <td>https://doi.org/10.1016/j.tate.2015.04.001</td>\n",
       "      <td>-0.4931</td>\n",
       "      <td>-0.0048</td>\n",
       "      <td>2</td>\n",
       "      <td>{'Links': 13.0, 'Citations': 48.0, 'Norm. cita...</td>\n",
       "      <td>{'Pub. year': 2015.0, 'Citations': 48.0, 'Norm...</td>\n",
       "      <td>10.1016/j.tate.2015.04.001</td>\n",
       "      <td>Transversal competences of university students...</td>\n",
       "      <td>[transversal, competence, university, student,...</td>\n",
       "      <td>-7.12</td>\n",
       "      <td>2.09</td>\n",
       "      <td>-0.32</td>\n",
       "      <td>1</td>\n",
       "    </tr>\n",
       "    <tr>\n",
       "      <th>107</th>\n",
       "      <td>553</td>\n",
       "      <td>Fostering the quality of teaching and learning...</td>\n",
       "      <td>For too long, the quality of teaching and lear...</td>\n",
       "      <td>Key competencies; Pedagogical training of acad...</td>\n",
       "      <td></td>\n",
       "      <td>nissilä s.-p. (2015)</td>\n",
       "      <td>&lt;table&gt;&lt;tr&gt;&lt;td&gt;Authors:&lt;/td&gt;&lt;td&gt;nissilä s.-p.;...</td>\n",
       "      <td></td>\n",
       "      <td>-1.0509</td>\n",
       "      <td>0.1303</td>\n",
       "      <td>2</td>\n",
       "      <td>{'Links': 1.0, 'Citations': 12.0, 'Norm. citat...</td>\n",
       "      <td>{'Pub. year': 2015.0, 'Citations': 12.0, 'Norm...</td>\n",
       "      <td></td>\n",
       "      <td>Fostering the quality of teaching and learning...</td>\n",
       "      <td>[foster, quality, teaching, learn, develop, \",...</td>\n",
       "      <td>-7.16</td>\n",
       "      <td>0.76</td>\n",
       "      <td>1.77</td>\n",
       "      <td>2</td>\n",
       "    </tr>\n",
       "    <tr>\n",
       "      <th>108</th>\n",
       "      <td>555</td>\n",
       "      <td>Shame: Does it have a place in an education fo...</td>\n",
       "      <td>Abstract: Shame, shame management and reintegr...</td>\n",
       "      <td>democratic citizenship; reintegrative shaming;...</td>\n",
       "      <td></td>\n",
       "      <td>van dinther m. (2015)</td>\n",
       "      <td>&lt;table&gt;&lt;tr&gt;&lt;td&gt;Authors:&lt;/td&gt;&lt;td&gt;van dinther m....</td>\n",
       "      <td>https://doi.org/10.1016/j.tate.2015.02.013</td>\n",
       "      <td>-1.0847</td>\n",
       "      <td>0.1061</td>\n",
       "      <td>2</td>\n",
       "      <td>{'Links': 3.0, 'Citations': 17.0, 'Norm. citat...</td>\n",
       "      <td>{'Pub. year': 2015.0, 'Citations': 17.0, 'Norm...</td>\n",
       "      <td>10.1016/j.tate.2015.02.013</td>\n",
       "      <td>Shame: Does it have a place in an education fo...</td>\n",
       "      <td>[shame, place, education, democratic, citizens...</td>\n",
       "      <td>-3.51</td>\n",
       "      <td>-0.01</td>\n",
       "      <td>0.28</td>\n",
       "      <td>2</td>\n",
       "    </tr>\n",
       "    <tr>\n",
       "      <th>111</th>\n",
       "      <td>567</td>\n",
       "      <td>Intentions to engage in evidence-based practic...</td>\n",
       "      <td>Knowledge and familiarity of evidence-based pr...</td>\n",
       "      <td>Evidence-based practice; Future intentions; So...</td>\n",
       "      <td>attention; behavior; evidence based practice c...</td>\n",
       "      <td>wesselink r. (2015)</td>\n",
       "      <td>&lt;table&gt;&lt;tr&gt;&lt;td&gt;Authors:&lt;/td&gt;&lt;td&gt;wesselink r.; ...</td>\n",
       "      <td>https://doi.org/10.6092/issn.1825-8670/5537</td>\n",
       "      <td>-0.9963</td>\n",
       "      <td>-0.3516</td>\n",
       "      <td>2</td>\n",
       "      <td>{'Links': 5.0, 'Citations': 2.0, 'Norm. citati...</td>\n",
       "      <td>{'Pub. year': 2015.0, 'Citations': 2.0, 'Norm....</td>\n",
       "      <td>10.6092/issn.1825-8670/5537</td>\n",
       "      <td>Intentions to engage in evidence-based practic...</td>\n",
       "      <td>[intention, engage, evidence, base, practice, ...</td>\n",
       "      <td>-6.31</td>\n",
       "      <td>-1.28</td>\n",
       "      <td>1.37</td>\n",
       "      <td>2</td>\n",
       "    </tr>\n",
       "    <tr>\n",
       "      <th>112</th>\n",
       "      <td>571</td>\n",
       "      <td>Validation of an ICT system supporting compete...</td>\n",
       "      <td>This paper aims to present the evaluation of e...</td>\n",
       "      <td>Evaluation of eLearning tools; Interactive e-b...</td>\n",
       "      <td></td>\n",
       "      <td>ronchetti m. (2015)</td>\n",
       "      <td>&lt;table&gt;&lt;tr&gt;&lt;td&gt;Authors:&lt;/td&gt;&lt;td&gt;ronchetti m.; ...</td>\n",
       "      <td>https://doi.org/10.6092/issn.1825-8670/5572</td>\n",
       "      <td>-1.0056</td>\n",
       "      <td>-0.2985</td>\n",
       "      <td>2</td>\n",
       "      <td>{'Links': 3.0, 'Citations': 3.0, 'Norm. citati...</td>\n",
       "      <td>{'Pub. year': 2015.0, 'Citations': 3.0, 'Norm....</td>\n",
       "      <td>10.6092/issn.1825-8670/5572</td>\n",
       "      <td>Validation of an ICT system supporting compete...</td>\n",
       "      <td>[validation, ict, system, support, competenc, ...</td>\n",
       "      <td>-5.00</td>\n",
       "      <td>2.31</td>\n",
       "      <td>-1.49</td>\n",
       "      <td>1</td>\n",
       "    </tr>\n",
       "    <tr>\n",
       "      <th>115</th>\n",
       "      <td>617</td>\n",
       "      <td>Learning for a sustainable economy: Teaching o...</td>\n",
       "      <td>This paper looks at universities as training c...</td>\n",
       "      <td>Competencies in sustainability; Curricular sus...</td>\n",
       "      <td>educational development; environmental indicat...</td>\n",
       "      <td>khaled a.e. (2014)</td>\n",
       "      <td>&lt;table&gt;&lt;tr&gt;&lt;td&gt;Authors:&lt;/td&gt;&lt;td&gt;khaled a.e.; g...</td>\n",
       "      <td>https://doi.org/10.1177/0734282914523913</td>\n",
       "      <td>-0.9192</td>\n",
       "      <td>-0.2605</td>\n",
       "      <td>2</td>\n",
       "      <td>{'Links': 3.0, 'Citations': 12.0, 'Norm. citat...</td>\n",
       "      <td>{'Pub. year': 2014.0, 'Citations': 12.0, 'Norm...</td>\n",
       "      <td>10.1177/0734282914523913</td>\n",
       "      <td>Learning for a sustainable economy: Teaching o...</td>\n",
       "      <td>[learn, sustainable, economy, teaching, green,...</td>\n",
       "      <td>-5.63</td>\n",
       "      <td>0.16</td>\n",
       "      <td>2.09</td>\n",
       "      <td>2</td>\n",
       "    </tr>\n",
       "    <tr>\n",
       "      <th>117</th>\n",
       "      <td>624</td>\n",
       "      <td>The Construction of a Reasoned Explanation of ...</td>\n",
       "      <td>Mobilizing scientific knowledge for understand...</td>\n",
       "      <td>Health education; Reasoning; Scientific literacy</td>\n",
       "      <td></td>\n",
       "      <td>van dinther m. (2014)</td>\n",
       "      <td>&lt;table&gt;&lt;tr&gt;&lt;td&gt;Authors:&lt;/td&gt;&lt;td&gt;van dinther m....</td>\n",
       "      <td>https://doi.org/10.1080/03055698.2014.898577</td>\n",
       "      <td>-1.0237</td>\n",
       "      <td>-0.0559</td>\n",
       "      <td>2</td>\n",
       "      <td>{'Links': 3.0, 'Citations': 21.0, 'Norm. citat...</td>\n",
       "      <td>{'Pub. year': 2014.0, 'Citations': 21.0, 'Norm...</td>\n",
       "      <td>10.1080/03055698.2014.898577</td>\n",
       "      <td>The Construction of a Reasoned Explanation of ...</td>\n",
       "      <td>[construction, reasoned, explanation, health, ...</td>\n",
       "      <td>-4.78</td>\n",
       "      <td>-3.46</td>\n",
       "      <td>4.11</td>\n",
       "      <td>2</td>\n",
       "    </tr>\n",
       "    <tr>\n",
       "      <th>118</th>\n",
       "      <td>628</td>\n",
       "      <td>On forming key competences within the ICT-supp...</td>\n",
       "      <td>The paper presents research results of the two...</td>\n",
       "      <td>Database systems; E-learning; ICT; It English;...</td>\n",
       "      <td></td>\n",
       "      <td>boahin p. (2014)</td>\n",
       "      <td>&lt;table&gt;&lt;tr&gt;&lt;td&gt;Authors:&lt;/td&gt;&lt;td&gt;boahin p.; hof...</td>\n",
       "      <td>https://doi.org/10.1016/j.ijedudev.2013.11.003</td>\n",
       "      <td>-0.9321</td>\n",
       "      <td>-0.4221</td>\n",
       "      <td>2</td>\n",
       "      <td>{'Links': 3.0, 'Citations': 26.0, 'Norm. citat...</td>\n",
       "      <td>{'Pub. year': 2014.0, 'Citations': 26.0, 'Norm...</td>\n",
       "      <td>10.1016/j.ijedudev.2013.11.003</td>\n",
       "      <td>On forming key competences within the ICT-supp...</td>\n",
       "      <td>[form, key, competence, ict, support, instruct...</td>\n",
       "      <td>-5.39</td>\n",
       "      <td>2.16</td>\n",
       "      <td>1.81</td>\n",
       "      <td>1</td>\n",
       "    </tr>\n",
       "    <tr>\n",
       "      <th>122</th>\n",
       "      <td>648</td>\n",
       "      <td>The relationship between perceived competence ...</td>\n",
       "      <td>We explored how two types of study outcomes, p...</td>\n",
       "      <td>deep approach to learning; earned credits; mot...</td>\n",
       "      <td></td>\n",
       "      <td>van dinther m. (2013)</td>\n",
       "      <td>&lt;table&gt;&lt;tr&gt;&lt;td&gt;Authors:&lt;/td&gt;&lt;td&gt;van dinther m....</td>\n",
       "      <td>https://doi.org/10.1016/j.stueduc.2013.05.001</td>\n",
       "      <td>-1.0850</td>\n",
       "      <td>0.1041</td>\n",
       "      <td>2</td>\n",
       "      <td>{'Links': 3.0, 'Citations': 17.0, 'Norm. citat...</td>\n",
       "      <td>{'Pub. year': 2013.0, 'Citations': 17.0, 'Norm...</td>\n",
       "      <td>10.1016/j.stueduc.2013.05.001</td>\n",
       "      <td>The relationship between perceived competence ...</td>\n",
       "      <td>[relationship, perceive, competence, earn, cre...</td>\n",
       "      <td>-6.11</td>\n",
       "      <td>1.72</td>\n",
       "      <td>-1.77</td>\n",
       "      <td>1</td>\n",
       "    </tr>\n",
       "    <tr>\n",
       "      <th>123</th>\n",
       "      <td>649</td>\n",
       "      <td>Emotion regulation and its implications for le...</td>\n",
       "      <td>This integrative review synthesizes research o...</td>\n",
       "      <td>Deep acting; Emotion regulation; Integrative r...</td>\n",
       "      <td></td>\n",
       "      <td>kamphorst j.c. (2013)</td>\n",
       "      <td>&lt;table&gt;&lt;tr&gt;&lt;td&gt;Authors:&lt;/td&gt;&lt;td&gt;kamphorst j.c....</td>\n",
       "      <td>https://doi.org/10.1080/02602938.2012.680015</td>\n",
       "      <td>-0.9213</td>\n",
       "      <td>-0.3869</td>\n",
       "      <td>2</td>\n",
       "      <td>{'Links': 1.0, 'Citations': 12.0, 'Norm. citat...</td>\n",
       "      <td>{'Pub. year': 2013.0, 'Citations': 12.0, 'Norm...</td>\n",
       "      <td>10.1080/02602938.2012.680015</td>\n",
       "      <td>Emotion regulation and its implications for le...</td>\n",
       "      <td>[emotion, regulation, implication, leadership,...</td>\n",
       "      <td>-2.18</td>\n",
       "      <td>-1.33</td>\n",
       "      <td>0.15</td>\n",
       "      <td>2</td>\n",
       "    </tr>\n",
       "    <tr>\n",
       "      <th>125</th>\n",
       "      <td>653</td>\n",
       "      <td>The use of computers in preschools in Chile: L...</td>\n",
       "      <td>This paper presents the results of survey of t...</td>\n",
       "      <td>Computers in preschools; Computers use in the ...</td>\n",
       "      <td>Education policies; Educational software; ICT ...</td>\n",
       "      <td>runhaar p. (2013)</td>\n",
       "      <td>&lt;table&gt;&lt;tr&gt;&lt;td&gt;Authors:&lt;/td&gt;&lt;td&gt;runhaar p.; sa...</td>\n",
       "      <td>https://doi.org/10.1080/13636820.2013.783612</td>\n",
       "      <td>-0.9924</td>\n",
       "      <td>-0.3349</td>\n",
       "      <td>2</td>\n",
       "      <td>{'Links': 2.0, 'Citations': 15.0, 'Norm. citat...</td>\n",
       "      <td>{'Pub. year': 2013.0, 'Citations': 15.0, 'Norm...</td>\n",
       "      <td>10.1080/13636820.2013.783612</td>\n",
       "      <td>The use of computers in preschools in Chile: L...</td>\n",
       "      <td>[use, computer, preschool, chile, lesson, prac...</td>\n",
       "      <td>-9.44</td>\n",
       "      <td>2.34</td>\n",
       "      <td>3.19</td>\n",
       "      <td>2</td>\n",
       "    </tr>\n",
       "    <tr>\n",
       "      <th>133</th>\n",
       "      <td>676</td>\n",
       "      <td>The epistemological fog in realising learning ...</td>\n",
       "      <td>The European Union is concerned about the econ...</td>\n",
       "      <td></td>\n",
       "      <td></td>\n",
       "      <td>truijen k.j.p. (2013)</td>\n",
       "      <td>&lt;table&gt;&lt;tr&gt;&lt;td&gt;Authors:&lt;/td&gt;&lt;td&gt;truijen k.j.p....</td>\n",
       "      <td>https://doi.org/10.1108/13665621311288485</td>\n",
       "      <td>-0.9755</td>\n",
       "      <td>-0.2384</td>\n",
       "      <td>2</td>\n",
       "      <td>{'Links': 2.0, 'Citations': 21.0, 'Norm. citat...</td>\n",
       "      <td>{'Pub. year': 2013.0, 'Citations': 21.0, 'Norm...</td>\n",
       "      <td>10.1108/13665621311288485</td>\n",
       "      <td>The epistemological fog in realising learning ...</td>\n",
       "      <td>[epistemological, fog, realise, learn, learn, ...</td>\n",
       "      <td>-5.30</td>\n",
       "      <td>1.54</td>\n",
       "      <td>-0.69</td>\n",
       "      <td>1</td>\n",
       "    </tr>\n",
       "    <tr>\n",
       "      <th>135</th>\n",
       "      <td>683</td>\n",
       "      <td>Factors of problem-solving competency in a vir...</td>\n",
       "      <td>The ability to solve complex scientific proble...</td>\n",
       "      <td>Assessment; Complex problem solving; Interacti...</td>\n",
       "      <td>Assessment; Complex problem solving; Confirmat...</td>\n",
       "      <td>de bruijn e. (2012)</td>\n",
       "      <td>&lt;table&gt;&lt;tr&gt;&lt;td&gt;Authors:&lt;/td&gt;&lt;td&gt;de bruijn e.&lt;/...</td>\n",
       "      <td>https://doi.org/10.1080/13540602.2012.746499</td>\n",
       "      <td>-0.9589</td>\n",
       "      <td>-0.3788</td>\n",
       "      <td>2</td>\n",
       "      <td>{'Links': 6.0, 'Citations': 30.0, 'Norm. citat...</td>\n",
       "      <td>{'Pub. year': 2012.0, 'Citations': 30.0, 'Norm...</td>\n",
       "      <td>10.1080/13540602.2012.746499</td>\n",
       "      <td>Factors of problem-solving competency in a vir...</td>\n",
       "      <td>[factor, problem, solve, competency, virtual, ...</td>\n",
       "      <td>-8.21</td>\n",
       "      <td>0.53</td>\n",
       "      <td>6.20</td>\n",
       "      <td>2</td>\n",
       "    </tr>\n",
       "    <tr>\n",
       "      <th>136</th>\n",
       "      <td>696</td>\n",
       "      <td>Competence-based Education and Training-About ...</td>\n",
       "      <td></td>\n",
       "      <td></td>\n",
       "      <td></td>\n",
       "      <td>winters a. (2012)</td>\n",
       "      <td>&lt;table&gt;&lt;tr&gt;&lt;td&gt;Authors:&lt;/td&gt;&lt;td&gt;winters a.; me...</td>\n",
       "      <td>https://doi.org/10.1080/13636820.2012.691536</td>\n",
       "      <td>-0.9574</td>\n",
       "      <td>-0.1056</td>\n",
       "      <td>2</td>\n",
       "      <td>{'Links': 2.0, 'Citations': 6.0, 'Norm. citati...</td>\n",
       "      <td>{'Pub. year': 2012.0, 'Citations': 6.0, 'Norm....</td>\n",
       "      <td>10.1080/13636820.2012.691536</td>\n",
       "      <td>Competence-based Education and Training-About ...</td>\n",
       "      <td>[competence, base, education, training, freque...</td>\n",
       "      <td>-0.64</td>\n",
       "      <td>0.14</td>\n",
       "      <td>-0.90</td>\n",
       "      <td>1</td>\n",
       "    </tr>\n",
       "    <tr>\n",
       "      <th>137</th>\n",
       "      <td>697</td>\n",
       "      <td>The explication of quality standards in self-e...</td>\n",
       "      <td>Education aiming at students' competence devel...</td>\n",
       "      <td>assessment; quality assurance; self-evaluation...</td>\n",
       "      <td></td>\n",
       "      <td>mulder m. (2012a)</td>\n",
       "      <td>&lt;table&gt;&lt;tr&gt;&lt;td&gt;Authors:&lt;/td&gt;&lt;td&gt;mulder m.&lt;/td&gt;...</td>\n",
       "      <td>https://doi.org/10.1080/1389224x.2012.692527</td>\n",
       "      <td>-0.9875</td>\n",
       "      <td>-0.1978</td>\n",
       "      <td>2</td>\n",
       "      <td>{'Links': 2.0, 'Citations': 7.0, 'Norm. citati...</td>\n",
       "      <td>{'Pub. year': 2012.0, 'Citations': 7.0, 'Norm....</td>\n",
       "      <td>10.1080/1389224x.2012.692527</td>\n",
       "      <td>The explication of quality standards in self-e...</td>\n",
       "      <td>[explication, quality, standard, self, evaluat...</td>\n",
       "      <td>-4.53</td>\n",
       "      <td>0.66</td>\n",
       "      <td>-2.76</td>\n",
       "      <td>1</td>\n",
       "    </tr>\n",
       "    <tr>\n",
       "      <th>139</th>\n",
       "      <td>700</td>\n",
       "      <td>The chances of people with disabilities for co...</td>\n",
       "      <td>One of the main objectives focusing on the sub...</td>\n",
       "      <td>Disability; Key competences; Professional inse...</td>\n",
       "      <td></td>\n",
       "      <td>mulder m. (2012b)</td>\n",
       "      <td>&lt;table&gt;&lt;tr&gt;&lt;td&gt;Authors:&lt;/td&gt;&lt;td&gt;mulder m.&lt;/td&gt;...</td>\n",
       "      <td>https://doi.org/10.1080/1389224x.2012.670048</td>\n",
       "      <td>-0.4768</td>\n",
       "      <td>-0.0503</td>\n",
       "      <td>2</td>\n",
       "      <td>{'Links': 6.0, 'Citations': 31.0, 'Norm. citat...</td>\n",
       "      <td>{'Pub. year': 2012.0, 'Citations': 31.0, 'Norm...</td>\n",
       "      <td>10.1080/1389224x.2012.670048</td>\n",
       "      <td>The chances of people with disabilities for co...</td>\n",
       "      <td>[chance, people, disability, continue, educati...</td>\n",
       "      <td>-2.52</td>\n",
       "      <td>-0.53</td>\n",
       "      <td>0.13</td>\n",
       "      <td>2</td>\n",
       "    </tr>\n",
       "    <tr>\n",
       "      <th>140</th>\n",
       "      <td>704</td>\n",
       "      <td>Competency development in business graduates: ...</td>\n",
       "      <td>The paper proposes a conceptual framework and ...</td>\n",
       "      <td>Competency assessment; Industry requirements; ...</td>\n",
       "      <td></td>\n",
       "      <td>malone k. (2012)</td>\n",
       "      <td>&lt;table&gt;&lt;tr&gt;&lt;td&gt;Authors:&lt;/td&gt;&lt;td&gt;malone k.; sup...</td>\n",
       "      <td>https://doi.org/10.1007/s10459-010-9247-2</td>\n",
       "      <td>-0.7305</td>\n",
       "      <td>0.0250</td>\n",
       "      <td>2</td>\n",
       "      <td>{'Links': 2.0, 'Citations': 59.0, 'Norm. citat...</td>\n",
       "      <td>{'Pub. year': 2012.0, 'Citations': 59.0, 'Norm...</td>\n",
       "      <td>10.1007/s10459-010-9247-2</td>\n",
       "      <td>Competency development in business graduates: ...</td>\n",
       "      <td>[competency, development, business, graduate, ...</td>\n",
       "      <td>-4.99</td>\n",
       "      <td>-0.89</td>\n",
       "      <td>1.14</td>\n",
       "      <td>2</td>\n",
       "    </tr>\n",
       "    <tr>\n",
       "      <th>144</th>\n",
       "      <td>726</td>\n",
       "      <td>Medical education in Sweden</td>\n",
       "      <td>Undergraduate medical education in Sweden has ...</td>\n",
       "      <td></td>\n",
       "      <td>article; curriculum; educational model; educat...</td>\n",
       "      <td>koopman m. (2011)</td>\n",
       "      <td>&lt;table&gt;&lt;tr&gt;&lt;td&gt;Authors:&lt;/td&gt;&lt;td&gt;koopman m.; te...</td>\n",
       "      <td>https://doi.org/10.1007/s10984-011-9092-0</td>\n",
       "      <td>-0.8627</td>\n",
       "      <td>-0.3409</td>\n",
       "      <td>2</td>\n",
       "      <td>{'Links': 3.0, 'Citations': 12.0, 'Norm. citat...</td>\n",
       "      <td>{'Pub. year': 2011.0, 'Citations': 12.0, 'Norm...</td>\n",
       "      <td>10.1007/s10984-011-9092-0</td>\n",
       "      <td>Medical education in Sweden. Undergraduate med...</td>\n",
       "      <td>[medical, education, sweden, undergraduate, me...</td>\n",
       "      <td>-9.47</td>\n",
       "      <td>-15.39</td>\n",
       "      <td>-6.22</td>\n",
       "      <td>2</td>\n",
       "    </tr>\n",
       "    <tr>\n",
       "      <th>151</th>\n",
       "      <td>738</td>\n",
       "      <td>Fluidity in the networked society - Self-initi...</td>\n",
       "      <td>In the globalized economies e-permeation has b...</td>\n",
       "      <td>Design for teaching and learning; Elearning; L...</td>\n",
       "      <td></td>\n",
       "      <td>de bruijn e. (2011)</td>\n",
       "      <td>&lt;table&gt;&lt;tr&gt;&lt;td&gt;Authors:&lt;/td&gt;&lt;td&gt;de bruijn e.; ...</td>\n",
       "      <td>https://doi.org/10.1016/j.tate.2010.11.007</td>\n",
       "      <td>-1.0339</td>\n",
       "      <td>-0.2342</td>\n",
       "      <td>2</td>\n",
       "      <td>{'Links': 10.0, 'Citations': 98.0, 'Norm. cita...</td>\n",
       "      <td>{'Pub. year': 2011.0, 'Citations': 98.0, 'Norm...</td>\n",
       "      <td>10.1016/j.tate.2010.11.007</td>\n",
       "      <td>Fluidity in the networked society - Self-initi...</td>\n",
       "      <td>[fluidity, networked, society, self, initiate,...</td>\n",
       "      <td>-10.09</td>\n",
       "      <td>1.75</td>\n",
       "      <td>4.99</td>\n",
       "      <td>2</td>\n",
       "    </tr>\n",
       "    <tr>\n",
       "      <th>153</th>\n",
       "      <td>741</td>\n",
       "      <td>Are Fiji’S Government Commercial Companies in ...</td>\n",
       "      <td>Following the launch of Fiji’s public enterpri...</td>\n",
       "      <td></td>\n",
       "      <td></td>\n",
       "      <td>seezink a. (2011)</td>\n",
       "      <td>&lt;table&gt;&lt;tr&gt;&lt;td&gt;Authors:&lt;/td&gt;&lt;td&gt;seezink a.; po...</td>\n",
       "      <td>https://doi.org/10.1007/s12564-010-9115-z</td>\n",
       "      <td>-1.0443</td>\n",
       "      <td>-0.3005</td>\n",
       "      <td>2</td>\n",
       "      <td>{'Links': 4.0, 'Citations': 11.0, 'Norm. citat...</td>\n",
       "      <td>{'Pub. year': 2011.0, 'Citations': 11.0, 'Norm...</td>\n",
       "      <td>10.1007/s12564-010-9115-z</td>\n",
       "      <td>Are Fiji’S Government Commercial Companies in ...</td>\n",
       "      <td>[fiji, government, commercial, companies, comp...</td>\n",
       "      <td>-2.26</td>\n",
       "      <td>0.22</td>\n",
       "      <td>0.04</td>\n",
       "      <td>1</td>\n",
       "    </tr>\n",
       "    <tr>\n",
       "      <th>154</th>\n",
       "      <td>751</td>\n",
       "      <td>Competence-based teacher education: Illusion o...</td>\n",
       "      <td>Since 1998, the Flanders' educational governme...</td>\n",
       "      <td>Competence(s); Competency-based teacher educat...</td>\n",
       "      <td></td>\n",
       "      <td>wesselink r. (2010a)</td>\n",
       "      <td>&lt;table&gt;&lt;tr&gt;&lt;td&gt;Authors:&lt;/td&gt;&lt;td&gt;wesselink r.; ...</td>\n",
       "      <td>https://doi.org/10.1080/00220271003759249</td>\n",
       "      <td>-0.4383</td>\n",
       "      <td>-0.0908</td>\n",
       "      <td>2</td>\n",
       "      <td>{'Links': 16.0, 'Citations': 37.0, 'Norm. cita...</td>\n",
       "      <td>{'Pub. year': 2010.0, 'Citations': 37.0, 'Norm...</td>\n",
       "      <td>10.1080/00220271003759249</td>\n",
       "      <td>Competence-based teacher education: Illusion o...</td>\n",
       "      <td>[competence, base, teacher, education, illusio...</td>\n",
       "      <td>-14.50</td>\n",
       "      <td>7.72</td>\n",
       "      <td>-9.46</td>\n",
       "      <td>1</td>\n",
       "    </tr>\n",
       "    <tr>\n",
       "      <th>155</th>\n",
       "      <td>752</td>\n",
       "      <td>Key competences for lifelong learning: The cas...</td>\n",
       "      <td>This study aims to determine the level of pros...</td>\n",
       "      <td>Lifelong learning; Prospective teacher; Teache...</td>\n",
       "      <td></td>\n",
       "      <td>struyven k. (2010)</td>\n",
       "      <td>&lt;table&gt;&lt;tr&gt;&lt;td&gt;Authors:&lt;/td&gt;&lt;td&gt;struyven k.; d...</td>\n",
       "      <td>https://doi.org/10.1016/j.tate.2010.05.006</td>\n",
       "      <td>-0.8302</td>\n",
       "      <td>0.0762</td>\n",
       "      <td>2</td>\n",
       "      <td>{'Links': 10.0, 'Citations': 58.0, 'Norm. cita...</td>\n",
       "      <td>{'Pub. year': 2010.0, 'Citations': 58.0, 'Norm...</td>\n",
       "      <td>10.1016/j.tate.2010.05.006</td>\n",
       "      <td>Key competences for lifelong learning: The cas...</td>\n",
       "      <td>[key, competence, lifelong, learning, case, pr...</td>\n",
       "      <td>-6.06</td>\n",
       "      <td>3.15</td>\n",
       "      <td>-1.01</td>\n",
       "      <td>1</td>\n",
       "    </tr>\n",
       "    <tr>\n",
       "      <th>157</th>\n",
       "      <td>763</td>\n",
       "      <td>Climate change: What competencies and which me...</td>\n",
       "      <td>Background. Much research has been devoted to ...</td>\n",
       "      <td></td>\n",
       "      <td>article; attitude to health; climate change; c...</td>\n",
       "      <td>seezink a. (2010)</td>\n",
       "      <td>&lt;table&gt;&lt;tr&gt;&lt;td&gt;Authors:&lt;/td&gt;&lt;td&gt;seezink a.; po...</td>\n",
       "      <td>https://doi.org/10.1108/03090591011049819</td>\n",
       "      <td>-0.9547</td>\n",
       "      <td>-0.3482</td>\n",
       "      <td>2</td>\n",
       "      <td>{'Links': 7.0, 'Citations': 15.0, 'Norm. citat...</td>\n",
       "      <td>{'Pub. year': 2010.0, 'Citations': 15.0, 'Norm...</td>\n",
       "      <td>10.1108/03090591011049819</td>\n",
       "      <td>Climate change: What competencies and which me...</td>\n",
       "      <td>[climate, change, competency, medical, educati...</td>\n",
       "      <td>-12.12</td>\n",
       "      <td>-20.84</td>\n",
       "      <td>-7.78</td>\n",
       "      <td>2</td>\n",
       "    </tr>\n",
       "    <tr>\n",
       "      <th>159</th>\n",
       "      <td>774</td>\n",
       "      <td>Using avatars and virtual environments in lear...</td>\n",
       "      <td>This paper explores and discusses arguments fo...</td>\n",
       "      <td></td>\n",
       "      <td>Authoring program; Communication medium; Commu...</td>\n",
       "      <td>wesselink r. (2010b)</td>\n",
       "      <td>&lt;table&gt;&lt;tr&gt;&lt;td&gt;Authors:&lt;/td&gt;&lt;td&gt;wesselink r.; ...</td>\n",
       "      <td>https://doi.org/10.1007/s12186-009-9027-4</td>\n",
       "      <td>-0.7525</td>\n",
       "      <td>-0.1167</td>\n",
       "      <td>2</td>\n",
       "      <td>{'Links': 5.0, 'Citations': 49.0, 'Norm. citat...</td>\n",
       "      <td>{'Pub. year': 2010.0, 'Citations': 49.0, 'Norm...</td>\n",
       "      <td>10.1007/s12186-009-9027-4</td>\n",
       "      <td>Using avatars and virtual environments in lear...</td>\n",
       "      <td>[avatar, virtual, environment, learn, offer, p...</td>\n",
       "      <td>-7.53</td>\n",
       "      <td>0.37</td>\n",
       "      <td>6.77</td>\n",
       "      <td>2</td>\n",
       "    </tr>\n",
       "    <tr>\n",
       "      <th>163</th>\n",
       "      <td>796</td>\n",
       "      <td>Teachers’ individual action theories about com...</td>\n",
       "      <td>Dutch prevocational secondary schools are refo...</td>\n",
       "      <td>Cognitive apprenticeship; Individual action th...</td>\n",
       "      <td></td>\n",
       "      <td>winters a. (2009)</td>\n",
       "      <td>&lt;table&gt;&lt;tr&gt;&lt;td&gt;Authors:&lt;/td&gt;&lt;td&gt;winters a.; me...</td>\n",
       "      <td>https://doi.org/10.1080/13636820903194690</td>\n",
       "      <td>-0.7619</td>\n",
       "      <td>-0.0448</td>\n",
       "      <td>2</td>\n",
       "      <td>{'Links': 3.0, 'Citations': 29.0, 'Norm. citat...</td>\n",
       "      <td>{'Pub. year': 2009.0, 'Citations': 29.0, 'Norm...</td>\n",
       "      <td>10.1080/13636820903194690</td>\n",
       "      <td>Teachers’ individual action theories about com...</td>\n",
       "      <td>[teacher, ’, individual, action, theory, compe...</td>\n",
       "      <td>-8.30</td>\n",
       "      <td>5.39</td>\n",
       "      <td>-5.52</td>\n",
       "      <td>1</td>\n",
       "    </tr>\n",
       "    <tr>\n",
       "      <th>164</th>\n",
       "      <td>797</td>\n",
       "      <td>Towards competence-based VET: Dealing with the...</td>\n",
       "      <td>This article builds on a previous 2004 Journal...</td>\n",
       "      <td>Competence; Competence-based education; Vet; V...</td>\n",
       "      <td></td>\n",
       "      <td>seezink a. (2009)</td>\n",
       "      <td>&lt;table&gt;&lt;tr&gt;&lt;td&gt;Authors:&lt;/td&gt;&lt;td&gt;seezink a.; po...</td>\n",
       "      <td>https://doi.org/10.1080/13636820902904586</td>\n",
       "      <td>-1.2486</td>\n",
       "      <td>-0.3266</td>\n",
       "      <td>2</td>\n",
       "      <td>{'Links': 2.0, 'Citations': 10.0, 'Norm. citat...</td>\n",
       "      <td>{'Pub. year': 2009.0, 'Citations': 10.0, 'Norm...</td>\n",
       "      <td>10.1080/13636820902904586</td>\n",
       "      <td>Towards competence-based VET: Dealing with the...</td>\n",
       "      <td>[competence, base, vet, deal, pitfall, article...</td>\n",
       "      <td>-5.41</td>\n",
       "      <td>3.08</td>\n",
       "      <td>-5.06</td>\n",
       "      <td>1</td>\n",
       "    </tr>\n",
       "    <tr>\n",
       "      <th>165</th>\n",
       "      <td>798</td>\n",
       "      <td>Let's go work together: Introducing intercultu...</td>\n",
       "      <td>Modern societies are diverse, complex, and in ...</td>\n",
       "      <td>Hight education; Intercultural comeptencies; I...</td>\n",
       "      <td></td>\n",
       "      <td>biemans h. (2009)</td>\n",
       "      <td>&lt;table&gt;&lt;tr&gt;&lt;td&gt;Authors:&lt;/td&gt;&lt;td&gt;biemans h.; we...</td>\n",
       "      <td>https://doi.org/10.1080/13636820903194682</td>\n",
       "      <td>-0.7860</td>\n",
       "      <td>-0.1859</td>\n",
       "      <td>2</td>\n",
       "      <td>{'Links': 20.0, 'Citations': 75.0, 'Norm. cita...</td>\n",
       "      <td>{'Pub. year': 2009.0, 'Citations': 75.0, 'Norm...</td>\n",
       "      <td>10.1080/13636820903194682</td>\n",
       "      <td>Let's go work together: Introducing intercultu...</td>\n",
       "      <td>[let, work, introduce, intercultural, competen...</td>\n",
       "      <td>-4.32</td>\n",
       "      <td>0.36</td>\n",
       "      <td>1.27</td>\n",
       "      <td>2</td>\n",
       "    </tr>\n",
       "    <tr>\n",
       "      <th>172</th>\n",
       "      <td>829</td>\n",
       "      <td>Competence-based curriculum design for trainin...</td>\n",
       "      <td>This article situates the concept of translati...</td>\n",
       "      <td>Competence-based training; Curriculum design; ...</td>\n",
       "      <td></td>\n",
       "      <td>mulder m. (2007)</td>\n",
       "      <td>&lt;table&gt;&lt;tr&gt;&lt;td&gt;Authors:&lt;/td&gt;&lt;td&gt;mulder m.; wei...</td>\n",
       "      <td>https://doi.org/10.1080/13636820601145630</td>\n",
       "      <td>-0.7409</td>\n",
       "      <td>-0.2560</td>\n",
       "      <td>2</td>\n",
       "      <td>{'Links': 9.0, 'Citations': 87.0, 'Norm. citat...</td>\n",
       "      <td>{'Pub. year': 2007.0, 'Citations': 87.0, 'Norm...</td>\n",
       "      <td>10.1080/13636820601145630</td>\n",
       "      <td>Competence-based curriculum design for trainin...</td>\n",
       "      <td>[competence, base, curriculum, design, trainin...</td>\n",
       "      <td>-7.15</td>\n",
       "      <td>2.41</td>\n",
       "      <td>-3.10</td>\n",
       "      <td>1</td>\n",
       "    </tr>\n",
       "    <tr>\n",
       "      <th>174</th>\n",
       "      <td>847</td>\n",
       "      <td>Recognition of tacit skills and knowledge: Sus...</td>\n",
       "      <td>The part played by tacit skills and knowledge ...</td>\n",
       "      <td>Knowledge; Skills; Workplace learning</td>\n",
       "      <td></td>\n",
       "      <td>mansfield b. (2004)</td>\n",
       "      <td>&lt;table&gt;&lt;tr&gt;&lt;td&gt;Authors:&lt;/td&gt;&lt;td&gt;mansfield b.&lt;/...</td>\n",
       "      <td>https://doi.org/10.1108/03090590410527672</td>\n",
       "      <td>-1.0224</td>\n",
       "      <td>-0.2498</td>\n",
       "      <td>2</td>\n",
       "      <td>{'Links': 1.0, 'Citations': 49.0, 'Norm. citat...</td>\n",
       "      <td>{'Pub. year': 2004.0, 'Citations': 49.0, 'Norm...</td>\n",
       "      <td>10.1108/03090590410527672</td>\n",
       "      <td>Recognition of tacit skills and knowledge: Sus...</td>\n",
       "      <td>[recognition, tacit, skill, knowledge, sustain...</td>\n",
       "      <td>-3.25</td>\n",
       "      <td>0.30</td>\n",
       "      <td>3.38</td>\n",
       "      <td>2</td>\n",
       "    </tr>\n",
       "    <tr>\n",
       "      <th>175</th>\n",
       "      <td>849</td>\n",
       "      <td>Localizing a global discipline: Designing new ...</td>\n",
       "      <td>In order to be relevant and useful in a fragme...</td>\n",
       "      <td>Curriculum development; Developing country; In...</td>\n",
       "      <td>curriculum; developing world; educational deve...</td>\n",
       "      <td>biemans h. (2004)</td>\n",
       "      <td>&lt;table&gt;&lt;tr&gt;&lt;td&gt;Authors:&lt;/td&gt;&lt;td&gt;biemans h.; ni...</td>\n",
       "      <td>https://doi.org/10.1080/13636820400200268</td>\n",
       "      <td>-0.7465</td>\n",
       "      <td>-0.2184</td>\n",
       "      <td>2</td>\n",
       "      <td>{'Links': 26.0, 'Citations': 169.0, 'Norm. cit...</td>\n",
       "      <td>{'Pub. year': 2004.0, 'Citations': 169.0, 'Nor...</td>\n",
       "      <td>10.1080/13636820400200268</td>\n",
       "      <td>Localizing a global discipline: Designing new ...</td>\n",
       "      <td>[localize, global, discipline, design, new, pl...</td>\n",
       "      <td>-4.13</td>\n",
       "      <td>-0.20</td>\n",
       "      <td>1.88</td>\n",
       "      <td>2</td>\n",
       "    </tr>\n",
       "    <tr>\n",
       "      <th>176</th>\n",
       "      <td>852</td>\n",
       "      <td>The role of strategy and redundancy in diagnos...</td>\n",
       "      <td>Background: Diagnostic reasoning is a key comp...</td>\n",
       "      <td></td>\n",
       "      <td>article; clinical examination; clinical practi...</td>\n",
       "      <td>kosbab d.j. (2003)</td>\n",
       "      <td>&lt;table&gt;&lt;tr&gt;&lt;td&gt;Authors:&lt;/td&gt;&lt;td&gt;kosbab d.j.&lt;/t...</td>\n",
       "      <td>https://doi.org/10.1108/00400910310508919</td>\n",
       "      <td>-1.2938</td>\n",
       "      <td>-0.6528</td>\n",
       "      <td>2</td>\n",
       "      <td>{'Links': 1.0, 'Citations': 3.0, 'Norm. citati...</td>\n",
       "      <td>{'Pub. year': 2003.0, 'Citations': 3.0, 'Norm....</td>\n",
       "      <td>10.1108/00400910310508919</td>\n",
       "      <td>The role of strategy and redundancy in diagnos...</td>\n",
       "      <td>[role, strategy, redundancy, diagnostic, reaso...</td>\n",
       "      <td>-7.12</td>\n",
       "      <td>-9.07</td>\n",
       "      <td>-1.65</td>\n",
       "      <td>2</td>\n",
       "    </tr>\n",
       "    <tr>\n",
       "      <th>177</th>\n",
       "      <td>854</td>\n",
       "      <td>Re-Engineering Competency-Based Education thro...</td>\n",
       "      <td>Organizations and their clients have limited t...</td>\n",
       "      <td>competency-based education; educational techno...</td>\n",
       "      <td></td>\n",
       "      <td>matlay h. (2002)</td>\n",
       "      <td>&lt;table&gt;&lt;tr&gt;&lt;td&gt;Authors:&lt;/td&gt;&lt;td&gt;matlay h.; add...</td>\n",
       "      <td>https://doi.org/10.1108/00400910210441383</td>\n",
       "      <td>-1.1294</td>\n",
       "      <td>-0.5507</td>\n",
       "      <td>2</td>\n",
       "      <td>{'Links': 2.0, 'Citations': 8.0, 'Norm. citati...</td>\n",
       "      <td>{'Pub. year': 2002.0, 'Citations': 8.0, 'Norm....</td>\n",
       "      <td>10.1108/00400910210441383</td>\n",
       "      <td>Re-Engineering Competency-Based Education thro...</td>\n",
       "      <td>[engineering, competency, base, education, use...</td>\n",
       "      <td>-6.24</td>\n",
       "      <td>0.16</td>\n",
       "      <td>-0.14</td>\n",
       "      <td>1</td>\n",
       "    </tr>\n",
       "    <tr>\n",
       "      <th>179</th>\n",
       "      <td>872</td>\n",
       "      <td>Competing logics in the key competencies: A so...</td>\n",
       "      <td>There is worldwide contestation at the moment ...</td>\n",
       "      <td></td>\n",
       "      <td></td>\n",
       "      <td>lum g. (1999)</td>\n",
       "      <td>&lt;table&gt;&lt;tr&gt;&lt;td&gt;Authors:&lt;/td&gt;&lt;td&gt;lum g.&lt;/td&gt;&lt;/t...</td>\n",
       "      <td>https://doi.org/10.1111/1467-9752.00145</td>\n",
       "      <td>-0.9084</td>\n",
       "      <td>-0.3123</td>\n",
       "      <td>2</td>\n",
       "      <td>{'Links': 2.0, 'Citations': 35.0, 'Norm. citat...</td>\n",
       "      <td>{'Pub. year': 1999.0, 'Citations': 35.0, 'Norm...</td>\n",
       "      <td>10.1111/1467-9752.00145</td>\n",
       "      <td>Competing logics in the key competencies: A so...</td>\n",
       "      <td>[compete, logic, key, competency, sociological...</td>\n",
       "      <td>-2.49</td>\n",
       "      <td>0.01</td>\n",
       "      <td>-0.40</td>\n",
       "      <td>1</td>\n",
       "    </tr>\n",
       "    <tr>\n",
       "      <th>183</th>\n",
       "      <td>882</td>\n",
       "      <td>Film, adult learning and the prussian peacherino</td>\n",
       "      <td>This article will examine the design and deliv...</td>\n",
       "      <td></td>\n",
       "      <td></td>\n",
       "      <td>foot s. (1996)</td>\n",
       "      <td>&lt;table&gt;&lt;tr&gt;&lt;td&gt;Authors:&lt;/td&gt;&lt;td&gt;foot s.; meggi...</td>\n",
       "      <td>https://doi.org/10.1108/00400919610117380</td>\n",
       "      <td>-1.1517</td>\n",
       "      <td>-0.4479</td>\n",
       "      <td>2</td>\n",
       "      <td>{'Links': 1.0, 'Citations': 4.0, 'Norm. citati...</td>\n",
       "      <td>{'Pub. year': 1996.0, 'Citations': 4.0, 'Norm....</td>\n",
       "      <td>10.1108/00400919610117380</td>\n",
       "      <td>Film, adult learning and the prussian peacheri...</td>\n",
       "      <td>[film, adult, learning, prussian, peacherino, ...</td>\n",
       "      <td>-4.51</td>\n",
       "      <td>0.83</td>\n",
       "      <td>-0.68</td>\n",
       "      <td>1</td>\n",
       "    </tr>\n",
       "    <tr>\n",
       "      <th>186</th>\n",
       "      <td>901</td>\n",
       "      <td>Professional Development and Competence-based ...</td>\n",
       "      <td>The rapid expansion of competence-based educat...</td>\n",
       "      <td></td>\n",
       "      <td></td>\n",
       "      <td>everwijn s.e.m. (1993)</td>\n",
       "      <td>&lt;table&gt;&lt;tr&gt;&lt;td&gt;Authors:&lt;/td&gt;&lt;td&gt;everwijn s.e.m...</td>\n",
       "      <td>https://doi.org/10.1007/bf01383845</td>\n",
       "      <td>-0.7519</td>\n",
       "      <td>0.0568</td>\n",
       "      <td>2</td>\n",
       "      <td>{'Links': 2.0, 'Citations': 24.0, 'Norm. citat...</td>\n",
       "      <td>{'Pub. year': 1993.0, 'Citations': 24.0, 'Norm...</td>\n",
       "      <td>10.1007/bf01383845</td>\n",
       "      <td>Professional Development and Competence-based ...</td>\n",
       "      <td>[professional, development, competence, base, ...</td>\n",
       "      <td>-4.12</td>\n",
       "      <td>1.68</td>\n",
       "      <td>-3.77</td>\n",
       "      <td>1</td>\n",
       "    </tr>\n",
       "  </tbody>\n",
       "</table>\n",
       "</div>"
      ],
      "text/plain": [
       "      id                                              Title  \\\n",
       "7     17  Practitioner competencies for working with ref...   \n",
       "12    35  How Key Competencies Progress across School Te...   \n",
       "14    57  Feasibility and acceptability of virtually coa...   \n",
       "17    64  Digital competence in higher education: Studen...   \n",
       "29   128  Botswana teachers: competencies perceived as i...   \n",
       "33   135  University graduates: Potential advantage or t...   \n",
       "37   161  The introduction of competence-based education...   \n",
       "49   219  Relationship between organizational climate an...   \n",
       "52   235  EFL teacher's integrated key competency cultiv...   \n",
       "57   263  Integrating 21st century competencies into a K...   \n",
       "58   277  Reflection on science competence-based curricu...   \n",
       "59   291  What Major “Socio-Scientific Topics” Should th...   \n",
       "63   315  Professional skills development for mathematic...   \n",
       "64   317  The development of teachers pedagogical compet...   \n",
       "65   326  How do pupils perceive educational robotics as...   \n",
       "71   360  Prediction model for the inclusion of key comp...   \n",
       "78   389  Technology’s role for achieving creativity, di...   \n",
       "93   490  Geriatrician-Led Patient Safety Rounds at the ...   \n",
       "95   503  Which variables predict teachers' diagnostic c...   \n",
       "96   506  Are There 'Honorable Merchants' in Internation...   \n",
       "98   519  Learning portfolio in translator training: The...   \n",
       "102  544  A phenomenographic analysis of the implementat...   \n",
       "103  545  Transversal competences of university students...   \n",
       "107  553  Fostering the quality of teaching and learning...   \n",
       "108  555  Shame: Does it have a place in an education fo...   \n",
       "111  567  Intentions to engage in evidence-based practic...   \n",
       "112  571  Validation of an ICT system supporting compete...   \n",
       "115  617  Learning for a sustainable economy: Teaching o...   \n",
       "117  624  The Construction of a Reasoned Explanation of ...   \n",
       "118  628  On forming key competences within the ICT-supp...   \n",
       "122  648  The relationship between perceived competence ...   \n",
       "123  649  Emotion regulation and its implications for le...   \n",
       "125  653  The use of computers in preschools in Chile: L...   \n",
       "133  676  The epistemological fog in realising learning ...   \n",
       "135  683  Factors of problem-solving competency in a vir...   \n",
       "136  696  Competence-based Education and Training-About ...   \n",
       "137  697  The explication of quality standards in self-e...   \n",
       "139  700  The chances of people with disabilities for co...   \n",
       "140  704  Competency development in business graduates: ...   \n",
       "144  726                        Medical education in Sweden   \n",
       "151  738  Fluidity in the networked society - Self-initi...   \n",
       "153  741  Are Fiji’S Government Commercial Companies in ...   \n",
       "154  751  Competence-based teacher education: Illusion o...   \n",
       "155  752  Key competences for lifelong learning: The cas...   \n",
       "157  763  Climate change: What competencies and which me...   \n",
       "159  774  Using avatars and virtual environments in lear...   \n",
       "163  796  Teachers’ individual action theories about com...   \n",
       "164  797  Towards competence-based VET: Dealing with the...   \n",
       "165  798  Let's go work together: Introducing intercultu...   \n",
       "172  829  Competence-based curriculum design for trainin...   \n",
       "174  847  Recognition of tacit skills and knowledge: Sus...   \n",
       "175  849  Localizing a global discipline: Designing new ...   \n",
       "176  852  The role of strategy and redundancy in diagnos...   \n",
       "177  854  Re-Engineering Competency-Based Education thro...   \n",
       "179  872  Competing logics in the key competencies: A so...   \n",
       "183  882   Film, adult learning and the prussian peacherino   \n",
       "186  901  Professional Development and Competence-based ...   \n",
       "\n",
       "                                              Abstract  \\\n",
       "7    Research indicates that refugee and asylum see...   \n",
       "12   The recent round of curriculum reform in China...   \n",
       "14   Background: Developing communication skills is...   \n",
       "17   University students are expected to have the a...   \n",
       "29   The implementation of inclusive education cont...   \n",
       "33   The objectives of the study, as presented in t...   \n",
       "37   In France, the notion of competence began to b...   \n",
       "49   Successfully developing a new product, service...   \n",
       "52   Teachers' professional development is a contin...   \n",
       "57   In recent decades, the term “competencies” has...   \n",
       "58   Based on the qualitative data gathered from th...   \n",
       "59   Science and technology play an important role ...   \n",
       "63   Purpose: The purpose of this paper is to descr...   \n",
       "64   Purpose: The ideas of integrity, unity, system...   \n",
       "65   In the past years, the use of educational robo...   \n",
       "71   The purposes of this paper were twofold: (a) t...   \n",
       "78   This article provides an overview of six years...   \n",
       "93   This pilot project provides a bedside teaching...   \n",
       "95   Diagnosing is one of teachers' key competences...   \n",
       "96   The starting points of this initial explorator...   \n",
       "98   This article presents a practical example of t...   \n",
       "102  After one decade of Competence-Based Education...   \n",
       "103  One of the key changes of the European Higher ...   \n",
       "107  For too long, the quality of teaching and lear...   \n",
       "108  Abstract: Shame, shame management and reintegr...   \n",
       "111  Knowledge and familiarity of evidence-based pr...   \n",
       "112  This paper aims to present the evaluation of e...   \n",
       "115  This paper looks at universities as training c...   \n",
       "117  Mobilizing scientific knowledge for understand...   \n",
       "118  The paper presents research results of the two...   \n",
       "122  We explored how two types of study outcomes, p...   \n",
       "123  This integrative review synthesizes research o...   \n",
       "125  This paper presents the results of survey of t...   \n",
       "133  The European Union is concerned about the econ...   \n",
       "135  The ability to solve complex scientific proble...   \n",
       "136                                                      \n",
       "137  Education aiming at students' competence devel...   \n",
       "139  One of the main objectives focusing on the sub...   \n",
       "140  The paper proposes a conceptual framework and ...   \n",
       "144  Undergraduate medical education in Sweden has ...   \n",
       "151  In the globalized economies e-permeation has b...   \n",
       "153  Following the launch of Fiji’s public enterpri...   \n",
       "154  Since 1998, the Flanders' educational governme...   \n",
       "155  This study aims to determine the level of pros...   \n",
       "157  Background. Much research has been devoted to ...   \n",
       "159  This paper explores and discusses arguments fo...   \n",
       "163  Dutch prevocational secondary schools are refo...   \n",
       "164  This article builds on a previous 2004 Journal...   \n",
       "165  Modern societies are diverse, complex, and in ...   \n",
       "172  This article situates the concept of translati...   \n",
       "174  The part played by tacit skills and knowledge ...   \n",
       "175  In order to be relevant and useful in a fragme...   \n",
       "176  Background: Diagnostic reasoning is a key comp...   \n",
       "177  Organizations and their clients have limited t...   \n",
       "179  There is worldwide contestation at the moment ...   \n",
       "183  This article will examine the design and deliv...   \n",
       "186  The rapid expansion of competence-based educat...   \n",
       "\n",
       "                                       Author Keywords  \\\n",
       "7    Children; competency; practitioner; refugee; y...   \n",
       "12   cognitive development; Geographic competency; ...   \n",
       "14   Communication skills; Resident curriculum; Res...   \n",
       "17   Digital competence; Higher education; ICT; Stu...   \n",
       "29   Botswana; inclusive education; teachers’ compe...   \n",
       "33   Employment and unemployment; Higher education;...   \n",
       "37   Competence; education reform; France; new publ...   \n",
       "49   Exploitation; Exploration; Innovation capabili...   \n",
       "52   EFL teacher; Integrated cultivation; Key compe...   \n",
       "57   21st century competencies; Competencies; curri...   \n",
       "58   Competence-based curriculum; reflection; scien...   \n",
       "59   Delphi method; Frontiers of science; Science c...   \n",
       "63   Employability; Graduate skills; Mathematics; M...   \n",
       "64   Key competences; Pedagogical activity; Pedagog...   \n",
       "65   Educational robotics; Gender; Key competences;...   \n",
       "71   Curriculum; Key competences; Professional deve...   \n",
       "78   Creative teaching scenarios; Diversity; Histor...   \n",
       "93   Bedside rounds; Geriatrics; Patient safety; Un...   \n",
       "95   competence; Diagnosing; knowledge; motivation;...   \n",
       "96                                                       \n",
       "98   Assessment; Competence assessment; Competence-...   \n",
       "102  Assessment; Competence-based education; Higher...   \n",
       "103  Competence based education; Engineering educat...   \n",
       "107  Key competencies; Pedagogical training of acad...   \n",
       "108  democratic citizenship; reintegrative shaming;...   \n",
       "111  Evidence-based practice; Future intentions; So...   \n",
       "112  Evaluation of eLearning tools; Interactive e-b...   \n",
       "115  Competencies in sustainability; Curricular sus...   \n",
       "117   Health education; Reasoning; Scientific literacy   \n",
       "118  Database systems; E-learning; ICT; It English;...   \n",
       "122  deep approach to learning; earned credits; mot...   \n",
       "123  Deep acting; Emotion regulation; Integrative r...   \n",
       "125  Computers in preschools; Computers use in the ...   \n",
       "133                                                      \n",
       "135  Assessment; Complex problem solving; Interacti...   \n",
       "136                                                      \n",
       "137  assessment; quality assurance; self-evaluation...   \n",
       "139  Disability; Key competences; Professional inse...   \n",
       "140  Competency assessment; Industry requirements; ...   \n",
       "144                                                      \n",
       "151  Design for teaching and learning; Elearning; L...   \n",
       "153                                                      \n",
       "154  Competence(s); Competency-based teacher educat...   \n",
       "155  Lifelong learning; Prospective teacher; Teache...   \n",
       "157                                                      \n",
       "159                                                      \n",
       "163  Cognitive apprenticeship; Individual action th...   \n",
       "164  Competence; Competence-based education; Vet; V...   \n",
       "165  Hight education; Intercultural comeptencies; I...   \n",
       "172  Competence-based training; Curriculum design; ...   \n",
       "174              Knowledge; Skills; Workplace learning   \n",
       "175  Curriculum development; Developing country; In...   \n",
       "176                                                      \n",
       "177  competency-based education; educational techno...   \n",
       "179                                                      \n",
       "183                                                      \n",
       "186                                                      \n",
       "\n",
       "                                        Index Keywords  \\\n",
       "7    asylum seeker; child; cultural competence; edu...   \n",
       "12                                                       \n",
       "14   feasibility study; human; interpersonal commun...   \n",
       "17   digital mapping; factor analysis; higher educa...   \n",
       "29                                                       \n",
       "33                                                       \n",
       "37   comparative study; curriculum; education refor...   \n",
       "49                                                       \n",
       "52                                                       \n",
       "57                                                       \n",
       "58                                                       \n",
       "59                                                       \n",
       "63                                                       \n",
       "64                                                       \n",
       "65                                                       \n",
       "71                                                       \n",
       "78                                                       \n",
       "93                                                       \n",
       "95                                                       \n",
       "96                                                       \n",
       "98                                                       \n",
       "102                                                      \n",
       "103                                                      \n",
       "107                                                      \n",
       "108                                                      \n",
       "111  attention; behavior; evidence based practice c...   \n",
       "112                                                      \n",
       "115  educational development; environmental indicat...   \n",
       "117                                                      \n",
       "118                                                      \n",
       "122                                                      \n",
       "123                                                      \n",
       "125  Education policies; Educational software; ICT ...   \n",
       "133                                                      \n",
       "135  Assessment; Complex problem solving; Confirmat...   \n",
       "136                                                      \n",
       "137                                                      \n",
       "139                                                      \n",
       "140                                                      \n",
       "144  article; curriculum; educational model; educat...   \n",
       "151                                                      \n",
       "153                                                      \n",
       "154                                                      \n",
       "155                                                      \n",
       "157  article; attitude to health; climate change; c...   \n",
       "159  Authoring program; Communication medium; Commu...   \n",
       "163                                                      \n",
       "164                                                      \n",
       "165                                                      \n",
       "172                                                      \n",
       "174                                                      \n",
       "175  curriculum; developing world; educational deve...   \n",
       "176  article; clinical examination; clinical practi...   \n",
       "177                                                      \n",
       "179                                                      \n",
       "183                                                      \n",
       "186                                                      \n",
       "\n",
       "                                label  \\\n",
       "7                nissilä s.-p. (2022)   \n",
       "12                tarekegne c. (2022)   \n",
       "14                    bükki e. (2021)   \n",
       "17                   brauer s. (2021)   \n",
       "29                   misbah z. (2021)   \n",
       "33                     chen p. (2021)   \n",
       "37        diego-mantecón j.-m. (2021)   \n",
       "49                  kepanen p. (2020)   \n",
       "52                  placklé i. (2020)   \n",
       "57   van griethuijsen r.a.l.f. (2020)   \n",
       "58                 virkkula e. (2020)   \n",
       "59                   misbah z. (2020)   \n",
       "63                saadvandi m. (2019)   \n",
       "64                   misbah z. (2019)   \n",
       "65                  escalié g. (2019)   \n",
       "71                    geitz g. (2019)   \n",
       "78                 morselli d. (2018)   \n",
       "93              cremers p.h.m. (2016)   \n",
       "95                    jerez o. (2016)   \n",
       "96                   wijnia l. (2016)   \n",
       "98               nikitina n.i. (2016)   \n",
       "102                  misbah z. (2015)   \n",
       "103               koenen a.-k. (2015)   \n",
       "107              nissilä s.-p. (2015)   \n",
       "108             van dinther m. (2015)   \n",
       "111               wesselink r. (2015)   \n",
       "112               ronchetti m. (2015)   \n",
       "115                khaled a.e. (2014)   \n",
       "117             van dinther m. (2014)   \n",
       "118                  boahin p. (2014)   \n",
       "122             van dinther m. (2013)   \n",
       "123             kamphorst j.c. (2013)   \n",
       "125                 runhaar p. (2013)   \n",
       "133             truijen k.j.p. (2013)   \n",
       "135               de bruijn e. (2012)   \n",
       "136                 winters a. (2012)   \n",
       "137                 mulder m. (2012a)   \n",
       "139                 mulder m. (2012b)   \n",
       "140                  malone k. (2012)   \n",
       "144                 koopman m. (2011)   \n",
       "151               de bruijn e. (2011)   \n",
       "153                 seezink a. (2011)   \n",
       "154              wesselink r. (2010a)   \n",
       "155                struyven k. (2010)   \n",
       "157                 seezink a. (2010)   \n",
       "159              wesselink r. (2010b)   \n",
       "163                 winters a. (2009)   \n",
       "164                 seezink a. (2009)   \n",
       "165                 biemans h. (2009)   \n",
       "172                  mulder m. (2007)   \n",
       "174               mansfield b. (2004)   \n",
       "175                 biemans h. (2004)   \n",
       "176                kosbab d.j. (2003)   \n",
       "177                  matlay h. (2002)   \n",
       "179                     lum g. (1999)   \n",
       "183                    foot s. (1996)   \n",
       "186            everwijn s.e.m. (1993)   \n",
       "\n",
       "                                           description  \\\n",
       "7    <table><tr><td>Authors:</td><td>nissilä s.-p.;...   \n",
       "12   <table><tr><td>Authors:</td><td>tarekegne c.; ...   \n",
       "14   <table><tr><td>Authors:</td><td>bükki e.; fehé...   \n",
       "17   <table><tr><td>Authors:</td><td>brauer s.</td>...   \n",
       "29   <table><tr><td>Authors:</td><td>misbah z.; gul...   \n",
       "33   <table><tr><td>Authors:</td><td>chen p.; gonch...   \n",
       "37   <table><tr><td>Authors:</td><td>diego-mantecón...   \n",
       "49   <table><tr><td>Authors:</td><td>kepanen p.; mä...   \n",
       "52   <table><tr><td>Authors:</td><td>placklé i.; kö...   \n",
       "57   <table><tr><td>Authors:</td><td>van griethuijs...   \n",
       "58   <table><tr><td>Authors:</td><td>virkkula e.</t...   \n",
       "59   <table><tr><td>Authors:</td><td>misbah z.; gul...   \n",
       "63   <table><tr><td>Authors:</td><td>saadvandi m.; ...   \n",
       "64   <table><tr><td>Authors:</td><td>misbah z.; gul...   \n",
       "65   <table><tr><td>Authors:</td><td>escalié g.; re...   \n",
       "71   <table><tr><td>Authors:</td><td>geitz g.; de g...   \n",
       "78   <table><tr><td>Authors:</td><td>morselli d.</t...   \n",
       "93   <table><tr><td>Authors:</td><td>cremers p.h.m....   \n",
       "95   <table><tr><td>Authors:</td><td>jerez o.; vale...   \n",
       "96   <table><tr><td>Authors:</td><td>wijnia l.; kun...   \n",
       "98   <table><tr><td>Authors:</td><td>nikitina n.i.;...   \n",
       "102  <table><tr><td>Authors:</td><td>misbah z.; gul...   \n",
       "103  <table><tr><td>Authors:</td><td>koenen a.-k.; ...   \n",
       "107  <table><tr><td>Authors:</td><td>nissilä s.-p.;...   \n",
       "108  <table><tr><td>Authors:</td><td>van dinther m....   \n",
       "111  <table><tr><td>Authors:</td><td>wesselink r.; ...   \n",
       "112  <table><tr><td>Authors:</td><td>ronchetti m.; ...   \n",
       "115  <table><tr><td>Authors:</td><td>khaled a.e.; g...   \n",
       "117  <table><tr><td>Authors:</td><td>van dinther m....   \n",
       "118  <table><tr><td>Authors:</td><td>boahin p.; hof...   \n",
       "122  <table><tr><td>Authors:</td><td>van dinther m....   \n",
       "123  <table><tr><td>Authors:</td><td>kamphorst j.c....   \n",
       "125  <table><tr><td>Authors:</td><td>runhaar p.; sa...   \n",
       "133  <table><tr><td>Authors:</td><td>truijen k.j.p....   \n",
       "135  <table><tr><td>Authors:</td><td>de bruijn e.</...   \n",
       "136  <table><tr><td>Authors:</td><td>winters a.; me...   \n",
       "137  <table><tr><td>Authors:</td><td>mulder m.</td>...   \n",
       "139  <table><tr><td>Authors:</td><td>mulder m.</td>...   \n",
       "140  <table><tr><td>Authors:</td><td>malone k.; sup...   \n",
       "144  <table><tr><td>Authors:</td><td>koopman m.; te...   \n",
       "151  <table><tr><td>Authors:</td><td>de bruijn e.; ...   \n",
       "153  <table><tr><td>Authors:</td><td>seezink a.; po...   \n",
       "154  <table><tr><td>Authors:</td><td>wesselink r.; ...   \n",
       "155  <table><tr><td>Authors:</td><td>struyven k.; d...   \n",
       "157  <table><tr><td>Authors:</td><td>seezink a.; po...   \n",
       "159  <table><tr><td>Authors:</td><td>wesselink r.; ...   \n",
       "163  <table><tr><td>Authors:</td><td>winters a.; me...   \n",
       "164  <table><tr><td>Authors:</td><td>seezink a.; po...   \n",
       "165  <table><tr><td>Authors:</td><td>biemans h.; we...   \n",
       "172  <table><tr><td>Authors:</td><td>mulder m.; wei...   \n",
       "174  <table><tr><td>Authors:</td><td>mansfield b.</...   \n",
       "175  <table><tr><td>Authors:</td><td>biemans h.; ni...   \n",
       "176  <table><tr><td>Authors:</td><td>kosbab d.j.</t...   \n",
       "177  <table><tr><td>Authors:</td><td>matlay h.; add...   \n",
       "179  <table><tr><td>Authors:</td><td>lum g.</td></t...   \n",
       "183  <table><tr><td>Authors:</td><td>foot s.; meggi...   \n",
       "186  <table><tr><td>Authors:</td><td>everwijn s.e.m...   \n",
       "\n",
       "                                                url       x       y  cluster  \\\n",
       "7          https://doi.org/10.12973/eu-jer.11.2.965 -1.1450 -0.4909        2   \n",
       "12               https://doi.org/10.1111/ijtd.12265 -0.6759 -0.2058        2   \n",
       "14       https://doi.org/10.1186/s40461-020-00108-6 -1.1471 -0.4880        2   \n",
       "17          https://doi.org/10.1108/et-07-2020-0216 -0.6495 -0.1055        2   \n",
       "29       https://doi.org/10.1007/s10984-021-09395-6 -0.9648 -0.3274        2   \n",
       "33            https://doi.org/10.13152/ijrvet.8.4.2 -0.6727 -0.2469        2   \n",
       "37              https://doi.org/10.3916/c66-2021-03 -1.1900 -0.4417        2   \n",
       "49       https://doi.org/10.1007/s42087-019-00080-y -0.7147 -0.2473        2   \n",
       "52    https://doi.org/10.1080/02619768.2019.1681965 -1.2584 -0.2865        2   \n",
       "57    https://doi.org/10.1080/13636820.2019.1644364 -0.7701 -0.1028        2   \n",
       "58    https://doi.org/10.1080/02619768.2020.1806229 -0.7517 -0.1505        2   \n",
       "59    https://doi.org/10.1080/13636820.2019.1635634 -0.8742 -0.3642        2   \n",
       "63    https://doi.org/10.1080/1389224x.2019.1627225 -0.6724 -0.1442        2   \n",
       "64        https://doi.org/10.1007/s10984-018-9276-y -0.6873 -0.2763        2   \n",
       "65    https://doi.org/10.1080/13573322.2017.1397507 -0.6033 -0.2425        2   \n",
       "71    https://doi.org/10.1080/2331186x.2019.1647919 -0.7328 -0.0142        2   \n",
       "78          https://doi.org/10.1108/et-03-2017-0046 -0.1982  0.0751        2   \n",
       "93        https://doi.org/10.1007/s10984-016-9209-6 -0.5960 -0.2505        2   \n",
       "95    https://doi.org/10.1080/13540602.2015.1082728 -0.8470 -0.1353        2   \n",
       "96       https://doi.org/10.1016/j.tate.2016.02.006 -0.7496 -0.1618        2   \n",
       "98                                                  -0.9343  0.1007        2   \n",
       "102      https://doi.org/10.1016/j.tate.2015.04.007 -0.7552 -0.2256        2   \n",
       "103      https://doi.org/10.1016/j.tate.2015.04.001 -0.4931 -0.0048        2   \n",
       "107                                                 -1.0509  0.1303        2   \n",
       "108      https://doi.org/10.1016/j.tate.2015.02.013 -1.0847  0.1061        2   \n",
       "111     https://doi.org/10.6092/issn.1825-8670/5537 -0.9963 -0.3516        2   \n",
       "112     https://doi.org/10.6092/issn.1825-8670/5572 -1.0056 -0.2985        2   \n",
       "115        https://doi.org/10.1177/0734282914523913 -0.9192 -0.2605        2   \n",
       "117    https://doi.org/10.1080/03055698.2014.898577 -1.0237 -0.0559        2   \n",
       "118  https://doi.org/10.1016/j.ijedudev.2013.11.003 -0.9321 -0.4221        2   \n",
       "122   https://doi.org/10.1016/j.stueduc.2013.05.001 -1.0850  0.1041        2   \n",
       "123    https://doi.org/10.1080/02602938.2012.680015 -0.9213 -0.3869        2   \n",
       "125    https://doi.org/10.1080/13636820.2013.783612 -0.9924 -0.3349        2   \n",
       "133       https://doi.org/10.1108/13665621311288485 -0.9755 -0.2384        2   \n",
       "135    https://doi.org/10.1080/13540602.2012.746499 -0.9589 -0.3788        2   \n",
       "136    https://doi.org/10.1080/13636820.2012.691536 -0.9574 -0.1056        2   \n",
       "137    https://doi.org/10.1080/1389224x.2012.692527 -0.9875 -0.1978        2   \n",
       "139    https://doi.org/10.1080/1389224x.2012.670048 -0.4768 -0.0503        2   \n",
       "140       https://doi.org/10.1007/s10459-010-9247-2 -0.7305  0.0250        2   \n",
       "144       https://doi.org/10.1007/s10984-011-9092-0 -0.8627 -0.3409        2   \n",
       "151      https://doi.org/10.1016/j.tate.2010.11.007 -1.0339 -0.2342        2   \n",
       "153       https://doi.org/10.1007/s12564-010-9115-z -1.0443 -0.3005        2   \n",
       "154       https://doi.org/10.1080/00220271003759249 -0.4383 -0.0908        2   \n",
       "155      https://doi.org/10.1016/j.tate.2010.05.006 -0.8302  0.0762        2   \n",
       "157       https://doi.org/10.1108/03090591011049819 -0.9547 -0.3482        2   \n",
       "159       https://doi.org/10.1007/s12186-009-9027-4 -0.7525 -0.1167        2   \n",
       "163       https://doi.org/10.1080/13636820903194690 -0.7619 -0.0448        2   \n",
       "164       https://doi.org/10.1080/13636820902904586 -1.2486 -0.3266        2   \n",
       "165       https://doi.org/10.1080/13636820903194682 -0.7860 -0.1859        2   \n",
       "172       https://doi.org/10.1080/13636820601145630 -0.7409 -0.2560        2   \n",
       "174       https://doi.org/10.1108/03090590410527672 -1.0224 -0.2498        2   \n",
       "175       https://doi.org/10.1080/13636820400200268 -0.7465 -0.2184        2   \n",
       "176       https://doi.org/10.1108/00400910310508919 -1.2938 -0.6528        2   \n",
       "177       https://doi.org/10.1108/00400910210441383 -1.1294 -0.5507        2   \n",
       "179         https://doi.org/10.1111/1467-9752.00145 -0.9084 -0.3123        2   \n",
       "183       https://doi.org/10.1108/00400919610117380 -1.1517 -0.4479        2   \n",
       "186              https://doi.org/10.1007/bf01383845 -0.7519  0.0568        2   \n",
       "\n",
       "                                               weights  \\\n",
       "7    {'Links': 1.0, 'Citations': 0.0, 'Norm. citati...   \n",
       "12   {'Links': 5.0, 'Citations': 0.0, 'Norm. citati...   \n",
       "14   {'Links': 1.0, 'Citations': 1.0, 'Norm. citati...   \n",
       "17   {'Links': 4.0, 'Citations': 1.0, 'Norm. citati...   \n",
       "29   {'Links': 2.0, 'Citations': 1.0, 'Norm. citati...   \n",
       "33   {'Links': 3.0, 'Citations': 1.0, 'Norm. citati...   \n",
       "37   {'Links': 1.0, 'Citations': 7.0, 'Norm. citati...   \n",
       "49   {'Links': 4.0, 'Citations': 0.0, 'Norm. citati...   \n",
       "52   {'Links': 1.0, 'Citations': 4.0, 'Norm. citati...   \n",
       "57   {'Links': 10.0, 'Citations': 5.0, 'Norm. citat...   \n",
       "58   {'Links': 10.0, 'Citations': 0.0, 'Norm. citat...   \n",
       "59   {'Links': 5.0, 'Citations': 5.0, 'Norm. citati...   \n",
       "63   {'Links': 4.0, 'Citations': 3.0, 'Norm. citati...   \n",
       "64   {'Links': 10.0, 'Citations': 4.0, 'Norm. citat...   \n",
       "65   {'Links': 1.0, 'Citations': 11.0, 'Norm. citat...   \n",
       "71   {'Links': 2.0, 'Citations': 5.0, 'Norm. citati...   \n",
       "78   {'Links': 4.0, 'Citations': 8.0, 'Norm. citati...   \n",
       "93   {'Links': 1.0, 'Citations': 20.0, 'Norm. citat...   \n",
       "95   {'Links': 1.0, 'Citations': 4.0, 'Norm. citati...   \n",
       "96   {'Links': 11.0, 'Citations': 23.0, 'Norm. cita...   \n",
       "98   {'Links': 1.0, 'Citations': 0.0, 'Norm. citati...   \n",
       "102  {'Links': 11.0, 'Citations': 34.0, 'Norm. cita...   \n",
       "103  {'Links': 13.0, 'Citations': 48.0, 'Norm. cita...   \n",
       "107  {'Links': 1.0, 'Citations': 12.0, 'Norm. citat...   \n",
       "108  {'Links': 3.0, 'Citations': 17.0, 'Norm. citat...   \n",
       "111  {'Links': 5.0, 'Citations': 2.0, 'Norm. citati...   \n",
       "112  {'Links': 3.0, 'Citations': 3.0, 'Norm. citati...   \n",
       "115  {'Links': 3.0, 'Citations': 12.0, 'Norm. citat...   \n",
       "117  {'Links': 3.0, 'Citations': 21.0, 'Norm. citat...   \n",
       "118  {'Links': 3.0, 'Citations': 26.0, 'Norm. citat...   \n",
       "122  {'Links': 3.0, 'Citations': 17.0, 'Norm. citat...   \n",
       "123  {'Links': 1.0, 'Citations': 12.0, 'Norm. citat...   \n",
       "125  {'Links': 2.0, 'Citations': 15.0, 'Norm. citat...   \n",
       "133  {'Links': 2.0, 'Citations': 21.0, 'Norm. citat...   \n",
       "135  {'Links': 6.0, 'Citations': 30.0, 'Norm. citat...   \n",
       "136  {'Links': 2.0, 'Citations': 6.0, 'Norm. citati...   \n",
       "137  {'Links': 2.0, 'Citations': 7.0, 'Norm. citati...   \n",
       "139  {'Links': 6.0, 'Citations': 31.0, 'Norm. citat...   \n",
       "140  {'Links': 2.0, 'Citations': 59.0, 'Norm. citat...   \n",
       "144  {'Links': 3.0, 'Citations': 12.0, 'Norm. citat...   \n",
       "151  {'Links': 10.0, 'Citations': 98.0, 'Norm. cita...   \n",
       "153  {'Links': 4.0, 'Citations': 11.0, 'Norm. citat...   \n",
       "154  {'Links': 16.0, 'Citations': 37.0, 'Norm. cita...   \n",
       "155  {'Links': 10.0, 'Citations': 58.0, 'Norm. cita...   \n",
       "157  {'Links': 7.0, 'Citations': 15.0, 'Norm. citat...   \n",
       "159  {'Links': 5.0, 'Citations': 49.0, 'Norm. citat...   \n",
       "163  {'Links': 3.0, 'Citations': 29.0, 'Norm. citat...   \n",
       "164  {'Links': 2.0, 'Citations': 10.0, 'Norm. citat...   \n",
       "165  {'Links': 20.0, 'Citations': 75.0, 'Norm. cita...   \n",
       "172  {'Links': 9.0, 'Citations': 87.0, 'Norm. citat...   \n",
       "174  {'Links': 1.0, 'Citations': 49.0, 'Norm. citat...   \n",
       "175  {'Links': 26.0, 'Citations': 169.0, 'Norm. cit...   \n",
       "176  {'Links': 1.0, 'Citations': 3.0, 'Norm. citati...   \n",
       "177  {'Links': 2.0, 'Citations': 8.0, 'Norm. citati...   \n",
       "179  {'Links': 2.0, 'Citations': 35.0, 'Norm. citat...   \n",
       "183  {'Links': 1.0, 'Citations': 4.0, 'Norm. citati...   \n",
       "186  {'Links': 2.0, 'Citations': 24.0, 'Norm. citat...   \n",
       "\n",
       "                                                scores  \\\n",
       "7    {'Pub. year': 2022.0, 'Citations': 0.0, 'Norm....   \n",
       "12   {'Pub. year': 2022.0, 'Citations': 0.0, 'Norm....   \n",
       "14   {'Pub. year': 2021.0, 'Citations': 1.0, 'Norm....   \n",
       "17   {'Pub. year': 2021.0, 'Citations': 1.0, 'Norm....   \n",
       "29   {'Pub. year': 2021.0, 'Citations': 1.0, 'Norm....   \n",
       "33   {'Pub. year': 2021.0, 'Citations': 1.0, 'Norm....   \n",
       "37   {'Pub. year': 2021.0, 'Citations': 7.0, 'Norm....   \n",
       "49   {'Pub. year': 2020.0, 'Citations': 0.0, 'Norm....   \n",
       "52   {'Pub. year': 2020.0, 'Citations': 4.0, 'Norm....   \n",
       "57   {'Pub. year': 2020.0, 'Citations': 5.0, 'Norm....   \n",
       "58   {'Pub. year': 2020.0, 'Citations': 0.0, 'Norm....   \n",
       "59   {'Pub. year': 2020.0, 'Citations': 5.0, 'Norm....   \n",
       "63   {'Pub. year': 2019.0, 'Citations': 3.0, 'Norm....   \n",
       "64   {'Pub. year': 2019.0, 'Citations': 4.0, 'Norm....   \n",
       "65   {'Pub. year': 2019.0, 'Citations': 11.0, 'Norm...   \n",
       "71   {'Pub. year': 2019.0, 'Citations': 5.0, 'Norm....   \n",
       "78   {'Pub. year': 2018.0, 'Citations': 8.0, 'Norm....   \n",
       "93   {'Pub. year': 2016.0, 'Citations': 20.0, 'Norm...   \n",
       "95   {'Pub. year': 2016.0, 'Citations': 4.0, 'Norm....   \n",
       "96   {'Pub. year': 2016.0, 'Citations': 23.0, 'Norm...   \n",
       "98   {'Pub. year': 2016.0, 'Citations': 0.0, 'Norm....   \n",
       "102  {'Pub. year': 2015.0, 'Citations': 34.0, 'Norm...   \n",
       "103  {'Pub. year': 2015.0, 'Citations': 48.0, 'Norm...   \n",
       "107  {'Pub. year': 2015.0, 'Citations': 12.0, 'Norm...   \n",
       "108  {'Pub. year': 2015.0, 'Citations': 17.0, 'Norm...   \n",
       "111  {'Pub. year': 2015.0, 'Citations': 2.0, 'Norm....   \n",
       "112  {'Pub. year': 2015.0, 'Citations': 3.0, 'Norm....   \n",
       "115  {'Pub. year': 2014.0, 'Citations': 12.0, 'Norm...   \n",
       "117  {'Pub. year': 2014.0, 'Citations': 21.0, 'Norm...   \n",
       "118  {'Pub. year': 2014.0, 'Citations': 26.0, 'Norm...   \n",
       "122  {'Pub. year': 2013.0, 'Citations': 17.0, 'Norm...   \n",
       "123  {'Pub. year': 2013.0, 'Citations': 12.0, 'Norm...   \n",
       "125  {'Pub. year': 2013.0, 'Citations': 15.0, 'Norm...   \n",
       "133  {'Pub. year': 2013.0, 'Citations': 21.0, 'Norm...   \n",
       "135  {'Pub. year': 2012.0, 'Citations': 30.0, 'Norm...   \n",
       "136  {'Pub. year': 2012.0, 'Citations': 6.0, 'Norm....   \n",
       "137  {'Pub. year': 2012.0, 'Citations': 7.0, 'Norm....   \n",
       "139  {'Pub. year': 2012.0, 'Citations': 31.0, 'Norm...   \n",
       "140  {'Pub. year': 2012.0, 'Citations': 59.0, 'Norm...   \n",
       "144  {'Pub. year': 2011.0, 'Citations': 12.0, 'Norm...   \n",
       "151  {'Pub. year': 2011.0, 'Citations': 98.0, 'Norm...   \n",
       "153  {'Pub. year': 2011.0, 'Citations': 11.0, 'Norm...   \n",
       "154  {'Pub. year': 2010.0, 'Citations': 37.0, 'Norm...   \n",
       "155  {'Pub. year': 2010.0, 'Citations': 58.0, 'Norm...   \n",
       "157  {'Pub. year': 2010.0, 'Citations': 15.0, 'Norm...   \n",
       "159  {'Pub. year': 2010.0, 'Citations': 49.0, 'Norm...   \n",
       "163  {'Pub. year': 2009.0, 'Citations': 29.0, 'Norm...   \n",
       "164  {'Pub. year': 2009.0, 'Citations': 10.0, 'Norm...   \n",
       "165  {'Pub. year': 2009.0, 'Citations': 75.0, 'Norm...   \n",
       "172  {'Pub. year': 2007.0, 'Citations': 87.0, 'Norm...   \n",
       "174  {'Pub. year': 2004.0, 'Citations': 49.0, 'Norm...   \n",
       "175  {'Pub. year': 2004.0, 'Citations': 169.0, 'Nor...   \n",
       "176  {'Pub. year': 2003.0, 'Citations': 3.0, 'Norm....   \n",
       "177  {'Pub. year': 2002.0, 'Citations': 8.0, 'Norm....   \n",
       "179  {'Pub. year': 1999.0, 'Citations': 35.0, 'Norm...   \n",
       "183  {'Pub. year': 1996.0, 'Citations': 4.0, 'Norm....   \n",
       "186  {'Pub. year': 1993.0, 'Citations': 24.0, 'Norm...   \n",
       "\n",
       "                                DOI  \\\n",
       "7          10.12973/eu-jer.11.2.965   \n",
       "12               10.1111/ijtd.12265   \n",
       "14       10.1186/s40461-020-00108-6   \n",
       "17          10.1108/et-07-2020-0216   \n",
       "29       10.1007/s10984-021-09395-6   \n",
       "33            10.13152/ijrvet.8.4.2   \n",
       "37              10.3916/c66-2021-03   \n",
       "49       10.1007/s42087-019-00080-y   \n",
       "52    10.1080/02619768.2019.1681965   \n",
       "57    10.1080/13636820.2019.1644364   \n",
       "58    10.1080/02619768.2020.1806229   \n",
       "59    10.1080/13636820.2019.1635634   \n",
       "63    10.1080/1389224x.2019.1627225   \n",
       "64        10.1007/s10984-018-9276-y   \n",
       "65    10.1080/13573322.2017.1397507   \n",
       "71    10.1080/2331186x.2019.1647919   \n",
       "78          10.1108/et-03-2017-0046   \n",
       "93        10.1007/s10984-016-9209-6   \n",
       "95    10.1080/13540602.2015.1082728   \n",
       "96       10.1016/j.tate.2016.02.006   \n",
       "98                                    \n",
       "102      10.1016/j.tate.2015.04.007   \n",
       "103      10.1016/j.tate.2015.04.001   \n",
       "107                                   \n",
       "108      10.1016/j.tate.2015.02.013   \n",
       "111     10.6092/issn.1825-8670/5537   \n",
       "112     10.6092/issn.1825-8670/5572   \n",
       "115        10.1177/0734282914523913   \n",
       "117    10.1080/03055698.2014.898577   \n",
       "118  10.1016/j.ijedudev.2013.11.003   \n",
       "122   10.1016/j.stueduc.2013.05.001   \n",
       "123    10.1080/02602938.2012.680015   \n",
       "125    10.1080/13636820.2013.783612   \n",
       "133       10.1108/13665621311288485   \n",
       "135    10.1080/13540602.2012.746499   \n",
       "136    10.1080/13636820.2012.691536   \n",
       "137    10.1080/1389224x.2012.692527   \n",
       "139    10.1080/1389224x.2012.670048   \n",
       "140       10.1007/s10459-010-9247-2   \n",
       "144       10.1007/s10984-011-9092-0   \n",
       "151      10.1016/j.tate.2010.11.007   \n",
       "153       10.1007/s12564-010-9115-z   \n",
       "154       10.1080/00220271003759249   \n",
       "155      10.1016/j.tate.2010.05.006   \n",
       "157       10.1108/03090591011049819   \n",
       "159       10.1007/s12186-009-9027-4   \n",
       "163       10.1080/13636820903194690   \n",
       "164       10.1080/13636820902904586   \n",
       "165       10.1080/13636820903194682   \n",
       "172       10.1080/13636820601145630   \n",
       "174       10.1108/03090590410527672   \n",
       "175       10.1080/13636820400200268   \n",
       "176       10.1108/00400910310508919   \n",
       "177       10.1108/00400910210441383   \n",
       "179         10.1111/1467-9752.00145   \n",
       "183       10.1108/00400919610117380   \n",
       "186              10.1007/bf01383845   \n",
       "\n",
       "                                                   doc  \\\n",
       "7    Practitioner competencies for working with ref...   \n",
       "12   How Key Competencies Progress across School Te...   \n",
       "14   Feasibility and acceptability of virtually coa...   \n",
       "17   Digital competence in higher education: Studen...   \n",
       "29   Botswana teachers: competencies perceived as i...   \n",
       "33   University graduates: Potential advantage or t...   \n",
       "37   The introduction of competence-based education...   \n",
       "49   Relationship between organizational climate an...   \n",
       "52   EFL teacher's integrated key competency cultiv...   \n",
       "57   Integrating 21st century competencies into a K...   \n",
       "58   Reflection on science competence-based curricu...   \n",
       "59   What Major “Socio-Scientific Topics” Should th...   \n",
       "63   Professional skills development for mathematic...   \n",
       "64   The development of teachers pedagogical compet...   \n",
       "65   How do pupils perceive educational robotics as...   \n",
       "71   Prediction model for the inclusion of key comp...   \n",
       "78   Technology’s role for achieving creativity, di...   \n",
       "93   Geriatrician-Led Patient Safety Rounds at the ...   \n",
       "95   Which variables predict teachers' diagnostic c...   \n",
       "96   Are There 'Honorable Merchants' in Internation...   \n",
       "98   Learning portfolio in translator training: The...   \n",
       "102  A phenomenographic analysis of the implementat...   \n",
       "103  Transversal competences of university students...   \n",
       "107  Fostering the quality of teaching and learning...   \n",
       "108  Shame: Does it have a place in an education fo...   \n",
       "111  Intentions to engage in evidence-based practic...   \n",
       "112  Validation of an ICT system supporting compete...   \n",
       "115  Learning for a sustainable economy: Teaching o...   \n",
       "117  The Construction of a Reasoned Explanation of ...   \n",
       "118  On forming key competences within the ICT-supp...   \n",
       "122  The relationship between perceived competence ...   \n",
       "123  Emotion regulation and its implications for le...   \n",
       "125  The use of computers in preschools in Chile: L...   \n",
       "133  The epistemological fog in realising learning ...   \n",
       "135  Factors of problem-solving competency in a vir...   \n",
       "136  Competence-based Education and Training-About ...   \n",
       "137  The explication of quality standards in self-e...   \n",
       "139  The chances of people with disabilities for co...   \n",
       "140  Competency development in business graduates: ...   \n",
       "144  Medical education in Sweden. Undergraduate med...   \n",
       "151  Fluidity in the networked society - Self-initi...   \n",
       "153  Are Fiji’S Government Commercial Companies in ...   \n",
       "154  Competence-based teacher education: Illusion o...   \n",
       "155  Key competences for lifelong learning: The cas...   \n",
       "157  Climate change: What competencies and which me...   \n",
       "159  Using avatars and virtual environments in lear...   \n",
       "163  Teachers’ individual action theories about com...   \n",
       "164  Towards competence-based VET: Dealing with the...   \n",
       "165  Let's go work together: Introducing intercultu...   \n",
       "172  Competence-based curriculum design for trainin...   \n",
       "174  Recognition of tacit skills and knowledge: Sus...   \n",
       "175  Localizing a global discipline: Designing new ...   \n",
       "176  The role of strategy and redundancy in diagnos...   \n",
       "177  Re-Engineering Competency-Based Education thro...   \n",
       "179  Competing logics in the key competencies: A so...   \n",
       "183  Film, adult learning and the prussian peacheri...   \n",
       "186  Professional Development and Competence-based ...   \n",
       "\n",
       "                                             doc_clean  score_topic_0  \\\n",
       "7    [practitioner, competencie, work, refugee, chi...          -5.94   \n",
       "12   [key, competencies, progress, school, term, st...          -3.81   \n",
       "14   [feasibility, acceptability, virtually, coach,...          -7.57   \n",
       "17   [digital, competence, high, education, student...          -9.23   \n",
       "29   [botswana, teacher, competency, perceive, impo...          -6.84   \n",
       "33   [university, graduate, potential, advantage, t...          -5.06   \n",
       "37   [introduction, competence, base, education, co...          -5.11   \n",
       "49   [relationship, organizational, climate, innova...          -3.74   \n",
       "52   [efl, teacher, integrated, key, competency, cu...          -6.21   \n",
       "57   [integrate, 21st, century, competency, k-12, c...          -7.15   \n",
       "58   [reflection, science, competence, base, curric...          -6.98   \n",
       "59   [major, \", socio, scientific, topic, \", scienc...          -8.65   \n",
       "63   [professional, skill, development, mathematic,...          -7.94   \n",
       "64   [development, teacher, pedagogical, competence...          -9.37   \n",
       "65   [pupil, perceive, educational, robotic, tool, ...          -5.32   \n",
       "71   [prediction, model, inclusion, key, competence...          -8.99   \n",
       "78   [technology, role, achieve, creativity, divers...          -5.07   \n",
       "93   [geriatrician, led, patient, safety, rounds, b...          -3.57   \n",
       "95   [variable, predict, teacher, diagnostic, compe...         -11.01   \n",
       "96   [honorable, merchants, international, marketin...          -4.15   \n",
       "98   [learning, portfolio, translator, training, to...          -5.72   \n",
       "102  [phenomenographic, analysis, implementation, c...          -5.70   \n",
       "103  [transversal, competence, university, student,...          -7.12   \n",
       "107  [foster, quality, teaching, learn, develop, \",...          -7.16   \n",
       "108  [shame, place, education, democratic, citizens...          -3.51   \n",
       "111  [intention, engage, evidence, base, practice, ...          -6.31   \n",
       "112  [validation, ict, system, support, competenc, ...          -5.00   \n",
       "115  [learn, sustainable, economy, teaching, green,...          -5.63   \n",
       "117  [construction, reasoned, explanation, health, ...          -4.78   \n",
       "118  [form, key, competence, ict, support, instruct...          -5.39   \n",
       "122  [relationship, perceive, competence, earn, cre...          -6.11   \n",
       "123  [emotion, regulation, implication, leadership,...          -2.18   \n",
       "125  [use, computer, preschool, chile, lesson, prac...          -9.44   \n",
       "133  [epistemological, fog, realise, learn, learn, ...          -5.30   \n",
       "135  [factor, problem, solve, competency, virtual, ...          -8.21   \n",
       "136  [competence, base, education, training, freque...          -0.64   \n",
       "137  [explication, quality, standard, self, evaluat...          -4.53   \n",
       "139  [chance, people, disability, continue, educati...          -2.52   \n",
       "140  [competency, development, business, graduate, ...          -4.99   \n",
       "144  [medical, education, sweden, undergraduate, me...          -9.47   \n",
       "151  [fluidity, networked, society, self, initiate,...         -10.09   \n",
       "153  [fiji, government, commercial, companies, comp...          -2.26   \n",
       "154  [competence, base, teacher, education, illusio...         -14.50   \n",
       "155  [key, competence, lifelong, learning, case, pr...          -6.06   \n",
       "157  [climate, change, competency, medical, educati...         -12.12   \n",
       "159  [avatar, virtual, environment, learn, offer, p...          -7.53   \n",
       "163  [teacher, ’, individual, action, theory, compe...          -8.30   \n",
       "164  [competence, base, vet, deal, pitfall, article...          -5.41   \n",
       "165  [let, work, introduce, intercultural, competen...          -4.32   \n",
       "172  [competence, base, curriculum, design, trainin...          -7.15   \n",
       "174  [recognition, tacit, skill, knowledge, sustain...          -3.25   \n",
       "175  [localize, global, discipline, design, new, pl...          -4.13   \n",
       "176  [role, strategy, redundancy, diagnostic, reaso...          -7.12   \n",
       "177  [engineering, competency, base, education, use...          -6.24   \n",
       "179  [compete, logic, key, competency, sociological...          -2.49   \n",
       "183  [film, adult, learning, prussian, peacherino, ...          -4.51   \n",
       "186  [professional, development, competence, base, ...          -4.12   \n",
       "\n",
       "     score_topic_1  score_topic_2  Topic  \n",
       "7            -2.24           1.02      2  \n",
       "12            0.34           2.78      2  \n",
       "14           -7.54           7.94      2  \n",
       "17            1.54           5.00      2  \n",
       "29            3.08          -0.91      1  \n",
       "33            0.73           2.10      2  \n",
       "37            1.91          -2.63      1  \n",
       "49           -2.37           0.24      2  \n",
       "52            1.31           0.15      1  \n",
       "57           -0.90           8.20      2  \n",
       "58            1.55          -0.39      1  \n",
       "59           -2.71          11.89      2  \n",
       "63           -0.69           3.93      2  \n",
       "64            3.17          -0.04      1  \n",
       "65            0.86           4.59      2  \n",
       "71            3.92          -0.78      1  \n",
       "78           -1.29           1.74      2  \n",
       "93           -7.48          -2.97      2  \n",
       "95            4.64          -4.38      1  \n",
       "96           -0.57           0.61      2  \n",
       "98            2.57          -3.22      1  \n",
       "102           3.84          -5.56      1  \n",
       "103           2.09          -0.32      1  \n",
       "107           0.76           1.77      2  \n",
       "108          -0.01           0.28      2  \n",
       "111          -1.28           1.37      2  \n",
       "112           2.31          -1.49      1  \n",
       "115           0.16           2.09      2  \n",
       "117          -3.46           4.11      2  \n",
       "118           2.16           1.81      1  \n",
       "122           1.72          -1.77      1  \n",
       "123          -1.33           0.15      2  \n",
       "125           2.34           3.19      2  \n",
       "133           1.54          -0.69      1  \n",
       "135           0.53           6.20      2  \n",
       "136           0.14          -0.90      1  \n",
       "137           0.66          -2.76      1  \n",
       "139          -0.53           0.13      2  \n",
       "140          -0.89           1.14      2  \n",
       "144         -15.39          -6.22      2  \n",
       "151           1.75           4.99      2  \n",
       "153           0.22           0.04      1  \n",
       "154           7.72          -9.46      1  \n",
       "155           3.15          -1.01      1  \n",
       "157         -20.84          -7.78      2  \n",
       "159           0.37           6.77      2  \n",
       "163           5.39          -5.52      1  \n",
       "164           3.08          -5.06      1  \n",
       "165           0.36           1.27      2  \n",
       "172           2.41          -3.10      1  \n",
       "174           0.30           3.38      2  \n",
       "175          -0.20           1.88      2  \n",
       "176          -9.07          -1.65      2  \n",
       "177           0.16          -0.14      1  \n",
       "179           0.01          -0.40      1  \n",
       "183           0.83          -0.68      1  \n",
       "186           1.68          -3.77      1  "
      ]
     },
     "execution_count": 339,
     "metadata": {},
     "output_type": "execute_result"
    }
   ],
   "source": [
    "corpus_lsi = lsi[bow]\n",
    "scores = [[] for _ in range(num_topics)]\n",
    "for doc in corpus_lsi:\n",
    "    for k in range(num_topics):\n",
    "        scores[k].append(round(doc[k][1],2))\n",
    "\n",
    "df_topic = df_docs_cluster.copy()\n",
    "for k in range(num_topics):\n",
    "    df_topic[f'score_topic_{k}'] = scores[k]\n",
    "\n",
    "df_topic['Topic']= df_topic[[f'score_topic_{k}' for k in range(num_topics)]].apply(lambda x: x.argmax(), axis=1)\n",
    "df_topic"
   ]
  },
  {
   "cell_type": "code",
   "execution_count": 340,
   "metadata": {},
   "outputs": [
    {
     "data": {
      "application/vnd.plotly.v1+json": {
       "config": {
        "plotlyServerURL": "https://plot.ly"
       },
       "data": [
        {
         "alignmentgroup": "True",
         "hovertemplate": "Topic=%{x}<br>Frequency=%{y}<extra></extra>",
         "legendgroup": "1",
         "marker": {
          "color": "#636efa",
          "pattern": {
           "shape": ""
          }
         },
         "name": "1",
         "offsetgroup": "1",
         "orientation": "v",
         "showlegend": true,
         "textposition": "auto",
         "type": "bar",
         "x": [
          "1"
         ],
         "xaxis": "x",
         "y": [
          26
         ],
         "yaxis": "y"
        },
        {
         "alignmentgroup": "True",
         "hovertemplate": "Topic=%{x}<br>Frequency=%{y}<extra></extra>",
         "legendgroup": "2",
         "marker": {
          "color": "#EF553B",
          "pattern": {
           "shape": ""
          }
         },
         "name": "2",
         "offsetgroup": "2",
         "orientation": "v",
         "showlegend": true,
         "textposition": "auto",
         "type": "bar",
         "x": [
          "2"
         ],
         "xaxis": "x",
         "y": [
          31
         ],
         "yaxis": "y"
        }
       ],
       "layout": {
        "barmode": "relative",
        "font": {
         "size": 18
        },
        "legend": {
         "title": {
          "text": "Topic"
         },
         "tracegroupgap": 0
        },
        "template": {
         "data": {
          "bar": [
           {
            "error_x": {
             "color": "#2a3f5f"
            },
            "error_y": {
             "color": "#2a3f5f"
            },
            "marker": {
             "line": {
              "color": "#E5ECF6",
              "width": 0.5
             },
             "pattern": {
              "fillmode": "overlay",
              "size": 10,
              "solidity": 0.2
             }
            },
            "type": "bar"
           }
          ],
          "barpolar": [
           {
            "marker": {
             "line": {
              "color": "#E5ECF6",
              "width": 0.5
             },
             "pattern": {
              "fillmode": "overlay",
              "size": 10,
              "solidity": 0.2
             }
            },
            "type": "barpolar"
           }
          ],
          "carpet": [
           {
            "aaxis": {
             "endlinecolor": "#2a3f5f",
             "gridcolor": "white",
             "linecolor": "white",
             "minorgridcolor": "white",
             "startlinecolor": "#2a3f5f"
            },
            "baxis": {
             "endlinecolor": "#2a3f5f",
             "gridcolor": "white",
             "linecolor": "white",
             "minorgridcolor": "white",
             "startlinecolor": "#2a3f5f"
            },
            "type": "carpet"
           }
          ],
          "choropleth": [
           {
            "colorbar": {
             "outlinewidth": 0,
             "ticks": ""
            },
            "type": "choropleth"
           }
          ],
          "contour": [
           {
            "colorbar": {
             "outlinewidth": 0,
             "ticks": ""
            },
            "colorscale": [
             [
              0,
              "#0d0887"
             ],
             [
              0.1111111111111111,
              "#46039f"
             ],
             [
              0.2222222222222222,
              "#7201a8"
             ],
             [
              0.3333333333333333,
              "#9c179e"
             ],
             [
              0.4444444444444444,
              "#bd3786"
             ],
             [
              0.5555555555555556,
              "#d8576b"
             ],
             [
              0.6666666666666666,
              "#ed7953"
             ],
             [
              0.7777777777777778,
              "#fb9f3a"
             ],
             [
              0.8888888888888888,
              "#fdca26"
             ],
             [
              1,
              "#f0f921"
             ]
            ],
            "type": "contour"
           }
          ],
          "contourcarpet": [
           {
            "colorbar": {
             "outlinewidth": 0,
             "ticks": ""
            },
            "type": "contourcarpet"
           }
          ],
          "heatmap": [
           {
            "colorbar": {
             "outlinewidth": 0,
             "ticks": ""
            },
            "colorscale": [
             [
              0,
              "#0d0887"
             ],
             [
              0.1111111111111111,
              "#46039f"
             ],
             [
              0.2222222222222222,
              "#7201a8"
             ],
             [
              0.3333333333333333,
              "#9c179e"
             ],
             [
              0.4444444444444444,
              "#bd3786"
             ],
             [
              0.5555555555555556,
              "#d8576b"
             ],
             [
              0.6666666666666666,
              "#ed7953"
             ],
             [
              0.7777777777777778,
              "#fb9f3a"
             ],
             [
              0.8888888888888888,
              "#fdca26"
             ],
             [
              1,
              "#f0f921"
             ]
            ],
            "type": "heatmap"
           }
          ],
          "heatmapgl": [
           {
            "colorbar": {
             "outlinewidth": 0,
             "ticks": ""
            },
            "colorscale": [
             [
              0,
              "#0d0887"
             ],
             [
              0.1111111111111111,
              "#46039f"
             ],
             [
              0.2222222222222222,
              "#7201a8"
             ],
             [
              0.3333333333333333,
              "#9c179e"
             ],
             [
              0.4444444444444444,
              "#bd3786"
             ],
             [
              0.5555555555555556,
              "#d8576b"
             ],
             [
              0.6666666666666666,
              "#ed7953"
             ],
             [
              0.7777777777777778,
              "#fb9f3a"
             ],
             [
              0.8888888888888888,
              "#fdca26"
             ],
             [
              1,
              "#f0f921"
             ]
            ],
            "type": "heatmapgl"
           }
          ],
          "histogram": [
           {
            "marker": {
             "pattern": {
              "fillmode": "overlay",
              "size": 10,
              "solidity": 0.2
             }
            },
            "type": "histogram"
           }
          ],
          "histogram2d": [
           {
            "colorbar": {
             "outlinewidth": 0,
             "ticks": ""
            },
            "colorscale": [
             [
              0,
              "#0d0887"
             ],
             [
              0.1111111111111111,
              "#46039f"
             ],
             [
              0.2222222222222222,
              "#7201a8"
             ],
             [
              0.3333333333333333,
              "#9c179e"
             ],
             [
              0.4444444444444444,
              "#bd3786"
             ],
             [
              0.5555555555555556,
              "#d8576b"
             ],
             [
              0.6666666666666666,
              "#ed7953"
             ],
             [
              0.7777777777777778,
              "#fb9f3a"
             ],
             [
              0.8888888888888888,
              "#fdca26"
             ],
             [
              1,
              "#f0f921"
             ]
            ],
            "type": "histogram2d"
           }
          ],
          "histogram2dcontour": [
           {
            "colorbar": {
             "outlinewidth": 0,
             "ticks": ""
            },
            "colorscale": [
             [
              0,
              "#0d0887"
             ],
             [
              0.1111111111111111,
              "#46039f"
             ],
             [
              0.2222222222222222,
              "#7201a8"
             ],
             [
              0.3333333333333333,
              "#9c179e"
             ],
             [
              0.4444444444444444,
              "#bd3786"
             ],
             [
              0.5555555555555556,
              "#d8576b"
             ],
             [
              0.6666666666666666,
              "#ed7953"
             ],
             [
              0.7777777777777778,
              "#fb9f3a"
             ],
             [
              0.8888888888888888,
              "#fdca26"
             ],
             [
              1,
              "#f0f921"
             ]
            ],
            "type": "histogram2dcontour"
           }
          ],
          "mesh3d": [
           {
            "colorbar": {
             "outlinewidth": 0,
             "ticks": ""
            },
            "type": "mesh3d"
           }
          ],
          "parcoords": [
           {
            "line": {
             "colorbar": {
              "outlinewidth": 0,
              "ticks": ""
             }
            },
            "type": "parcoords"
           }
          ],
          "pie": [
           {
            "automargin": true,
            "type": "pie"
           }
          ],
          "scatter": [
           {
            "fillpattern": {
             "fillmode": "overlay",
             "size": 10,
             "solidity": 0.2
            },
            "type": "scatter"
           }
          ],
          "scatter3d": [
           {
            "line": {
             "colorbar": {
              "outlinewidth": 0,
              "ticks": ""
             }
            },
            "marker": {
             "colorbar": {
              "outlinewidth": 0,
              "ticks": ""
             }
            },
            "type": "scatter3d"
           }
          ],
          "scattercarpet": [
           {
            "marker": {
             "colorbar": {
              "outlinewidth": 0,
              "ticks": ""
             }
            },
            "type": "scattercarpet"
           }
          ],
          "scattergeo": [
           {
            "marker": {
             "colorbar": {
              "outlinewidth": 0,
              "ticks": ""
             }
            },
            "type": "scattergeo"
           }
          ],
          "scattergl": [
           {
            "marker": {
             "colorbar": {
              "outlinewidth": 0,
              "ticks": ""
             }
            },
            "type": "scattergl"
           }
          ],
          "scattermapbox": [
           {
            "marker": {
             "colorbar": {
              "outlinewidth": 0,
              "ticks": ""
             }
            },
            "type": "scattermapbox"
           }
          ],
          "scatterpolar": [
           {
            "marker": {
             "colorbar": {
              "outlinewidth": 0,
              "ticks": ""
             }
            },
            "type": "scatterpolar"
           }
          ],
          "scatterpolargl": [
           {
            "marker": {
             "colorbar": {
              "outlinewidth": 0,
              "ticks": ""
             }
            },
            "type": "scatterpolargl"
           }
          ],
          "scatterternary": [
           {
            "marker": {
             "colorbar": {
              "outlinewidth": 0,
              "ticks": ""
             }
            },
            "type": "scatterternary"
           }
          ],
          "surface": [
           {
            "colorbar": {
             "outlinewidth": 0,
             "ticks": ""
            },
            "colorscale": [
             [
              0,
              "#0d0887"
             ],
             [
              0.1111111111111111,
              "#46039f"
             ],
             [
              0.2222222222222222,
              "#7201a8"
             ],
             [
              0.3333333333333333,
              "#9c179e"
             ],
             [
              0.4444444444444444,
              "#bd3786"
             ],
             [
              0.5555555555555556,
              "#d8576b"
             ],
             [
              0.6666666666666666,
              "#ed7953"
             ],
             [
              0.7777777777777778,
              "#fb9f3a"
             ],
             [
              0.8888888888888888,
              "#fdca26"
             ],
             [
              1,
              "#f0f921"
             ]
            ],
            "type": "surface"
           }
          ],
          "table": [
           {
            "cells": {
             "fill": {
              "color": "#EBF0F8"
             },
             "line": {
              "color": "white"
             }
            },
            "header": {
             "fill": {
              "color": "#C8D4E3"
             },
             "line": {
              "color": "white"
             }
            },
            "type": "table"
           }
          ]
         },
         "layout": {
          "annotationdefaults": {
           "arrowcolor": "#2a3f5f",
           "arrowhead": 0,
           "arrowwidth": 1
          },
          "autotypenumbers": "strict",
          "coloraxis": {
           "colorbar": {
            "outlinewidth": 0,
            "ticks": ""
           }
          },
          "colorscale": {
           "diverging": [
            [
             0,
             "#8e0152"
            ],
            [
             0.1,
             "#c51b7d"
            ],
            [
             0.2,
             "#de77ae"
            ],
            [
             0.3,
             "#f1b6da"
            ],
            [
             0.4,
             "#fde0ef"
            ],
            [
             0.5,
             "#f7f7f7"
            ],
            [
             0.6,
             "#e6f5d0"
            ],
            [
             0.7,
             "#b8e186"
            ],
            [
             0.8,
             "#7fbc41"
            ],
            [
             0.9,
             "#4d9221"
            ],
            [
             1,
             "#276419"
            ]
           ],
           "sequential": [
            [
             0,
             "#0d0887"
            ],
            [
             0.1111111111111111,
             "#46039f"
            ],
            [
             0.2222222222222222,
             "#7201a8"
            ],
            [
             0.3333333333333333,
             "#9c179e"
            ],
            [
             0.4444444444444444,
             "#bd3786"
            ],
            [
             0.5555555555555556,
             "#d8576b"
            ],
            [
             0.6666666666666666,
             "#ed7953"
            ],
            [
             0.7777777777777778,
             "#fb9f3a"
            ],
            [
             0.8888888888888888,
             "#fdca26"
            ],
            [
             1,
             "#f0f921"
            ]
           ],
           "sequentialminus": [
            [
             0,
             "#0d0887"
            ],
            [
             0.1111111111111111,
             "#46039f"
            ],
            [
             0.2222222222222222,
             "#7201a8"
            ],
            [
             0.3333333333333333,
             "#9c179e"
            ],
            [
             0.4444444444444444,
             "#bd3786"
            ],
            [
             0.5555555555555556,
             "#d8576b"
            ],
            [
             0.6666666666666666,
             "#ed7953"
            ],
            [
             0.7777777777777778,
             "#fb9f3a"
            ],
            [
             0.8888888888888888,
             "#fdca26"
            ],
            [
             1,
             "#f0f921"
            ]
           ]
          },
          "colorway": [
           "#636efa",
           "#EF553B",
           "#00cc96",
           "#ab63fa",
           "#FFA15A",
           "#19d3f3",
           "#FF6692",
           "#B6E880",
           "#FF97FF",
           "#FECB52"
          ],
          "font": {
           "color": "#2a3f5f"
          },
          "geo": {
           "bgcolor": "white",
           "lakecolor": "white",
           "landcolor": "#E5ECF6",
           "showlakes": true,
           "showland": true,
           "subunitcolor": "white"
          },
          "hoverlabel": {
           "align": "left"
          },
          "hovermode": "closest",
          "mapbox": {
           "style": "light"
          },
          "paper_bgcolor": "white",
          "plot_bgcolor": "#E5ECF6",
          "polar": {
           "angularaxis": {
            "gridcolor": "white",
            "linecolor": "white",
            "ticks": ""
           },
           "bgcolor": "#E5ECF6",
           "radialaxis": {
            "gridcolor": "white",
            "linecolor": "white",
            "ticks": ""
           }
          },
          "scene": {
           "xaxis": {
            "backgroundcolor": "#E5ECF6",
            "gridcolor": "white",
            "gridwidth": 2,
            "linecolor": "white",
            "showbackground": true,
            "ticks": "",
            "zerolinecolor": "white"
           },
           "yaxis": {
            "backgroundcolor": "#E5ECF6",
            "gridcolor": "white",
            "gridwidth": 2,
            "linecolor": "white",
            "showbackground": true,
            "ticks": "",
            "zerolinecolor": "white"
           },
           "zaxis": {
            "backgroundcolor": "#E5ECF6",
            "gridcolor": "white",
            "gridwidth": 2,
            "linecolor": "white",
            "showbackground": true,
            "ticks": "",
            "zerolinecolor": "white"
           }
          },
          "shapedefaults": {
           "line": {
            "color": "#2a3f5f"
           }
          },
          "ternary": {
           "aaxis": {
            "gridcolor": "white",
            "linecolor": "white",
            "ticks": ""
           },
           "baxis": {
            "gridcolor": "white",
            "linecolor": "white",
            "ticks": ""
           },
           "bgcolor": "#E5ECF6",
           "caxis": {
            "gridcolor": "white",
            "linecolor": "white",
            "ticks": ""
           }
          },
          "title": {
           "x": 0.05
          },
          "xaxis": {
           "automargin": true,
           "gridcolor": "white",
           "linecolor": "white",
           "ticks": "",
           "title": {
            "standoff": 15
           },
           "zerolinecolor": "white",
           "zerolinewidth": 2
          },
          "yaxis": {
           "automargin": true,
           "gridcolor": "white",
           "linecolor": "white",
           "ticks": "",
           "title": {
            "standoff": 15
           },
           "zerolinecolor": "white",
           "zerolinewidth": 2
          }
         }
        },
        "title": {
         "text": "Frecuency of topics (Cluster 2)"
        },
        "xaxis": {
         "anchor": "y",
         "categoryarray": [
          "1",
          "2"
         ],
         "categoryorder": "array",
         "domain": [
          0,
          1
         ],
         "title": {
          "text": "Topic"
         }
        },
        "yaxis": {
         "anchor": "x",
         "domain": [
          0,
          1
         ],
         "title": {
          "text": "Frequency"
         }
        }
       }
      },
      "text/html": [
       "<div>                            <div id=\"4a61f2bf-2089-4ae8-9e98-895ebbdb4ecd\" class=\"plotly-graph-div\" style=\"height:525px; width:100%;\"></div>            <script type=\"text/javascript\">                require([\"plotly\"], function(Plotly) {                    window.PLOTLYENV=window.PLOTLYENV || {};                                    if (document.getElementById(\"4a61f2bf-2089-4ae8-9e98-895ebbdb4ecd\")) {                    Plotly.newPlot(                        \"4a61f2bf-2089-4ae8-9e98-895ebbdb4ecd\",                        [{\"alignmentgroup\":\"True\",\"hovertemplate\":\"Topic=%{x}<br>Frequency=%{y}<extra></extra>\",\"legendgroup\":\"1\",\"marker\":{\"color\":\"#636efa\",\"pattern\":{\"shape\":\"\"}},\"name\":\"1\",\"offsetgroup\":\"1\",\"orientation\":\"v\",\"showlegend\":true,\"textposition\":\"auto\",\"x\":[\"1\"],\"xaxis\":\"x\",\"y\":[26],\"yaxis\":\"y\",\"type\":\"bar\"},{\"alignmentgroup\":\"True\",\"hovertemplate\":\"Topic=%{x}<br>Frequency=%{y}<extra></extra>\",\"legendgroup\":\"2\",\"marker\":{\"color\":\"#EF553B\",\"pattern\":{\"shape\":\"\"}},\"name\":\"2\",\"offsetgroup\":\"2\",\"orientation\":\"v\",\"showlegend\":true,\"textposition\":\"auto\",\"x\":[\"2\"],\"xaxis\":\"x\",\"y\":[31],\"yaxis\":\"y\",\"type\":\"bar\"}],                        {\"template\":{\"data\":{\"histogram2dcontour\":[{\"type\":\"histogram2dcontour\",\"colorbar\":{\"outlinewidth\":0,\"ticks\":\"\"},\"colorscale\":[[0.0,\"#0d0887\"],[0.1111111111111111,\"#46039f\"],[0.2222222222222222,\"#7201a8\"],[0.3333333333333333,\"#9c179e\"],[0.4444444444444444,\"#bd3786\"],[0.5555555555555556,\"#d8576b\"],[0.6666666666666666,\"#ed7953\"],[0.7777777777777778,\"#fb9f3a\"],[0.8888888888888888,\"#fdca26\"],[1.0,\"#f0f921\"]]}],\"choropleth\":[{\"type\":\"choropleth\",\"colorbar\":{\"outlinewidth\":0,\"ticks\":\"\"}}],\"histogram2d\":[{\"type\":\"histogram2d\",\"colorbar\":{\"outlinewidth\":0,\"ticks\":\"\"},\"colorscale\":[[0.0,\"#0d0887\"],[0.1111111111111111,\"#46039f\"],[0.2222222222222222,\"#7201a8\"],[0.3333333333333333,\"#9c179e\"],[0.4444444444444444,\"#bd3786\"],[0.5555555555555556,\"#d8576b\"],[0.6666666666666666,\"#ed7953\"],[0.7777777777777778,\"#fb9f3a\"],[0.8888888888888888,\"#fdca26\"],[1.0,\"#f0f921\"]]}],\"heatmap\":[{\"type\":\"heatmap\",\"colorbar\":{\"outlinewidth\":0,\"ticks\":\"\"},\"colorscale\":[[0.0,\"#0d0887\"],[0.1111111111111111,\"#46039f\"],[0.2222222222222222,\"#7201a8\"],[0.3333333333333333,\"#9c179e\"],[0.4444444444444444,\"#bd3786\"],[0.5555555555555556,\"#d8576b\"],[0.6666666666666666,\"#ed7953\"],[0.7777777777777778,\"#fb9f3a\"],[0.8888888888888888,\"#fdca26\"],[1.0,\"#f0f921\"]]}],\"heatmapgl\":[{\"type\":\"heatmapgl\",\"colorbar\":{\"outlinewidth\":0,\"ticks\":\"\"},\"colorscale\":[[0.0,\"#0d0887\"],[0.1111111111111111,\"#46039f\"],[0.2222222222222222,\"#7201a8\"],[0.3333333333333333,\"#9c179e\"],[0.4444444444444444,\"#bd3786\"],[0.5555555555555556,\"#d8576b\"],[0.6666666666666666,\"#ed7953\"],[0.7777777777777778,\"#fb9f3a\"],[0.8888888888888888,\"#fdca26\"],[1.0,\"#f0f921\"]]}],\"contourcarpet\":[{\"type\":\"contourcarpet\",\"colorbar\":{\"outlinewidth\":0,\"ticks\":\"\"}}],\"contour\":[{\"type\":\"contour\",\"colorbar\":{\"outlinewidth\":0,\"ticks\":\"\"},\"colorscale\":[[0.0,\"#0d0887\"],[0.1111111111111111,\"#46039f\"],[0.2222222222222222,\"#7201a8\"],[0.3333333333333333,\"#9c179e\"],[0.4444444444444444,\"#bd3786\"],[0.5555555555555556,\"#d8576b\"],[0.6666666666666666,\"#ed7953\"],[0.7777777777777778,\"#fb9f3a\"],[0.8888888888888888,\"#fdca26\"],[1.0,\"#f0f921\"]]}],\"surface\":[{\"type\":\"surface\",\"colorbar\":{\"outlinewidth\":0,\"ticks\":\"\"},\"colorscale\":[[0.0,\"#0d0887\"],[0.1111111111111111,\"#46039f\"],[0.2222222222222222,\"#7201a8\"],[0.3333333333333333,\"#9c179e\"],[0.4444444444444444,\"#bd3786\"],[0.5555555555555556,\"#d8576b\"],[0.6666666666666666,\"#ed7953\"],[0.7777777777777778,\"#fb9f3a\"],[0.8888888888888888,\"#fdca26\"],[1.0,\"#f0f921\"]]}],\"mesh3d\":[{\"type\":\"mesh3d\",\"colorbar\":{\"outlinewidth\":0,\"ticks\":\"\"}}],\"scatter\":[{\"fillpattern\":{\"fillmode\":\"overlay\",\"size\":10,\"solidity\":0.2},\"type\":\"scatter\"}],\"parcoords\":[{\"type\":\"parcoords\",\"line\":{\"colorbar\":{\"outlinewidth\":0,\"ticks\":\"\"}}}],\"scatterpolargl\":[{\"type\":\"scatterpolargl\",\"marker\":{\"colorbar\":{\"outlinewidth\":0,\"ticks\":\"\"}}}],\"bar\":[{\"error_x\":{\"color\":\"#2a3f5f\"},\"error_y\":{\"color\":\"#2a3f5f\"},\"marker\":{\"line\":{\"color\":\"#E5ECF6\",\"width\":0.5},\"pattern\":{\"fillmode\":\"overlay\",\"size\":10,\"solidity\":0.2}},\"type\":\"bar\"}],\"scattergeo\":[{\"type\":\"scattergeo\",\"marker\":{\"colorbar\":{\"outlinewidth\":0,\"ticks\":\"\"}}}],\"scatterpolar\":[{\"type\":\"scatterpolar\",\"marker\":{\"colorbar\":{\"outlinewidth\":0,\"ticks\":\"\"}}}],\"histogram\":[{\"marker\":{\"pattern\":{\"fillmode\":\"overlay\",\"size\":10,\"solidity\":0.2}},\"type\":\"histogram\"}],\"scattergl\":[{\"type\":\"scattergl\",\"marker\":{\"colorbar\":{\"outlinewidth\":0,\"ticks\":\"\"}}}],\"scatter3d\":[{\"type\":\"scatter3d\",\"line\":{\"colorbar\":{\"outlinewidth\":0,\"ticks\":\"\"}},\"marker\":{\"colorbar\":{\"outlinewidth\":0,\"ticks\":\"\"}}}],\"scattermapbox\":[{\"type\":\"scattermapbox\",\"marker\":{\"colorbar\":{\"outlinewidth\":0,\"ticks\":\"\"}}}],\"scatterternary\":[{\"type\":\"scatterternary\",\"marker\":{\"colorbar\":{\"outlinewidth\":0,\"ticks\":\"\"}}}],\"scattercarpet\":[{\"type\":\"scattercarpet\",\"marker\":{\"colorbar\":{\"outlinewidth\":0,\"ticks\":\"\"}}}],\"carpet\":[{\"aaxis\":{\"endlinecolor\":\"#2a3f5f\",\"gridcolor\":\"white\",\"linecolor\":\"white\",\"minorgridcolor\":\"white\",\"startlinecolor\":\"#2a3f5f\"},\"baxis\":{\"endlinecolor\":\"#2a3f5f\",\"gridcolor\":\"white\",\"linecolor\":\"white\",\"minorgridcolor\":\"white\",\"startlinecolor\":\"#2a3f5f\"},\"type\":\"carpet\"}],\"table\":[{\"cells\":{\"fill\":{\"color\":\"#EBF0F8\"},\"line\":{\"color\":\"white\"}},\"header\":{\"fill\":{\"color\":\"#C8D4E3\"},\"line\":{\"color\":\"white\"}},\"type\":\"table\"}],\"barpolar\":[{\"marker\":{\"line\":{\"color\":\"#E5ECF6\",\"width\":0.5},\"pattern\":{\"fillmode\":\"overlay\",\"size\":10,\"solidity\":0.2}},\"type\":\"barpolar\"}],\"pie\":[{\"automargin\":true,\"type\":\"pie\"}]},\"layout\":{\"autotypenumbers\":\"strict\",\"colorway\":[\"#636efa\",\"#EF553B\",\"#00cc96\",\"#ab63fa\",\"#FFA15A\",\"#19d3f3\",\"#FF6692\",\"#B6E880\",\"#FF97FF\",\"#FECB52\"],\"font\":{\"color\":\"#2a3f5f\"},\"hovermode\":\"closest\",\"hoverlabel\":{\"align\":\"left\"},\"paper_bgcolor\":\"white\",\"plot_bgcolor\":\"#E5ECF6\",\"polar\":{\"bgcolor\":\"#E5ECF6\",\"angularaxis\":{\"gridcolor\":\"white\",\"linecolor\":\"white\",\"ticks\":\"\"},\"radialaxis\":{\"gridcolor\":\"white\",\"linecolor\":\"white\",\"ticks\":\"\"}},\"ternary\":{\"bgcolor\":\"#E5ECF6\",\"aaxis\":{\"gridcolor\":\"white\",\"linecolor\":\"white\",\"ticks\":\"\"},\"baxis\":{\"gridcolor\":\"white\",\"linecolor\":\"white\",\"ticks\":\"\"},\"caxis\":{\"gridcolor\":\"white\",\"linecolor\":\"white\",\"ticks\":\"\"}},\"coloraxis\":{\"colorbar\":{\"outlinewidth\":0,\"ticks\":\"\"}},\"colorscale\":{\"sequential\":[[0.0,\"#0d0887\"],[0.1111111111111111,\"#46039f\"],[0.2222222222222222,\"#7201a8\"],[0.3333333333333333,\"#9c179e\"],[0.4444444444444444,\"#bd3786\"],[0.5555555555555556,\"#d8576b\"],[0.6666666666666666,\"#ed7953\"],[0.7777777777777778,\"#fb9f3a\"],[0.8888888888888888,\"#fdca26\"],[1.0,\"#f0f921\"]],\"sequentialminus\":[[0.0,\"#0d0887\"],[0.1111111111111111,\"#46039f\"],[0.2222222222222222,\"#7201a8\"],[0.3333333333333333,\"#9c179e\"],[0.4444444444444444,\"#bd3786\"],[0.5555555555555556,\"#d8576b\"],[0.6666666666666666,\"#ed7953\"],[0.7777777777777778,\"#fb9f3a\"],[0.8888888888888888,\"#fdca26\"],[1.0,\"#f0f921\"]],\"diverging\":[[0,\"#8e0152\"],[0.1,\"#c51b7d\"],[0.2,\"#de77ae\"],[0.3,\"#f1b6da\"],[0.4,\"#fde0ef\"],[0.5,\"#f7f7f7\"],[0.6,\"#e6f5d0\"],[0.7,\"#b8e186\"],[0.8,\"#7fbc41\"],[0.9,\"#4d9221\"],[1,\"#276419\"]]},\"xaxis\":{\"gridcolor\":\"white\",\"linecolor\":\"white\",\"ticks\":\"\",\"title\":{\"standoff\":15},\"zerolinecolor\":\"white\",\"automargin\":true,\"zerolinewidth\":2},\"yaxis\":{\"gridcolor\":\"white\",\"linecolor\":\"white\",\"ticks\":\"\",\"title\":{\"standoff\":15},\"zerolinecolor\":\"white\",\"automargin\":true,\"zerolinewidth\":2},\"scene\":{\"xaxis\":{\"backgroundcolor\":\"#E5ECF6\",\"gridcolor\":\"white\",\"linecolor\":\"white\",\"showbackground\":true,\"ticks\":\"\",\"zerolinecolor\":\"white\",\"gridwidth\":2},\"yaxis\":{\"backgroundcolor\":\"#E5ECF6\",\"gridcolor\":\"white\",\"linecolor\":\"white\",\"showbackground\":true,\"ticks\":\"\",\"zerolinecolor\":\"white\",\"gridwidth\":2},\"zaxis\":{\"backgroundcolor\":\"#E5ECF6\",\"gridcolor\":\"white\",\"linecolor\":\"white\",\"showbackground\":true,\"ticks\":\"\",\"zerolinecolor\":\"white\",\"gridwidth\":2}},\"shapedefaults\":{\"line\":{\"color\":\"#2a3f5f\"}},\"annotationdefaults\":{\"arrowcolor\":\"#2a3f5f\",\"arrowhead\":0,\"arrowwidth\":1},\"geo\":{\"bgcolor\":\"white\",\"landcolor\":\"#E5ECF6\",\"subunitcolor\":\"white\",\"showland\":true,\"showlakes\":true,\"lakecolor\":\"white\"},\"title\":{\"x\":0.05},\"mapbox\":{\"style\":\"light\"}}},\"xaxis\":{\"anchor\":\"y\",\"domain\":[0.0,1.0],\"title\":{\"text\":\"Topic\"},\"categoryorder\":\"array\",\"categoryarray\":[\"1\",\"2\"]},\"yaxis\":{\"anchor\":\"x\",\"domain\":[0.0,1.0],\"title\":{\"text\":\"Frequency\"}},\"legend\":{\"title\":{\"text\":\"Topic\"},\"tracegroupgap\":0},\"title\":{\"text\":\"Frecuency of topics (Cluster 2)\"},\"barmode\":\"relative\",\"font\":{\"size\":18}},                        {\"responsive\": true}                    ).then(function(){\n",
       "                            \n",
       "var gd = document.getElementById('4a61f2bf-2089-4ae8-9e98-895ebbdb4ecd');\n",
       "var x = new MutationObserver(function (mutations, observer) {{\n",
       "        var display = window.getComputedStyle(gd).display;\n",
       "        if (!display || display === 'none') {{\n",
       "            console.log([gd, 'removed!']);\n",
       "            Plotly.purge(gd);\n",
       "            observer.disconnect();\n",
       "        }}\n",
       "}});\n",
       "\n",
       "// Listen for the removal of the full notebook cells\n",
       "var notebookContainer = gd.closest('#notebook-container');\n",
       "if (notebookContainer) {{\n",
       "    x.observe(notebookContainer, {childList: true});\n",
       "}}\n",
       "\n",
       "// Listen for the clearing of the current output cell\n",
       "var outputEl = gd.closest('.output');\n",
       "if (outputEl) {{\n",
       "    x.observe(outputEl, {childList: true});\n",
       "}}\n",
       "\n",
       "                        })                };                });            </script>        </div>"
      ]
     },
     "metadata": {},
     "output_type": "display_data"
    }
   ],
   "source": [
    "table_hist_per_topic = pd.DataFrame(df_topic[\"Topic\"].value_counts()).reset_index().rename(columns={\"index\": \"Topic\", \"Topic\": \"Frequency\"})\n",
    "table_hist_per_topic[\"Topic\"] = table_hist_per_topic[\"Topic\"].astype(str)\n",
    "table_hist_per_topic = table_hist_per_topic.sort_values(\"Topic\")\n",
    "\n",
    "fig = px.bar(table_hist_per_topic, color=\"Topic\", x=\"Topic\", y=\"Frequency\", title=f\"Frecuency of topics (Cluster {cluster_id})\")\n",
    "fig.update_layout(\n",
    "    font=dict(\n",
    "        size=18\n",
    "    )\n",
    ")\n",
    "fig.show()"
   ]
  },
  {
   "cell_type": "code",
   "execution_count": 341,
   "metadata": {},
   "outputs": [
    {
     "data": {
      "text/plain": [
       "[(0,\n",
       "  '-0.188*\"teacher\" + -0.122*\"medical\" + -0.101*\"competence\" + -0.100*\"competence_base\" + -0.100*\"\"\" + -0.097*\"digital\" + -0.093*\"competency\" + -0.085*\"curriculum\" + -0.085*\"student\" + -0.080*\"training\"'),\n",
       " (1,\n",
       "  '-0.391*\"medical\" + -0.187*\"climate_change\" + -0.181*\"health\" + -0.166*\"medical_education\" + -0.154*\"climate\" + 0.145*\"teacher\" + -0.123*\"undergraduate\" + -0.098*\"education_medical\" + -0.092*\"resident\" + -0.090*\"sweden\"'),\n",
       " (2,\n",
       "  '0.225*\"\"\" + -0.148*\"medical\" + -0.147*\"cbe\" + -0.128*\"competence_base\" + 0.124*\"digital\" + -0.115*\"teacher\" + 0.111*\"scientific\" + 0.102*\"skill\" + -0.097*\"base_education\" + -0.089*\"education_training\"')]"
      ]
     },
     "execution_count": 341,
     "metadata": {},
     "output_type": "execute_result"
    }
   ],
   "source": [
    "data_strengths_per_topic = lsi.print_topics(num_topics)\n",
    "data_strengths_per_topic"
   ]
  },
  {
   "cell_type": "code",
   "execution_count": 342,
   "metadata": {},
   "outputs": [],
   "source": [
    "strengths_per_topic = []\n",
    "for topic_k in range(len(data_strengths_per_topic)):\n",
    "    id_k, strengths_k = data_strengths_per_topic[topic_k]\n",
    "    strengths_k = strengths_k.split(\" + \")\n",
    "    for a_w in strengths_k:\n",
    "        a, w = a_w.split(\"*\")\n",
    "        a = float(a)\n",
    "        w=w.replace('\"', \"\")\n",
    "        o = {\"Topic\": str(id_k), \"Term\": w, \"Strength\": a}\n",
    "        strengths_per_topic.append(o)"
   ]
  },
  {
   "cell_type": "code",
   "execution_count": 343,
   "metadata": {},
   "outputs": [
    {
     "data": {
      "application/vnd.plotly.v1+json": {
       "config": {
        "plotlyServerURL": "https://plot.ly"
       },
       "data": [
        {
         "alignmentgroup": "True",
         "hovertemplate": "Topic=0<br>Strength=%{x}<br>Term=%{y}<extra></extra>",
         "legendgroup": "0",
         "marker": {
          "color": "#636efa",
          "pattern": {
           "shape": ""
          }
         },
         "name": "0",
         "offsetgroup": "0",
         "orientation": "h",
         "showlegend": true,
         "textposition": "auto",
         "type": "bar",
         "x": [
          -0.188,
          -0.122,
          -0.101,
          -0.1,
          -0.1,
          -0.097,
          -0.093,
          -0.085,
          -0.085,
          -0.08
         ],
         "xaxis": "x",
         "y": [
          "teacher",
          "medical",
          "competence",
          "competence_base",
          "",
          "digital",
          "competency",
          "student",
          "curriculum",
          "training"
         ],
         "yaxis": "y"
        },
        {
         "alignmentgroup": "True",
         "hovertemplate": "Topic=2<br>Strength=%{x}<br>Term=%{y}<extra></extra>",
         "legendgroup": "2",
         "marker": {
          "color": "#EF553B",
          "pattern": {
           "shape": ""
          }
         },
         "name": "2",
         "offsetgroup": "2",
         "orientation": "h",
         "showlegend": true,
         "textposition": "auto",
         "type": "bar",
         "x": [
          -0.148,
          -0.147,
          -0.128,
          -0.115,
          -0.097,
          -0.089,
          0.102,
          0.111,
          0.124,
          0.225
         ],
         "xaxis": "x",
         "y": [
          "medical",
          "cbe",
          "competence_base",
          "teacher",
          "base_education",
          "education_training",
          "skill",
          "scientific",
          "digital",
          ""
         ],
         "yaxis": "y"
        }
       ],
       "layout": {
        "barmode": "relative",
        "font": {
         "size": 8
        },
        "height": 700,
        "legend": {
         "title": {
          "text": "Topic"
         },
         "tracegroupgap": 0
        },
        "template": {
         "data": {
          "bar": [
           {
            "error_x": {
             "color": "#2a3f5f"
            },
            "error_y": {
             "color": "#2a3f5f"
            },
            "marker": {
             "line": {
              "color": "#E5ECF6",
              "width": 0.5
             },
             "pattern": {
              "fillmode": "overlay",
              "size": 10,
              "solidity": 0.2
             }
            },
            "type": "bar"
           }
          ],
          "barpolar": [
           {
            "marker": {
             "line": {
              "color": "#E5ECF6",
              "width": 0.5
             },
             "pattern": {
              "fillmode": "overlay",
              "size": 10,
              "solidity": 0.2
             }
            },
            "type": "barpolar"
           }
          ],
          "carpet": [
           {
            "aaxis": {
             "endlinecolor": "#2a3f5f",
             "gridcolor": "white",
             "linecolor": "white",
             "minorgridcolor": "white",
             "startlinecolor": "#2a3f5f"
            },
            "baxis": {
             "endlinecolor": "#2a3f5f",
             "gridcolor": "white",
             "linecolor": "white",
             "minorgridcolor": "white",
             "startlinecolor": "#2a3f5f"
            },
            "type": "carpet"
           }
          ],
          "choropleth": [
           {
            "colorbar": {
             "outlinewidth": 0,
             "ticks": ""
            },
            "type": "choropleth"
           }
          ],
          "contour": [
           {
            "colorbar": {
             "outlinewidth": 0,
             "ticks": ""
            },
            "colorscale": [
             [
              0,
              "#0d0887"
             ],
             [
              0.1111111111111111,
              "#46039f"
             ],
             [
              0.2222222222222222,
              "#7201a8"
             ],
             [
              0.3333333333333333,
              "#9c179e"
             ],
             [
              0.4444444444444444,
              "#bd3786"
             ],
             [
              0.5555555555555556,
              "#d8576b"
             ],
             [
              0.6666666666666666,
              "#ed7953"
             ],
             [
              0.7777777777777778,
              "#fb9f3a"
             ],
             [
              0.8888888888888888,
              "#fdca26"
             ],
             [
              1,
              "#f0f921"
             ]
            ],
            "type": "contour"
           }
          ],
          "contourcarpet": [
           {
            "colorbar": {
             "outlinewidth": 0,
             "ticks": ""
            },
            "type": "contourcarpet"
           }
          ],
          "heatmap": [
           {
            "colorbar": {
             "outlinewidth": 0,
             "ticks": ""
            },
            "colorscale": [
             [
              0,
              "#0d0887"
             ],
             [
              0.1111111111111111,
              "#46039f"
             ],
             [
              0.2222222222222222,
              "#7201a8"
             ],
             [
              0.3333333333333333,
              "#9c179e"
             ],
             [
              0.4444444444444444,
              "#bd3786"
             ],
             [
              0.5555555555555556,
              "#d8576b"
             ],
             [
              0.6666666666666666,
              "#ed7953"
             ],
             [
              0.7777777777777778,
              "#fb9f3a"
             ],
             [
              0.8888888888888888,
              "#fdca26"
             ],
             [
              1,
              "#f0f921"
             ]
            ],
            "type": "heatmap"
           }
          ],
          "heatmapgl": [
           {
            "colorbar": {
             "outlinewidth": 0,
             "ticks": ""
            },
            "colorscale": [
             [
              0,
              "#0d0887"
             ],
             [
              0.1111111111111111,
              "#46039f"
             ],
             [
              0.2222222222222222,
              "#7201a8"
             ],
             [
              0.3333333333333333,
              "#9c179e"
             ],
             [
              0.4444444444444444,
              "#bd3786"
             ],
             [
              0.5555555555555556,
              "#d8576b"
             ],
             [
              0.6666666666666666,
              "#ed7953"
             ],
             [
              0.7777777777777778,
              "#fb9f3a"
             ],
             [
              0.8888888888888888,
              "#fdca26"
             ],
             [
              1,
              "#f0f921"
             ]
            ],
            "type": "heatmapgl"
           }
          ],
          "histogram": [
           {
            "marker": {
             "pattern": {
              "fillmode": "overlay",
              "size": 10,
              "solidity": 0.2
             }
            },
            "type": "histogram"
           }
          ],
          "histogram2d": [
           {
            "colorbar": {
             "outlinewidth": 0,
             "ticks": ""
            },
            "colorscale": [
             [
              0,
              "#0d0887"
             ],
             [
              0.1111111111111111,
              "#46039f"
             ],
             [
              0.2222222222222222,
              "#7201a8"
             ],
             [
              0.3333333333333333,
              "#9c179e"
             ],
             [
              0.4444444444444444,
              "#bd3786"
             ],
             [
              0.5555555555555556,
              "#d8576b"
             ],
             [
              0.6666666666666666,
              "#ed7953"
             ],
             [
              0.7777777777777778,
              "#fb9f3a"
             ],
             [
              0.8888888888888888,
              "#fdca26"
             ],
             [
              1,
              "#f0f921"
             ]
            ],
            "type": "histogram2d"
           }
          ],
          "histogram2dcontour": [
           {
            "colorbar": {
             "outlinewidth": 0,
             "ticks": ""
            },
            "colorscale": [
             [
              0,
              "#0d0887"
             ],
             [
              0.1111111111111111,
              "#46039f"
             ],
             [
              0.2222222222222222,
              "#7201a8"
             ],
             [
              0.3333333333333333,
              "#9c179e"
             ],
             [
              0.4444444444444444,
              "#bd3786"
             ],
             [
              0.5555555555555556,
              "#d8576b"
             ],
             [
              0.6666666666666666,
              "#ed7953"
             ],
             [
              0.7777777777777778,
              "#fb9f3a"
             ],
             [
              0.8888888888888888,
              "#fdca26"
             ],
             [
              1,
              "#f0f921"
             ]
            ],
            "type": "histogram2dcontour"
           }
          ],
          "mesh3d": [
           {
            "colorbar": {
             "outlinewidth": 0,
             "ticks": ""
            },
            "type": "mesh3d"
           }
          ],
          "parcoords": [
           {
            "line": {
             "colorbar": {
              "outlinewidth": 0,
              "ticks": ""
             }
            },
            "type": "parcoords"
           }
          ],
          "pie": [
           {
            "automargin": true,
            "type": "pie"
           }
          ],
          "scatter": [
           {
            "fillpattern": {
             "fillmode": "overlay",
             "size": 10,
             "solidity": 0.2
            },
            "type": "scatter"
           }
          ],
          "scatter3d": [
           {
            "line": {
             "colorbar": {
              "outlinewidth": 0,
              "ticks": ""
             }
            },
            "marker": {
             "colorbar": {
              "outlinewidth": 0,
              "ticks": ""
             }
            },
            "type": "scatter3d"
           }
          ],
          "scattercarpet": [
           {
            "marker": {
             "colorbar": {
              "outlinewidth": 0,
              "ticks": ""
             }
            },
            "type": "scattercarpet"
           }
          ],
          "scattergeo": [
           {
            "marker": {
             "colorbar": {
              "outlinewidth": 0,
              "ticks": ""
             }
            },
            "type": "scattergeo"
           }
          ],
          "scattergl": [
           {
            "marker": {
             "colorbar": {
              "outlinewidth": 0,
              "ticks": ""
             }
            },
            "type": "scattergl"
           }
          ],
          "scattermapbox": [
           {
            "marker": {
             "colorbar": {
              "outlinewidth": 0,
              "ticks": ""
             }
            },
            "type": "scattermapbox"
           }
          ],
          "scatterpolar": [
           {
            "marker": {
             "colorbar": {
              "outlinewidth": 0,
              "ticks": ""
             }
            },
            "type": "scatterpolar"
           }
          ],
          "scatterpolargl": [
           {
            "marker": {
             "colorbar": {
              "outlinewidth": 0,
              "ticks": ""
             }
            },
            "type": "scatterpolargl"
           }
          ],
          "scatterternary": [
           {
            "marker": {
             "colorbar": {
              "outlinewidth": 0,
              "ticks": ""
             }
            },
            "type": "scatterternary"
           }
          ],
          "surface": [
           {
            "colorbar": {
             "outlinewidth": 0,
             "ticks": ""
            },
            "colorscale": [
             [
              0,
              "#0d0887"
             ],
             [
              0.1111111111111111,
              "#46039f"
             ],
             [
              0.2222222222222222,
              "#7201a8"
             ],
             [
              0.3333333333333333,
              "#9c179e"
             ],
             [
              0.4444444444444444,
              "#bd3786"
             ],
             [
              0.5555555555555556,
              "#d8576b"
             ],
             [
              0.6666666666666666,
              "#ed7953"
             ],
             [
              0.7777777777777778,
              "#fb9f3a"
             ],
             [
              0.8888888888888888,
              "#fdca26"
             ],
             [
              1,
              "#f0f921"
             ]
            ],
            "type": "surface"
           }
          ],
          "table": [
           {
            "cells": {
             "fill": {
              "color": "#EBF0F8"
             },
             "line": {
              "color": "white"
             }
            },
            "header": {
             "fill": {
              "color": "#C8D4E3"
             },
             "line": {
              "color": "white"
             }
            },
            "type": "table"
           }
          ]
         },
         "layout": {
          "annotationdefaults": {
           "arrowcolor": "#2a3f5f",
           "arrowhead": 0,
           "arrowwidth": 1
          },
          "autotypenumbers": "strict",
          "coloraxis": {
           "colorbar": {
            "outlinewidth": 0,
            "ticks": ""
           }
          },
          "colorscale": {
           "diverging": [
            [
             0,
             "#8e0152"
            ],
            [
             0.1,
             "#c51b7d"
            ],
            [
             0.2,
             "#de77ae"
            ],
            [
             0.3,
             "#f1b6da"
            ],
            [
             0.4,
             "#fde0ef"
            ],
            [
             0.5,
             "#f7f7f7"
            ],
            [
             0.6,
             "#e6f5d0"
            ],
            [
             0.7,
             "#b8e186"
            ],
            [
             0.8,
             "#7fbc41"
            ],
            [
             0.9,
             "#4d9221"
            ],
            [
             1,
             "#276419"
            ]
           ],
           "sequential": [
            [
             0,
             "#0d0887"
            ],
            [
             0.1111111111111111,
             "#46039f"
            ],
            [
             0.2222222222222222,
             "#7201a8"
            ],
            [
             0.3333333333333333,
             "#9c179e"
            ],
            [
             0.4444444444444444,
             "#bd3786"
            ],
            [
             0.5555555555555556,
             "#d8576b"
            ],
            [
             0.6666666666666666,
             "#ed7953"
            ],
            [
             0.7777777777777778,
             "#fb9f3a"
            ],
            [
             0.8888888888888888,
             "#fdca26"
            ],
            [
             1,
             "#f0f921"
            ]
           ],
           "sequentialminus": [
            [
             0,
             "#0d0887"
            ],
            [
             0.1111111111111111,
             "#46039f"
            ],
            [
             0.2222222222222222,
             "#7201a8"
            ],
            [
             0.3333333333333333,
             "#9c179e"
            ],
            [
             0.4444444444444444,
             "#bd3786"
            ],
            [
             0.5555555555555556,
             "#d8576b"
            ],
            [
             0.6666666666666666,
             "#ed7953"
            ],
            [
             0.7777777777777778,
             "#fb9f3a"
            ],
            [
             0.8888888888888888,
             "#fdca26"
            ],
            [
             1,
             "#f0f921"
            ]
           ]
          },
          "colorway": [
           "#636efa",
           "#EF553B",
           "#00cc96",
           "#ab63fa",
           "#FFA15A",
           "#19d3f3",
           "#FF6692",
           "#B6E880",
           "#FF97FF",
           "#FECB52"
          ],
          "font": {
           "color": "#2a3f5f"
          },
          "geo": {
           "bgcolor": "white",
           "lakecolor": "white",
           "landcolor": "#E5ECF6",
           "showlakes": true,
           "showland": true,
           "subunitcolor": "white"
          },
          "hoverlabel": {
           "align": "left"
          },
          "hovermode": "closest",
          "mapbox": {
           "style": "light"
          },
          "paper_bgcolor": "white",
          "plot_bgcolor": "#E5ECF6",
          "polar": {
           "angularaxis": {
            "gridcolor": "white",
            "linecolor": "white",
            "ticks": ""
           },
           "bgcolor": "#E5ECF6",
           "radialaxis": {
            "gridcolor": "white",
            "linecolor": "white",
            "ticks": ""
           }
          },
          "scene": {
           "xaxis": {
            "backgroundcolor": "#E5ECF6",
            "gridcolor": "white",
            "gridwidth": 2,
            "linecolor": "white",
            "showbackground": true,
            "ticks": "",
            "zerolinecolor": "white"
           },
           "yaxis": {
            "backgroundcolor": "#E5ECF6",
            "gridcolor": "white",
            "gridwidth": 2,
            "linecolor": "white",
            "showbackground": true,
            "ticks": "",
            "zerolinecolor": "white"
           },
           "zaxis": {
            "backgroundcolor": "#E5ECF6",
            "gridcolor": "white",
            "gridwidth": 2,
            "linecolor": "white",
            "showbackground": true,
            "ticks": "",
            "zerolinecolor": "white"
           }
          },
          "shapedefaults": {
           "line": {
            "color": "#2a3f5f"
           }
          },
          "ternary": {
           "aaxis": {
            "gridcolor": "white",
            "linecolor": "white",
            "ticks": ""
           },
           "baxis": {
            "gridcolor": "white",
            "linecolor": "white",
            "ticks": ""
           },
           "bgcolor": "#E5ECF6",
           "caxis": {
            "gridcolor": "white",
            "linecolor": "white",
            "ticks": ""
           }
          },
          "title": {
           "x": 0.05
          },
          "xaxis": {
           "automargin": true,
           "gridcolor": "white",
           "linecolor": "white",
           "ticks": "",
           "title": {
            "standoff": 15
           },
           "zerolinecolor": "white",
           "zerolinewidth": 2
          },
          "yaxis": {
           "automargin": true,
           "gridcolor": "white",
           "linecolor": "white",
           "ticks": "",
           "title": {
            "standoff": 15
           },
           "zerolinecolor": "white",
           "zerolinewidth": 2
          }
         }
        },
        "title": {
         "text": "Strength of topics terms (Cluster 2)"
        },
        "width": 300,
        "xaxis": {
         "anchor": "y",
         "domain": [
          0,
          1
         ],
         "title": {
          "text": "Strength"
         }
        },
        "yaxis": {
         "anchor": "x",
         "domain": [
          0,
          1
         ],
         "title": {
          "text": "Term"
         }
        }
       }
      },
      "text/html": [
       "<div>                            <div id=\"ff7a6dab-3b18-42e9-811d-e514e13bb864\" class=\"plotly-graph-div\" style=\"height:700px; width:300px;\"></div>            <script type=\"text/javascript\">                require([\"plotly\"], function(Plotly) {                    window.PLOTLYENV=window.PLOTLYENV || {};                                    if (document.getElementById(\"ff7a6dab-3b18-42e9-811d-e514e13bb864\")) {                    Plotly.newPlot(                        \"ff7a6dab-3b18-42e9-811d-e514e13bb864\",                        [{\"alignmentgroup\":\"True\",\"hovertemplate\":\"Topic=0<br>Strength=%{x}<br>Term=%{y}<extra></extra>\",\"legendgroup\":\"0\",\"marker\":{\"color\":\"#636efa\",\"pattern\":{\"shape\":\"\"}},\"name\":\"0\",\"offsetgroup\":\"0\",\"orientation\":\"h\",\"showlegend\":true,\"textposition\":\"auto\",\"x\":[-0.188,-0.122,-0.101,-0.1,-0.1,-0.097,-0.093,-0.085,-0.085,-0.08],\"xaxis\":\"x\",\"y\":[\"teacher\",\"medical\",\"competence\",\"competence_base\",\"\",\"digital\",\"competency\",\"student\",\"curriculum\",\"training\"],\"yaxis\":\"y\",\"type\":\"bar\"},{\"alignmentgroup\":\"True\",\"hovertemplate\":\"Topic=2<br>Strength=%{x}<br>Term=%{y}<extra></extra>\",\"legendgroup\":\"2\",\"marker\":{\"color\":\"#EF553B\",\"pattern\":{\"shape\":\"\"}},\"name\":\"2\",\"offsetgroup\":\"2\",\"orientation\":\"h\",\"showlegend\":true,\"textposition\":\"auto\",\"x\":[-0.148,-0.147,-0.128,-0.115,-0.097,-0.089,0.102,0.111,0.124,0.225],\"xaxis\":\"x\",\"y\":[\"medical\",\"cbe\",\"competence_base\",\"teacher\",\"base_education\",\"education_training\",\"skill\",\"scientific\",\"digital\",\"\"],\"yaxis\":\"y\",\"type\":\"bar\"}],                        {\"template\":{\"data\":{\"histogram2dcontour\":[{\"type\":\"histogram2dcontour\",\"colorbar\":{\"outlinewidth\":0,\"ticks\":\"\"},\"colorscale\":[[0.0,\"#0d0887\"],[0.1111111111111111,\"#46039f\"],[0.2222222222222222,\"#7201a8\"],[0.3333333333333333,\"#9c179e\"],[0.4444444444444444,\"#bd3786\"],[0.5555555555555556,\"#d8576b\"],[0.6666666666666666,\"#ed7953\"],[0.7777777777777778,\"#fb9f3a\"],[0.8888888888888888,\"#fdca26\"],[1.0,\"#f0f921\"]]}],\"choropleth\":[{\"type\":\"choropleth\",\"colorbar\":{\"outlinewidth\":0,\"ticks\":\"\"}}],\"histogram2d\":[{\"type\":\"histogram2d\",\"colorbar\":{\"outlinewidth\":0,\"ticks\":\"\"},\"colorscale\":[[0.0,\"#0d0887\"],[0.1111111111111111,\"#46039f\"],[0.2222222222222222,\"#7201a8\"],[0.3333333333333333,\"#9c179e\"],[0.4444444444444444,\"#bd3786\"],[0.5555555555555556,\"#d8576b\"],[0.6666666666666666,\"#ed7953\"],[0.7777777777777778,\"#fb9f3a\"],[0.8888888888888888,\"#fdca26\"],[1.0,\"#f0f921\"]]}],\"heatmap\":[{\"type\":\"heatmap\",\"colorbar\":{\"outlinewidth\":0,\"ticks\":\"\"},\"colorscale\":[[0.0,\"#0d0887\"],[0.1111111111111111,\"#46039f\"],[0.2222222222222222,\"#7201a8\"],[0.3333333333333333,\"#9c179e\"],[0.4444444444444444,\"#bd3786\"],[0.5555555555555556,\"#d8576b\"],[0.6666666666666666,\"#ed7953\"],[0.7777777777777778,\"#fb9f3a\"],[0.8888888888888888,\"#fdca26\"],[1.0,\"#f0f921\"]]}],\"heatmapgl\":[{\"type\":\"heatmapgl\",\"colorbar\":{\"outlinewidth\":0,\"ticks\":\"\"},\"colorscale\":[[0.0,\"#0d0887\"],[0.1111111111111111,\"#46039f\"],[0.2222222222222222,\"#7201a8\"],[0.3333333333333333,\"#9c179e\"],[0.4444444444444444,\"#bd3786\"],[0.5555555555555556,\"#d8576b\"],[0.6666666666666666,\"#ed7953\"],[0.7777777777777778,\"#fb9f3a\"],[0.8888888888888888,\"#fdca26\"],[1.0,\"#f0f921\"]]}],\"contourcarpet\":[{\"type\":\"contourcarpet\",\"colorbar\":{\"outlinewidth\":0,\"ticks\":\"\"}}],\"contour\":[{\"type\":\"contour\",\"colorbar\":{\"outlinewidth\":0,\"ticks\":\"\"},\"colorscale\":[[0.0,\"#0d0887\"],[0.1111111111111111,\"#46039f\"],[0.2222222222222222,\"#7201a8\"],[0.3333333333333333,\"#9c179e\"],[0.4444444444444444,\"#bd3786\"],[0.5555555555555556,\"#d8576b\"],[0.6666666666666666,\"#ed7953\"],[0.7777777777777778,\"#fb9f3a\"],[0.8888888888888888,\"#fdca26\"],[1.0,\"#f0f921\"]]}],\"surface\":[{\"type\":\"surface\",\"colorbar\":{\"outlinewidth\":0,\"ticks\":\"\"},\"colorscale\":[[0.0,\"#0d0887\"],[0.1111111111111111,\"#46039f\"],[0.2222222222222222,\"#7201a8\"],[0.3333333333333333,\"#9c179e\"],[0.4444444444444444,\"#bd3786\"],[0.5555555555555556,\"#d8576b\"],[0.6666666666666666,\"#ed7953\"],[0.7777777777777778,\"#fb9f3a\"],[0.8888888888888888,\"#fdca26\"],[1.0,\"#f0f921\"]]}],\"mesh3d\":[{\"type\":\"mesh3d\",\"colorbar\":{\"outlinewidth\":0,\"ticks\":\"\"}}],\"scatter\":[{\"fillpattern\":{\"fillmode\":\"overlay\",\"size\":10,\"solidity\":0.2},\"type\":\"scatter\"}],\"parcoords\":[{\"type\":\"parcoords\",\"line\":{\"colorbar\":{\"outlinewidth\":0,\"ticks\":\"\"}}}],\"scatterpolargl\":[{\"type\":\"scatterpolargl\",\"marker\":{\"colorbar\":{\"outlinewidth\":0,\"ticks\":\"\"}}}],\"bar\":[{\"error_x\":{\"color\":\"#2a3f5f\"},\"error_y\":{\"color\":\"#2a3f5f\"},\"marker\":{\"line\":{\"color\":\"#E5ECF6\",\"width\":0.5},\"pattern\":{\"fillmode\":\"overlay\",\"size\":10,\"solidity\":0.2}},\"type\":\"bar\"}],\"scattergeo\":[{\"type\":\"scattergeo\",\"marker\":{\"colorbar\":{\"outlinewidth\":0,\"ticks\":\"\"}}}],\"scatterpolar\":[{\"type\":\"scatterpolar\",\"marker\":{\"colorbar\":{\"outlinewidth\":0,\"ticks\":\"\"}}}],\"histogram\":[{\"marker\":{\"pattern\":{\"fillmode\":\"overlay\",\"size\":10,\"solidity\":0.2}},\"type\":\"histogram\"}],\"scattergl\":[{\"type\":\"scattergl\",\"marker\":{\"colorbar\":{\"outlinewidth\":0,\"ticks\":\"\"}}}],\"scatter3d\":[{\"type\":\"scatter3d\",\"line\":{\"colorbar\":{\"outlinewidth\":0,\"ticks\":\"\"}},\"marker\":{\"colorbar\":{\"outlinewidth\":0,\"ticks\":\"\"}}}],\"scattermapbox\":[{\"type\":\"scattermapbox\",\"marker\":{\"colorbar\":{\"outlinewidth\":0,\"ticks\":\"\"}}}],\"scatterternary\":[{\"type\":\"scatterternary\",\"marker\":{\"colorbar\":{\"outlinewidth\":0,\"ticks\":\"\"}}}],\"scattercarpet\":[{\"type\":\"scattercarpet\",\"marker\":{\"colorbar\":{\"outlinewidth\":0,\"ticks\":\"\"}}}],\"carpet\":[{\"aaxis\":{\"endlinecolor\":\"#2a3f5f\",\"gridcolor\":\"white\",\"linecolor\":\"white\",\"minorgridcolor\":\"white\",\"startlinecolor\":\"#2a3f5f\"},\"baxis\":{\"endlinecolor\":\"#2a3f5f\",\"gridcolor\":\"white\",\"linecolor\":\"white\",\"minorgridcolor\":\"white\",\"startlinecolor\":\"#2a3f5f\"},\"type\":\"carpet\"}],\"table\":[{\"cells\":{\"fill\":{\"color\":\"#EBF0F8\"},\"line\":{\"color\":\"white\"}},\"header\":{\"fill\":{\"color\":\"#C8D4E3\"},\"line\":{\"color\":\"white\"}},\"type\":\"table\"}],\"barpolar\":[{\"marker\":{\"line\":{\"color\":\"#E5ECF6\",\"width\":0.5},\"pattern\":{\"fillmode\":\"overlay\",\"size\":10,\"solidity\":0.2}},\"type\":\"barpolar\"}],\"pie\":[{\"automargin\":true,\"type\":\"pie\"}]},\"layout\":{\"autotypenumbers\":\"strict\",\"colorway\":[\"#636efa\",\"#EF553B\",\"#00cc96\",\"#ab63fa\",\"#FFA15A\",\"#19d3f3\",\"#FF6692\",\"#B6E880\",\"#FF97FF\",\"#FECB52\"],\"font\":{\"color\":\"#2a3f5f\"},\"hovermode\":\"closest\",\"hoverlabel\":{\"align\":\"left\"},\"paper_bgcolor\":\"white\",\"plot_bgcolor\":\"#E5ECF6\",\"polar\":{\"bgcolor\":\"#E5ECF6\",\"angularaxis\":{\"gridcolor\":\"white\",\"linecolor\":\"white\",\"ticks\":\"\"},\"radialaxis\":{\"gridcolor\":\"white\",\"linecolor\":\"white\",\"ticks\":\"\"}},\"ternary\":{\"bgcolor\":\"#E5ECF6\",\"aaxis\":{\"gridcolor\":\"white\",\"linecolor\":\"white\",\"ticks\":\"\"},\"baxis\":{\"gridcolor\":\"white\",\"linecolor\":\"white\",\"ticks\":\"\"},\"caxis\":{\"gridcolor\":\"white\",\"linecolor\":\"white\",\"ticks\":\"\"}},\"coloraxis\":{\"colorbar\":{\"outlinewidth\":0,\"ticks\":\"\"}},\"colorscale\":{\"sequential\":[[0.0,\"#0d0887\"],[0.1111111111111111,\"#46039f\"],[0.2222222222222222,\"#7201a8\"],[0.3333333333333333,\"#9c179e\"],[0.4444444444444444,\"#bd3786\"],[0.5555555555555556,\"#d8576b\"],[0.6666666666666666,\"#ed7953\"],[0.7777777777777778,\"#fb9f3a\"],[0.8888888888888888,\"#fdca26\"],[1.0,\"#f0f921\"]],\"sequentialminus\":[[0.0,\"#0d0887\"],[0.1111111111111111,\"#46039f\"],[0.2222222222222222,\"#7201a8\"],[0.3333333333333333,\"#9c179e\"],[0.4444444444444444,\"#bd3786\"],[0.5555555555555556,\"#d8576b\"],[0.6666666666666666,\"#ed7953\"],[0.7777777777777778,\"#fb9f3a\"],[0.8888888888888888,\"#fdca26\"],[1.0,\"#f0f921\"]],\"diverging\":[[0,\"#8e0152\"],[0.1,\"#c51b7d\"],[0.2,\"#de77ae\"],[0.3,\"#f1b6da\"],[0.4,\"#fde0ef\"],[0.5,\"#f7f7f7\"],[0.6,\"#e6f5d0\"],[0.7,\"#b8e186\"],[0.8,\"#7fbc41\"],[0.9,\"#4d9221\"],[1,\"#276419\"]]},\"xaxis\":{\"gridcolor\":\"white\",\"linecolor\":\"white\",\"ticks\":\"\",\"title\":{\"standoff\":15},\"zerolinecolor\":\"white\",\"automargin\":true,\"zerolinewidth\":2},\"yaxis\":{\"gridcolor\":\"white\",\"linecolor\":\"white\",\"ticks\":\"\",\"title\":{\"standoff\":15},\"zerolinecolor\":\"white\",\"automargin\":true,\"zerolinewidth\":2},\"scene\":{\"xaxis\":{\"backgroundcolor\":\"#E5ECF6\",\"gridcolor\":\"white\",\"linecolor\":\"white\",\"showbackground\":true,\"ticks\":\"\",\"zerolinecolor\":\"white\",\"gridwidth\":2},\"yaxis\":{\"backgroundcolor\":\"#E5ECF6\",\"gridcolor\":\"white\",\"linecolor\":\"white\",\"showbackground\":true,\"ticks\":\"\",\"zerolinecolor\":\"white\",\"gridwidth\":2},\"zaxis\":{\"backgroundcolor\":\"#E5ECF6\",\"gridcolor\":\"white\",\"linecolor\":\"white\",\"showbackground\":true,\"ticks\":\"\",\"zerolinecolor\":\"white\",\"gridwidth\":2}},\"shapedefaults\":{\"line\":{\"color\":\"#2a3f5f\"}},\"annotationdefaults\":{\"arrowcolor\":\"#2a3f5f\",\"arrowhead\":0,\"arrowwidth\":1},\"geo\":{\"bgcolor\":\"white\",\"landcolor\":\"#E5ECF6\",\"subunitcolor\":\"white\",\"showland\":true,\"showlakes\":true,\"lakecolor\":\"white\"},\"title\":{\"x\":0.05},\"mapbox\":{\"style\":\"light\"}}},\"xaxis\":{\"anchor\":\"y\",\"domain\":[0.0,1.0],\"title\":{\"text\":\"Strength\"}},\"yaxis\":{\"anchor\":\"x\",\"domain\":[0.0,1.0],\"title\":{\"text\":\"Term\"}},\"legend\":{\"title\":{\"text\":\"Topic\"},\"tracegroupgap\":0},\"title\":{\"text\":\"Strength of topics terms (Cluster 2)\"},\"barmode\":\"relative\",\"font\":{\"size\":8},\"height\":700,\"width\":300},                        {\"responsive\": true}                    ).then(function(){\n",
       "                            \n",
       "var gd = document.getElementById('ff7a6dab-3b18-42e9-811d-e514e13bb864');\n",
       "var x = new MutationObserver(function (mutations, observer) {{\n",
       "        var display = window.getComputedStyle(gd).display;\n",
       "        if (!display || display === 'none') {{\n",
       "            console.log([gd, 'removed!']);\n",
       "            Plotly.purge(gd);\n",
       "            observer.disconnect();\n",
       "        }}\n",
       "}});\n",
       "\n",
       "// Listen for the removal of the full notebook cells\n",
       "var notebookContainer = gd.closest('#notebook-container');\n",
       "if (notebookContainer) {{\n",
       "    x.observe(notebookContainer, {childList: true});\n",
       "}}\n",
       "\n",
       "// Listen for the clearing of the current output cell\n",
       "var outputEl = gd.closest('.output');\n",
       "if (outputEl) {{\n",
       "    x.observe(outputEl, {childList: true});\n",
       "}}\n",
       "\n",
       "                        })                };                });            </script>        </div>"
      ]
     },
     "metadata": {},
     "output_type": "display_data"
    }
   ],
   "source": [
    "table_strength = pd.DataFrame(strengths_per_topic)\n",
    "table_strength = table_strength[table_strength[\"Topic\"].isin(relevant_topics)]\n",
    "table_strength = table_strength.sort_values(\"Strength\", ascending=True)\n",
    "\n",
    "fig = px.bar(table_strength, color=\"Topic\", y=\"Term\", x=\"Strength\", title=f\"Strength of topics terms (Cluster {cluster_id})\")\n",
    "fig.update_layout(\n",
    "    font=dict(\n",
    "        size=8\n",
    "    ),\n",
    "    height=700,\n",
    "    width=300\n",
    ")\n",
    "fig.show()"
   ]
  }
 ],
 "metadata": {
  "kernelspec": {
   "display_name": "Python 3",
   "language": "python",
   "name": "python3"
  },
  "language_info": {
   "codemirror_mode": {
    "name": "ipython",
    "version": 3
   },
   "file_extension": ".py",
   "mimetype": "text/x-python",
   "name": "python",
   "nbconvert_exporter": "python",
   "pygments_lexer": "ipython3",
   "version": "3.8.12"
  }
 },
 "nbformat": 4,
 "nbformat_minor": 4
}
