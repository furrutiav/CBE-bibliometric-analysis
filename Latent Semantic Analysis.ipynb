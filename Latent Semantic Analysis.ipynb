{
 "cells": [
  {
   "cell_type": "code",
   "execution_count": 4,
   "metadata": {},
   "outputs": [
    {
     "name": "stdout",
     "output_type": "stream",
     "text": [
      "Collecting gensim\n",
      "  Downloading gensim-4.2.0-cp38-cp38-win_amd64.whl (24.0 MB)\n",
      "Requirement already satisfied: smart-open>=1.8.1 in c:\\users\\felip\\anaconda3\\lib\\site-packages (from gensim) (5.2.1)\n",
      "Requirement already satisfied: numpy>=1.17.0 in c:\\users\\felip\\anaconda3\\lib\\site-packages (from gensim) (1.21.5)\n",
      "Collecting Cython==0.29.28\n",
      "  Downloading Cython-0.29.28-py2.py3-none-any.whl (983 kB)\n",
      "Requirement already satisfied: scipy>=0.18.1 in c:\\users\\felip\\anaconda3\\lib\\site-packages (from gensim) (1.7.3)\n",
      "Installing collected packages: Cython, gensim\n",
      "  Attempting uninstall: Cython\n",
      "    Found existing installation: Cython 0.29.25\n",
      "    Uninstalling Cython-0.29.25:\n",
      "      Successfully uninstalled Cython-0.29.25\n",
      "Successfully installed Cython-0.29.28 gensim-4.2.0\n"
     ]
    },
    {
     "name": "stderr",
     "output_type": "stream",
     "text": [
      "WARNING: Error parsing requirements for torch: [Errno 2] No such file or directory: 'c:\\\\users\\\\felip\\\\anaconda3\\\\lib\\\\site-packages\\\\torch-1.11.0.dist-info\\\\METADATA'\n"
     ]
    }
   ],
   "source": [
    "!pip install gensim"
   ]
  },
  {
   "cell_type": "code",
   "execution_count": 22,
   "metadata": {},
   "outputs": [],
   "source": [
    "import csv\n",
    "import pandas as pd\n",
    "import numpy as np\n",
    "\n",
    "import os.path\n",
    "from gensim import corpora\n",
    "from gensim.models import LsiModel\n",
    "from nltk.tokenize import RegexpTokenizer\n",
    "from nltk.corpus import stopwords\n",
    "from nltk.stem.porter import PorterStemmer\n",
    "from gensim.models.coherencemodel import CoherenceModel\n",
    "import matplotlib.pyplot as plt\n",
    "import plotly.express as px"
   ]
  },
  {
   "cell_type": "code",
   "execution_count": 9,
   "metadata": {},
   "outputs": [
    {
     "name": "stdout",
     "output_type": "stream",
     "text": [
      "<class 'pandas.core.frame.DataFrame'>\n",
      "RangeIndex: 908 entries, 0 to 907\n",
      "Data columns (total 23 columns):\n",
      " #   Column             Non-Null Count  Dtype  \n",
      "---  ------             --------------  -----  \n",
      " 0   Authors            908 non-null    object \n",
      " 1   Author(s) ID       907 non-null    object \n",
      " 2   Title              908 non-null    object \n",
      " 3   Year               908 non-null    int64  \n",
      " 4   Source title       908 non-null    object \n",
      " 5   Volume             871 non-null    object \n",
      " 6   Issue              802 non-null    object \n",
      " 7   Art. No.           144 non-null    object \n",
      " 8   Page start         756 non-null    object \n",
      " 9   Page end           756 non-null    object \n",
      " 10  Page count         1 non-null      float64\n",
      " 11  Cited by           724 non-null    float64\n",
      " 12  DOI                803 non-null    object \n",
      " 13  Link               908 non-null    object \n",
      " 14  Abstract           908 non-null    object \n",
      " 15  Author Keywords    783 non-null    object \n",
      " 16  Index Keywords     221 non-null    object \n",
      " 17  References         901 non-null    object \n",
      " 18  Document Type      908 non-null    object \n",
      " 19  Publication Stage  908 non-null    object \n",
      " 20  Open Access        379 non-null    object \n",
      " 21  Source             908 non-null    object \n",
      " 22  EID                908 non-null    object \n",
      "dtypes: float64(2), int64(1), object(20)\n",
      "memory usage: 163.3+ KB\n"
     ]
    }
   ],
   "source": [
    "file_name = \"scopus.csv\"\n",
    "df_scopus = pd.read_csv(file_name)\n",
    "df_scopus.info()"
   ]
  },
  {
   "cell_type": "code",
   "execution_count": 10,
   "metadata": {},
   "outputs": [],
   "source": [
    "relevant_columns = {\"index\": \"DOI\", \"LSA\": \"Title  Abstract  Author Keywords  Index Keywords\".split(\"  \")}"
   ]
  },
  {
   "cell_type": "code",
   "execution_count": 11,
   "metadata": {},
   "outputs": [
    {
     "data": {
      "text/html": [
       "<div>\n",
       "<style scoped>\n",
       "    .dataframe tbody tr th:only-of-type {\n",
       "        vertical-align: middle;\n",
       "    }\n",
       "\n",
       "    .dataframe tbody tr th {\n",
       "        vertical-align: top;\n",
       "    }\n",
       "\n",
       "    .dataframe thead th {\n",
       "        text-align: right;\n",
       "    }\n",
       "</style>\n",
       "<table border=\"1\" class=\"dataframe\">\n",
       "  <thead>\n",
       "    <tr style=\"text-align: right;\">\n",
       "      <th></th>\n",
       "      <th>Title</th>\n",
       "      <th>Abstract</th>\n",
       "      <th>Author Keywords</th>\n",
       "      <th>Index Keywords</th>\n",
       "    </tr>\n",
       "    <tr>\n",
       "      <th>DOI</th>\n",
       "      <th></th>\n",
       "      <th></th>\n",
       "      <th></th>\n",
       "      <th></th>\n",
       "    </tr>\n",
       "  </thead>\n",
       "  <tbody>\n",
       "    <tr>\n",
       "      <th>10.1108/IJSHE-12-2020-0484</th>\n",
       "      <td>Students’ learning sustainability – implicit, ...</td>\n",
       "      <td>Purpose: This study aims to understand better ...</td>\n",
       "      <td>Higher education institutions (HEIs); Sustaina...</td>\n",
       "      <td></td>\n",
       "    </tr>\n",
       "    <tr>\n",
       "      <th>10.1057/s41599-022-01129-0</th>\n",
       "      <td>Going beyond the AHA! moment: insight discover...</td>\n",
       "      <td>In this paper, we develop and apply the concep...</td>\n",
       "      <td></td>\n",
       "      <td></td>\n",
       "    </tr>\n",
       "    <tr>\n",
       "      <th>10.1186/s12909-022-03308-8</th>\n",
       "      <td>An online Delphi study to investigate the comp...</td>\n",
       "      <td>Background: Several competency frameworks are ...</td>\n",
       "      <td>Allied health disciplines; CanMEDS; Continuous...</td>\n",
       "      <td>article; audiology; Belgium; clinical article;...</td>\n",
       "    </tr>\n",
       "    <tr>\n",
       "      <th>10.1186/s12909-022-03283-0</th>\n",
       "      <td>How do medical students learn conceptual knowl...</td>\n",
       "      <td>Background: Acquiring medical knowledge is a k...</td>\n",
       "      <td>Learning difficulties; Learning techniques; Me...</td>\n",
       "      <td>adult; article; controlled study; curriculum; ...</td>\n",
       "    </tr>\n",
       "    <tr>\n",
       "      <th>10.1186/s12909-022-03259-0</th>\n",
       "      <td>How medical students co-regulate their learnin...</td>\n",
       "      <td>Background: Self-regulated learning is a key c...</td>\n",
       "      <td>Clinical clerkships; Co-regulated learning; Me...</td>\n",
       "      <td>clinical education; human; learning; medical e...</td>\n",
       "    </tr>\n",
       "    <tr>\n",
       "      <th>...</th>\n",
       "      <td>...</td>\n",
       "      <td>...</td>\n",
       "      <td>...</td>\n",
       "      <td>...</td>\n",
       "    </tr>\n",
       "    <tr>\n",
       "      <th>10.1080/0309877920160311</th>\n",
       "      <td>“Quality Management’ or “The Educative Workpla...</td>\n",
       "      <td>Competence-based education has been the topic ...</td>\n",
       "      <td></td>\n",
       "      <td></td>\n",
       "    </tr>\n",
       "    <tr>\n",
       "      <th>10.1016/0261-5177(92)90051-8</th>\n",
       "      <td>The implications of competence based education...</td>\n",
       "      <td></td>\n",
       "      <td></td>\n",
       "      <td></td>\n",
       "    </tr>\n",
       "    <tr>\n",
       "      <th>10.1080/00048623.1992.10754796</th>\n",
       "      <td>Information Literacy — A Core Competency</td>\n",
       "      <td>The Finn Report highlights the need for young ...</td>\n",
       "      <td></td>\n",
       "      <td></td>\n",
       "    </tr>\n",
       "    <tr>\n",
       "      <th>10.1080/0305763910170105</th>\n",
       "      <td>Competence‐based training a new programme in f...</td>\n",
       "      <td></td>\n",
       "      <td></td>\n",
       "      <td></td>\n",
       "    </tr>\n",
       "    <tr>\n",
       "      <th>10.1080/02615479011220121</th>\n",
       "      <td>CATS and Quality</td>\n",
       "      <td>CCETSW has encouraged DipSW programme provider...</td>\n",
       "      <td></td>\n",
       "      <td></td>\n",
       "    </tr>\n",
       "  </tbody>\n",
       "</table>\n",
       "<p>908 rows × 4 columns</p>\n",
       "</div>"
      ],
      "text/plain": [
       "                                                                            Title  \\\n",
       "DOI                                                                                 \n",
       "10.1108/IJSHE-12-2020-0484      Students’ learning sustainability – implicit, ...   \n",
       "10.1057/s41599-022-01129-0      Going beyond the AHA! moment: insight discover...   \n",
       "10.1186/s12909-022-03308-8      An online Delphi study to investigate the comp...   \n",
       "10.1186/s12909-022-03283-0      How do medical students learn conceptual knowl...   \n",
       "10.1186/s12909-022-03259-0      How medical students co-regulate their learnin...   \n",
       "...                                                                           ...   \n",
       "10.1080/0309877920160311        “Quality Management’ or “The Educative Workpla...   \n",
       "10.1016/0261-5177(92)90051-8    The implications of competence based education...   \n",
       "10.1080/00048623.1992.10754796           Information Literacy — A Core Competency   \n",
       "10.1080/0305763910170105        Competence‐based training a new programme in f...   \n",
       "10.1080/02615479011220121                                        CATS and Quality   \n",
       "\n",
       "                                                                         Abstract  \\\n",
       "DOI                                                                                 \n",
       "10.1108/IJSHE-12-2020-0484      Purpose: This study aims to understand better ...   \n",
       "10.1057/s41599-022-01129-0      In this paper, we develop and apply the concep...   \n",
       "10.1186/s12909-022-03308-8      Background: Several competency frameworks are ...   \n",
       "10.1186/s12909-022-03283-0      Background: Acquiring medical knowledge is a k...   \n",
       "10.1186/s12909-022-03259-0      Background: Self-regulated learning is a key c...   \n",
       "...                                                                           ...   \n",
       "10.1080/0309877920160311        Competence-based education has been the topic ...   \n",
       "10.1016/0261-5177(92)90051-8                                                        \n",
       "10.1080/00048623.1992.10754796  The Finn Report highlights the need for young ...   \n",
       "10.1080/0305763910170105                                                            \n",
       "10.1080/02615479011220121       CCETSW has encouraged DipSW programme provider...   \n",
       "\n",
       "                                                                  Author Keywords  \\\n",
       "DOI                                                                                 \n",
       "10.1108/IJSHE-12-2020-0484      Higher education institutions (HEIs); Sustaina...   \n",
       "10.1057/s41599-022-01129-0                                                          \n",
       "10.1186/s12909-022-03308-8      Allied health disciplines; CanMEDS; Continuous...   \n",
       "10.1186/s12909-022-03283-0      Learning difficulties; Learning techniques; Me...   \n",
       "10.1186/s12909-022-03259-0      Clinical clerkships; Co-regulated learning; Me...   \n",
       "...                                                                           ...   \n",
       "10.1080/0309877920160311                                                            \n",
       "10.1016/0261-5177(92)90051-8                                                        \n",
       "10.1080/00048623.1992.10754796                                                      \n",
       "10.1080/0305763910170105                                                            \n",
       "10.1080/02615479011220121                                                           \n",
       "\n",
       "                                                                   Index Keywords  \n",
       "DOI                                                                                \n",
       "10.1108/IJSHE-12-2020-0484                                                         \n",
       "10.1057/s41599-022-01129-0                                                         \n",
       "10.1186/s12909-022-03308-8      article; audiology; Belgium; clinical article;...  \n",
       "10.1186/s12909-022-03283-0      adult; article; controlled study; curriculum; ...  \n",
       "10.1186/s12909-022-03259-0      clinical education; human; learning; medical e...  \n",
       "...                                                                           ...  \n",
       "10.1080/0309877920160311                                                           \n",
       "10.1016/0261-5177(92)90051-8                                                       \n",
       "10.1080/00048623.1992.10754796                                                     \n",
       "10.1080/0305763910170105                                                           \n",
       "10.1080/02615479011220121                                                          \n",
       "\n",
       "[908 rows x 4 columns]"
      ]
     },
     "execution_count": 11,
     "metadata": {},
     "output_type": "execute_result"
    }
   ],
   "source": [
    "df_docs = df_scopus[[\"DOI\"]+relevant_columns[\"LSA\"]]\n",
    "df_docs = df_docs.set_index(\"DOI\")\n",
    "df_docs[\"Abstract\"] = df_docs[\"Abstract\"].replace({\"[No abstract available]\": np.nan})\n",
    "df_docs = df_docs.fillna(\"\")\n",
    "df_docs"
   ]
  },
  {
   "cell_type": "code",
   "execution_count": 12,
   "metadata": {},
   "outputs": [
    {
     "data": {
      "text/html": [
       "<div>\n",
       "<style scoped>\n",
       "    .dataframe tbody tr th:only-of-type {\n",
       "        vertical-align: middle;\n",
       "    }\n",
       "\n",
       "    .dataframe tbody tr th {\n",
       "        vertical-align: top;\n",
       "    }\n",
       "\n",
       "    .dataframe thead th {\n",
       "        text-align: right;\n",
       "    }\n",
       "</style>\n",
       "<table border=\"1\" class=\"dataframe\">\n",
       "  <thead>\n",
       "    <tr style=\"text-align: right;\">\n",
       "      <th></th>\n",
       "      <th>Title</th>\n",
       "      <th>Abstract</th>\n",
       "      <th>Author Keywords</th>\n",
       "      <th>Index Keywords</th>\n",
       "      <th>doc</th>\n",
       "    </tr>\n",
       "    <tr>\n",
       "      <th>DOI</th>\n",
       "      <th></th>\n",
       "      <th></th>\n",
       "      <th></th>\n",
       "      <th></th>\n",
       "      <th></th>\n",
       "    </tr>\n",
       "  </thead>\n",
       "  <tbody>\n",
       "    <tr>\n",
       "      <th>10.1108/IJSHE-12-2020-0484</th>\n",
       "      <td>Students’ learning sustainability – implicit, ...</td>\n",
       "      <td>Purpose: This study aims to understand better ...</td>\n",
       "      <td>Higher education institutions (HEIs); Sustaina...</td>\n",
       "      <td></td>\n",
       "      <td>Students’ learning sustainability – implicit, ...</td>\n",
       "    </tr>\n",
       "    <tr>\n",
       "      <th>10.1057/s41599-022-01129-0</th>\n",
       "      <td>Going beyond the AHA! moment: insight discover...</td>\n",
       "      <td>In this paper, we develop and apply the concep...</td>\n",
       "      <td></td>\n",
       "      <td></td>\n",
       "      <td>Going beyond the AHA! moment: insight discover...</td>\n",
       "    </tr>\n",
       "    <tr>\n",
       "      <th>10.1186/s12909-022-03308-8</th>\n",
       "      <td>An online Delphi study to investigate the comp...</td>\n",
       "      <td>Background: Several competency frameworks are ...</td>\n",
       "      <td>Allied health disciplines; CanMEDS; Continuous...</td>\n",
       "      <td>article; audiology; Belgium; clinical article;...</td>\n",
       "      <td>An online Delphi study to investigate the comp...</td>\n",
       "    </tr>\n",
       "    <tr>\n",
       "      <th>10.1186/s12909-022-03283-0</th>\n",
       "      <td>How do medical students learn conceptual knowl...</td>\n",
       "      <td>Background: Acquiring medical knowledge is a k...</td>\n",
       "      <td>Learning difficulties; Learning techniques; Me...</td>\n",
       "      <td>adult; article; controlled study; curriculum; ...</td>\n",
       "      <td>How do medical students learn conceptual knowl...</td>\n",
       "    </tr>\n",
       "    <tr>\n",
       "      <th>10.1186/s12909-022-03259-0</th>\n",
       "      <td>How medical students co-regulate their learnin...</td>\n",
       "      <td>Background: Self-regulated learning is a key c...</td>\n",
       "      <td>Clinical clerkships; Co-regulated learning; Me...</td>\n",
       "      <td>clinical education; human; learning; medical e...</td>\n",
       "      <td>How medical students co-regulate their learnin...</td>\n",
       "    </tr>\n",
       "    <tr>\n",
       "      <th>...</th>\n",
       "      <td>...</td>\n",
       "      <td>...</td>\n",
       "      <td>...</td>\n",
       "      <td>...</td>\n",
       "      <td>...</td>\n",
       "    </tr>\n",
       "    <tr>\n",
       "      <th>10.1080/0309877920160311</th>\n",
       "      <td>“Quality Management’ or “The Educative Workpla...</td>\n",
       "      <td>Competence-based education has been the topic ...</td>\n",
       "      <td></td>\n",
       "      <td></td>\n",
       "      <td>“Quality Management’ or “The Educative Workpla...</td>\n",
       "    </tr>\n",
       "    <tr>\n",
       "      <th>10.1016/0261-5177(92)90051-8</th>\n",
       "      <td>The implications of competence based education...</td>\n",
       "      <td></td>\n",
       "      <td></td>\n",
       "      <td></td>\n",
       "      <td>The implications of competence based education...</td>\n",
       "    </tr>\n",
       "    <tr>\n",
       "      <th>10.1080/00048623.1992.10754796</th>\n",
       "      <td>Information Literacy — A Core Competency</td>\n",
       "      <td>The Finn Report highlights the need for young ...</td>\n",
       "      <td></td>\n",
       "      <td></td>\n",
       "      <td>Information Literacy — A Core Competency. The ...</td>\n",
       "    </tr>\n",
       "    <tr>\n",
       "      <th>10.1080/0305763910170105</th>\n",
       "      <td>Competence‐based training a new programme in f...</td>\n",
       "      <td></td>\n",
       "      <td></td>\n",
       "      <td></td>\n",
       "      <td>Competence‐based training a new programme in f...</td>\n",
       "    </tr>\n",
       "    <tr>\n",
       "      <th>10.1080/02615479011220121</th>\n",
       "      <td>CATS and Quality</td>\n",
       "      <td>CCETSW has encouraged DipSW programme provider...</td>\n",
       "      <td></td>\n",
       "      <td></td>\n",
       "      <td>CATS and Quality. CCETSW has encouraged DipSW ...</td>\n",
       "    </tr>\n",
       "  </tbody>\n",
       "</table>\n",
       "<p>908 rows × 5 columns</p>\n",
       "</div>"
      ],
      "text/plain": [
       "                                                                            Title  \\\n",
       "DOI                                                                                 \n",
       "10.1108/IJSHE-12-2020-0484      Students’ learning sustainability – implicit, ...   \n",
       "10.1057/s41599-022-01129-0      Going beyond the AHA! moment: insight discover...   \n",
       "10.1186/s12909-022-03308-8      An online Delphi study to investigate the comp...   \n",
       "10.1186/s12909-022-03283-0      How do medical students learn conceptual knowl...   \n",
       "10.1186/s12909-022-03259-0      How medical students co-regulate their learnin...   \n",
       "...                                                                           ...   \n",
       "10.1080/0309877920160311        “Quality Management’ or “The Educative Workpla...   \n",
       "10.1016/0261-5177(92)90051-8    The implications of competence based education...   \n",
       "10.1080/00048623.1992.10754796           Information Literacy — A Core Competency   \n",
       "10.1080/0305763910170105        Competence‐based training a new programme in f...   \n",
       "10.1080/02615479011220121                                        CATS and Quality   \n",
       "\n",
       "                                                                         Abstract  \\\n",
       "DOI                                                                                 \n",
       "10.1108/IJSHE-12-2020-0484      Purpose: This study aims to understand better ...   \n",
       "10.1057/s41599-022-01129-0      In this paper, we develop and apply the concep...   \n",
       "10.1186/s12909-022-03308-8      Background: Several competency frameworks are ...   \n",
       "10.1186/s12909-022-03283-0      Background: Acquiring medical knowledge is a k...   \n",
       "10.1186/s12909-022-03259-0      Background: Self-regulated learning is a key c...   \n",
       "...                                                                           ...   \n",
       "10.1080/0309877920160311        Competence-based education has been the topic ...   \n",
       "10.1016/0261-5177(92)90051-8                                                        \n",
       "10.1080/00048623.1992.10754796  The Finn Report highlights the need for young ...   \n",
       "10.1080/0305763910170105                                                            \n",
       "10.1080/02615479011220121       CCETSW has encouraged DipSW programme provider...   \n",
       "\n",
       "                                                                  Author Keywords  \\\n",
       "DOI                                                                                 \n",
       "10.1108/IJSHE-12-2020-0484      Higher education institutions (HEIs); Sustaina...   \n",
       "10.1057/s41599-022-01129-0                                                          \n",
       "10.1186/s12909-022-03308-8      Allied health disciplines; CanMEDS; Continuous...   \n",
       "10.1186/s12909-022-03283-0      Learning difficulties; Learning techniques; Me...   \n",
       "10.1186/s12909-022-03259-0      Clinical clerkships; Co-regulated learning; Me...   \n",
       "...                                                                           ...   \n",
       "10.1080/0309877920160311                                                            \n",
       "10.1016/0261-5177(92)90051-8                                                        \n",
       "10.1080/00048623.1992.10754796                                                      \n",
       "10.1080/0305763910170105                                                            \n",
       "10.1080/02615479011220121                                                           \n",
       "\n",
       "                                                                   Index Keywords  \\\n",
       "DOI                                                                                 \n",
       "10.1108/IJSHE-12-2020-0484                                                          \n",
       "10.1057/s41599-022-01129-0                                                          \n",
       "10.1186/s12909-022-03308-8      article; audiology; Belgium; clinical article;...   \n",
       "10.1186/s12909-022-03283-0      adult; article; controlled study; curriculum; ...   \n",
       "10.1186/s12909-022-03259-0      clinical education; human; learning; medical e...   \n",
       "...                                                                           ...   \n",
       "10.1080/0309877920160311                                                            \n",
       "10.1016/0261-5177(92)90051-8                                                        \n",
       "10.1080/00048623.1992.10754796                                                      \n",
       "10.1080/0305763910170105                                                            \n",
       "10.1080/02615479011220121                                                           \n",
       "\n",
       "                                                                              doc  \n",
       "DOI                                                                                \n",
       "10.1108/IJSHE-12-2020-0484      Students’ learning sustainability – implicit, ...  \n",
       "10.1057/s41599-022-01129-0      Going beyond the AHA! moment: insight discover...  \n",
       "10.1186/s12909-022-03308-8      An online Delphi study to investigate the comp...  \n",
       "10.1186/s12909-022-03283-0      How do medical students learn conceptual knowl...  \n",
       "10.1186/s12909-022-03259-0      How medical students co-regulate their learnin...  \n",
       "...                                                                           ...  \n",
       "10.1080/0309877920160311        “Quality Management’ or “The Educative Workpla...  \n",
       "10.1016/0261-5177(92)90051-8    The implications of competence based education...  \n",
       "10.1080/00048623.1992.10754796  Information Literacy — A Core Competency. The ...  \n",
       "10.1080/0305763910170105        Competence‐based training a new programme in f...  \n",
       "10.1080/02615479011220121       CATS and Quality. CCETSW has encouraged DipSW ...  \n",
       "\n",
       "[908 rows x 5 columns]"
      ]
     },
     "execution_count": 12,
     "metadata": {},
     "output_type": "execute_result"
    }
   ],
   "source": [
    "df_docs[\"doc\"] = df_docs.apply(lambda x: \". \".join(x.values), axis=1)\n",
    "df_docs"
   ]
  },
  {
   "cell_type": "code",
   "execution_count": 230,
   "metadata": {},
   "outputs": [
    {
     "name": "stdout",
     "output_type": "stream",
     "text": [
      "Title\n",
      "An online Delphi study to investigate the completeness of the CanMEDS Roles and the relevance, formulation, and measurability of their key competencies within eight healthcare disciplines in Flanders \n",
      "\n",
      "Abstract\n",
      "Background: Several competency frameworks are being developed to support competency-based education (CBE). In medical education, extensive literature exists about validated competency frameworks for example, the CanMEDS competency framework. In contrast, comparable literature is limited in nursing, midwifery, and allied health disciplines. Therefore, this study aims to investigate (1) the completeness of the CanMEDS Roles, and (2) the relevance, formulation, and measurability of the CanMEDS key competencies in nursing, midwifery, and allied health disciplines. If the competency framework is validated in different educational programs, opportunities to support CBE and interprofessional education/collaboration can be created. Methods: A three-round online Delphi study was conducted with respectively 42, 37, and 35 experts rating the Roles (n = 7) and key competencies (n = 27). These experts came from non-university healthcare disciplines in Flanders (Belgium): audiology, dental hygiene, midwifery, nursing, occupational therapy, podiatry, and speech therapy. Experts answered with yes/no (Roles) or on a Likert-type scale (key competencies). Agreement percentages were analyzed quantitatively whereby consensus was attained when 70% or more of the experts scored positively. In round one, experts could also add remarks which were qualitatively analyzed using inductive content analysis. Results: After round one, there was consensus about the completeness of all the Roles, the relevance of 25, the formulation of 24, and the measurability of eight key competencies. Afterwards, key competencies were clarified or modified based on experts’ remarks by adding context-specific information and acknowledging the developmental aspect of key competencies. After round two, no additional key competencies were validated for the relevance criterion, two additional key competencies were validated for the formulation criterion, and 16 additional key competencies were validated for the measurability criterion. After adding enabling competencies in round three, consensus was reached about the measurability of one additional key competency resulting in the validation of the complete CanMEDS competency framework except for the measurability of two key competencies. Conclusions: The CanMEDS competency framework can be seen as a grounding for competency-based healthcare education. Future research could build on the findings and focus on validating the enabling competencies in nursing, midwifery, and allied health disciplines possibly improving the measurability of key competencies. © 2022, The Author(s). \n",
      "\n",
      "Author Keywords\n",
      "Allied health disciplines; CanMEDS; Continuous professional development; Delphi study; Key competencies; Midwifery; Nursing; Roles \n",
      "\n",
      "Index Keywords\n",
      "article; audiology; Belgium; clinical article; consensus; content analysis; controlled study; curriculum; Delphi study; education; Flanders; human; human experiment; interprofessional education; Likert scale; medical education; midwife; mouth hygiene; nursing; occupational therapy; podiatry; professional development; quantitative analysis; speech therapy; clinical competence; curriculum; Delphi study; health care delivery; medical education; Clinical Competence; Competency-Based Education; Consensus; Delivery of Health Care; Delphi Technique; Education, Medical; Humans \n",
      "\n",
      "doc\n",
      "An online Delphi study to investigate the completeness of the CanMEDS Roles and the relevance, formulation, and measurability of their key competencies within eight healthcare disciplines in Flanders. Background: Several competency frameworks are being developed to support competency-based education (CBE). In medical education, extensive literature exists about validated competency frameworks for example, the CanMEDS competency framework. In contrast, comparable literature is limited in nursing, midwifery, and allied health disciplines. Therefore, this study aims to investigate (1) the completeness of the CanMEDS Roles, and (2) the relevance, formulation, and measurability of the CanMEDS key competencies in nursing, midwifery, and allied health disciplines. If the competency framework is validated in different educational programs, opportunities to support CBE and interprofessional education/collaboration can be created. Methods: A three-round online Delphi study was conducted with respectively 42, 37, and 35 experts rating the Roles (n = 7) and key competencies (n = 27). These experts came from non-university healthcare disciplines in Flanders (Belgium): audiology, dental hygiene, midwifery, nursing, occupational therapy, podiatry, and speech therapy. Experts answered with yes/no (Roles) or on a Likert-type scale (key competencies). Agreement percentages were analyzed quantitatively whereby consensus was attained when 70% or more of the experts scored positively. In round one, experts could also add remarks which were qualitatively analyzed using inductive content analysis. Results: After round one, there was consensus about the completeness of all the Roles, the relevance of 25, the formulation of 24, and the measurability of eight key competencies. Afterwards, key competencies were clarified or modified based on experts’ remarks by adding context-specific information and acknowledging the developmental aspect of key competencies. After round two, no additional key competencies were validated for the relevance criterion, two additional key competencies were validated for the formulation criterion, and 16 additional key competencies were validated for the measurability criterion. After adding enabling competencies in round three, consensus was reached about the measurability of one additional key competency resulting in the validation of the complete CanMEDS competency framework except for the measurability of two key competencies. Conclusions: The CanMEDS competency framework can be seen as a grounding for competency-based healthcare education. Future research could build on the findings and focus on validating the enabling competencies in nursing, midwifery, and allied health disciplines possibly improving the measurability of key competencies. © 2022, The Author(s).. Allied health disciplines; CanMEDS; Continuous professional development; Delphi study; Key competencies; Midwifery; Nursing; Roles. article; audiology; Belgium; clinical article; consensus; content analysis; controlled study; curriculum; Delphi study; education; Flanders; human; human experiment; interprofessional education; Likert scale; medical education; midwife; mouth hygiene; nursing; occupational therapy; podiatry; professional development; quantitative analysis; speech therapy; clinical competence; curriculum; Delphi study; health care delivery; medical education; Clinical Competence; Competency-Based Education; Consensus; Delivery of Health Care; Delphi Technique; Education, Medical; Humans \n",
      "\n",
      "doc_clean\n",
      "['onlin', 'delphi', 'studi', 'investig', 'complet', 'canm', 'role', 'relev', 'formul', 'measur', 'kei', 'compet', 'healthcar', 'disciplin', 'flander', 'background', 'compet', 'framework', 'develop', 'support', 'compet', 'base', 'educ', 'cbe', 'medic', 'educ', 'extens', 'literatur', 'exist', 'valid', 'compet', 'framework', 'exampl', 'canm', 'compet', 'framework', 'contrast', 'compar', 'literatur', 'limit', 'nurs', 'midwiferi', 'alli', 'health', 'disciplin', 'therefor', 'studi', 'aim', 'investig', 'complet', 'canm', 'role', 'relev', 'formul', 'measur', 'canm', 'kei', 'compet', 'nurs', 'midwiferi', 'alli', 'health', 'disciplin', 'compet', 'framework', 'valid', 'differ', 'educ', 'program', 'opportun', 'support', 'cbe', 'interprofession', 'educ', 'collabor', 'creat', 'method', 'three', 'round', 'onlin', 'delphi', 'studi', 'conduct', 'respect', 'expert', 'rate', 'role', 'kei', 'compet', 'expert', 'came', 'non', 'univers', 'healthcar', 'disciplin', 'flander', 'belgium', 'audiolog', 'dental', 'hygien', 'midwiferi', 'nurs', 'occup', 'therapi', 'podiatri', 'speech', 'therapi', 'expert', 'answer', 'ye', 'role', 'likert', 'type', 'scale', 'kei', 'compet', 'agreement', 'percentag', 'analyz', 'quantit', 'consensu', 'attain', 'expert', 'score', 'posit', 'round', 'on', 'expert', 'add', 'remark', 'qualit', 'analyz', 'induct', 'content', 'analysi', 'result', 'round', 'on', 'consensu', 'complet', 'role', 'relev', 'formul', 'measur', 'kei', 'compet', 'afterward', 'kei', 'compet', 'clarifi', 'modifi', 'base', 'experts’', 'remark', 'ad', 'context', 'specif', 'inform', 'acknowledg', 'development', 'aspect', 'kei', 'compet', 'round', 'two', 'addit', 'kei', 'compet', 'valid', 'relev', 'criterion', 'addit', 'kei', 'compet', 'valid', 'formul', 'criterion', 'addit', 'kei', 'compet', 'valid', 'measur', 'criterion', 'ad', 'enabl', 'compet', 'round', 'three', 'consensu', 'reach', 'measur', 'addit', 'kei', 'compet', 'result', 'valid', 'complet', 'canm', 'compet', 'framework', 'measur', 'kei', 'compet', 'conclus', 'canm', 'compet', 'framework', 'seen', 'ground', 'compet', 'base', 'healthcar', 'educ', 'futur', 'research', 'build', 'find', 'focu', 'valid', 'enabl', 'compet', 'nurs', 'midwiferi', 'alli', 'health', 'disciplin', 'possibl', 'improv', 'measur', 'kei', 'compet', '2022', 'author', 'alli', 'health', 'disciplin', 'canm', 'continu', 'profession', 'develop', 'delphi', 'studi', 'kei', 'compet', 'midwiferi', 'nurs', 'role', 'articl', 'audiolog', 'belgium', 'clinic', 'articl', 'consensu', 'content', 'analysi', 'control', 'studi', 'curriculum', 'delphi', 'studi', 'educ', 'flander', 'human', 'human', 'experi', 'interprofession', 'educ', 'likert', 'scale', 'medic', 'educ', 'midwif', 'mouth', 'hygien', 'nurs', 'occup', 'therapi', 'podiatri', 'profession', 'develop', 'quantit', 'analysi', 'speech', 'therapi', 'clinic', 'compet', 'curriculum', 'delphi', 'studi', 'health', 'care', 'deliveri', 'medic', 'educ', 'clinic', 'compet', 'compet', 'base', 'educ', 'consensu', 'deliveri', 'health', 'care', 'delphi', 'techniqu', 'educ', 'medic', 'human'] \n",
      "\n"
     ]
    }
   ],
   "source": [
    "for ix in df_docs.iloc[2].index:\n",
    "    print(ix)\n",
    "    print(df_docs.iloc[2][ix], '\\n')"
   ]
  },
  {
   "cell_type": "code",
   "execution_count": 232,
   "metadata": {},
   "outputs": [
    {
     "data": {
      "text/plain": [
       "'onlin delphi studi investig complet canm role relev formul measur kei compet healthcar disciplin flander background compet framework develop support compet base educ cbe medic educ extens literatur exist valid compet framework exampl canm compet framework contrast compar literatur limit nurs midwiferi alli health disciplin therefor studi aim investig complet canm role relev formul measur canm kei compet nurs midwiferi alli health disciplin compet framework valid differ educ program opportun support cbe interprofession educ collabor creat method three round onlin delphi studi conduct respect expert rate role kei compet expert came non univers healthcar disciplin flander belgium audiolog dental hygien midwiferi nurs occup therapi podiatri speech therapi expert answer ye role likert type scale kei compet agreement percentag analyz quantit consensu attain expert score posit round on expert add remark qualit analyz induct content analysi result round on consensu complet role relev formul measur kei compet afterward kei compet clarifi modifi base experts’ remark ad context specif inform acknowledg development aspect kei compet round two addit kei compet valid relev criterion addit kei compet valid formul criterion addit kei compet valid measur criterion ad enabl compet round three consensu reach measur addit kei compet result valid complet canm compet framework measur kei compet conclus canm compet framework seen ground compet base healthcar educ futur research build find focu valid enabl compet nurs midwiferi alli health disciplin possibl improv measur kei compet 2022 author alli health disciplin canm continu profession develop delphi studi kei compet midwiferi nurs role articl audiolog belgium clinic articl consensu content analysi control studi curriculum delphi studi educ flander human human experi interprofession educ likert scale medic educ midwif mouth hygien nurs occup therapi podiatri profession develop quantit analysi speech therapi clinic compet curriculum delphi studi health care deliveri medic educ clinic compet compet base educ consensu deliveri health care delphi techniqu educ medic human'"
      ]
     },
     "execution_count": 232,
     "metadata": {},
     "output_type": "execute_result"
    }
   ],
   "source": [
    "\" \".join(df_docs.iloc[2][\"doc_clean\"])"
   ]
  },
  {
   "cell_type": "code",
   "execution_count": 13,
   "metadata": {},
   "outputs": [],
   "source": [
    "from gensim.parsing.preprocessing import remove_stopwords, strip_punctuation, preprocess_string, strip_short, stem_text"
   ]
  },
  {
   "cell_type": "code",
   "execution_count": 14,
   "metadata": {},
   "outputs": [],
   "source": [
    "def preprocess(text):\n",
    "    CUSTOM_FILTERS = [lambda x: x.lower(), \n",
    "                                remove_stopwords, \n",
    "                                strip_punctuation, \n",
    "                                strip_short, \n",
    "                                stem_text]\n",
    "    text = preprocess_string(text, CUSTOM_FILTERS)\n",
    "    return text"
   ]
  },
  {
   "cell_type": "code",
   "execution_count": 15,
   "metadata": {},
   "outputs": [],
   "source": [
    "df_docs['doc_clean'] = df_docs['doc'].apply(lambda x: preprocess(x))"
   ]
  },
  {
   "cell_type": "code",
   "execution_count": 16,
   "metadata": {},
   "outputs": [
    {
     "data": {
      "text/html": [
       "<div>\n",
       "<style scoped>\n",
       "    .dataframe tbody tr th:only-of-type {\n",
       "        vertical-align: middle;\n",
       "    }\n",
       "\n",
       "    .dataframe tbody tr th {\n",
       "        vertical-align: top;\n",
       "    }\n",
       "\n",
       "    .dataframe thead th {\n",
       "        text-align: right;\n",
       "    }\n",
       "</style>\n",
       "<table border=\"1\" class=\"dataframe\">\n",
       "  <thead>\n",
       "    <tr style=\"text-align: right;\">\n",
       "      <th></th>\n",
       "      <th>Title</th>\n",
       "      <th>Abstract</th>\n",
       "      <th>Author Keywords</th>\n",
       "      <th>Index Keywords</th>\n",
       "      <th>doc</th>\n",
       "      <th>doc_clean</th>\n",
       "    </tr>\n",
       "    <tr>\n",
       "      <th>DOI</th>\n",
       "      <th></th>\n",
       "      <th></th>\n",
       "      <th></th>\n",
       "      <th></th>\n",
       "      <th></th>\n",
       "      <th></th>\n",
       "    </tr>\n",
       "  </thead>\n",
       "  <tbody>\n",
       "    <tr>\n",
       "      <th>10.1108/IJSHE-12-2020-0484</th>\n",
       "      <td>Students’ learning sustainability – implicit, ...</td>\n",
       "      <td>Purpose: This study aims to understand better ...</td>\n",
       "      <td>Higher education institutions (HEIs); Sustaina...</td>\n",
       "      <td></td>\n",
       "      <td>Students’ learning sustainability – implicit, ...</td>\n",
       "      <td>[students’, learn, sustain, implicit, explicit...</td>\n",
       "    </tr>\n",
       "    <tr>\n",
       "      <th>10.1057/s41599-022-01129-0</th>\n",
       "      <td>Going beyond the AHA! moment: insight discover...</td>\n",
       "      <td>In this paper, we develop and apply the concep...</td>\n",
       "      <td></td>\n",
       "      <td></td>\n",
       "      <td>Going beyond the AHA! moment: insight discover...</td>\n",
       "      <td>[go, aha, moment, insight, discoveri, transdis...</td>\n",
       "    </tr>\n",
       "    <tr>\n",
       "      <th>10.1186/s12909-022-03308-8</th>\n",
       "      <td>An online Delphi study to investigate the comp...</td>\n",
       "      <td>Background: Several competency frameworks are ...</td>\n",
       "      <td>Allied health disciplines; CanMEDS; Continuous...</td>\n",
       "      <td>article; audiology; Belgium; clinical article;...</td>\n",
       "      <td>An online Delphi study to investigate the comp...</td>\n",
       "      <td>[onlin, delphi, studi, investig, complet, canm...</td>\n",
       "    </tr>\n",
       "    <tr>\n",
       "      <th>10.1186/s12909-022-03283-0</th>\n",
       "      <td>How do medical students learn conceptual knowl...</td>\n",
       "      <td>Background: Acquiring medical knowledge is a k...</td>\n",
       "      <td>Learning difficulties; Learning techniques; Me...</td>\n",
       "      <td>adult; article; controlled study; curriculum; ...</td>\n",
       "      <td>How do medical students learn conceptual knowl...</td>\n",
       "      <td>[medic, student, learn, conceptu, knowledg, hi...</td>\n",
       "    </tr>\n",
       "    <tr>\n",
       "      <th>10.1186/s12909-022-03259-0</th>\n",
       "      <td>How medical students co-regulate their learnin...</td>\n",
       "      <td>Background: Self-regulated learning is a key c...</td>\n",
       "      <td>Clinical clerkships; Co-regulated learning; Me...</td>\n",
       "      <td>clinical education; human; learning; medical e...</td>\n",
       "      <td>How medical students co-regulate their learnin...</td>\n",
       "      <td>[medic, student, regul, learn, clinic, clerksh...</td>\n",
       "    </tr>\n",
       "    <tr>\n",
       "      <th>...</th>\n",
       "      <td>...</td>\n",
       "      <td>...</td>\n",
       "      <td>...</td>\n",
       "      <td>...</td>\n",
       "      <td>...</td>\n",
       "      <td>...</td>\n",
       "    </tr>\n",
       "    <tr>\n",
       "      <th>10.1080/0309877920160311</th>\n",
       "      <td>“Quality Management’ or “The Educative Workpla...</td>\n",
       "      <td>Competence-based education has been the topic ...</td>\n",
       "      <td></td>\n",
       "      <td></td>\n",
       "      <td>“Quality Management’ or “The Educative Workpla...</td>\n",
       "      <td>[“qualiti, management’, “the, educ, workplace’...</td>\n",
       "    </tr>\n",
       "    <tr>\n",
       "      <th>10.1016/0261-5177(92)90051-8</th>\n",
       "      <td>The implications of competence based education...</td>\n",
       "      <td></td>\n",
       "      <td></td>\n",
       "      <td></td>\n",
       "      <td>The implications of competence based education...</td>\n",
       "      <td>[implic, compet, base, educ, train, programm, ...</td>\n",
       "    </tr>\n",
       "    <tr>\n",
       "      <th>10.1080/00048623.1992.10754796</th>\n",
       "      <td>Information Literacy — A Core Competency</td>\n",
       "      <td>The Finn Report highlights the need for young ...</td>\n",
       "      <td></td>\n",
       "      <td></td>\n",
       "      <td>Information Literacy — A Core Competency. The ...</td>\n",
       "      <td>[inform, literaci, core, compet, finn, report,...</td>\n",
       "    </tr>\n",
       "    <tr>\n",
       "      <th>10.1080/0305763910170105</th>\n",
       "      <td>Competence‐based training a new programme in f...</td>\n",
       "      <td></td>\n",
       "      <td></td>\n",
       "      <td></td>\n",
       "      <td>Competence‐based training a new programme in f...</td>\n",
       "      <td>[competence‐bas, train, new, programm, educ, t...</td>\n",
       "    </tr>\n",
       "    <tr>\n",
       "      <th>10.1080/02615479011220121</th>\n",
       "      <td>CATS and Quality</td>\n",
       "      <td>CCETSW has encouraged DipSW programme provider...</td>\n",
       "      <td></td>\n",
       "      <td></td>\n",
       "      <td>CATS and Quality. CCETSW has encouraged DipSW ...</td>\n",
       "      <td>[cat, qualiti, ccetsw, encourag, dipsw, progra...</td>\n",
       "    </tr>\n",
       "  </tbody>\n",
       "</table>\n",
       "<p>908 rows × 6 columns</p>\n",
       "</div>"
      ],
      "text/plain": [
       "                                                                            Title  \\\n",
       "DOI                                                                                 \n",
       "10.1108/IJSHE-12-2020-0484      Students’ learning sustainability – implicit, ...   \n",
       "10.1057/s41599-022-01129-0      Going beyond the AHA! moment: insight discover...   \n",
       "10.1186/s12909-022-03308-8      An online Delphi study to investigate the comp...   \n",
       "10.1186/s12909-022-03283-0      How do medical students learn conceptual knowl...   \n",
       "10.1186/s12909-022-03259-0      How medical students co-regulate their learnin...   \n",
       "...                                                                           ...   \n",
       "10.1080/0309877920160311        “Quality Management’ or “The Educative Workpla...   \n",
       "10.1016/0261-5177(92)90051-8    The implications of competence based education...   \n",
       "10.1080/00048623.1992.10754796           Information Literacy — A Core Competency   \n",
       "10.1080/0305763910170105        Competence‐based training a new programme in f...   \n",
       "10.1080/02615479011220121                                        CATS and Quality   \n",
       "\n",
       "                                                                         Abstract  \\\n",
       "DOI                                                                                 \n",
       "10.1108/IJSHE-12-2020-0484      Purpose: This study aims to understand better ...   \n",
       "10.1057/s41599-022-01129-0      In this paper, we develop and apply the concep...   \n",
       "10.1186/s12909-022-03308-8      Background: Several competency frameworks are ...   \n",
       "10.1186/s12909-022-03283-0      Background: Acquiring medical knowledge is a k...   \n",
       "10.1186/s12909-022-03259-0      Background: Self-regulated learning is a key c...   \n",
       "...                                                                           ...   \n",
       "10.1080/0309877920160311        Competence-based education has been the topic ...   \n",
       "10.1016/0261-5177(92)90051-8                                                        \n",
       "10.1080/00048623.1992.10754796  The Finn Report highlights the need for young ...   \n",
       "10.1080/0305763910170105                                                            \n",
       "10.1080/02615479011220121       CCETSW has encouraged DipSW programme provider...   \n",
       "\n",
       "                                                                  Author Keywords  \\\n",
       "DOI                                                                                 \n",
       "10.1108/IJSHE-12-2020-0484      Higher education institutions (HEIs); Sustaina...   \n",
       "10.1057/s41599-022-01129-0                                                          \n",
       "10.1186/s12909-022-03308-8      Allied health disciplines; CanMEDS; Continuous...   \n",
       "10.1186/s12909-022-03283-0      Learning difficulties; Learning techniques; Me...   \n",
       "10.1186/s12909-022-03259-0      Clinical clerkships; Co-regulated learning; Me...   \n",
       "...                                                                           ...   \n",
       "10.1080/0309877920160311                                                            \n",
       "10.1016/0261-5177(92)90051-8                                                        \n",
       "10.1080/00048623.1992.10754796                                                      \n",
       "10.1080/0305763910170105                                                            \n",
       "10.1080/02615479011220121                                                           \n",
       "\n",
       "                                                                   Index Keywords  \\\n",
       "DOI                                                                                 \n",
       "10.1108/IJSHE-12-2020-0484                                                          \n",
       "10.1057/s41599-022-01129-0                                                          \n",
       "10.1186/s12909-022-03308-8      article; audiology; Belgium; clinical article;...   \n",
       "10.1186/s12909-022-03283-0      adult; article; controlled study; curriculum; ...   \n",
       "10.1186/s12909-022-03259-0      clinical education; human; learning; medical e...   \n",
       "...                                                                           ...   \n",
       "10.1080/0309877920160311                                                            \n",
       "10.1016/0261-5177(92)90051-8                                                        \n",
       "10.1080/00048623.1992.10754796                                                      \n",
       "10.1080/0305763910170105                                                            \n",
       "10.1080/02615479011220121                                                           \n",
       "\n",
       "                                                                              doc  \\\n",
       "DOI                                                                                 \n",
       "10.1108/IJSHE-12-2020-0484      Students’ learning sustainability – implicit, ...   \n",
       "10.1057/s41599-022-01129-0      Going beyond the AHA! moment: insight discover...   \n",
       "10.1186/s12909-022-03308-8      An online Delphi study to investigate the comp...   \n",
       "10.1186/s12909-022-03283-0      How do medical students learn conceptual knowl...   \n",
       "10.1186/s12909-022-03259-0      How medical students co-regulate their learnin...   \n",
       "...                                                                           ...   \n",
       "10.1080/0309877920160311        “Quality Management’ or “The Educative Workpla...   \n",
       "10.1016/0261-5177(92)90051-8    The implications of competence based education...   \n",
       "10.1080/00048623.1992.10754796  Information Literacy — A Core Competency. The ...   \n",
       "10.1080/0305763910170105        Competence‐based training a new programme in f...   \n",
       "10.1080/02615479011220121       CATS and Quality. CCETSW has encouraged DipSW ...   \n",
       "\n",
       "                                                                        doc_clean  \n",
       "DOI                                                                                \n",
       "10.1108/IJSHE-12-2020-0484      [students’, learn, sustain, implicit, explicit...  \n",
       "10.1057/s41599-022-01129-0      [go, aha, moment, insight, discoveri, transdis...  \n",
       "10.1186/s12909-022-03308-8      [onlin, delphi, studi, investig, complet, canm...  \n",
       "10.1186/s12909-022-03283-0      [medic, student, learn, conceptu, knowledg, hi...  \n",
       "10.1186/s12909-022-03259-0      [medic, student, regul, learn, clinic, clerksh...  \n",
       "...                                                                           ...  \n",
       "10.1080/0309877920160311        [“qualiti, management’, “the, educ, workplace’...  \n",
       "10.1016/0261-5177(92)90051-8    [implic, compet, base, educ, train, programm, ...  \n",
       "10.1080/00048623.1992.10754796  [inform, literaci, core, compet, finn, report,...  \n",
       "10.1080/0305763910170105        [competence‐bas, train, new, programm, educ, t...  \n",
       "10.1080/02615479011220121       [cat, qualiti, ccetsw, encourag, dipsw, progra...  \n",
       "\n",
       "[908 rows x 6 columns]"
      ]
     },
     "execution_count": 16,
     "metadata": {},
     "output_type": "execute_result"
    }
   ],
   "source": [
    "df_docs"
   ]
  },
  {
   "cell_type": "code",
   "execution_count": 17,
   "metadata": {},
   "outputs": [],
   "source": [
    "import json\n",
    "  \n",
    "f = open('citation_net.json', encoding='utf-8-sig')\n",
    "data = json.load(f)\n",
    "network = data[\"network\"]"
   ]
  },
  {
   "cell_type": "code",
   "execution_count": 23,
   "metadata": {},
   "outputs": [],
   "source": [
    "network_items = pd.DataFrame(network[\"items\"])\n",
    "network_items[\"DOI\"] = network_items[\"url\"].apply(lambda x: x.replace(\"https://doi.org/\", \"\") if str(x) != \"nan\" else np.nan)\n",
    "network_items = network_items.set_index(\"DOI\")"
   ]
  },
  {
   "cell_type": "code",
   "execution_count": 24,
   "metadata": {},
   "outputs": [
    {
     "data": {
      "text/html": [
       "<div>\n",
       "<style scoped>\n",
       "    .dataframe tbody tr th:only-of-type {\n",
       "        vertical-align: middle;\n",
       "    }\n",
       "\n",
       "    .dataframe tbody tr th {\n",
       "        vertical-align: top;\n",
       "    }\n",
       "\n",
       "    .dataframe thead th {\n",
       "        text-align: right;\n",
       "    }\n",
       "</style>\n",
       "<table border=\"1\" class=\"dataframe\">\n",
       "  <thead>\n",
       "    <tr style=\"text-align: right;\">\n",
       "      <th></th>\n",
       "      <th>id</th>\n",
       "      <th>label</th>\n",
       "      <th>description</th>\n",
       "      <th>url</th>\n",
       "      <th>x</th>\n",
       "      <th>y</th>\n",
       "      <th>cluster</th>\n",
       "      <th>weights</th>\n",
       "      <th>scores</th>\n",
       "    </tr>\n",
       "    <tr>\n",
       "      <th>DOI</th>\n",
       "      <th></th>\n",
       "      <th></th>\n",
       "      <th></th>\n",
       "      <th></th>\n",
       "      <th></th>\n",
       "      <th></th>\n",
       "      <th></th>\n",
       "      <th></th>\n",
       "      <th></th>\n",
       "    </tr>\n",
       "  </thead>\n",
       "  <tbody>\n",
       "    <tr>\n",
       "      <th>10.1108/ijshe-12-2020-0484</th>\n",
       "      <td>1</td>\n",
       "      <td>alm k. (2022)</td>\n",
       "      <td>&lt;table&gt;&lt;tr&gt;&lt;td&gt;Authors:&lt;/td&gt;&lt;td&gt;alm k.; beery ...</td>\n",
       "      <td>https://doi.org/10.1108/ijshe-12-2020-0484</td>\n",
       "      <td>0.7611</td>\n",
       "      <td>-0.0492</td>\n",
       "      <td>1</td>\n",
       "      <td>{'Links': 4.0, 'Citations': 1.0, 'Norm. citati...</td>\n",
       "      <td>{'Pub. year': 2022.0, 'Citations': 1.0, 'Norm....</td>\n",
       "    </tr>\n",
       "    <tr>\n",
       "      <th>10.1057/s41599-022-01047-1</th>\n",
       "      <td>7</td>\n",
       "      <td>škrinjarić b. (2022)</td>\n",
       "      <td>&lt;table&gt;&lt;tr&gt;&lt;td&gt;Authors:&lt;/td&gt;&lt;td&gt;škrinjarić b.&lt;...</td>\n",
       "      <td>https://doi.org/10.1057/s41599-022-01047-1</td>\n",
       "      <td>0.6201</td>\n",
       "      <td>0.2079</td>\n",
       "      <td>4</td>\n",
       "      <td>{'Links': 5.0, 'Citations': 0.0, 'Norm. citati...</td>\n",
       "      <td>{'Pub. year': 2022.0, 'Citations': 0.0, 'Norm....</td>\n",
       "    </tr>\n",
       "    <tr>\n",
       "      <th>10.14201/teri.25394</th>\n",
       "      <td>10</td>\n",
       "      <td>leal m.s. (2022)</td>\n",
       "      <td>&lt;table&gt;&lt;tr&gt;&lt;td&gt;Authors:&lt;/td&gt;&lt;td&gt;leal m.s.; góm...</td>\n",
       "      <td>https://doi.org/10.14201/teri.25394</td>\n",
       "      <td>-0.3718</td>\n",
       "      <td>0.2822</td>\n",
       "      <td>3</td>\n",
       "      <td>{'Links': 1.0, 'Citations': 0.0, 'Norm. citati...</td>\n",
       "      <td>{'Pub. year': 2022.0, 'Citations': 0.0, 'Norm....</td>\n",
       "    </tr>\n",
       "    <tr>\n",
       "      <th>10.1108/ijshe-12-2020-0506</th>\n",
       "      <td>11</td>\n",
       "      <td>birdman j. (2022)</td>\n",
       "      <td>&lt;table&gt;&lt;tr&gt;&lt;td&gt;Authors:&lt;/td&gt;&lt;td&gt;birdman j.; wi...</td>\n",
       "      <td>https://doi.org/10.1108/ijshe-12-2020-0506</td>\n",
       "      <td>0.8060</td>\n",
       "      <td>-0.1802</td>\n",
       "      <td>1</td>\n",
       "      <td>{'Links': 5.0, 'Citations': 1.0, 'Norm. citati...</td>\n",
       "      <td>{'Pub. year': 2022.0, 'Citations': 1.0, 'Norm....</td>\n",
       "    </tr>\n",
       "    <tr>\n",
       "      <th>10.3390/su14094916</th>\n",
       "      <td>12</td>\n",
       "      <td>venn r. (2022)</td>\n",
       "      <td>&lt;table&gt;&lt;tr&gt;&lt;td&gt;Authors:&lt;/td&gt;&lt;td&gt;venn r.; perez...</td>\n",
       "      <td>https://doi.org/10.3390/su14094916</td>\n",
       "      <td>0.7053</td>\n",
       "      <td>-0.0819</td>\n",
       "      <td>1</td>\n",
       "      <td>{'Links': 6.0, 'Citations': 0.0, 'Norm. citati...</td>\n",
       "      <td>{'Pub. year': 2022.0, 'Citations': 0.0, 'Norm....</td>\n",
       "    </tr>\n",
       "    <tr>\n",
       "      <th>...</th>\n",
       "      <td>...</td>\n",
       "      <td>...</td>\n",
       "      <td>...</td>\n",
       "      <td>...</td>\n",
       "      <td>...</td>\n",
       "      <td>...</td>\n",
       "      <td>...</td>\n",
       "      <td>...</td>\n",
       "      <td>...</td>\n",
       "    </tr>\n",
       "    <tr>\n",
       "      <th>10.1111/1467-9752.00070</th>\n",
       "      <td>880</td>\n",
       "      <td>hyland t. (1997)</td>\n",
       "      <td>&lt;table&gt;&lt;tr&gt;&lt;td&gt;Authors:&lt;/td&gt;&lt;td&gt;hyland t.&lt;/td&gt;...</td>\n",
       "      <td>https://doi.org/10.1111/1467-9752.00070</td>\n",
       "      <td>1.2992</td>\n",
       "      <td>-0.0930</td>\n",
       "      <td>1</td>\n",
       "      <td>{'Links': 2.0, 'Citations': 55.0, 'Norm. citat...</td>\n",
       "      <td>{'Pub. year': 1997.0, 'Citations': 55.0, 'Norm...</td>\n",
       "    </tr>\n",
       "    <tr>\n",
       "      <th>10.1108/00400919610117380</th>\n",
       "      <td>882</td>\n",
       "      <td>foot s. (1996)</td>\n",
       "      <td>&lt;table&gt;&lt;tr&gt;&lt;td&gt;Authors:&lt;/td&gt;&lt;td&gt;foot s.; meggi...</td>\n",
       "      <td>https://doi.org/10.1108/00400919610117380</td>\n",
       "      <td>-1.0877</td>\n",
       "      <td>-0.3091</td>\n",
       "      <td>2</td>\n",
       "      <td>{'Links': 1.0, 'Citations': 4.0, 'Norm. citati...</td>\n",
       "      <td>{'Pub. year': 1996.0, 'Citations': 4.0, 'Norm....</td>\n",
       "    </tr>\n",
       "    <tr>\n",
       "      <th>10.1111/j.1467-9752.1996.tb00406.x</th>\n",
       "      <td>885</td>\n",
       "      <td>bridges d. (1996)</td>\n",
       "      <td>&lt;table&gt;&lt;tr&gt;&lt;td&gt;Authors:&lt;/td&gt;&lt;td&gt;bridges d.&lt;/td...</td>\n",
       "      <td>https://doi.org/10.1111/j.1467-9752.1996.tb004...</td>\n",
       "      <td>0.4219</td>\n",
       "      <td>0.1045</td>\n",
       "      <td>4</td>\n",
       "      <td>{'Links': 1.0, 'Citations': 18.0, 'Norm. citat...</td>\n",
       "      <td>{'Pub. year': 1996.0, 'Citations': 18.0, 'Norm...</td>\n",
       "    </tr>\n",
       "    <tr>\n",
       "      <th>10.1080/0305569940200208</th>\n",
       "      <td>898</td>\n",
       "      <td>hyland t. (1994b)</td>\n",
       "      <td>&lt;table&gt;&lt;tr&gt;&lt;td&gt;Authors:&lt;/td&gt;&lt;td&gt;hyland t.&lt;/td&gt;...</td>\n",
       "      <td>https://doi.org/10.1080/0305569940200208</td>\n",
       "      <td>1.4452</td>\n",
       "      <td>-0.0962</td>\n",
       "      <td>1</td>\n",
       "      <td>{'Links': 1.0, 'Citations': 6.0, 'Norm. citati...</td>\n",
       "      <td>{'Pub. year': 1994.0, 'Citations': 6.0, 'Norm....</td>\n",
       "    </tr>\n",
       "    <tr>\n",
       "      <th>10.1007/bf01383845</th>\n",
       "      <td>901</td>\n",
       "      <td>everwijn s.e.m. (1993)</td>\n",
       "      <td>&lt;table&gt;&lt;tr&gt;&lt;td&gt;Authors:&lt;/td&gt;&lt;td&gt;everwijn s.e.m...</td>\n",
       "      <td>https://doi.org/10.1007/bf01383845</td>\n",
       "      <td>-0.6939</td>\n",
       "      <td>-0.2007</td>\n",
       "      <td>4</td>\n",
       "      <td>{'Links': 2.0, 'Citations': 24.0, 'Norm. citat...</td>\n",
       "      <td>{'Pub. year': 1993.0, 'Citations': 24.0, 'Norm...</td>\n",
       "    </tr>\n",
       "  </tbody>\n",
       "</table>\n",
       "<p>187 rows × 9 columns</p>\n",
       "</div>"
      ],
      "text/plain": [
       "                                     id                   label  \\\n",
       "DOI                                                               \n",
       "10.1108/ijshe-12-2020-0484            1           alm k. (2022)   \n",
       "10.1057/s41599-022-01047-1            7    škrinjarić b. (2022)   \n",
       "10.14201/teri.25394                  10        leal m.s. (2022)   \n",
       "10.1108/ijshe-12-2020-0506           11       birdman j. (2022)   \n",
       "10.3390/su14094916                   12          venn r. (2022)   \n",
       "...                                 ...                     ...   \n",
       "10.1111/1467-9752.00070             880        hyland t. (1997)   \n",
       "10.1108/00400919610117380           882          foot s. (1996)   \n",
       "10.1111/j.1467-9752.1996.tb00406.x  885       bridges d. (1996)   \n",
       "10.1080/0305569940200208            898       hyland t. (1994b)   \n",
       "10.1007/bf01383845                  901  everwijn s.e.m. (1993)   \n",
       "\n",
       "                                                                          description  \\\n",
       "DOI                                                                                     \n",
       "10.1108/ijshe-12-2020-0484          <table><tr><td>Authors:</td><td>alm k.; beery ...   \n",
       "10.1057/s41599-022-01047-1          <table><tr><td>Authors:</td><td>škrinjarić b.<...   \n",
       "10.14201/teri.25394                 <table><tr><td>Authors:</td><td>leal m.s.; góm...   \n",
       "10.1108/ijshe-12-2020-0506          <table><tr><td>Authors:</td><td>birdman j.; wi...   \n",
       "10.3390/su14094916                  <table><tr><td>Authors:</td><td>venn r.; perez...   \n",
       "...                                                                               ...   \n",
       "10.1111/1467-9752.00070             <table><tr><td>Authors:</td><td>hyland t.</td>...   \n",
       "10.1108/00400919610117380           <table><tr><td>Authors:</td><td>foot s.; meggi...   \n",
       "10.1111/j.1467-9752.1996.tb00406.x  <table><tr><td>Authors:</td><td>bridges d.</td...   \n",
       "10.1080/0305569940200208            <table><tr><td>Authors:</td><td>hyland t.</td>...   \n",
       "10.1007/bf01383845                  <table><tr><td>Authors:</td><td>everwijn s.e.m...   \n",
       "\n",
       "                                                                                  url  \\\n",
       "DOI                                                                                     \n",
       "10.1108/ijshe-12-2020-0484                 https://doi.org/10.1108/ijshe-12-2020-0484   \n",
       "10.1057/s41599-022-01047-1                 https://doi.org/10.1057/s41599-022-01047-1   \n",
       "10.14201/teri.25394                               https://doi.org/10.14201/teri.25394   \n",
       "10.1108/ijshe-12-2020-0506                 https://doi.org/10.1108/ijshe-12-2020-0506   \n",
       "10.3390/su14094916                                 https://doi.org/10.3390/su14094916   \n",
       "...                                                                               ...   \n",
       "10.1111/1467-9752.00070                       https://doi.org/10.1111/1467-9752.00070   \n",
       "10.1108/00400919610117380                   https://doi.org/10.1108/00400919610117380   \n",
       "10.1111/j.1467-9752.1996.tb00406.x  https://doi.org/10.1111/j.1467-9752.1996.tb004...   \n",
       "10.1080/0305569940200208                     https://doi.org/10.1080/0305569940200208   \n",
       "10.1007/bf01383845                                 https://doi.org/10.1007/bf01383845   \n",
       "\n",
       "                                         x       y  cluster  \\\n",
       "DOI                                                           \n",
       "10.1108/ijshe-12-2020-0484          0.7611 -0.0492        1   \n",
       "10.1057/s41599-022-01047-1          0.6201  0.2079        4   \n",
       "10.14201/teri.25394                -0.3718  0.2822        3   \n",
       "10.1108/ijshe-12-2020-0506          0.8060 -0.1802        1   \n",
       "10.3390/su14094916                  0.7053 -0.0819        1   \n",
       "...                                    ...     ...      ...   \n",
       "10.1111/1467-9752.00070             1.2992 -0.0930        1   \n",
       "10.1108/00400919610117380          -1.0877 -0.3091        2   \n",
       "10.1111/j.1467-9752.1996.tb00406.x  0.4219  0.1045        4   \n",
       "10.1080/0305569940200208            1.4452 -0.0962        1   \n",
       "10.1007/bf01383845                 -0.6939 -0.2007        4   \n",
       "\n",
       "                                                                              weights  \\\n",
       "DOI                                                                                     \n",
       "10.1108/ijshe-12-2020-0484          {'Links': 4.0, 'Citations': 1.0, 'Norm. citati...   \n",
       "10.1057/s41599-022-01047-1          {'Links': 5.0, 'Citations': 0.0, 'Norm. citati...   \n",
       "10.14201/teri.25394                 {'Links': 1.0, 'Citations': 0.0, 'Norm. citati...   \n",
       "10.1108/ijshe-12-2020-0506          {'Links': 5.0, 'Citations': 1.0, 'Norm. citati...   \n",
       "10.3390/su14094916                  {'Links': 6.0, 'Citations': 0.0, 'Norm. citati...   \n",
       "...                                                                               ...   \n",
       "10.1111/1467-9752.00070             {'Links': 2.0, 'Citations': 55.0, 'Norm. citat...   \n",
       "10.1108/00400919610117380           {'Links': 1.0, 'Citations': 4.0, 'Norm. citati...   \n",
       "10.1111/j.1467-9752.1996.tb00406.x  {'Links': 1.0, 'Citations': 18.0, 'Norm. citat...   \n",
       "10.1080/0305569940200208            {'Links': 1.0, 'Citations': 6.0, 'Norm. citati...   \n",
       "10.1007/bf01383845                  {'Links': 2.0, 'Citations': 24.0, 'Norm. citat...   \n",
       "\n",
       "                                                                               scores  \n",
       "DOI                                                                                    \n",
       "10.1108/ijshe-12-2020-0484          {'Pub. year': 2022.0, 'Citations': 1.0, 'Norm....  \n",
       "10.1057/s41599-022-01047-1          {'Pub. year': 2022.0, 'Citations': 0.0, 'Norm....  \n",
       "10.14201/teri.25394                 {'Pub. year': 2022.0, 'Citations': 0.0, 'Norm....  \n",
       "10.1108/ijshe-12-2020-0506          {'Pub. year': 2022.0, 'Citations': 1.0, 'Norm....  \n",
       "10.3390/su14094916                  {'Pub. year': 2022.0, 'Citations': 0.0, 'Norm....  \n",
       "...                                                                               ...  \n",
       "10.1111/1467-9752.00070             {'Pub. year': 1997.0, 'Citations': 55.0, 'Norm...  \n",
       "10.1108/00400919610117380           {'Pub. year': 1996.0, 'Citations': 4.0, 'Norm....  \n",
       "10.1111/j.1467-9752.1996.tb00406.x  {'Pub. year': 1996.0, 'Citations': 18.0, 'Norm...  \n",
       "10.1080/0305569940200208            {'Pub. year': 1994.0, 'Citations': 6.0, 'Norm....  \n",
       "10.1007/bf01383845                  {'Pub. year': 1993.0, 'Citations': 24.0, 'Norm...  \n",
       "\n",
       "[187 rows x 9 columns]"
      ]
     },
     "execution_count": 24,
     "metadata": {},
     "output_type": "execute_result"
    }
   ],
   "source": [
    "network_items"
   ]
  },
  {
   "cell_type": "code",
   "execution_count": 25,
   "metadata": {},
   "outputs": [],
   "source": [
    "sub_df_docs = df_docs.copy().reset_index()\n",
    "sub_df_docs = sub_df_docs.merge(network_items.reset_index(), on=\"DOI\", how=\"inner\").dropna()"
   ]
  },
  {
   "cell_type": "code",
   "execution_count": 136,
   "metadata": {},
   "outputs": [
    {
     "data": {
      "application/vnd.plotly.v1+json": {
       "config": {
        "plotlyServerURL": "https://plot.ly"
       },
       "data": [
        {
         "alignmentgroup": "True",
         "hovertemplate": "Cluster=%{x}<br>Frequency=%{y}<extra></extra>",
         "legendgroup": "1",
         "marker": {
          "color": "#d63f4b",
          "pattern": {
           "shape": ""
          }
         },
         "name": "1",
         "offsetgroup": "1",
         "orientation": "v",
         "showlegend": true,
         "textposition": "auto",
         "type": "bar",
         "x": [
          "1"
         ],
         "xaxis": "x",
         "y": [
          52
         ],
         "yaxis": "y"
        },
        {
         "alignmentgroup": "True",
         "hovertemplate": "Cluster=%{x}<br>Frequency=%{y}<extra></extra>",
         "legendgroup": "2",
         "marker": {
          "color": "#58bd5b",
          "pattern": {
           "shape": ""
          }
         },
         "name": "2",
         "offsetgroup": "2",
         "orientation": "v",
         "showlegend": true,
         "textposition": "auto",
         "type": "bar",
         "x": [
          "2"
         ],
         "xaxis": "x",
         "y": [
          39
         ],
         "yaxis": "y"
        },
        {
         "alignmentgroup": "True",
         "hovertemplate": "Cluster=%{x}<br>Frequency=%{y}<extra></extra>",
         "legendgroup": "3",
         "marker": {
          "color": "#5599c3",
          "pattern": {
           "shape": ""
          }
         },
         "name": "3",
         "offsetgroup": "3",
         "orientation": "v",
         "showlegend": true,
         "textposition": "auto",
         "type": "bar",
         "x": [
          "3"
         ],
         "xaxis": "x",
         "y": [
          24
         ],
         "yaxis": "y"
        },
        {
         "alignmentgroup": "True",
         "hovertemplate": "Cluster=%{x}<br>Frequency=%{y}<extra></extra>",
         "legendgroup": "4",
         "marker": {
          "color": "#bcbe4f",
          "pattern": {
           "shape": ""
          }
         },
         "name": "4",
         "offsetgroup": "4",
         "orientation": "v",
         "showlegend": true,
         "textposition": "auto",
         "type": "bar",
         "x": [
          "4"
         ],
         "xaxis": "x",
         "y": [
          20
         ],
         "yaxis": "y"
        },
        {
         "alignmentgroup": "True",
         "hovertemplate": "Cluster=%{x}<br>Frequency=%{y}<extra></extra>",
         "legendgroup": "5",
         "marker": {
          "color": "#996fc0",
          "pattern": {
           "shape": ""
          }
         },
         "name": "5",
         "offsetgroup": "5",
         "orientation": "v",
         "showlegend": true,
         "textposition": "auto",
         "type": "bar",
         "x": [
          "5"
         ],
         "xaxis": "x",
         "y": [
          9
         ],
         "yaxis": "y"
        },
        {
         "alignmentgroup": "True",
         "hovertemplate": "Cluster=%{x}<br>Frequency=%{y}<extra></extra>",
         "legendgroup": "6",
         "marker": {
          "color": "#5cccd9",
          "pattern": {
           "shape": ""
          }
         },
         "name": "6",
         "offsetgroup": "6",
         "orientation": "v",
         "showlegend": true,
         "textposition": "auto",
         "type": "bar",
         "x": [
          "6"
         ],
         "xaxis": "x",
         "y": [
          6
         ],
         "yaxis": "y"
        }
       ],
       "layout": {
        "barmode": "relative",
        "font": {
         "size": 18
        },
        "legend": {
         "title": {
          "text": "Cluster"
         },
         "tracegroupgap": 0
        },
        "template": {
         "data": {
          "bar": [
           {
            "error_x": {
             "color": "#2a3f5f"
            },
            "error_y": {
             "color": "#2a3f5f"
            },
            "marker": {
             "line": {
              "color": "#E5ECF6",
              "width": 0.5
             },
             "pattern": {
              "fillmode": "overlay",
              "size": 10,
              "solidity": 0.2
             }
            },
            "type": "bar"
           }
          ],
          "barpolar": [
           {
            "marker": {
             "line": {
              "color": "#E5ECF6",
              "width": 0.5
             },
             "pattern": {
              "fillmode": "overlay",
              "size": 10,
              "solidity": 0.2
             }
            },
            "type": "barpolar"
           }
          ],
          "carpet": [
           {
            "aaxis": {
             "endlinecolor": "#2a3f5f",
             "gridcolor": "white",
             "linecolor": "white",
             "minorgridcolor": "white",
             "startlinecolor": "#2a3f5f"
            },
            "baxis": {
             "endlinecolor": "#2a3f5f",
             "gridcolor": "white",
             "linecolor": "white",
             "minorgridcolor": "white",
             "startlinecolor": "#2a3f5f"
            },
            "type": "carpet"
           }
          ],
          "choropleth": [
           {
            "colorbar": {
             "outlinewidth": 0,
             "ticks": ""
            },
            "type": "choropleth"
           }
          ],
          "contour": [
           {
            "colorbar": {
             "outlinewidth": 0,
             "ticks": ""
            },
            "colorscale": [
             [
              0,
              "#0d0887"
             ],
             [
              0.1111111111111111,
              "#46039f"
             ],
             [
              0.2222222222222222,
              "#7201a8"
             ],
             [
              0.3333333333333333,
              "#9c179e"
             ],
             [
              0.4444444444444444,
              "#bd3786"
             ],
             [
              0.5555555555555556,
              "#d8576b"
             ],
             [
              0.6666666666666666,
              "#ed7953"
             ],
             [
              0.7777777777777778,
              "#fb9f3a"
             ],
             [
              0.8888888888888888,
              "#fdca26"
             ],
             [
              1,
              "#f0f921"
             ]
            ],
            "type": "contour"
           }
          ],
          "contourcarpet": [
           {
            "colorbar": {
             "outlinewidth": 0,
             "ticks": ""
            },
            "type": "contourcarpet"
           }
          ],
          "heatmap": [
           {
            "colorbar": {
             "outlinewidth": 0,
             "ticks": ""
            },
            "colorscale": [
             [
              0,
              "#0d0887"
             ],
             [
              0.1111111111111111,
              "#46039f"
             ],
             [
              0.2222222222222222,
              "#7201a8"
             ],
             [
              0.3333333333333333,
              "#9c179e"
             ],
             [
              0.4444444444444444,
              "#bd3786"
             ],
             [
              0.5555555555555556,
              "#d8576b"
             ],
             [
              0.6666666666666666,
              "#ed7953"
             ],
             [
              0.7777777777777778,
              "#fb9f3a"
             ],
             [
              0.8888888888888888,
              "#fdca26"
             ],
             [
              1,
              "#f0f921"
             ]
            ],
            "type": "heatmap"
           }
          ],
          "heatmapgl": [
           {
            "colorbar": {
             "outlinewidth": 0,
             "ticks": ""
            },
            "colorscale": [
             [
              0,
              "#0d0887"
             ],
             [
              0.1111111111111111,
              "#46039f"
             ],
             [
              0.2222222222222222,
              "#7201a8"
             ],
             [
              0.3333333333333333,
              "#9c179e"
             ],
             [
              0.4444444444444444,
              "#bd3786"
             ],
             [
              0.5555555555555556,
              "#d8576b"
             ],
             [
              0.6666666666666666,
              "#ed7953"
             ],
             [
              0.7777777777777778,
              "#fb9f3a"
             ],
             [
              0.8888888888888888,
              "#fdca26"
             ],
             [
              1,
              "#f0f921"
             ]
            ],
            "type": "heatmapgl"
           }
          ],
          "histogram": [
           {
            "marker": {
             "pattern": {
              "fillmode": "overlay",
              "size": 10,
              "solidity": 0.2
             }
            },
            "type": "histogram"
           }
          ],
          "histogram2d": [
           {
            "colorbar": {
             "outlinewidth": 0,
             "ticks": ""
            },
            "colorscale": [
             [
              0,
              "#0d0887"
             ],
             [
              0.1111111111111111,
              "#46039f"
             ],
             [
              0.2222222222222222,
              "#7201a8"
             ],
             [
              0.3333333333333333,
              "#9c179e"
             ],
             [
              0.4444444444444444,
              "#bd3786"
             ],
             [
              0.5555555555555556,
              "#d8576b"
             ],
             [
              0.6666666666666666,
              "#ed7953"
             ],
             [
              0.7777777777777778,
              "#fb9f3a"
             ],
             [
              0.8888888888888888,
              "#fdca26"
             ],
             [
              1,
              "#f0f921"
             ]
            ],
            "type": "histogram2d"
           }
          ],
          "histogram2dcontour": [
           {
            "colorbar": {
             "outlinewidth": 0,
             "ticks": ""
            },
            "colorscale": [
             [
              0,
              "#0d0887"
             ],
             [
              0.1111111111111111,
              "#46039f"
             ],
             [
              0.2222222222222222,
              "#7201a8"
             ],
             [
              0.3333333333333333,
              "#9c179e"
             ],
             [
              0.4444444444444444,
              "#bd3786"
             ],
             [
              0.5555555555555556,
              "#d8576b"
             ],
             [
              0.6666666666666666,
              "#ed7953"
             ],
             [
              0.7777777777777778,
              "#fb9f3a"
             ],
             [
              0.8888888888888888,
              "#fdca26"
             ],
             [
              1,
              "#f0f921"
             ]
            ],
            "type": "histogram2dcontour"
           }
          ],
          "mesh3d": [
           {
            "colorbar": {
             "outlinewidth": 0,
             "ticks": ""
            },
            "type": "mesh3d"
           }
          ],
          "parcoords": [
           {
            "line": {
             "colorbar": {
              "outlinewidth": 0,
              "ticks": ""
             }
            },
            "type": "parcoords"
           }
          ],
          "pie": [
           {
            "automargin": true,
            "type": "pie"
           }
          ],
          "scatter": [
           {
            "fillpattern": {
             "fillmode": "overlay",
             "size": 10,
             "solidity": 0.2
            },
            "type": "scatter"
           }
          ],
          "scatter3d": [
           {
            "line": {
             "colorbar": {
              "outlinewidth": 0,
              "ticks": ""
             }
            },
            "marker": {
             "colorbar": {
              "outlinewidth": 0,
              "ticks": ""
             }
            },
            "type": "scatter3d"
           }
          ],
          "scattercarpet": [
           {
            "marker": {
             "colorbar": {
              "outlinewidth": 0,
              "ticks": ""
             }
            },
            "type": "scattercarpet"
           }
          ],
          "scattergeo": [
           {
            "marker": {
             "colorbar": {
              "outlinewidth": 0,
              "ticks": ""
             }
            },
            "type": "scattergeo"
           }
          ],
          "scattergl": [
           {
            "marker": {
             "colorbar": {
              "outlinewidth": 0,
              "ticks": ""
             }
            },
            "type": "scattergl"
           }
          ],
          "scattermapbox": [
           {
            "marker": {
             "colorbar": {
              "outlinewidth": 0,
              "ticks": ""
             }
            },
            "type": "scattermapbox"
           }
          ],
          "scatterpolar": [
           {
            "marker": {
             "colorbar": {
              "outlinewidth": 0,
              "ticks": ""
             }
            },
            "type": "scatterpolar"
           }
          ],
          "scatterpolargl": [
           {
            "marker": {
             "colorbar": {
              "outlinewidth": 0,
              "ticks": ""
             }
            },
            "type": "scatterpolargl"
           }
          ],
          "scatterternary": [
           {
            "marker": {
             "colorbar": {
              "outlinewidth": 0,
              "ticks": ""
             }
            },
            "type": "scatterternary"
           }
          ],
          "surface": [
           {
            "colorbar": {
             "outlinewidth": 0,
             "ticks": ""
            },
            "colorscale": [
             [
              0,
              "#0d0887"
             ],
             [
              0.1111111111111111,
              "#46039f"
             ],
             [
              0.2222222222222222,
              "#7201a8"
             ],
             [
              0.3333333333333333,
              "#9c179e"
             ],
             [
              0.4444444444444444,
              "#bd3786"
             ],
             [
              0.5555555555555556,
              "#d8576b"
             ],
             [
              0.6666666666666666,
              "#ed7953"
             ],
             [
              0.7777777777777778,
              "#fb9f3a"
             ],
             [
              0.8888888888888888,
              "#fdca26"
             ],
             [
              1,
              "#f0f921"
             ]
            ],
            "type": "surface"
           }
          ],
          "table": [
           {
            "cells": {
             "fill": {
              "color": "#EBF0F8"
             },
             "line": {
              "color": "white"
             }
            },
            "header": {
             "fill": {
              "color": "#C8D4E3"
             },
             "line": {
              "color": "white"
             }
            },
            "type": "table"
           }
          ]
         },
         "layout": {
          "annotationdefaults": {
           "arrowcolor": "#2a3f5f",
           "arrowhead": 0,
           "arrowwidth": 1
          },
          "autotypenumbers": "strict",
          "coloraxis": {
           "colorbar": {
            "outlinewidth": 0,
            "ticks": ""
           }
          },
          "colorscale": {
           "diverging": [
            [
             0,
             "#8e0152"
            ],
            [
             0.1,
             "#c51b7d"
            ],
            [
             0.2,
             "#de77ae"
            ],
            [
             0.3,
             "#f1b6da"
            ],
            [
             0.4,
             "#fde0ef"
            ],
            [
             0.5,
             "#f7f7f7"
            ],
            [
             0.6,
             "#e6f5d0"
            ],
            [
             0.7,
             "#b8e186"
            ],
            [
             0.8,
             "#7fbc41"
            ],
            [
             0.9,
             "#4d9221"
            ],
            [
             1,
             "#276419"
            ]
           ],
           "sequential": [
            [
             0,
             "#0d0887"
            ],
            [
             0.1111111111111111,
             "#46039f"
            ],
            [
             0.2222222222222222,
             "#7201a8"
            ],
            [
             0.3333333333333333,
             "#9c179e"
            ],
            [
             0.4444444444444444,
             "#bd3786"
            ],
            [
             0.5555555555555556,
             "#d8576b"
            ],
            [
             0.6666666666666666,
             "#ed7953"
            ],
            [
             0.7777777777777778,
             "#fb9f3a"
            ],
            [
             0.8888888888888888,
             "#fdca26"
            ],
            [
             1,
             "#f0f921"
            ]
           ],
           "sequentialminus": [
            [
             0,
             "#0d0887"
            ],
            [
             0.1111111111111111,
             "#46039f"
            ],
            [
             0.2222222222222222,
             "#7201a8"
            ],
            [
             0.3333333333333333,
             "#9c179e"
            ],
            [
             0.4444444444444444,
             "#bd3786"
            ],
            [
             0.5555555555555556,
             "#d8576b"
            ],
            [
             0.6666666666666666,
             "#ed7953"
            ],
            [
             0.7777777777777778,
             "#fb9f3a"
            ],
            [
             0.8888888888888888,
             "#fdca26"
            ],
            [
             1,
             "#f0f921"
            ]
           ]
          },
          "colorway": [
           "#636efa",
           "#EF553B",
           "#00cc96",
           "#ab63fa",
           "#FFA15A",
           "#19d3f3",
           "#FF6692",
           "#B6E880",
           "#FF97FF",
           "#FECB52"
          ],
          "font": {
           "color": "#2a3f5f"
          },
          "geo": {
           "bgcolor": "white",
           "lakecolor": "white",
           "landcolor": "#E5ECF6",
           "showlakes": true,
           "showland": true,
           "subunitcolor": "white"
          },
          "hoverlabel": {
           "align": "left"
          },
          "hovermode": "closest",
          "mapbox": {
           "style": "light"
          },
          "paper_bgcolor": "white",
          "plot_bgcolor": "#E5ECF6",
          "polar": {
           "angularaxis": {
            "gridcolor": "white",
            "linecolor": "white",
            "ticks": ""
           },
           "bgcolor": "#E5ECF6",
           "radialaxis": {
            "gridcolor": "white",
            "linecolor": "white",
            "ticks": ""
           }
          },
          "scene": {
           "xaxis": {
            "backgroundcolor": "#E5ECF6",
            "gridcolor": "white",
            "gridwidth": 2,
            "linecolor": "white",
            "showbackground": true,
            "ticks": "",
            "zerolinecolor": "white"
           },
           "yaxis": {
            "backgroundcolor": "#E5ECF6",
            "gridcolor": "white",
            "gridwidth": 2,
            "linecolor": "white",
            "showbackground": true,
            "ticks": "",
            "zerolinecolor": "white"
           },
           "zaxis": {
            "backgroundcolor": "#E5ECF6",
            "gridcolor": "white",
            "gridwidth": 2,
            "linecolor": "white",
            "showbackground": true,
            "ticks": "",
            "zerolinecolor": "white"
           }
          },
          "shapedefaults": {
           "line": {
            "color": "#2a3f5f"
           }
          },
          "ternary": {
           "aaxis": {
            "gridcolor": "white",
            "linecolor": "white",
            "ticks": ""
           },
           "baxis": {
            "gridcolor": "white",
            "linecolor": "white",
            "ticks": ""
           },
           "bgcolor": "#E5ECF6",
           "caxis": {
            "gridcolor": "white",
            "linecolor": "white",
            "ticks": ""
           }
          },
          "title": {
           "x": 0.05
          },
          "xaxis": {
           "automargin": true,
           "gridcolor": "white",
           "linecolor": "white",
           "ticks": "",
           "title": {
            "standoff": 15
           },
           "zerolinecolor": "white",
           "zerolinewidth": 2
          },
          "yaxis": {
           "automargin": true,
           "gridcolor": "white",
           "linecolor": "white",
           "ticks": "",
           "title": {
            "standoff": 15
           },
           "zerolinecolor": "white",
           "zerolinewidth": 2
          }
         }
        },
        "title": {
         "text": "Frecuency of clusters (LinLog/mod.)"
        },
        "xaxis": {
         "anchor": "y",
         "categoryarray": [
          "1",
          "2",
          "3",
          "4",
          "5",
          "6"
         ],
         "categoryorder": "array",
         "domain": [
          0,
          1
         ],
         "title": {
          "text": "Cluster"
         }
        },
        "yaxis": {
         "anchor": "x",
         "domain": [
          0,
          1
         ],
         "title": {
          "text": "Frequency"
         }
        }
       }
      },
      "text/html": [
       "<div>                            <div id=\"c8e3847b-6a8a-4617-b690-833e631878fe\" class=\"plotly-graph-div\" style=\"height:525px; width:100%;\"></div>            <script type=\"text/javascript\">                require([\"plotly\"], function(Plotly) {                    window.PLOTLYENV=window.PLOTLYENV || {};                                    if (document.getElementById(\"c8e3847b-6a8a-4617-b690-833e631878fe\")) {                    Plotly.newPlot(                        \"c8e3847b-6a8a-4617-b690-833e631878fe\",                        [{\"alignmentgroup\":\"True\",\"hovertemplate\":\"Cluster=%{x}<br>Frequency=%{y}<extra></extra>\",\"legendgroup\":\"1\",\"marker\":{\"color\":\"#d63f4b\",\"pattern\":{\"shape\":\"\"}},\"name\":\"1\",\"offsetgroup\":\"1\",\"orientation\":\"v\",\"showlegend\":true,\"textposition\":\"auto\",\"x\":[\"1\"],\"xaxis\":\"x\",\"y\":[52],\"yaxis\":\"y\",\"type\":\"bar\"},{\"alignmentgroup\":\"True\",\"hovertemplate\":\"Cluster=%{x}<br>Frequency=%{y}<extra></extra>\",\"legendgroup\":\"2\",\"marker\":{\"color\":\"#58bd5b\",\"pattern\":{\"shape\":\"\"}},\"name\":\"2\",\"offsetgroup\":\"2\",\"orientation\":\"v\",\"showlegend\":true,\"textposition\":\"auto\",\"x\":[\"2\"],\"xaxis\":\"x\",\"y\":[39],\"yaxis\":\"y\",\"type\":\"bar\"},{\"alignmentgroup\":\"True\",\"hovertemplate\":\"Cluster=%{x}<br>Frequency=%{y}<extra></extra>\",\"legendgroup\":\"3\",\"marker\":{\"color\":\"#5599c3\",\"pattern\":{\"shape\":\"\"}},\"name\":\"3\",\"offsetgroup\":\"3\",\"orientation\":\"v\",\"showlegend\":true,\"textposition\":\"auto\",\"x\":[\"3\"],\"xaxis\":\"x\",\"y\":[24],\"yaxis\":\"y\",\"type\":\"bar\"},{\"alignmentgroup\":\"True\",\"hovertemplate\":\"Cluster=%{x}<br>Frequency=%{y}<extra></extra>\",\"legendgroup\":\"4\",\"marker\":{\"color\":\"#bcbe4f\",\"pattern\":{\"shape\":\"\"}},\"name\":\"4\",\"offsetgroup\":\"4\",\"orientation\":\"v\",\"showlegend\":true,\"textposition\":\"auto\",\"x\":[\"4\"],\"xaxis\":\"x\",\"y\":[20],\"yaxis\":\"y\",\"type\":\"bar\"},{\"alignmentgroup\":\"True\",\"hovertemplate\":\"Cluster=%{x}<br>Frequency=%{y}<extra></extra>\",\"legendgroup\":\"5\",\"marker\":{\"color\":\"#996fc0\",\"pattern\":{\"shape\":\"\"}},\"name\":\"5\",\"offsetgroup\":\"5\",\"orientation\":\"v\",\"showlegend\":true,\"textposition\":\"auto\",\"x\":[\"5\"],\"xaxis\":\"x\",\"y\":[9],\"yaxis\":\"y\",\"type\":\"bar\"},{\"alignmentgroup\":\"True\",\"hovertemplate\":\"Cluster=%{x}<br>Frequency=%{y}<extra></extra>\",\"legendgroup\":\"6\",\"marker\":{\"color\":\"#5cccd9\",\"pattern\":{\"shape\":\"\"}},\"name\":\"6\",\"offsetgroup\":\"6\",\"orientation\":\"v\",\"showlegend\":true,\"textposition\":\"auto\",\"x\":[\"6\"],\"xaxis\":\"x\",\"y\":[6],\"yaxis\":\"y\",\"type\":\"bar\"}],                        {\"template\":{\"data\":{\"histogram2dcontour\":[{\"type\":\"histogram2dcontour\",\"colorbar\":{\"outlinewidth\":0,\"ticks\":\"\"},\"colorscale\":[[0.0,\"#0d0887\"],[0.1111111111111111,\"#46039f\"],[0.2222222222222222,\"#7201a8\"],[0.3333333333333333,\"#9c179e\"],[0.4444444444444444,\"#bd3786\"],[0.5555555555555556,\"#d8576b\"],[0.6666666666666666,\"#ed7953\"],[0.7777777777777778,\"#fb9f3a\"],[0.8888888888888888,\"#fdca26\"],[1.0,\"#f0f921\"]]}],\"choropleth\":[{\"type\":\"choropleth\",\"colorbar\":{\"outlinewidth\":0,\"ticks\":\"\"}}],\"histogram2d\":[{\"type\":\"histogram2d\",\"colorbar\":{\"outlinewidth\":0,\"ticks\":\"\"},\"colorscale\":[[0.0,\"#0d0887\"],[0.1111111111111111,\"#46039f\"],[0.2222222222222222,\"#7201a8\"],[0.3333333333333333,\"#9c179e\"],[0.4444444444444444,\"#bd3786\"],[0.5555555555555556,\"#d8576b\"],[0.6666666666666666,\"#ed7953\"],[0.7777777777777778,\"#fb9f3a\"],[0.8888888888888888,\"#fdca26\"],[1.0,\"#f0f921\"]]}],\"heatmap\":[{\"type\":\"heatmap\",\"colorbar\":{\"outlinewidth\":0,\"ticks\":\"\"},\"colorscale\":[[0.0,\"#0d0887\"],[0.1111111111111111,\"#46039f\"],[0.2222222222222222,\"#7201a8\"],[0.3333333333333333,\"#9c179e\"],[0.4444444444444444,\"#bd3786\"],[0.5555555555555556,\"#d8576b\"],[0.6666666666666666,\"#ed7953\"],[0.7777777777777778,\"#fb9f3a\"],[0.8888888888888888,\"#fdca26\"],[1.0,\"#f0f921\"]]}],\"heatmapgl\":[{\"type\":\"heatmapgl\",\"colorbar\":{\"outlinewidth\":0,\"ticks\":\"\"},\"colorscale\":[[0.0,\"#0d0887\"],[0.1111111111111111,\"#46039f\"],[0.2222222222222222,\"#7201a8\"],[0.3333333333333333,\"#9c179e\"],[0.4444444444444444,\"#bd3786\"],[0.5555555555555556,\"#d8576b\"],[0.6666666666666666,\"#ed7953\"],[0.7777777777777778,\"#fb9f3a\"],[0.8888888888888888,\"#fdca26\"],[1.0,\"#f0f921\"]]}],\"contourcarpet\":[{\"type\":\"contourcarpet\",\"colorbar\":{\"outlinewidth\":0,\"ticks\":\"\"}}],\"contour\":[{\"type\":\"contour\",\"colorbar\":{\"outlinewidth\":0,\"ticks\":\"\"},\"colorscale\":[[0.0,\"#0d0887\"],[0.1111111111111111,\"#46039f\"],[0.2222222222222222,\"#7201a8\"],[0.3333333333333333,\"#9c179e\"],[0.4444444444444444,\"#bd3786\"],[0.5555555555555556,\"#d8576b\"],[0.6666666666666666,\"#ed7953\"],[0.7777777777777778,\"#fb9f3a\"],[0.8888888888888888,\"#fdca26\"],[1.0,\"#f0f921\"]]}],\"surface\":[{\"type\":\"surface\",\"colorbar\":{\"outlinewidth\":0,\"ticks\":\"\"},\"colorscale\":[[0.0,\"#0d0887\"],[0.1111111111111111,\"#46039f\"],[0.2222222222222222,\"#7201a8\"],[0.3333333333333333,\"#9c179e\"],[0.4444444444444444,\"#bd3786\"],[0.5555555555555556,\"#d8576b\"],[0.6666666666666666,\"#ed7953\"],[0.7777777777777778,\"#fb9f3a\"],[0.8888888888888888,\"#fdca26\"],[1.0,\"#f0f921\"]]}],\"mesh3d\":[{\"type\":\"mesh3d\",\"colorbar\":{\"outlinewidth\":0,\"ticks\":\"\"}}],\"scatter\":[{\"fillpattern\":{\"fillmode\":\"overlay\",\"size\":10,\"solidity\":0.2},\"type\":\"scatter\"}],\"parcoords\":[{\"type\":\"parcoords\",\"line\":{\"colorbar\":{\"outlinewidth\":0,\"ticks\":\"\"}}}],\"scatterpolargl\":[{\"type\":\"scatterpolargl\",\"marker\":{\"colorbar\":{\"outlinewidth\":0,\"ticks\":\"\"}}}],\"bar\":[{\"error_x\":{\"color\":\"#2a3f5f\"},\"error_y\":{\"color\":\"#2a3f5f\"},\"marker\":{\"line\":{\"color\":\"#E5ECF6\",\"width\":0.5},\"pattern\":{\"fillmode\":\"overlay\",\"size\":10,\"solidity\":0.2}},\"type\":\"bar\"}],\"scattergeo\":[{\"type\":\"scattergeo\",\"marker\":{\"colorbar\":{\"outlinewidth\":0,\"ticks\":\"\"}}}],\"scatterpolar\":[{\"type\":\"scatterpolar\",\"marker\":{\"colorbar\":{\"outlinewidth\":0,\"ticks\":\"\"}}}],\"histogram\":[{\"marker\":{\"pattern\":{\"fillmode\":\"overlay\",\"size\":10,\"solidity\":0.2}},\"type\":\"histogram\"}],\"scattergl\":[{\"type\":\"scattergl\",\"marker\":{\"colorbar\":{\"outlinewidth\":0,\"ticks\":\"\"}}}],\"scatter3d\":[{\"type\":\"scatter3d\",\"line\":{\"colorbar\":{\"outlinewidth\":0,\"ticks\":\"\"}},\"marker\":{\"colorbar\":{\"outlinewidth\":0,\"ticks\":\"\"}}}],\"scattermapbox\":[{\"type\":\"scattermapbox\",\"marker\":{\"colorbar\":{\"outlinewidth\":0,\"ticks\":\"\"}}}],\"scatterternary\":[{\"type\":\"scatterternary\",\"marker\":{\"colorbar\":{\"outlinewidth\":0,\"ticks\":\"\"}}}],\"scattercarpet\":[{\"type\":\"scattercarpet\",\"marker\":{\"colorbar\":{\"outlinewidth\":0,\"ticks\":\"\"}}}],\"carpet\":[{\"aaxis\":{\"endlinecolor\":\"#2a3f5f\",\"gridcolor\":\"white\",\"linecolor\":\"white\",\"minorgridcolor\":\"white\",\"startlinecolor\":\"#2a3f5f\"},\"baxis\":{\"endlinecolor\":\"#2a3f5f\",\"gridcolor\":\"white\",\"linecolor\":\"white\",\"minorgridcolor\":\"white\",\"startlinecolor\":\"#2a3f5f\"},\"type\":\"carpet\"}],\"table\":[{\"cells\":{\"fill\":{\"color\":\"#EBF0F8\"},\"line\":{\"color\":\"white\"}},\"header\":{\"fill\":{\"color\":\"#C8D4E3\"},\"line\":{\"color\":\"white\"}},\"type\":\"table\"}],\"barpolar\":[{\"marker\":{\"line\":{\"color\":\"#E5ECF6\",\"width\":0.5},\"pattern\":{\"fillmode\":\"overlay\",\"size\":10,\"solidity\":0.2}},\"type\":\"barpolar\"}],\"pie\":[{\"automargin\":true,\"type\":\"pie\"}]},\"layout\":{\"autotypenumbers\":\"strict\",\"colorway\":[\"#636efa\",\"#EF553B\",\"#00cc96\",\"#ab63fa\",\"#FFA15A\",\"#19d3f3\",\"#FF6692\",\"#B6E880\",\"#FF97FF\",\"#FECB52\"],\"font\":{\"color\":\"#2a3f5f\"},\"hovermode\":\"closest\",\"hoverlabel\":{\"align\":\"left\"},\"paper_bgcolor\":\"white\",\"plot_bgcolor\":\"#E5ECF6\",\"polar\":{\"bgcolor\":\"#E5ECF6\",\"angularaxis\":{\"gridcolor\":\"white\",\"linecolor\":\"white\",\"ticks\":\"\"},\"radialaxis\":{\"gridcolor\":\"white\",\"linecolor\":\"white\",\"ticks\":\"\"}},\"ternary\":{\"bgcolor\":\"#E5ECF6\",\"aaxis\":{\"gridcolor\":\"white\",\"linecolor\":\"white\",\"ticks\":\"\"},\"baxis\":{\"gridcolor\":\"white\",\"linecolor\":\"white\",\"ticks\":\"\"},\"caxis\":{\"gridcolor\":\"white\",\"linecolor\":\"white\",\"ticks\":\"\"}},\"coloraxis\":{\"colorbar\":{\"outlinewidth\":0,\"ticks\":\"\"}},\"colorscale\":{\"sequential\":[[0.0,\"#0d0887\"],[0.1111111111111111,\"#46039f\"],[0.2222222222222222,\"#7201a8\"],[0.3333333333333333,\"#9c179e\"],[0.4444444444444444,\"#bd3786\"],[0.5555555555555556,\"#d8576b\"],[0.6666666666666666,\"#ed7953\"],[0.7777777777777778,\"#fb9f3a\"],[0.8888888888888888,\"#fdca26\"],[1.0,\"#f0f921\"]],\"sequentialminus\":[[0.0,\"#0d0887\"],[0.1111111111111111,\"#46039f\"],[0.2222222222222222,\"#7201a8\"],[0.3333333333333333,\"#9c179e\"],[0.4444444444444444,\"#bd3786\"],[0.5555555555555556,\"#d8576b\"],[0.6666666666666666,\"#ed7953\"],[0.7777777777777778,\"#fb9f3a\"],[0.8888888888888888,\"#fdca26\"],[1.0,\"#f0f921\"]],\"diverging\":[[0,\"#8e0152\"],[0.1,\"#c51b7d\"],[0.2,\"#de77ae\"],[0.3,\"#f1b6da\"],[0.4,\"#fde0ef\"],[0.5,\"#f7f7f7\"],[0.6,\"#e6f5d0\"],[0.7,\"#b8e186\"],[0.8,\"#7fbc41\"],[0.9,\"#4d9221\"],[1,\"#276419\"]]},\"xaxis\":{\"gridcolor\":\"white\",\"linecolor\":\"white\",\"ticks\":\"\",\"title\":{\"standoff\":15},\"zerolinecolor\":\"white\",\"automargin\":true,\"zerolinewidth\":2},\"yaxis\":{\"gridcolor\":\"white\",\"linecolor\":\"white\",\"ticks\":\"\",\"title\":{\"standoff\":15},\"zerolinecolor\":\"white\",\"automargin\":true,\"zerolinewidth\":2},\"scene\":{\"xaxis\":{\"backgroundcolor\":\"#E5ECF6\",\"gridcolor\":\"white\",\"linecolor\":\"white\",\"showbackground\":true,\"ticks\":\"\",\"zerolinecolor\":\"white\",\"gridwidth\":2},\"yaxis\":{\"backgroundcolor\":\"#E5ECF6\",\"gridcolor\":\"white\",\"linecolor\":\"white\",\"showbackground\":true,\"ticks\":\"\",\"zerolinecolor\":\"white\",\"gridwidth\":2},\"zaxis\":{\"backgroundcolor\":\"#E5ECF6\",\"gridcolor\":\"white\",\"linecolor\":\"white\",\"showbackground\":true,\"ticks\":\"\",\"zerolinecolor\":\"white\",\"gridwidth\":2}},\"shapedefaults\":{\"line\":{\"color\":\"#2a3f5f\"}},\"annotationdefaults\":{\"arrowcolor\":\"#2a3f5f\",\"arrowhead\":0,\"arrowwidth\":1},\"geo\":{\"bgcolor\":\"white\",\"landcolor\":\"#E5ECF6\",\"subunitcolor\":\"white\",\"showland\":true,\"showlakes\":true,\"lakecolor\":\"white\"},\"title\":{\"x\":0.05},\"mapbox\":{\"style\":\"light\"}}},\"xaxis\":{\"anchor\":\"y\",\"domain\":[0.0,1.0],\"title\":{\"text\":\"Cluster\"},\"categoryorder\":\"array\",\"categoryarray\":[\"1\",\"2\",\"3\",\"4\",\"5\",\"6\"]},\"yaxis\":{\"anchor\":\"x\",\"domain\":[0.0,1.0],\"title\":{\"text\":\"Frequency\"}},\"legend\":{\"title\":{\"text\":\"Cluster\"},\"tracegroupgap\":0},\"title\":{\"text\":\"Frecuency of clusters (LinLog/mod.)\"},\"barmode\":\"relative\",\"font\":{\"size\":18}},                        {\"responsive\": true}                    ).then(function(){\n",
       "                            \n",
       "var gd = document.getElementById('c8e3847b-6a8a-4617-b690-833e631878fe');\n",
       "var x = new MutationObserver(function (mutations, observer) {{\n",
       "        var display = window.getComputedStyle(gd).display;\n",
       "        if (!display || display === 'none') {{\n",
       "            console.log([gd, 'removed!']);\n",
       "            Plotly.purge(gd);\n",
       "            observer.disconnect();\n",
       "        }}\n",
       "}});\n",
       "\n",
       "// Listen for the removal of the full notebook cells\n",
       "var notebookContainer = gd.closest('#notebook-container');\n",
       "if (notebookContainer) {{\n",
       "    x.observe(notebookContainer, {childList: true});\n",
       "}}\n",
       "\n",
       "// Listen for the clearing of the current output cell\n",
       "var outputEl = gd.closest('.output');\n",
       "if (outputEl) {{\n",
       "    x.observe(outputEl, {childList: true});\n",
       "}}\n",
       "\n",
       "                        })                };                });            </script>        </div>"
      ]
     },
     "metadata": {},
     "output_type": "display_data"
    }
   ],
   "source": [
    "table_hist = pd.DataFrame()\n",
    "table_hist[\"Frequency\"] = sub_df_docs[\"cluster\"].value_counts().values\n",
    "table_hist[\"Cluster\"] = [str(i) for i in range(1, 6+1)]\n",
    "\n",
    "color_discrete_sequence = ['#d63f4b', \"#58bd5b\", \"#5599c3\", \"#bcbe4f\", \"#996fc0\", \"#5cccd9\"]\n",
    "\n",
    "fig = px.bar(table_hist, x=\"Cluster\", y=\"Frequency\", color=\"Cluster\", title=\"Frecuency of clusters (LinLog/mod.)\", color_discrete_sequence=color_discrete_sequence)\n",
    "fig.update_layout(\n",
    "    font=dict(\n",
    "        size=18\n",
    "    )\n",
    ")\n",
    "fig.show()"
   ]
  },
  {
   "cell_type": "code",
   "execution_count": 39,
   "metadata": {},
   "outputs": [
    {
     "data": {
      "text/html": [
       "<div>\n",
       "<style scoped>\n",
       "    .dataframe tbody tr th:only-of-type {\n",
       "        vertical-align: middle;\n",
       "    }\n",
       "\n",
       "    .dataframe tbody tr th {\n",
       "        vertical-align: top;\n",
       "    }\n",
       "\n",
       "    .dataframe thead th {\n",
       "        text-align: right;\n",
       "    }\n",
       "</style>\n",
       "<table border=\"1\" class=\"dataframe\">\n",
       "  <thead>\n",
       "    <tr style=\"text-align: right;\">\n",
       "      <th></th>\n",
       "      <th>Frecuency</th>\n",
       "      <th>Cluster</th>\n",
       "    </tr>\n",
       "  </thead>\n",
       "  <tbody>\n",
       "    <tr>\n",
       "      <th>0</th>\n",
       "      <td>52</td>\n",
       "      <td>1</td>\n",
       "    </tr>\n",
       "    <tr>\n",
       "      <th>1</th>\n",
       "      <td>39</td>\n",
       "      <td>2</td>\n",
       "    </tr>\n",
       "    <tr>\n",
       "      <th>2</th>\n",
       "      <td>24</td>\n",
       "      <td>3</td>\n",
       "    </tr>\n",
       "    <tr>\n",
       "      <th>3</th>\n",
       "      <td>20</td>\n",
       "      <td>4</td>\n",
       "    </tr>\n",
       "    <tr>\n",
       "      <th>4</th>\n",
       "      <td>9</td>\n",
       "      <td>5</td>\n",
       "    </tr>\n",
       "    <tr>\n",
       "      <th>5</th>\n",
       "      <td>6</td>\n",
       "      <td>6</td>\n",
       "    </tr>\n",
       "  </tbody>\n",
       "</table>\n",
       "</div>"
      ],
      "text/plain": [
       "   Frecuency  Cluster\n",
       "0         52        1\n",
       "1         39        2\n",
       "2         24        3\n",
       "3         20        4\n",
       "4          9        5\n",
       "5          6        6"
      ]
     },
     "execution_count": 39,
     "metadata": {},
     "output_type": "execute_result"
    }
   ],
   "source": [
    "table_hist"
   ]
  },
  {
   "cell_type": "code",
   "execution_count": 57,
   "metadata": {},
   "outputs": [],
   "source": [
    "from gensim import corpora\n",
    "from gensim import models"
   ]
  },
  {
   "cell_type": "code",
   "execution_count": 207,
   "metadata": {},
   "outputs": [],
   "source": [
    "cluster_id = 4\n",
    "df_docs_cluster = sub_df_docs[sub_df_docs[\"cluster\"] == cluster_id]\n",
    "corpus = df_docs_cluster['doc_clean']\n",
    "dictionary = corpora.Dictionary(corpus)\n",
    "\n",
    "bow = [dictionary.doc2bow(text) for text in corpus]\n",
    "\n",
    "tfidf = models.TfidfModel(bow)\n",
    "corpus_tfidf = tfidf[bow]"
   ]
  },
  {
   "cell_type": "code",
   "execution_count": 208,
   "metadata": {},
   "outputs": [],
   "source": [
    "from gensim.models import LsiModel\n",
    "from gensim.models.coherencemodel import CoherenceModel"
   ]
  },
  {
   "cell_type": "code",
   "execution_count": 209,
   "metadata": {},
   "outputs": [
    {
     "name": "stdout",
     "output_type": "stream",
     "text": [
      "Coherence score with 2 topics: 0.3328857000677681\n",
      "Coherence score with 3 topics: 0.32591682441435993\n",
      "Coherence score with 4 topics: 0.3424467180114916\n",
      "Coherence score with 5 topics: 0.3540608142587526\n",
      "Coherence score with 6 topics: 0.3622095198149855\n",
      "Coherence score with 7 topics: 0.3655890380984568\n",
      "Coherence score with 8 topics: 0.5095417672677052\n",
      "Coherence score with 9 topics: 0.3681209003274659\n",
      "Coherence score with 10 topics: 0.39429464388462954\n",
      "Coherence score with 11 topics: 0.4053669224076252\n",
      "Coherence score with 12 topics: 0.39935698887493415\n",
      "Coherence score with 13 topics: 0.3967510190539164\n",
      "Coherence score with 14 topics: 0.39966511733074833\n",
      "Coherence score with 15 topics: 0.40687805501060237\n",
      "Wall time: 24.9 s\n"
     ]
    }
   ],
   "source": [
    "%%time\n",
    "for i in range(2, 16):\n",
    "    lsi = LsiModel(corpus_tfidf, num_topics=i, id2word=dictionary)\n",
    "    coherence_model = CoherenceModel(model=lsi, texts=df_docs_cluster['doc_clean'], dictionary=dictionary, coherence='c_v')\n",
    "    coherence_score = coherence_model.get_coherence()\n",
    "    print('Coherence score with {} topics: {}'.format(i, coherence_score))"
   ]
  },
  {
   "cell_type": "code",
   "execution_count": 217,
   "metadata": {},
   "outputs": [],
   "source": [
    "num_topics = 8\n",
    "lsi = LsiModel(corpus_tfidf, num_topics=num_topics, id2word=dictionary)"
   ]
  },
  {
   "cell_type": "code",
   "execution_count": 218,
   "metadata": {},
   "outputs": [
    {
     "data": {
      "text/html": [
       "<div>\n",
       "<style scoped>\n",
       "    .dataframe tbody tr th:only-of-type {\n",
       "        vertical-align: middle;\n",
       "    }\n",
       "\n",
       "    .dataframe tbody tr th {\n",
       "        vertical-align: top;\n",
       "    }\n",
       "\n",
       "    .dataframe thead th {\n",
       "        text-align: right;\n",
       "    }\n",
       "</style>\n",
       "<table border=\"1\" class=\"dataframe\">\n",
       "  <thead>\n",
       "    <tr style=\"text-align: right;\">\n",
       "      <th></th>\n",
       "      <th>DOI</th>\n",
       "      <th>Title</th>\n",
       "      <th>Abstract</th>\n",
       "      <th>Author Keywords</th>\n",
       "      <th>Index Keywords</th>\n",
       "      <th>doc</th>\n",
       "      <th>doc_clean</th>\n",
       "      <th>id</th>\n",
       "      <th>label</th>\n",
       "      <th>description</th>\n",
       "      <th>...</th>\n",
       "      <th>scores</th>\n",
       "      <th>score_topic_0</th>\n",
       "      <th>score_topic_1</th>\n",
       "      <th>score_topic_2</th>\n",
       "      <th>score_topic_3</th>\n",
       "      <th>score_topic_4</th>\n",
       "      <th>score_topic_5</th>\n",
       "      <th>score_topic_6</th>\n",
       "      <th>score_topic_7</th>\n",
       "      <th>Topic</th>\n",
       "    </tr>\n",
       "  </thead>\n",
       "  <tbody>\n",
       "    <tr>\n",
       "      <th>0</th>\n",
       "      <td>10.1057/s41599-022-01047-1</td>\n",
       "      <td>Competence-based approaches in organizational ...</td>\n",
       "      <td>With an increasing pace of digitalization, aut...</td>\n",
       "      <td></td>\n",
       "      <td></td>\n",
       "      <td>Competence-based approaches in organizational ...</td>\n",
       "      <td>[compet, base, approach, organiz, individu, co...</td>\n",
       "      <td>7</td>\n",
       "      <td>škrinjarić b. (2022)</td>\n",
       "      <td>&lt;table&gt;&lt;tr&gt;&lt;td&gt;Authors:&lt;/td&gt;&lt;td&gt;škrinjarić b.&lt;...</td>\n",
       "      <td>...</td>\n",
       "      <td>{'Pub. year': 2022.0, 'Citations': 0.0, 'Norm....</td>\n",
       "      <td>4.47</td>\n",
       "      <td>-1.19</td>\n",
       "      <td>3.81</td>\n",
       "      <td>-2.88</td>\n",
       "      <td>2.28</td>\n",
       "      <td>-3.30</td>\n",
       "      <td>3.83</td>\n",
       "      <td>-0.65</td>\n",
       "      <td>0</td>\n",
       "    </tr>\n",
       "    <tr>\n",
       "      <th>462</th>\n",
       "      <td>10.30880/jtet.2020.12.04.003</td>\n",
       "      <td>Validation of the chefs’ key competencies ques...</td>\n",
       "      <td>The chef is considered a success factor for cu...</td>\n",
       "      <td>CFA; Chef; Core competencies; Culinary experti...</td>\n",
       "      <td></td>\n",
       "      <td>Validation of the chefs’ key competencies ques...</td>\n",
       "      <td>[valid, chefs’, kei, compet, questionnair, cul...</td>\n",
       "      <td>254</td>\n",
       "      <td>mahfud t. (2020)</td>\n",
       "      <td>&lt;table&gt;&lt;tr&gt;&lt;td&gt;Authors:&lt;/td&gt;&lt;td&gt;mahfud t.; nug...</td>\n",
       "      <td>...</td>\n",
       "      <td>{'Pub. year': 2020.0, 'Citations': 0.0, 'Norm....</td>\n",
       "      <td>6.55</td>\n",
       "      <td>-0.28</td>\n",
       "      <td>-2.31</td>\n",
       "      <td>-7.59</td>\n",
       "      <td>-11.03</td>\n",
       "      <td>6.38</td>\n",
       "      <td>-1.07</td>\n",
       "      <td>4.62</td>\n",
       "      <td>0</td>\n",
       "    </tr>\n",
       "    <tr>\n",
       "      <th>480</th>\n",
       "      <td>10.1080/09639284.2018.1476895</td>\n",
       "      <td>Audit workplace simulations as a methodology t...</td>\n",
       "      <td>This paper describes an audit workplace simula...</td>\n",
       "      <td>communication skills; competence-based educati...</td>\n",
       "      <td></td>\n",
       "      <td>Audit workplace simulations as a methodology t...</td>\n",
       "      <td>[audit, workplac, simul, methodolog, increas, ...</td>\n",
       "      <td>397</td>\n",
       "      <td>bautista-mesa r. (2018)</td>\n",
       "      <td>&lt;table&gt;&lt;tr&gt;&lt;td&gt;Authors:&lt;/td&gt;&lt;td&gt;bautista-mesa ...</td>\n",
       "      <td>...</td>\n",
       "      <td>{'Pub. year': 2018.0, 'Citations': 10.0, 'Norm...</td>\n",
       "      <td>4.04</td>\n",
       "      <td>-1.08</td>\n",
       "      <td>2.29</td>\n",
       "      <td>-1.92</td>\n",
       "      <td>-1.36</td>\n",
       "      <td>3.46</td>\n",
       "      <td>-3.53</td>\n",
       "      <td>-10.53</td>\n",
       "      <td>0</td>\n",
       "    </tr>\n",
       "    <tr>\n",
       "      <th>481</th>\n",
       "      <td>10.3390/su10041155</td>\n",
       "      <td>Exercise on transdisciplinarity: Lessons from ...</td>\n",
       "      <td>Sustainability science emerged as a new academ...</td>\n",
       "      <td>Aging society; Competencies; Empathetic compet...</td>\n",
       "      <td>academic research; aging population; education...</td>\n",
       "      <td>Exercise on transdisciplinarity: Lessons from ...</td>\n",
       "      <td>[exercis, transdisciplinar, lesson, field, bas...</td>\n",
       "      <td>401</td>\n",
       "      <td>kudo s. (2018)</td>\n",
       "      <td>&lt;table&gt;&lt;tr&gt;&lt;td&gt;Authors:&lt;/td&gt;&lt;td&gt;kudo s.; mursa...</td>\n",
       "      <td>...</td>\n",
       "      <td>{'Pub. year': 2018.0, 'Citations': 4.0, 'Norm....</td>\n",
       "      <td>9.83</td>\n",
       "      <td>-0.44</td>\n",
       "      <td>5.43</td>\n",
       "      <td>0.40</td>\n",
       "      <td>-3.87</td>\n",
       "      <td>-1.55</td>\n",
       "      <td>13.27</td>\n",
       "      <td>-6.34</td>\n",
       "      <td>6</td>\n",
       "    </tr>\n",
       "    <tr>\n",
       "      <th>491</th>\n",
       "      <td>10.1080/13540602.2015.1082728</td>\n",
       "      <td>Evaluation criteria for competency-based sylla...</td>\n",
       "      <td>In recent decades, higher education institutio...</td>\n",
       "      <td>Chile; competence-based curriculum; criteria; ...</td>\n",
       "      <td></td>\n",
       "      <td>Evaluation criteria for competency-based sylla...</td>\n",
       "      <td>[evalu, criteria, compet, base, syllabi, chile...</td>\n",
       "      <td>503</td>\n",
       "      <td>jerez o. (2016)</td>\n",
       "      <td>&lt;table&gt;&lt;tr&gt;&lt;td&gt;Authors:&lt;/td&gt;&lt;td&gt;jerez o.; vale...</td>\n",
       "      <td>...</td>\n",
       "      <td>{'Pub. year': 2016.0, 'Citations': 4.0, 'Norm....</td>\n",
       "      <td>8.12</td>\n",
       "      <td>-4.71</td>\n",
       "      <td>-3.53</td>\n",
       "      <td>0.20</td>\n",
       "      <td>7.17</td>\n",
       "      <td>-2.21</td>\n",
       "      <td>-0.52</td>\n",
       "      <td>-0.87</td>\n",
       "      <td>0</td>\n",
       "    </tr>\n",
       "    <tr>\n",
       "      <th>496</th>\n",
       "      <td>10.1016/j.evalprogplan.2015.03.001</td>\n",
       "      <td>Evaluation of competence-based teaching in hig...</td>\n",
       "      <td>Competence-based teaching in higher education ...</td>\n",
       "      <td>Competence-based teaching; Higher education; I...</td>\n",
       "      <td>curriculum; European Union; higher education; ...</td>\n",
       "      <td>Evaluation of competence-based teaching in hig...</td>\n",
       "      <td>[evalu, compet, base, teach, higher, educ, the...</td>\n",
       "      <td>538</td>\n",
       "      <td>bergsmann e. (2015)</td>\n",
       "      <td>&lt;table&gt;&lt;tr&gt;&lt;td&gt;Authors:&lt;/td&gt;&lt;td&gt;bergsmann e.; ...</td>\n",
       "      <td>...</td>\n",
       "      <td>{'Pub. year': 2015.0, 'Citations': 58.0, 'Norm...</td>\n",
       "      <td>10.92</td>\n",
       "      <td>-9.19</td>\n",
       "      <td>3.33</td>\n",
       "      <td>6.53</td>\n",
       "      <td>-1.66</td>\n",
       "      <td>0.60</td>\n",
       "      <td>1.64</td>\n",
       "      <td>1.54</td>\n",
       "      <td>0</td>\n",
       "    </tr>\n",
       "    <tr>\n",
       "      <th>498</th>\n",
       "      <td>10.1016/j.tate.2015.04.001</td>\n",
       "      <td>A phenomenographic analysis of the implementat...</td>\n",
       "      <td>After one decade of Competence-Based Education...</td>\n",
       "      <td>Assessment; Competence-based education; Higher...</td>\n",
       "      <td></td>\n",
       "      <td>A phenomenographic analysis of the implementat...</td>\n",
       "      <td>[phenomenograph, analysi, implement, compet, b...</td>\n",
       "      <td>545</td>\n",
       "      <td>koenen a.-k. (2015)</td>\n",
       "      <td>&lt;table&gt;&lt;tr&gt;&lt;td&gt;Authors:&lt;/td&gt;&lt;td&gt;koenen a.-k.; ...</td>\n",
       "      <td>...</td>\n",
       "      <td>{'Pub. year': 2015.0, 'Citations': 48.0, 'Norm...</td>\n",
       "      <td>3.30</td>\n",
       "      <td>-2.56</td>\n",
       "      <td>0.28</td>\n",
       "      <td>1.64</td>\n",
       "      <td>1.32</td>\n",
       "      <td>2.47</td>\n",
       "      <td>-0.22</td>\n",
       "      <td>2.24</td>\n",
       "      <td>0</td>\n",
       "    </tr>\n",
       "    <tr>\n",
       "      <th>499</th>\n",
       "      <td>10.15516/cje.v17i2.1062</td>\n",
       "      <td>Transversal competences of university students...</td>\n",
       "      <td>One of the key changes of the European Higher ...</td>\n",
       "      <td>Competence based education; Engineering educat...</td>\n",
       "      <td></td>\n",
       "      <td>Transversal competences of university students...</td>\n",
       "      <td>[transvers, compet, univers, student, engin, t...</td>\n",
       "      <td>546</td>\n",
       "      <td>hernandez-linares r. (2015)</td>\n",
       "      <td>&lt;table&gt;&lt;tr&gt;&lt;td&gt;Authors:&lt;/td&gt;&lt;td&gt;hernandez-lina...</td>\n",
       "      <td>...</td>\n",
       "      <td>{'Pub. year': 2015.0, 'Citations': 6.0, 'Norm....</td>\n",
       "      <td>5.48</td>\n",
       "      <td>-2.78</td>\n",
       "      <td>3.12</td>\n",
       "      <td>2.26</td>\n",
       "      <td>-1.99</td>\n",
       "      <td>3.48</td>\n",
       "      <td>2.24</td>\n",
       "      <td>-0.72</td>\n",
       "      <td>0</td>\n",
       "    </tr>\n",
       "    <tr>\n",
       "      <th>511</th>\n",
       "      <td>10.1080/02671522.2012.745895</td>\n",
       "      <td>The change towards a teaching methodology base...</td>\n",
       "      <td>The European Higher Education Area (EHEA) has ...</td>\n",
       "      <td>competences; European higher education area; i...</td>\n",
       "      <td></td>\n",
       "      <td>The change towards a teaching methodology base...</td>\n",
       "      <td>[chang, teach, methodolog, base, compet, case,...</td>\n",
       "      <td>635</td>\n",
       "      <td>gonzalez j.m.g. (2014)</td>\n",
       "      <td>&lt;table&gt;&lt;tr&gt;&lt;td&gt;Authors:&lt;/td&gt;&lt;td&gt;gonzalez j.m.g...</td>\n",
       "      <td>...</td>\n",
       "      <td>{'Pub. year': 2014.0, 'Citations': 13.0, 'Norm...</td>\n",
       "      <td>5.38</td>\n",
       "      <td>-3.08</td>\n",
       "      <td>3.97</td>\n",
       "      <td>4.40</td>\n",
       "      <td>0.29</td>\n",
       "      <td>3.13</td>\n",
       "      <td>-3.29</td>\n",
       "      <td>2.79</td>\n",
       "      <td>0</td>\n",
       "    </tr>\n",
       "    <tr>\n",
       "      <th>525</th>\n",
       "      <td>10.1007/s10459-010-9247-2</td>\n",
       "      <td>A critical time for medical education: The per...</td>\n",
       "      <td>Rapid expansion in scientific knowledge, chang...</td>\n",
       "      <td>Canada; Competence-based education; Curriculum...</td>\n",
       "      <td>article; attitude to health; Canada; clinical ...</td>\n",
       "      <td>A critical time for medical education: The per...</td>\n",
       "      <td>[critic, time, medic, educ, peril, compet, bas...</td>\n",
       "      <td>704</td>\n",
       "      <td>malone k. (2012)</td>\n",
       "      <td>&lt;table&gt;&lt;tr&gt;&lt;td&gt;Authors:&lt;/td&gt;&lt;td&gt;malone k.; sup...</td>\n",
       "      <td>...</td>\n",
       "      <td>{'Pub. year': 2012.0, 'Citations': 59.0, 'Norm...</td>\n",
       "      <td>7.00</td>\n",
       "      <td>0.88</td>\n",
       "      <td>1.51</td>\n",
       "      <td>5.41</td>\n",
       "      <td>-1.45</td>\n",
       "      <td>-4.75</td>\n",
       "      <td>-10.75</td>\n",
       "      <td>-2.60</td>\n",
       "      <td>0</td>\n",
       "    </tr>\n",
       "    <tr>\n",
       "      <th>526</th>\n",
       "      <td>10.1016/j.ijme.2012.02.002</td>\n",
       "      <td>Competency development in business graduates: ...</td>\n",
       "      <td>The paper proposes a conceptual framework and ...</td>\n",
       "      <td>Competency assessment; Industry requirements; ...</td>\n",
       "      <td></td>\n",
       "      <td>Competency development in business graduates: ...</td>\n",
       "      <td>[compet, develop, busi, graduat, industri, dri...</td>\n",
       "      <td>705</td>\n",
       "      <td>azevedo a. (2012)</td>\n",
       "      <td>&lt;table&gt;&lt;tr&gt;&lt;td&gt;Authors:&lt;/td&gt;&lt;td&gt;azevedo a.; ap...</td>\n",
       "      <td>...</td>\n",
       "      <td>{'Pub. year': 2012.0, 'Citations': 108.0, 'Nor...</td>\n",
       "      <td>7.55</td>\n",
       "      <td>3.03</td>\n",
       "      <td>5.23</td>\n",
       "      <td>-7.15</td>\n",
       "      <td>3.18</td>\n",
       "      <td>1.82</td>\n",
       "      <td>-0.75</td>\n",
       "      <td>-0.25</td>\n",
       "      <td>0</td>\n",
       "    </tr>\n",
       "    <tr>\n",
       "      <th>534</th>\n",
       "      <td>10.1016/j.evalprogplan.2011.03.001</td>\n",
       "      <td>Self-evaluation of assessment programs: A cros...</td>\n",
       "      <td>The goal of this article is to contribute to t...</td>\n",
       "      <td>Assessment; Case study; Self-evaluation; Validity</td>\n",
       "      <td>assessment method; education; innovation; meth...</td>\n",
       "      <td>Self-evaluation of assessment programs: A cros...</td>\n",
       "      <td>[self, evalu, assess, program, cross, case, an...</td>\n",
       "      <td>734</td>\n",
       "      <td>baartman l.k.j. (2011)</td>\n",
       "      <td>&lt;table&gt;&lt;tr&gt;&lt;td&gt;Authors:&lt;/td&gt;&lt;td&gt;baartman l.k.j...</td>\n",
       "      <td>...</td>\n",
       "      <td>{'Pub. year': 2011.0, 'Citations': 15.0, 'Norm...</td>\n",
       "      <td>9.75</td>\n",
       "      <td>-8.07</td>\n",
       "      <td>-8.35</td>\n",
       "      <td>-0.56</td>\n",
       "      <td>-3.85</td>\n",
       "      <td>1.10</td>\n",
       "      <td>0.76</td>\n",
       "      <td>-0.07</td>\n",
       "      <td>0</td>\n",
       "    </tr>\n",
       "    <tr>\n",
       "      <th>537</th>\n",
       "      <td>10.1080/13636820.2010.536850</td>\n",
       "      <td>Computer-based assessment in safety-critical i...</td>\n",
       "      <td>Vocational education and training (VET) concer...</td>\n",
       "      <td>Competence-based training; Computer-based asse...</td>\n",
       "      <td></td>\n",
       "      <td>Computer-based assessment in safety-critical i...</td>\n",
       "      <td>[comput, base, assess, safeti, critic, industr...</td>\n",
       "      <td>740</td>\n",
       "      <td>gekara v.o. (2011)</td>\n",
       "      <td>&lt;table&gt;&lt;tr&gt;&lt;td&gt;Authors:&lt;/td&gt;&lt;td&gt;gekara v.o.; b...</td>\n",
       "      <td>...</td>\n",
       "      <td>{'Pub. year': 2011.0, 'Citations': 13.0, 'Norm...</td>\n",
       "      <td>5.58</td>\n",
       "      <td>-1.46</td>\n",
       "      <td>-0.59</td>\n",
       "      <td>-6.60</td>\n",
       "      <td>-5.19</td>\n",
       "      <td>-1.87</td>\n",
       "      <td>-2.14</td>\n",
       "      <td>2.58</td>\n",
       "      <td>0</td>\n",
       "    </tr>\n",
       "    <tr>\n",
       "      <th>545</th>\n",
       "      <td>10.1108/03090590910993616</td>\n",
       "      <td>The new competence concept in higher education...</td>\n",
       "      <td>Purpose - The purpose of this paper is to eval...</td>\n",
       "      <td>Case studies; Curricula; Education; Higher edu...</td>\n",
       "      <td></td>\n",
       "      <td>The new competence concept in higher education...</td>\n",
       "      <td>[new, compet, concept, higher, educ, error, en...</td>\n",
       "      <td>776</td>\n",
       "      <td>mulder m. (2009)</td>\n",
       "      <td>&lt;table&gt;&lt;tr&gt;&lt;td&gt;Authors:&lt;/td&gt;&lt;td&gt;mulder m.; gul...</td>\n",
       "      <td>...</td>\n",
       "      <td>{'Pub. year': 2009.0, 'Citations': 95.0, 'Norm...</td>\n",
       "      <td>7.40</td>\n",
       "      <td>-3.43</td>\n",
       "      <td>5.30</td>\n",
       "      <td>4.28</td>\n",
       "      <td>-2.75</td>\n",
       "      <td>-1.44</td>\n",
       "      <td>2.38</td>\n",
       "      <td>1.38</td>\n",
       "      <td>0</td>\n",
       "    </tr>\n",
       "    <tr>\n",
       "      <th>546</th>\n",
       "      <td>10.1080/03075070802669207</td>\n",
       "      <td>Development of competencies and teaching-learn...</td>\n",
       "      <td>The Bologna Process places special emphasis on...</td>\n",
       "      <td></td>\n",
       "      <td></td>\n",
       "      <td>Development of competencies and teaching-learn...</td>\n",
       "      <td>[develop, compet, teach, learn, arrang, higher...</td>\n",
       "      <td>783</td>\n",
       "      <td>schaeper h. (2009)</td>\n",
       "      <td>&lt;table&gt;&lt;tr&gt;&lt;td&gt;Authors:&lt;/td&gt;&lt;td&gt;schaeper h.&lt;/t...</td>\n",
       "      <td>...</td>\n",
       "      <td>{'Pub. year': 2009.0, 'Citations': 30.0, 'Norm...</td>\n",
       "      <td>3.74</td>\n",
       "      <td>-0.57</td>\n",
       "      <td>1.50</td>\n",
       "      <td>-0.95</td>\n",
       "      <td>3.30</td>\n",
       "      <td>0.03</td>\n",
       "      <td>-1.79</td>\n",
       "      <td>1.62</td>\n",
       "      <td>0</td>\n",
       "    </tr>\n",
       "    <tr>\n",
       "      <th>547</th>\n",
       "      <td>10.1080/15313220903445215</td>\n",
       "      <td>Key competencies of tourism graduates: The emp...</td>\n",
       "      <td>Several changes and developments (e.g., the ch...</td>\n",
       "      <td>Curriculum design; Destination partners; Educa...</td>\n",
       "      <td></td>\n",
       "      <td>Key competencies of tourism graduates: The emp...</td>\n",
       "      <td>[kei, compet, tourism, graduat, employ, point,...</td>\n",
       "      <td>795</td>\n",
       "      <td>zehrer a. (2009)</td>\n",
       "      <td>&lt;table&gt;&lt;tr&gt;&lt;td&gt;Authors:&lt;/td&gt;&lt;td&gt;zehrer a.; mös...</td>\n",
       "      <td>...</td>\n",
       "      <td>{'Pub. year': 2009.0, 'Citations': 73.0, 'Norm...</td>\n",
       "      <td>7.70</td>\n",
       "      <td>3.97</td>\n",
       "      <td>4.51</td>\n",
       "      <td>-4.97</td>\n",
       "      <td>3.46</td>\n",
       "      <td>0.87</td>\n",
       "      <td>-0.79</td>\n",
       "      <td>1.86</td>\n",
       "      <td>0</td>\n",
       "    </tr>\n",
       "    <tr>\n",
       "      <th>552</th>\n",
       "      <td>10.1007/s10459-006-9044-0</td>\n",
       "      <td>Generic versus specific competencies of entry-...</td>\n",
       "      <td>Constant changes in society and the public hea...</td>\n",
       "      <td>Employers' perceptions; Europe; Graduate educa...</td>\n",
       "      <td>academic achievement; article; employment; hum...</td>\n",
       "      <td>Generic versus specific competencies of entry-...</td>\n",
       "      <td>[gener, versu, specif, compet, entri, level, p...</td>\n",
       "      <td>808</td>\n",
       "      <td>biesma r.g. (2008)</td>\n",
       "      <td>&lt;table&gt;&lt;tr&gt;&lt;td&gt;Authors:&lt;/td&gt;&lt;td&gt;biesma r.g.; p...</td>\n",
       "      <td>...</td>\n",
       "      <td>{'Pub. year': 2008.0, 'Citations': 26.0, 'Norm...</td>\n",
       "      <td>14.45</td>\n",
       "      <td>14.93</td>\n",
       "      <td>-5.93</td>\n",
       "      <td>4.18</td>\n",
       "      <td>0.35</td>\n",
       "      <td>0.54</td>\n",
       "      <td>0.33</td>\n",
       "      <td>0.16</td>\n",
       "      <td>1</td>\n",
       "    </tr>\n",
       "    <tr>\n",
       "      <th>555</th>\n",
       "      <td>10.1016/j.econedurev.2006.01.004</td>\n",
       "      <td>Using conjoint analysis to estimate employers ...</td>\n",
       "      <td>This paper uses an experimental design to esti...</td>\n",
       "      <td>Demand for schooling; Human capital; Productivity</td>\n",
       "      <td>education; employment; estimation method; expe...</td>\n",
       "      <td>Using conjoint analysis to estimate employers ...</td>\n",
       "      <td>[conjoint, analysi, estim, employ, prefer, kei...</td>\n",
       "      <td>828</td>\n",
       "      <td>biesma r.g. (2007)</td>\n",
       "      <td>&lt;table&gt;&lt;tr&gt;&lt;td&gt;Authors:&lt;/td&gt;&lt;td&gt;biesma r.g.; p...</td>\n",
       "      <td>...</td>\n",
       "      <td>{'Pub. year': 2007.0, 'Citations': 43.0, 'Norm...</td>\n",
       "      <td>10.81</td>\n",
       "      <td>11.46</td>\n",
       "      <td>-4.89</td>\n",
       "      <td>2.57</td>\n",
       "      <td>0.08</td>\n",
       "      <td>1.41</td>\n",
       "      <td>3.19</td>\n",
       "      <td>0.35</td>\n",
       "      <td>1</td>\n",
       "    </tr>\n",
       "    <tr>\n",
       "      <th>557</th>\n",
       "      <td>10.1016/j.edurev.2007.06.001</td>\n",
       "      <td>Evaluating assessment quality in competence-ba...</td>\n",
       "      <td>Because learning and instruction are increasin...</td>\n",
       "      <td>Assessment programmes; Competence-based educat...</td>\n",
       "      <td></td>\n",
       "      <td>Evaluating assessment quality in competence-ba...</td>\n",
       "      <td>[evalu, assess, qualiti, compet, base, educ, q...</td>\n",
       "      <td>832</td>\n",
       "      <td>baartman l.k.j. (2007)</td>\n",
       "      <td>&lt;table&gt;&lt;tr&gt;&lt;td&gt;Authors:&lt;/td&gt;&lt;td&gt;baartman l.k.j...</td>\n",
       "      <td>...</td>\n",
       "      <td>{'Pub. year': 2007.0, 'Citations': 151.0, 'Nor...</td>\n",
       "      <td>5.89</td>\n",
       "      <td>-7.44</td>\n",
       "      <td>-7.26</td>\n",
       "      <td>-2.59</td>\n",
       "      <td>2.45</td>\n",
       "      <td>-1.35</td>\n",
       "      <td>0.05</td>\n",
       "      <td>-1.20</td>\n",
       "      <td>0</td>\n",
       "    </tr>\n",
       "    <tr>\n",
       "      <th>568</th>\n",
       "      <td>10.1111/j.1467-9752.1996.tb00406.x</td>\n",
       "      <td>Competence-based education and training: Progr...</td>\n",
       "      <td>This paper notes the critical response that th...</td>\n",
       "      <td></td>\n",
       "      <td></td>\n",
       "      <td>Competence-based education and training: Progr...</td>\n",
       "      <td>[compet, base, educ, train, progress, villaini...</td>\n",
       "      <td>885</td>\n",
       "      <td>bridges d. (1996)</td>\n",
       "      <td>&lt;table&gt;&lt;tr&gt;&lt;td&gt;Authors:&lt;/td&gt;&lt;td&gt;bridges d.&lt;/td...</td>\n",
       "      <td>...</td>\n",
       "      <td>{'Pub. year': 1996.0, 'Citations': 18.0, 'Norm...</td>\n",
       "      <td>1.75</td>\n",
       "      <td>-0.38</td>\n",
       "      <td>0.83</td>\n",
       "      <td>0.05</td>\n",
       "      <td>-1.95</td>\n",
       "      <td>-5.33</td>\n",
       "      <td>-0.75</td>\n",
       "      <td>0.25</td>\n",
       "      <td>0</td>\n",
       "    </tr>\n",
       "  </tbody>\n",
       "</table>\n",
       "<p>20 rows × 25 columns</p>\n",
       "</div>"
      ],
      "text/plain": [
       "                                    DOI  \\\n",
       "0            10.1057/s41599-022-01047-1   \n",
       "462        10.30880/jtet.2020.12.04.003   \n",
       "480       10.1080/09639284.2018.1476895   \n",
       "481                  10.3390/su10041155   \n",
       "491       10.1080/13540602.2015.1082728   \n",
       "496  10.1016/j.evalprogplan.2015.03.001   \n",
       "498          10.1016/j.tate.2015.04.001   \n",
       "499             10.15516/cje.v17i2.1062   \n",
       "511        10.1080/02671522.2012.745895   \n",
       "525           10.1007/s10459-010-9247-2   \n",
       "526          10.1016/j.ijme.2012.02.002   \n",
       "534  10.1016/j.evalprogplan.2011.03.001   \n",
       "537        10.1080/13636820.2010.536850   \n",
       "545           10.1108/03090590910993616   \n",
       "546           10.1080/03075070802669207   \n",
       "547           10.1080/15313220903445215   \n",
       "552           10.1007/s10459-006-9044-0   \n",
       "555    10.1016/j.econedurev.2006.01.004   \n",
       "557        10.1016/j.edurev.2007.06.001   \n",
       "568  10.1111/j.1467-9752.1996.tb00406.x   \n",
       "\n",
       "                                                 Title  \\\n",
       "0    Competence-based approaches in organizational ...   \n",
       "462  Validation of the chefs’ key competencies ques...   \n",
       "480  Audit workplace simulations as a methodology t...   \n",
       "481  Exercise on transdisciplinarity: Lessons from ...   \n",
       "491  Evaluation criteria for competency-based sylla...   \n",
       "496  Evaluation of competence-based teaching in hig...   \n",
       "498  A phenomenographic analysis of the implementat...   \n",
       "499  Transversal competences of university students...   \n",
       "511  The change towards a teaching methodology base...   \n",
       "525  A critical time for medical education: The per...   \n",
       "526  Competency development in business graduates: ...   \n",
       "534  Self-evaluation of assessment programs: A cros...   \n",
       "537  Computer-based assessment in safety-critical i...   \n",
       "545  The new competence concept in higher education...   \n",
       "546  Development of competencies and teaching-learn...   \n",
       "547  Key competencies of tourism graduates: The emp...   \n",
       "552  Generic versus specific competencies of entry-...   \n",
       "555  Using conjoint analysis to estimate employers ...   \n",
       "557  Evaluating assessment quality in competence-ba...   \n",
       "568  Competence-based education and training: Progr...   \n",
       "\n",
       "                                              Abstract  \\\n",
       "0    With an increasing pace of digitalization, aut...   \n",
       "462  The chef is considered a success factor for cu...   \n",
       "480  This paper describes an audit workplace simula...   \n",
       "481  Sustainability science emerged as a new academ...   \n",
       "491  In recent decades, higher education institutio...   \n",
       "496  Competence-based teaching in higher education ...   \n",
       "498  After one decade of Competence-Based Education...   \n",
       "499  One of the key changes of the European Higher ...   \n",
       "511  The European Higher Education Area (EHEA) has ...   \n",
       "525  Rapid expansion in scientific knowledge, chang...   \n",
       "526  The paper proposes a conceptual framework and ...   \n",
       "534  The goal of this article is to contribute to t...   \n",
       "537  Vocational education and training (VET) concer...   \n",
       "545  Purpose - The purpose of this paper is to eval...   \n",
       "546  The Bologna Process places special emphasis on...   \n",
       "547  Several changes and developments (e.g., the ch...   \n",
       "552  Constant changes in society and the public hea...   \n",
       "555  This paper uses an experimental design to esti...   \n",
       "557  Because learning and instruction are increasin...   \n",
       "568  This paper notes the critical response that th...   \n",
       "\n",
       "                                       Author Keywords  \\\n",
       "0                                                        \n",
       "462  CFA; Chef; Core competencies; Culinary experti...   \n",
       "480  communication skills; competence-based educati...   \n",
       "481  Aging society; Competencies; Empathetic compet...   \n",
       "491  Chile; competence-based curriculum; criteria; ...   \n",
       "496  Competence-based teaching; Higher education; I...   \n",
       "498  Assessment; Competence-based education; Higher...   \n",
       "499  Competence based education; Engineering educat...   \n",
       "511  competences; European higher education area; i...   \n",
       "525  Canada; Competence-based education; Curriculum...   \n",
       "526  Competency assessment; Industry requirements; ...   \n",
       "534  Assessment; Case study; Self-evaluation; Validity   \n",
       "537  Competence-based training; Computer-based asse...   \n",
       "545  Case studies; Curricula; Education; Higher edu...   \n",
       "546                                                      \n",
       "547  Curriculum design; Destination partners; Educa...   \n",
       "552  Employers' perceptions; Europe; Graduate educa...   \n",
       "555  Demand for schooling; Human capital; Productivity   \n",
       "557  Assessment programmes; Competence-based educat...   \n",
       "568                                                      \n",
       "\n",
       "                                        Index Keywords  \\\n",
       "0                                                        \n",
       "462                                                      \n",
       "480                                                      \n",
       "481  academic research; aging population; education...   \n",
       "491                                                      \n",
       "496  curriculum; European Union; higher education; ...   \n",
       "498                                                      \n",
       "499                                                      \n",
       "511                                                      \n",
       "525  article; attitude to health; Canada; clinical ...   \n",
       "526                                                      \n",
       "534  assessment method; education; innovation; meth...   \n",
       "537                                                      \n",
       "545                                                      \n",
       "546                                                      \n",
       "547                                                      \n",
       "552  academic achievement; article; employment; hum...   \n",
       "555  education; employment; estimation method; expe...   \n",
       "557                                                      \n",
       "568                                                      \n",
       "\n",
       "                                                   doc  \\\n",
       "0    Competence-based approaches in organizational ...   \n",
       "462  Validation of the chefs’ key competencies ques...   \n",
       "480  Audit workplace simulations as a methodology t...   \n",
       "481  Exercise on transdisciplinarity: Lessons from ...   \n",
       "491  Evaluation criteria for competency-based sylla...   \n",
       "496  Evaluation of competence-based teaching in hig...   \n",
       "498  A phenomenographic analysis of the implementat...   \n",
       "499  Transversal competences of university students...   \n",
       "511  The change towards a teaching methodology base...   \n",
       "525  A critical time for medical education: The per...   \n",
       "526  Competency development in business graduates: ...   \n",
       "534  Self-evaluation of assessment programs: A cros...   \n",
       "537  Computer-based assessment in safety-critical i...   \n",
       "545  The new competence concept in higher education...   \n",
       "546  Development of competencies and teaching-learn...   \n",
       "547  Key competencies of tourism graduates: The emp...   \n",
       "552  Generic versus specific competencies of entry-...   \n",
       "555  Using conjoint analysis to estimate employers ...   \n",
       "557  Evaluating assessment quality in competence-ba...   \n",
       "568  Competence-based education and training: Progr...   \n",
       "\n",
       "                                             doc_clean   id  \\\n",
       "0    [compet, base, approach, organiz, individu, co...    7   \n",
       "462  [valid, chefs’, kei, compet, questionnair, cul...  254   \n",
       "480  [audit, workplac, simul, methodolog, increas, ...  397   \n",
       "481  [exercis, transdisciplinar, lesson, field, bas...  401   \n",
       "491  [evalu, criteria, compet, base, syllabi, chile...  503   \n",
       "496  [evalu, compet, base, teach, higher, educ, the...  538   \n",
       "498  [phenomenograph, analysi, implement, compet, b...  545   \n",
       "499  [transvers, compet, univers, student, engin, t...  546   \n",
       "511  [chang, teach, methodolog, base, compet, case,...  635   \n",
       "525  [critic, time, medic, educ, peril, compet, bas...  704   \n",
       "526  [compet, develop, busi, graduat, industri, dri...  705   \n",
       "534  [self, evalu, assess, program, cross, case, an...  734   \n",
       "537  [comput, base, assess, safeti, critic, industr...  740   \n",
       "545  [new, compet, concept, higher, educ, error, en...  776   \n",
       "546  [develop, compet, teach, learn, arrang, higher...  783   \n",
       "547  [kei, compet, tourism, graduat, employ, point,...  795   \n",
       "552  [gener, versu, specif, compet, entri, level, p...  808   \n",
       "555  [conjoint, analysi, estim, employ, prefer, kei...  828   \n",
       "557  [evalu, assess, qualiti, compet, base, educ, q...  832   \n",
       "568  [compet, base, educ, train, progress, villaini...  885   \n",
       "\n",
       "                           label  \\\n",
       "0           škrinjarić b. (2022)   \n",
       "462             mahfud t. (2020)   \n",
       "480      bautista-mesa r. (2018)   \n",
       "481               kudo s. (2018)   \n",
       "491              jerez o. (2016)   \n",
       "496          bergsmann e. (2015)   \n",
       "498          koenen a.-k. (2015)   \n",
       "499  hernandez-linares r. (2015)   \n",
       "511       gonzalez j.m.g. (2014)   \n",
       "525             malone k. (2012)   \n",
       "526            azevedo a. (2012)   \n",
       "534       baartman l.k.j. (2011)   \n",
       "537           gekara v.o. (2011)   \n",
       "545             mulder m. (2009)   \n",
       "546           schaeper h. (2009)   \n",
       "547             zehrer a. (2009)   \n",
       "552           biesma r.g. (2008)   \n",
       "555           biesma r.g. (2007)   \n",
       "557       baartman l.k.j. (2007)   \n",
       "568            bridges d. (1996)   \n",
       "\n",
       "                                           description  ...  \\\n",
       "0    <table><tr><td>Authors:</td><td>škrinjarić b.<...  ...   \n",
       "462  <table><tr><td>Authors:</td><td>mahfud t.; nug...  ...   \n",
       "480  <table><tr><td>Authors:</td><td>bautista-mesa ...  ...   \n",
       "481  <table><tr><td>Authors:</td><td>kudo s.; mursa...  ...   \n",
       "491  <table><tr><td>Authors:</td><td>jerez o.; vale...  ...   \n",
       "496  <table><tr><td>Authors:</td><td>bergsmann e.; ...  ...   \n",
       "498  <table><tr><td>Authors:</td><td>koenen a.-k.; ...  ...   \n",
       "499  <table><tr><td>Authors:</td><td>hernandez-lina...  ...   \n",
       "511  <table><tr><td>Authors:</td><td>gonzalez j.m.g...  ...   \n",
       "525  <table><tr><td>Authors:</td><td>malone k.; sup...  ...   \n",
       "526  <table><tr><td>Authors:</td><td>azevedo a.; ap...  ...   \n",
       "534  <table><tr><td>Authors:</td><td>baartman l.k.j...  ...   \n",
       "537  <table><tr><td>Authors:</td><td>gekara v.o.; b...  ...   \n",
       "545  <table><tr><td>Authors:</td><td>mulder m.; gul...  ...   \n",
       "546  <table><tr><td>Authors:</td><td>schaeper h.</t...  ...   \n",
       "547  <table><tr><td>Authors:</td><td>zehrer a.; mös...  ...   \n",
       "552  <table><tr><td>Authors:</td><td>biesma r.g.; p...  ...   \n",
       "555  <table><tr><td>Authors:</td><td>biesma r.g.; p...  ...   \n",
       "557  <table><tr><td>Authors:</td><td>baartman l.k.j...  ...   \n",
       "568  <table><tr><td>Authors:</td><td>bridges d.</td...  ...   \n",
       "\n",
       "                                                scores  score_topic_0  \\\n",
       "0    {'Pub. year': 2022.0, 'Citations': 0.0, 'Norm....           4.47   \n",
       "462  {'Pub. year': 2020.0, 'Citations': 0.0, 'Norm....           6.55   \n",
       "480  {'Pub. year': 2018.0, 'Citations': 10.0, 'Norm...           4.04   \n",
       "481  {'Pub. year': 2018.0, 'Citations': 4.0, 'Norm....           9.83   \n",
       "491  {'Pub. year': 2016.0, 'Citations': 4.0, 'Norm....           8.12   \n",
       "496  {'Pub. year': 2015.0, 'Citations': 58.0, 'Norm...          10.92   \n",
       "498  {'Pub. year': 2015.0, 'Citations': 48.0, 'Norm...           3.30   \n",
       "499  {'Pub. year': 2015.0, 'Citations': 6.0, 'Norm....           5.48   \n",
       "511  {'Pub. year': 2014.0, 'Citations': 13.0, 'Norm...           5.38   \n",
       "525  {'Pub. year': 2012.0, 'Citations': 59.0, 'Norm...           7.00   \n",
       "526  {'Pub. year': 2012.0, 'Citations': 108.0, 'Nor...           7.55   \n",
       "534  {'Pub. year': 2011.0, 'Citations': 15.0, 'Norm...           9.75   \n",
       "537  {'Pub. year': 2011.0, 'Citations': 13.0, 'Norm...           5.58   \n",
       "545  {'Pub. year': 2009.0, 'Citations': 95.0, 'Norm...           7.40   \n",
       "546  {'Pub. year': 2009.0, 'Citations': 30.0, 'Norm...           3.74   \n",
       "547  {'Pub. year': 2009.0, 'Citations': 73.0, 'Norm...           7.70   \n",
       "552  {'Pub. year': 2008.0, 'Citations': 26.0, 'Norm...          14.45   \n",
       "555  {'Pub. year': 2007.0, 'Citations': 43.0, 'Norm...          10.81   \n",
       "557  {'Pub. year': 2007.0, 'Citations': 151.0, 'Nor...           5.89   \n",
       "568  {'Pub. year': 1996.0, 'Citations': 18.0, 'Norm...           1.75   \n",
       "\n",
       "     score_topic_1  score_topic_2 score_topic_3 score_topic_4  score_topic_5  \\\n",
       "0            -1.19           3.81         -2.88          2.28          -3.30   \n",
       "462          -0.28          -2.31         -7.59        -11.03           6.38   \n",
       "480          -1.08           2.29         -1.92         -1.36           3.46   \n",
       "481          -0.44           5.43          0.40         -3.87          -1.55   \n",
       "491          -4.71          -3.53          0.20          7.17          -2.21   \n",
       "496          -9.19           3.33          6.53         -1.66           0.60   \n",
       "498          -2.56           0.28          1.64          1.32           2.47   \n",
       "499          -2.78           3.12          2.26         -1.99           3.48   \n",
       "511          -3.08           3.97          4.40          0.29           3.13   \n",
       "525           0.88           1.51          5.41         -1.45          -4.75   \n",
       "526           3.03           5.23         -7.15          3.18           1.82   \n",
       "534          -8.07          -8.35         -0.56         -3.85           1.10   \n",
       "537          -1.46          -0.59         -6.60         -5.19          -1.87   \n",
       "545          -3.43           5.30          4.28         -2.75          -1.44   \n",
       "546          -0.57           1.50         -0.95          3.30           0.03   \n",
       "547           3.97           4.51         -4.97          3.46           0.87   \n",
       "552          14.93          -5.93          4.18          0.35           0.54   \n",
       "555          11.46          -4.89          2.57          0.08           1.41   \n",
       "557          -7.44          -7.26         -2.59          2.45          -1.35   \n",
       "568          -0.38           0.83          0.05         -1.95          -5.33   \n",
       "\n",
       "     score_topic_6  score_topic_7  Topic  \n",
       "0             3.83          -0.65      0  \n",
       "462          -1.07           4.62      0  \n",
       "480          -3.53         -10.53      0  \n",
       "481          13.27          -6.34      6  \n",
       "491          -0.52          -0.87      0  \n",
       "496           1.64           1.54      0  \n",
       "498          -0.22           2.24      0  \n",
       "499           2.24          -0.72      0  \n",
       "511          -3.29           2.79      0  \n",
       "525         -10.75          -2.60      0  \n",
       "526          -0.75          -0.25      0  \n",
       "534           0.76          -0.07      0  \n",
       "537          -2.14           2.58      0  \n",
       "545           2.38           1.38      0  \n",
       "546          -1.79           1.62      0  \n",
       "547          -0.79           1.86      0  \n",
       "552           0.33           0.16      1  \n",
       "555           3.19           0.35      1  \n",
       "557           0.05          -1.20      0  \n",
       "568          -0.75           0.25      0  \n",
       "\n",
       "[20 rows x 25 columns]"
      ]
     },
     "execution_count": 218,
     "metadata": {},
     "output_type": "execute_result"
    }
   ],
   "source": [
    "corpus_lsi = lsi[bow]\n",
    "scores = [[] for _ in range(num_topics)]\n",
    "for doc in corpus_lsi:\n",
    "    for k in range(num_topics):\n",
    "        scores[k].append(round(doc[k][1],2))\n",
    "\n",
    "df_topic = df_docs_cluster.copy()\n",
    "for k in range(num_topics):\n",
    "    df_topic[f'score_topic_{k}'] = scores[k]\n",
    "\n",
    "df_topic['Topic']= df_topic[[f'score_topic_{k}' for k in range(num_topics)]].apply(lambda x: x.argmax(), axis=1)\n",
    "df_topic"
   ]
  },
  {
   "cell_type": "code",
   "execution_count": 219,
   "metadata": {},
   "outputs": [
    {
     "data": {
      "application/vnd.plotly.v1+json": {
       "config": {
        "plotlyServerURL": "https://plot.ly"
       },
       "data": [
        {
         "alignmentgroup": "True",
         "hovertemplate": "Topic=%{x}<br>Frequency=%{y}<extra></extra>",
         "legendgroup": "0",
         "marker": {
          "color": "#636efa",
          "pattern": {
           "shape": ""
          }
         },
         "name": "0",
         "offsetgroup": "0",
         "orientation": "v",
         "showlegend": true,
         "textposition": "auto",
         "type": "bar",
         "x": [
          "0"
         ],
         "xaxis": "x",
         "y": [
          17
         ],
         "yaxis": "y"
        },
        {
         "alignmentgroup": "True",
         "hovertemplate": "Topic=%{x}<br>Frequency=%{y}<extra></extra>",
         "legendgroup": "1",
         "marker": {
          "color": "#EF553B",
          "pattern": {
           "shape": ""
          }
         },
         "name": "1",
         "offsetgroup": "1",
         "orientation": "v",
         "showlegend": true,
         "textposition": "auto",
         "type": "bar",
         "x": [
          "1"
         ],
         "xaxis": "x",
         "y": [
          2
         ],
         "yaxis": "y"
        },
        {
         "alignmentgroup": "True",
         "hovertemplate": "Topic=%{x}<br>Frequency=%{y}<extra></extra>",
         "legendgroup": "6",
         "marker": {
          "color": "#00cc96",
          "pattern": {
           "shape": ""
          }
         },
         "name": "6",
         "offsetgroup": "6",
         "orientation": "v",
         "showlegend": true,
         "textposition": "auto",
         "type": "bar",
         "x": [
          "6"
         ],
         "xaxis": "x",
         "y": [
          1
         ],
         "yaxis": "y"
        }
       ],
       "layout": {
        "barmode": "relative",
        "font": {
         "size": 18
        },
        "legend": {
         "title": {
          "text": "Topic"
         },
         "tracegroupgap": 0
        },
        "template": {
         "data": {
          "bar": [
           {
            "error_x": {
             "color": "#2a3f5f"
            },
            "error_y": {
             "color": "#2a3f5f"
            },
            "marker": {
             "line": {
              "color": "#E5ECF6",
              "width": 0.5
             },
             "pattern": {
              "fillmode": "overlay",
              "size": 10,
              "solidity": 0.2
             }
            },
            "type": "bar"
           }
          ],
          "barpolar": [
           {
            "marker": {
             "line": {
              "color": "#E5ECF6",
              "width": 0.5
             },
             "pattern": {
              "fillmode": "overlay",
              "size": 10,
              "solidity": 0.2
             }
            },
            "type": "barpolar"
           }
          ],
          "carpet": [
           {
            "aaxis": {
             "endlinecolor": "#2a3f5f",
             "gridcolor": "white",
             "linecolor": "white",
             "minorgridcolor": "white",
             "startlinecolor": "#2a3f5f"
            },
            "baxis": {
             "endlinecolor": "#2a3f5f",
             "gridcolor": "white",
             "linecolor": "white",
             "minorgridcolor": "white",
             "startlinecolor": "#2a3f5f"
            },
            "type": "carpet"
           }
          ],
          "choropleth": [
           {
            "colorbar": {
             "outlinewidth": 0,
             "ticks": ""
            },
            "type": "choropleth"
           }
          ],
          "contour": [
           {
            "colorbar": {
             "outlinewidth": 0,
             "ticks": ""
            },
            "colorscale": [
             [
              0,
              "#0d0887"
             ],
             [
              0.1111111111111111,
              "#46039f"
             ],
             [
              0.2222222222222222,
              "#7201a8"
             ],
             [
              0.3333333333333333,
              "#9c179e"
             ],
             [
              0.4444444444444444,
              "#bd3786"
             ],
             [
              0.5555555555555556,
              "#d8576b"
             ],
             [
              0.6666666666666666,
              "#ed7953"
             ],
             [
              0.7777777777777778,
              "#fb9f3a"
             ],
             [
              0.8888888888888888,
              "#fdca26"
             ],
             [
              1,
              "#f0f921"
             ]
            ],
            "type": "contour"
           }
          ],
          "contourcarpet": [
           {
            "colorbar": {
             "outlinewidth": 0,
             "ticks": ""
            },
            "type": "contourcarpet"
           }
          ],
          "heatmap": [
           {
            "colorbar": {
             "outlinewidth": 0,
             "ticks": ""
            },
            "colorscale": [
             [
              0,
              "#0d0887"
             ],
             [
              0.1111111111111111,
              "#46039f"
             ],
             [
              0.2222222222222222,
              "#7201a8"
             ],
             [
              0.3333333333333333,
              "#9c179e"
             ],
             [
              0.4444444444444444,
              "#bd3786"
             ],
             [
              0.5555555555555556,
              "#d8576b"
             ],
             [
              0.6666666666666666,
              "#ed7953"
             ],
             [
              0.7777777777777778,
              "#fb9f3a"
             ],
             [
              0.8888888888888888,
              "#fdca26"
             ],
             [
              1,
              "#f0f921"
             ]
            ],
            "type": "heatmap"
           }
          ],
          "heatmapgl": [
           {
            "colorbar": {
             "outlinewidth": 0,
             "ticks": ""
            },
            "colorscale": [
             [
              0,
              "#0d0887"
             ],
             [
              0.1111111111111111,
              "#46039f"
             ],
             [
              0.2222222222222222,
              "#7201a8"
             ],
             [
              0.3333333333333333,
              "#9c179e"
             ],
             [
              0.4444444444444444,
              "#bd3786"
             ],
             [
              0.5555555555555556,
              "#d8576b"
             ],
             [
              0.6666666666666666,
              "#ed7953"
             ],
             [
              0.7777777777777778,
              "#fb9f3a"
             ],
             [
              0.8888888888888888,
              "#fdca26"
             ],
             [
              1,
              "#f0f921"
             ]
            ],
            "type": "heatmapgl"
           }
          ],
          "histogram": [
           {
            "marker": {
             "pattern": {
              "fillmode": "overlay",
              "size": 10,
              "solidity": 0.2
             }
            },
            "type": "histogram"
           }
          ],
          "histogram2d": [
           {
            "colorbar": {
             "outlinewidth": 0,
             "ticks": ""
            },
            "colorscale": [
             [
              0,
              "#0d0887"
             ],
             [
              0.1111111111111111,
              "#46039f"
             ],
             [
              0.2222222222222222,
              "#7201a8"
             ],
             [
              0.3333333333333333,
              "#9c179e"
             ],
             [
              0.4444444444444444,
              "#bd3786"
             ],
             [
              0.5555555555555556,
              "#d8576b"
             ],
             [
              0.6666666666666666,
              "#ed7953"
             ],
             [
              0.7777777777777778,
              "#fb9f3a"
             ],
             [
              0.8888888888888888,
              "#fdca26"
             ],
             [
              1,
              "#f0f921"
             ]
            ],
            "type": "histogram2d"
           }
          ],
          "histogram2dcontour": [
           {
            "colorbar": {
             "outlinewidth": 0,
             "ticks": ""
            },
            "colorscale": [
             [
              0,
              "#0d0887"
             ],
             [
              0.1111111111111111,
              "#46039f"
             ],
             [
              0.2222222222222222,
              "#7201a8"
             ],
             [
              0.3333333333333333,
              "#9c179e"
             ],
             [
              0.4444444444444444,
              "#bd3786"
             ],
             [
              0.5555555555555556,
              "#d8576b"
             ],
             [
              0.6666666666666666,
              "#ed7953"
             ],
             [
              0.7777777777777778,
              "#fb9f3a"
             ],
             [
              0.8888888888888888,
              "#fdca26"
             ],
             [
              1,
              "#f0f921"
             ]
            ],
            "type": "histogram2dcontour"
           }
          ],
          "mesh3d": [
           {
            "colorbar": {
             "outlinewidth": 0,
             "ticks": ""
            },
            "type": "mesh3d"
           }
          ],
          "parcoords": [
           {
            "line": {
             "colorbar": {
              "outlinewidth": 0,
              "ticks": ""
             }
            },
            "type": "parcoords"
           }
          ],
          "pie": [
           {
            "automargin": true,
            "type": "pie"
           }
          ],
          "scatter": [
           {
            "fillpattern": {
             "fillmode": "overlay",
             "size": 10,
             "solidity": 0.2
            },
            "type": "scatter"
           }
          ],
          "scatter3d": [
           {
            "line": {
             "colorbar": {
              "outlinewidth": 0,
              "ticks": ""
             }
            },
            "marker": {
             "colorbar": {
              "outlinewidth": 0,
              "ticks": ""
             }
            },
            "type": "scatter3d"
           }
          ],
          "scattercarpet": [
           {
            "marker": {
             "colorbar": {
              "outlinewidth": 0,
              "ticks": ""
             }
            },
            "type": "scattercarpet"
           }
          ],
          "scattergeo": [
           {
            "marker": {
             "colorbar": {
              "outlinewidth": 0,
              "ticks": ""
             }
            },
            "type": "scattergeo"
           }
          ],
          "scattergl": [
           {
            "marker": {
             "colorbar": {
              "outlinewidth": 0,
              "ticks": ""
             }
            },
            "type": "scattergl"
           }
          ],
          "scattermapbox": [
           {
            "marker": {
             "colorbar": {
              "outlinewidth": 0,
              "ticks": ""
             }
            },
            "type": "scattermapbox"
           }
          ],
          "scatterpolar": [
           {
            "marker": {
             "colorbar": {
              "outlinewidth": 0,
              "ticks": ""
             }
            },
            "type": "scatterpolar"
           }
          ],
          "scatterpolargl": [
           {
            "marker": {
             "colorbar": {
              "outlinewidth": 0,
              "ticks": ""
             }
            },
            "type": "scatterpolargl"
           }
          ],
          "scatterternary": [
           {
            "marker": {
             "colorbar": {
              "outlinewidth": 0,
              "ticks": ""
             }
            },
            "type": "scatterternary"
           }
          ],
          "surface": [
           {
            "colorbar": {
             "outlinewidth": 0,
             "ticks": ""
            },
            "colorscale": [
             [
              0,
              "#0d0887"
             ],
             [
              0.1111111111111111,
              "#46039f"
             ],
             [
              0.2222222222222222,
              "#7201a8"
             ],
             [
              0.3333333333333333,
              "#9c179e"
             ],
             [
              0.4444444444444444,
              "#bd3786"
             ],
             [
              0.5555555555555556,
              "#d8576b"
             ],
             [
              0.6666666666666666,
              "#ed7953"
             ],
             [
              0.7777777777777778,
              "#fb9f3a"
             ],
             [
              0.8888888888888888,
              "#fdca26"
             ],
             [
              1,
              "#f0f921"
             ]
            ],
            "type": "surface"
           }
          ],
          "table": [
           {
            "cells": {
             "fill": {
              "color": "#EBF0F8"
             },
             "line": {
              "color": "white"
             }
            },
            "header": {
             "fill": {
              "color": "#C8D4E3"
             },
             "line": {
              "color": "white"
             }
            },
            "type": "table"
           }
          ]
         },
         "layout": {
          "annotationdefaults": {
           "arrowcolor": "#2a3f5f",
           "arrowhead": 0,
           "arrowwidth": 1
          },
          "autotypenumbers": "strict",
          "coloraxis": {
           "colorbar": {
            "outlinewidth": 0,
            "ticks": ""
           }
          },
          "colorscale": {
           "diverging": [
            [
             0,
             "#8e0152"
            ],
            [
             0.1,
             "#c51b7d"
            ],
            [
             0.2,
             "#de77ae"
            ],
            [
             0.3,
             "#f1b6da"
            ],
            [
             0.4,
             "#fde0ef"
            ],
            [
             0.5,
             "#f7f7f7"
            ],
            [
             0.6,
             "#e6f5d0"
            ],
            [
             0.7,
             "#b8e186"
            ],
            [
             0.8,
             "#7fbc41"
            ],
            [
             0.9,
             "#4d9221"
            ],
            [
             1,
             "#276419"
            ]
           ],
           "sequential": [
            [
             0,
             "#0d0887"
            ],
            [
             0.1111111111111111,
             "#46039f"
            ],
            [
             0.2222222222222222,
             "#7201a8"
            ],
            [
             0.3333333333333333,
             "#9c179e"
            ],
            [
             0.4444444444444444,
             "#bd3786"
            ],
            [
             0.5555555555555556,
             "#d8576b"
            ],
            [
             0.6666666666666666,
             "#ed7953"
            ],
            [
             0.7777777777777778,
             "#fb9f3a"
            ],
            [
             0.8888888888888888,
             "#fdca26"
            ],
            [
             1,
             "#f0f921"
            ]
           ],
           "sequentialminus": [
            [
             0,
             "#0d0887"
            ],
            [
             0.1111111111111111,
             "#46039f"
            ],
            [
             0.2222222222222222,
             "#7201a8"
            ],
            [
             0.3333333333333333,
             "#9c179e"
            ],
            [
             0.4444444444444444,
             "#bd3786"
            ],
            [
             0.5555555555555556,
             "#d8576b"
            ],
            [
             0.6666666666666666,
             "#ed7953"
            ],
            [
             0.7777777777777778,
             "#fb9f3a"
            ],
            [
             0.8888888888888888,
             "#fdca26"
            ],
            [
             1,
             "#f0f921"
            ]
           ]
          },
          "colorway": [
           "#636efa",
           "#EF553B",
           "#00cc96",
           "#ab63fa",
           "#FFA15A",
           "#19d3f3",
           "#FF6692",
           "#B6E880",
           "#FF97FF",
           "#FECB52"
          ],
          "font": {
           "color": "#2a3f5f"
          },
          "geo": {
           "bgcolor": "white",
           "lakecolor": "white",
           "landcolor": "#E5ECF6",
           "showlakes": true,
           "showland": true,
           "subunitcolor": "white"
          },
          "hoverlabel": {
           "align": "left"
          },
          "hovermode": "closest",
          "mapbox": {
           "style": "light"
          },
          "paper_bgcolor": "white",
          "plot_bgcolor": "#E5ECF6",
          "polar": {
           "angularaxis": {
            "gridcolor": "white",
            "linecolor": "white",
            "ticks": ""
           },
           "bgcolor": "#E5ECF6",
           "radialaxis": {
            "gridcolor": "white",
            "linecolor": "white",
            "ticks": ""
           }
          },
          "scene": {
           "xaxis": {
            "backgroundcolor": "#E5ECF6",
            "gridcolor": "white",
            "gridwidth": 2,
            "linecolor": "white",
            "showbackground": true,
            "ticks": "",
            "zerolinecolor": "white"
           },
           "yaxis": {
            "backgroundcolor": "#E5ECF6",
            "gridcolor": "white",
            "gridwidth": 2,
            "linecolor": "white",
            "showbackground": true,
            "ticks": "",
            "zerolinecolor": "white"
           },
           "zaxis": {
            "backgroundcolor": "#E5ECF6",
            "gridcolor": "white",
            "gridwidth": 2,
            "linecolor": "white",
            "showbackground": true,
            "ticks": "",
            "zerolinecolor": "white"
           }
          },
          "shapedefaults": {
           "line": {
            "color": "#2a3f5f"
           }
          },
          "ternary": {
           "aaxis": {
            "gridcolor": "white",
            "linecolor": "white",
            "ticks": ""
           },
           "baxis": {
            "gridcolor": "white",
            "linecolor": "white",
            "ticks": ""
           },
           "bgcolor": "#E5ECF6",
           "caxis": {
            "gridcolor": "white",
            "linecolor": "white",
            "ticks": ""
           }
          },
          "title": {
           "x": 0.05
          },
          "xaxis": {
           "automargin": true,
           "gridcolor": "white",
           "linecolor": "white",
           "ticks": "",
           "title": {
            "standoff": 15
           },
           "zerolinecolor": "white",
           "zerolinewidth": 2
          },
          "yaxis": {
           "automargin": true,
           "gridcolor": "white",
           "linecolor": "white",
           "ticks": "",
           "title": {
            "standoff": 15
           },
           "zerolinecolor": "white",
           "zerolinewidth": 2
          }
         }
        },
        "title": {
         "text": "Frecuency of topics (Cluster 4)"
        },
        "xaxis": {
         "anchor": "y",
         "categoryarray": [
          "0",
          "1",
          "6"
         ],
         "categoryorder": "array",
         "domain": [
          0,
          1
         ],
         "title": {
          "text": "Topic"
         }
        },
        "yaxis": {
         "anchor": "x",
         "domain": [
          0,
          1
         ],
         "title": {
          "text": "Frequency"
         }
        }
       }
      },
      "text/html": [
       "<div>                            <div id=\"7c3bf209-57e9-4479-ae1b-f3a471c924fb\" class=\"plotly-graph-div\" style=\"height:525px; width:100%;\"></div>            <script type=\"text/javascript\">                require([\"plotly\"], function(Plotly) {                    window.PLOTLYENV=window.PLOTLYENV || {};                                    if (document.getElementById(\"7c3bf209-57e9-4479-ae1b-f3a471c924fb\")) {                    Plotly.newPlot(                        \"7c3bf209-57e9-4479-ae1b-f3a471c924fb\",                        [{\"alignmentgroup\":\"True\",\"hovertemplate\":\"Topic=%{x}<br>Frequency=%{y}<extra></extra>\",\"legendgroup\":\"0\",\"marker\":{\"color\":\"#636efa\",\"pattern\":{\"shape\":\"\"}},\"name\":\"0\",\"offsetgroup\":\"0\",\"orientation\":\"v\",\"showlegend\":true,\"textposition\":\"auto\",\"x\":[\"0\"],\"xaxis\":\"x\",\"y\":[17],\"yaxis\":\"y\",\"type\":\"bar\"},{\"alignmentgroup\":\"True\",\"hovertemplate\":\"Topic=%{x}<br>Frequency=%{y}<extra></extra>\",\"legendgroup\":\"1\",\"marker\":{\"color\":\"#EF553B\",\"pattern\":{\"shape\":\"\"}},\"name\":\"1\",\"offsetgroup\":\"1\",\"orientation\":\"v\",\"showlegend\":true,\"textposition\":\"auto\",\"x\":[\"1\"],\"xaxis\":\"x\",\"y\":[2],\"yaxis\":\"y\",\"type\":\"bar\"},{\"alignmentgroup\":\"True\",\"hovertemplate\":\"Topic=%{x}<br>Frequency=%{y}<extra></extra>\",\"legendgroup\":\"6\",\"marker\":{\"color\":\"#00cc96\",\"pattern\":{\"shape\":\"\"}},\"name\":\"6\",\"offsetgroup\":\"6\",\"orientation\":\"v\",\"showlegend\":true,\"textposition\":\"auto\",\"x\":[\"6\"],\"xaxis\":\"x\",\"y\":[1],\"yaxis\":\"y\",\"type\":\"bar\"}],                        {\"template\":{\"data\":{\"histogram2dcontour\":[{\"type\":\"histogram2dcontour\",\"colorbar\":{\"outlinewidth\":0,\"ticks\":\"\"},\"colorscale\":[[0.0,\"#0d0887\"],[0.1111111111111111,\"#46039f\"],[0.2222222222222222,\"#7201a8\"],[0.3333333333333333,\"#9c179e\"],[0.4444444444444444,\"#bd3786\"],[0.5555555555555556,\"#d8576b\"],[0.6666666666666666,\"#ed7953\"],[0.7777777777777778,\"#fb9f3a\"],[0.8888888888888888,\"#fdca26\"],[1.0,\"#f0f921\"]]}],\"choropleth\":[{\"type\":\"choropleth\",\"colorbar\":{\"outlinewidth\":0,\"ticks\":\"\"}}],\"histogram2d\":[{\"type\":\"histogram2d\",\"colorbar\":{\"outlinewidth\":0,\"ticks\":\"\"},\"colorscale\":[[0.0,\"#0d0887\"],[0.1111111111111111,\"#46039f\"],[0.2222222222222222,\"#7201a8\"],[0.3333333333333333,\"#9c179e\"],[0.4444444444444444,\"#bd3786\"],[0.5555555555555556,\"#d8576b\"],[0.6666666666666666,\"#ed7953\"],[0.7777777777777778,\"#fb9f3a\"],[0.8888888888888888,\"#fdca26\"],[1.0,\"#f0f921\"]]}],\"heatmap\":[{\"type\":\"heatmap\",\"colorbar\":{\"outlinewidth\":0,\"ticks\":\"\"},\"colorscale\":[[0.0,\"#0d0887\"],[0.1111111111111111,\"#46039f\"],[0.2222222222222222,\"#7201a8\"],[0.3333333333333333,\"#9c179e\"],[0.4444444444444444,\"#bd3786\"],[0.5555555555555556,\"#d8576b\"],[0.6666666666666666,\"#ed7953\"],[0.7777777777777778,\"#fb9f3a\"],[0.8888888888888888,\"#fdca26\"],[1.0,\"#f0f921\"]]}],\"heatmapgl\":[{\"type\":\"heatmapgl\",\"colorbar\":{\"outlinewidth\":0,\"ticks\":\"\"},\"colorscale\":[[0.0,\"#0d0887\"],[0.1111111111111111,\"#46039f\"],[0.2222222222222222,\"#7201a8\"],[0.3333333333333333,\"#9c179e\"],[0.4444444444444444,\"#bd3786\"],[0.5555555555555556,\"#d8576b\"],[0.6666666666666666,\"#ed7953\"],[0.7777777777777778,\"#fb9f3a\"],[0.8888888888888888,\"#fdca26\"],[1.0,\"#f0f921\"]]}],\"contourcarpet\":[{\"type\":\"contourcarpet\",\"colorbar\":{\"outlinewidth\":0,\"ticks\":\"\"}}],\"contour\":[{\"type\":\"contour\",\"colorbar\":{\"outlinewidth\":0,\"ticks\":\"\"},\"colorscale\":[[0.0,\"#0d0887\"],[0.1111111111111111,\"#46039f\"],[0.2222222222222222,\"#7201a8\"],[0.3333333333333333,\"#9c179e\"],[0.4444444444444444,\"#bd3786\"],[0.5555555555555556,\"#d8576b\"],[0.6666666666666666,\"#ed7953\"],[0.7777777777777778,\"#fb9f3a\"],[0.8888888888888888,\"#fdca26\"],[1.0,\"#f0f921\"]]}],\"surface\":[{\"type\":\"surface\",\"colorbar\":{\"outlinewidth\":0,\"ticks\":\"\"},\"colorscale\":[[0.0,\"#0d0887\"],[0.1111111111111111,\"#46039f\"],[0.2222222222222222,\"#7201a8\"],[0.3333333333333333,\"#9c179e\"],[0.4444444444444444,\"#bd3786\"],[0.5555555555555556,\"#d8576b\"],[0.6666666666666666,\"#ed7953\"],[0.7777777777777778,\"#fb9f3a\"],[0.8888888888888888,\"#fdca26\"],[1.0,\"#f0f921\"]]}],\"mesh3d\":[{\"type\":\"mesh3d\",\"colorbar\":{\"outlinewidth\":0,\"ticks\":\"\"}}],\"scatter\":[{\"fillpattern\":{\"fillmode\":\"overlay\",\"size\":10,\"solidity\":0.2},\"type\":\"scatter\"}],\"parcoords\":[{\"type\":\"parcoords\",\"line\":{\"colorbar\":{\"outlinewidth\":0,\"ticks\":\"\"}}}],\"scatterpolargl\":[{\"type\":\"scatterpolargl\",\"marker\":{\"colorbar\":{\"outlinewidth\":0,\"ticks\":\"\"}}}],\"bar\":[{\"error_x\":{\"color\":\"#2a3f5f\"},\"error_y\":{\"color\":\"#2a3f5f\"},\"marker\":{\"line\":{\"color\":\"#E5ECF6\",\"width\":0.5},\"pattern\":{\"fillmode\":\"overlay\",\"size\":10,\"solidity\":0.2}},\"type\":\"bar\"}],\"scattergeo\":[{\"type\":\"scattergeo\",\"marker\":{\"colorbar\":{\"outlinewidth\":0,\"ticks\":\"\"}}}],\"scatterpolar\":[{\"type\":\"scatterpolar\",\"marker\":{\"colorbar\":{\"outlinewidth\":0,\"ticks\":\"\"}}}],\"histogram\":[{\"marker\":{\"pattern\":{\"fillmode\":\"overlay\",\"size\":10,\"solidity\":0.2}},\"type\":\"histogram\"}],\"scattergl\":[{\"type\":\"scattergl\",\"marker\":{\"colorbar\":{\"outlinewidth\":0,\"ticks\":\"\"}}}],\"scatter3d\":[{\"type\":\"scatter3d\",\"line\":{\"colorbar\":{\"outlinewidth\":0,\"ticks\":\"\"}},\"marker\":{\"colorbar\":{\"outlinewidth\":0,\"ticks\":\"\"}}}],\"scattermapbox\":[{\"type\":\"scattermapbox\",\"marker\":{\"colorbar\":{\"outlinewidth\":0,\"ticks\":\"\"}}}],\"scatterternary\":[{\"type\":\"scatterternary\",\"marker\":{\"colorbar\":{\"outlinewidth\":0,\"ticks\":\"\"}}}],\"scattercarpet\":[{\"type\":\"scattercarpet\",\"marker\":{\"colorbar\":{\"outlinewidth\":0,\"ticks\":\"\"}}}],\"carpet\":[{\"aaxis\":{\"endlinecolor\":\"#2a3f5f\",\"gridcolor\":\"white\",\"linecolor\":\"white\",\"minorgridcolor\":\"white\",\"startlinecolor\":\"#2a3f5f\"},\"baxis\":{\"endlinecolor\":\"#2a3f5f\",\"gridcolor\":\"white\",\"linecolor\":\"white\",\"minorgridcolor\":\"white\",\"startlinecolor\":\"#2a3f5f\"},\"type\":\"carpet\"}],\"table\":[{\"cells\":{\"fill\":{\"color\":\"#EBF0F8\"},\"line\":{\"color\":\"white\"}},\"header\":{\"fill\":{\"color\":\"#C8D4E3\"},\"line\":{\"color\":\"white\"}},\"type\":\"table\"}],\"barpolar\":[{\"marker\":{\"line\":{\"color\":\"#E5ECF6\",\"width\":0.5},\"pattern\":{\"fillmode\":\"overlay\",\"size\":10,\"solidity\":0.2}},\"type\":\"barpolar\"}],\"pie\":[{\"automargin\":true,\"type\":\"pie\"}]},\"layout\":{\"autotypenumbers\":\"strict\",\"colorway\":[\"#636efa\",\"#EF553B\",\"#00cc96\",\"#ab63fa\",\"#FFA15A\",\"#19d3f3\",\"#FF6692\",\"#B6E880\",\"#FF97FF\",\"#FECB52\"],\"font\":{\"color\":\"#2a3f5f\"},\"hovermode\":\"closest\",\"hoverlabel\":{\"align\":\"left\"},\"paper_bgcolor\":\"white\",\"plot_bgcolor\":\"#E5ECF6\",\"polar\":{\"bgcolor\":\"#E5ECF6\",\"angularaxis\":{\"gridcolor\":\"white\",\"linecolor\":\"white\",\"ticks\":\"\"},\"radialaxis\":{\"gridcolor\":\"white\",\"linecolor\":\"white\",\"ticks\":\"\"}},\"ternary\":{\"bgcolor\":\"#E5ECF6\",\"aaxis\":{\"gridcolor\":\"white\",\"linecolor\":\"white\",\"ticks\":\"\"},\"baxis\":{\"gridcolor\":\"white\",\"linecolor\":\"white\",\"ticks\":\"\"},\"caxis\":{\"gridcolor\":\"white\",\"linecolor\":\"white\",\"ticks\":\"\"}},\"coloraxis\":{\"colorbar\":{\"outlinewidth\":0,\"ticks\":\"\"}},\"colorscale\":{\"sequential\":[[0.0,\"#0d0887\"],[0.1111111111111111,\"#46039f\"],[0.2222222222222222,\"#7201a8\"],[0.3333333333333333,\"#9c179e\"],[0.4444444444444444,\"#bd3786\"],[0.5555555555555556,\"#d8576b\"],[0.6666666666666666,\"#ed7953\"],[0.7777777777777778,\"#fb9f3a\"],[0.8888888888888888,\"#fdca26\"],[1.0,\"#f0f921\"]],\"sequentialminus\":[[0.0,\"#0d0887\"],[0.1111111111111111,\"#46039f\"],[0.2222222222222222,\"#7201a8\"],[0.3333333333333333,\"#9c179e\"],[0.4444444444444444,\"#bd3786\"],[0.5555555555555556,\"#d8576b\"],[0.6666666666666666,\"#ed7953\"],[0.7777777777777778,\"#fb9f3a\"],[0.8888888888888888,\"#fdca26\"],[1.0,\"#f0f921\"]],\"diverging\":[[0,\"#8e0152\"],[0.1,\"#c51b7d\"],[0.2,\"#de77ae\"],[0.3,\"#f1b6da\"],[0.4,\"#fde0ef\"],[0.5,\"#f7f7f7\"],[0.6,\"#e6f5d0\"],[0.7,\"#b8e186\"],[0.8,\"#7fbc41\"],[0.9,\"#4d9221\"],[1,\"#276419\"]]},\"xaxis\":{\"gridcolor\":\"white\",\"linecolor\":\"white\",\"ticks\":\"\",\"title\":{\"standoff\":15},\"zerolinecolor\":\"white\",\"automargin\":true,\"zerolinewidth\":2},\"yaxis\":{\"gridcolor\":\"white\",\"linecolor\":\"white\",\"ticks\":\"\",\"title\":{\"standoff\":15},\"zerolinecolor\":\"white\",\"automargin\":true,\"zerolinewidth\":2},\"scene\":{\"xaxis\":{\"backgroundcolor\":\"#E5ECF6\",\"gridcolor\":\"white\",\"linecolor\":\"white\",\"showbackground\":true,\"ticks\":\"\",\"zerolinecolor\":\"white\",\"gridwidth\":2},\"yaxis\":{\"backgroundcolor\":\"#E5ECF6\",\"gridcolor\":\"white\",\"linecolor\":\"white\",\"showbackground\":true,\"ticks\":\"\",\"zerolinecolor\":\"white\",\"gridwidth\":2},\"zaxis\":{\"backgroundcolor\":\"#E5ECF6\",\"gridcolor\":\"white\",\"linecolor\":\"white\",\"showbackground\":true,\"ticks\":\"\",\"zerolinecolor\":\"white\",\"gridwidth\":2}},\"shapedefaults\":{\"line\":{\"color\":\"#2a3f5f\"}},\"annotationdefaults\":{\"arrowcolor\":\"#2a3f5f\",\"arrowhead\":0,\"arrowwidth\":1},\"geo\":{\"bgcolor\":\"white\",\"landcolor\":\"#E5ECF6\",\"subunitcolor\":\"white\",\"showland\":true,\"showlakes\":true,\"lakecolor\":\"white\"},\"title\":{\"x\":0.05},\"mapbox\":{\"style\":\"light\"}}},\"xaxis\":{\"anchor\":\"y\",\"domain\":[0.0,1.0],\"title\":{\"text\":\"Topic\"},\"categoryorder\":\"array\",\"categoryarray\":[\"0\",\"1\",\"6\"]},\"yaxis\":{\"anchor\":\"x\",\"domain\":[0.0,1.0],\"title\":{\"text\":\"Frequency\"}},\"legend\":{\"title\":{\"text\":\"Topic\"},\"tracegroupgap\":0},\"title\":{\"text\":\"Frecuency of topics (Cluster 4)\"},\"barmode\":\"relative\",\"font\":{\"size\":18}},                        {\"responsive\": true}                    ).then(function(){\n",
       "                            \n",
       "var gd = document.getElementById('7c3bf209-57e9-4479-ae1b-f3a471c924fb');\n",
       "var x = new MutationObserver(function (mutations, observer) {{\n",
       "        var display = window.getComputedStyle(gd).display;\n",
       "        if (!display || display === 'none') {{\n",
       "            console.log([gd, 'removed!']);\n",
       "            Plotly.purge(gd);\n",
       "            observer.disconnect();\n",
       "        }}\n",
       "}});\n",
       "\n",
       "// Listen for the removal of the full notebook cells\n",
       "var notebookContainer = gd.closest('#notebook-container');\n",
       "if (notebookContainer) {{\n",
       "    x.observe(notebookContainer, {childList: true});\n",
       "}}\n",
       "\n",
       "// Listen for the clearing of the current output cell\n",
       "var outputEl = gd.closest('.output');\n",
       "if (outputEl) {{\n",
       "    x.observe(outputEl, {childList: true});\n",
       "}}\n",
       "\n",
       "                        })                };                });            </script>        </div>"
      ]
     },
     "metadata": {},
     "output_type": "display_data"
    }
   ],
   "source": [
    "table_hist_per_topic = pd.DataFrame(df_topic[\"Topic\"].value_counts()).reset_index().rename(columns={\"index\": \"Topic\", \"Topic\": \"Frequency\"})\n",
    "table_hist_per_topic[\"Topic\"] = table_hist_per_topic[\"Topic\"].astype(str)\n",
    "table_hist_per_topic = table_hist_per_topic.sort_values(\"Topic\")\n",
    "\n",
    "fig = px.bar(table_hist_per_topic, color=\"Topic\", x=\"Topic\", y=\"Frequency\", title=f\"Frecuency of topics (Cluster {cluster_id})\")\n",
    "fig.update_layout(\n",
    "    font=dict(\n",
    "        size=18\n",
    "    )\n",
    ")\n",
    "fig.show()"
   ]
  },
  {
   "cell_type": "code",
   "execution_count": 220,
   "metadata": {},
   "outputs": [],
   "source": [
    "relevant_topics = table_hist_per_topic[\"Topic\"].values"
   ]
  },
  {
   "cell_type": "code",
   "execution_count": 221,
   "metadata": {},
   "outputs": [],
   "source": [
    "data_strengths_per_topic = lsi.print_topics(num_topics)"
   ]
  },
  {
   "cell_type": "code",
   "execution_count": 222,
   "metadata": {},
   "outputs": [],
   "source": [
    "strengths_per_topic = []\n",
    "for topic_k in range(len(data_strengths_per_topic)):\n",
    "    id_k, strengths_k = data_strengths_per_topic[topic_k]\n",
    "    strengths_k = strengths_k.split(\" + \")\n",
    "    for a_w in strengths_k:\n",
    "        a, w = a_w.split(\"*\")\n",
    "        a = float(a)\n",
    "        w=w.replace('\"', \"\")\n",
    "        o = {\"Topic\": str(id_k), \"Term\": w, \"Strength\": a}\n",
    "        strengths_per_topic.append(o)"
   ]
  },
  {
   "cell_type": "code",
   "execution_count": 223,
   "metadata": {},
   "outputs": [
    {
     "data": {
      "application/vnd.plotly.v1+json": {
       "config": {
        "plotlyServerURL": "https://plot.ly"
       },
       "data": [
        {
         "alignmentgroup": "True",
         "hovertemplate": "Topic=0<br>Term=%{x}<br>Strength=%{y}<extra></extra>",
         "legendgroup": "0",
         "marker": {
          "color": "#636efa",
          "pattern": {
           "shape": ""
          }
         },
         "name": "0",
         "offsetgroup": "0",
         "orientation": "v",
         "showlegend": true,
         "textposition": "auto",
         "type": "bar",
         "x": [
          "health",
          "employ",
          "public",
          "evalu",
          "graduat",
          "criteria",
          "concept",
          "qualiti",
          "teach",
          "busi"
         ],
         "xaxis": "x",
         "y": [
          0.215,
          0.213,
          0.201,
          0.161,
          0.142,
          0.137,
          0.113,
          0.112,
          0.108,
          0.105
         ],
         "yaxis": "y"
        },
        {
         "alignmentgroup": "True",
         "hovertemplate": "Topic=1<br>Term=%{x}<br>Strength=%{y}<extra></extra>",
         "legendgroup": "1",
         "marker": {
          "color": "#EF553B",
          "pattern": {
           "shape": ""
          }
         },
         "name": "1",
         "offsetgroup": "1",
         "orientation": "v",
         "showlegend": true,
         "textposition": "auto",
         "type": "bar",
         "x": [
          "health",
          "public",
          "employ",
          "evalu",
          "criteria",
          "qualiti",
          "cap",
          "poland",
          "graduat",
          "prefer"
         ],
         "xaxis": "x",
         "y": [
          0.341,
          0.32,
          0.246,
          -0.21,
          -0.2,
          -0.196,
          -0.161,
          0.144,
          0.129,
          0.11
         ],
         "yaxis": "y"
        },
        {
         "alignmentgroup": "True",
         "hovertemplate": "Topic=6<br>Term=%{x}<br>Strength=%{y}<extra></extra>",
         "legendgroup": "6",
         "marker": {
          "color": "#00cc96",
          "pattern": {
           "shape": ""
          }
         },
         "name": "6",
         "offsetgroup": "6",
         "orientation": "v",
         "showlegend": true,
         "textposition": "auto",
         "type": "bar",
         "x": [
          "sustain",
          "medic",
          "spanish",
          "first",
          "field",
          "model",
          "reform",
          "medicin",
          "canada",
          "scientif"
         ],
         "xaxis": "x",
         "y": [
          0.297,
          -0.277,
          -0.14,
          -0.139,
          0.137,
          0.132,
          -0.12,
          -0.12,
          -0.12,
          -0.12
         ],
         "yaxis": "y"
        }
       ],
       "layout": {
        "barmode": "relative",
        "font": {
         "size": 18
        },
        "legend": {
         "title": {
          "text": "Topic"
         },
         "tracegroupgap": 0
        },
        "template": {
         "data": {
          "bar": [
           {
            "error_x": {
             "color": "#2a3f5f"
            },
            "error_y": {
             "color": "#2a3f5f"
            },
            "marker": {
             "line": {
              "color": "#E5ECF6",
              "width": 0.5
             },
             "pattern": {
              "fillmode": "overlay",
              "size": 10,
              "solidity": 0.2
             }
            },
            "type": "bar"
           }
          ],
          "barpolar": [
           {
            "marker": {
             "line": {
              "color": "#E5ECF6",
              "width": 0.5
             },
             "pattern": {
              "fillmode": "overlay",
              "size": 10,
              "solidity": 0.2
             }
            },
            "type": "barpolar"
           }
          ],
          "carpet": [
           {
            "aaxis": {
             "endlinecolor": "#2a3f5f",
             "gridcolor": "white",
             "linecolor": "white",
             "minorgridcolor": "white",
             "startlinecolor": "#2a3f5f"
            },
            "baxis": {
             "endlinecolor": "#2a3f5f",
             "gridcolor": "white",
             "linecolor": "white",
             "minorgridcolor": "white",
             "startlinecolor": "#2a3f5f"
            },
            "type": "carpet"
           }
          ],
          "choropleth": [
           {
            "colorbar": {
             "outlinewidth": 0,
             "ticks": ""
            },
            "type": "choropleth"
           }
          ],
          "contour": [
           {
            "colorbar": {
             "outlinewidth": 0,
             "ticks": ""
            },
            "colorscale": [
             [
              0,
              "#0d0887"
             ],
             [
              0.1111111111111111,
              "#46039f"
             ],
             [
              0.2222222222222222,
              "#7201a8"
             ],
             [
              0.3333333333333333,
              "#9c179e"
             ],
             [
              0.4444444444444444,
              "#bd3786"
             ],
             [
              0.5555555555555556,
              "#d8576b"
             ],
             [
              0.6666666666666666,
              "#ed7953"
             ],
             [
              0.7777777777777778,
              "#fb9f3a"
             ],
             [
              0.8888888888888888,
              "#fdca26"
             ],
             [
              1,
              "#f0f921"
             ]
            ],
            "type": "contour"
           }
          ],
          "contourcarpet": [
           {
            "colorbar": {
             "outlinewidth": 0,
             "ticks": ""
            },
            "type": "contourcarpet"
           }
          ],
          "heatmap": [
           {
            "colorbar": {
             "outlinewidth": 0,
             "ticks": ""
            },
            "colorscale": [
             [
              0,
              "#0d0887"
             ],
             [
              0.1111111111111111,
              "#46039f"
             ],
             [
              0.2222222222222222,
              "#7201a8"
             ],
             [
              0.3333333333333333,
              "#9c179e"
             ],
             [
              0.4444444444444444,
              "#bd3786"
             ],
             [
              0.5555555555555556,
              "#d8576b"
             ],
             [
              0.6666666666666666,
              "#ed7953"
             ],
             [
              0.7777777777777778,
              "#fb9f3a"
             ],
             [
              0.8888888888888888,
              "#fdca26"
             ],
             [
              1,
              "#f0f921"
             ]
            ],
            "type": "heatmap"
           }
          ],
          "heatmapgl": [
           {
            "colorbar": {
             "outlinewidth": 0,
             "ticks": ""
            },
            "colorscale": [
             [
              0,
              "#0d0887"
             ],
             [
              0.1111111111111111,
              "#46039f"
             ],
             [
              0.2222222222222222,
              "#7201a8"
             ],
             [
              0.3333333333333333,
              "#9c179e"
             ],
             [
              0.4444444444444444,
              "#bd3786"
             ],
             [
              0.5555555555555556,
              "#d8576b"
             ],
             [
              0.6666666666666666,
              "#ed7953"
             ],
             [
              0.7777777777777778,
              "#fb9f3a"
             ],
             [
              0.8888888888888888,
              "#fdca26"
             ],
             [
              1,
              "#f0f921"
             ]
            ],
            "type": "heatmapgl"
           }
          ],
          "histogram": [
           {
            "marker": {
             "pattern": {
              "fillmode": "overlay",
              "size": 10,
              "solidity": 0.2
             }
            },
            "type": "histogram"
           }
          ],
          "histogram2d": [
           {
            "colorbar": {
             "outlinewidth": 0,
             "ticks": ""
            },
            "colorscale": [
             [
              0,
              "#0d0887"
             ],
             [
              0.1111111111111111,
              "#46039f"
             ],
             [
              0.2222222222222222,
              "#7201a8"
             ],
             [
              0.3333333333333333,
              "#9c179e"
             ],
             [
              0.4444444444444444,
              "#bd3786"
             ],
             [
              0.5555555555555556,
              "#d8576b"
             ],
             [
              0.6666666666666666,
              "#ed7953"
             ],
             [
              0.7777777777777778,
              "#fb9f3a"
             ],
             [
              0.8888888888888888,
              "#fdca26"
             ],
             [
              1,
              "#f0f921"
             ]
            ],
            "type": "histogram2d"
           }
          ],
          "histogram2dcontour": [
           {
            "colorbar": {
             "outlinewidth": 0,
             "ticks": ""
            },
            "colorscale": [
             [
              0,
              "#0d0887"
             ],
             [
              0.1111111111111111,
              "#46039f"
             ],
             [
              0.2222222222222222,
              "#7201a8"
             ],
             [
              0.3333333333333333,
              "#9c179e"
             ],
             [
              0.4444444444444444,
              "#bd3786"
             ],
             [
              0.5555555555555556,
              "#d8576b"
             ],
             [
              0.6666666666666666,
              "#ed7953"
             ],
             [
              0.7777777777777778,
              "#fb9f3a"
             ],
             [
              0.8888888888888888,
              "#fdca26"
             ],
             [
              1,
              "#f0f921"
             ]
            ],
            "type": "histogram2dcontour"
           }
          ],
          "mesh3d": [
           {
            "colorbar": {
             "outlinewidth": 0,
             "ticks": ""
            },
            "type": "mesh3d"
           }
          ],
          "parcoords": [
           {
            "line": {
             "colorbar": {
              "outlinewidth": 0,
              "ticks": ""
             }
            },
            "type": "parcoords"
           }
          ],
          "pie": [
           {
            "automargin": true,
            "type": "pie"
           }
          ],
          "scatter": [
           {
            "fillpattern": {
             "fillmode": "overlay",
             "size": 10,
             "solidity": 0.2
            },
            "type": "scatter"
           }
          ],
          "scatter3d": [
           {
            "line": {
             "colorbar": {
              "outlinewidth": 0,
              "ticks": ""
             }
            },
            "marker": {
             "colorbar": {
              "outlinewidth": 0,
              "ticks": ""
             }
            },
            "type": "scatter3d"
           }
          ],
          "scattercarpet": [
           {
            "marker": {
             "colorbar": {
              "outlinewidth": 0,
              "ticks": ""
             }
            },
            "type": "scattercarpet"
           }
          ],
          "scattergeo": [
           {
            "marker": {
             "colorbar": {
              "outlinewidth": 0,
              "ticks": ""
             }
            },
            "type": "scattergeo"
           }
          ],
          "scattergl": [
           {
            "marker": {
             "colorbar": {
              "outlinewidth": 0,
              "ticks": ""
             }
            },
            "type": "scattergl"
           }
          ],
          "scattermapbox": [
           {
            "marker": {
             "colorbar": {
              "outlinewidth": 0,
              "ticks": ""
             }
            },
            "type": "scattermapbox"
           }
          ],
          "scatterpolar": [
           {
            "marker": {
             "colorbar": {
              "outlinewidth": 0,
              "ticks": ""
             }
            },
            "type": "scatterpolar"
           }
          ],
          "scatterpolargl": [
           {
            "marker": {
             "colorbar": {
              "outlinewidth": 0,
              "ticks": ""
             }
            },
            "type": "scatterpolargl"
           }
          ],
          "scatterternary": [
           {
            "marker": {
             "colorbar": {
              "outlinewidth": 0,
              "ticks": ""
             }
            },
            "type": "scatterternary"
           }
          ],
          "surface": [
           {
            "colorbar": {
             "outlinewidth": 0,
             "ticks": ""
            },
            "colorscale": [
             [
              0,
              "#0d0887"
             ],
             [
              0.1111111111111111,
              "#46039f"
             ],
             [
              0.2222222222222222,
              "#7201a8"
             ],
             [
              0.3333333333333333,
              "#9c179e"
             ],
             [
              0.4444444444444444,
              "#bd3786"
             ],
             [
              0.5555555555555556,
              "#d8576b"
             ],
             [
              0.6666666666666666,
              "#ed7953"
             ],
             [
              0.7777777777777778,
              "#fb9f3a"
             ],
             [
              0.8888888888888888,
              "#fdca26"
             ],
             [
              1,
              "#f0f921"
             ]
            ],
            "type": "surface"
           }
          ],
          "table": [
           {
            "cells": {
             "fill": {
              "color": "#EBF0F8"
             },
             "line": {
              "color": "white"
             }
            },
            "header": {
             "fill": {
              "color": "#C8D4E3"
             },
             "line": {
              "color": "white"
             }
            },
            "type": "table"
           }
          ]
         },
         "layout": {
          "annotationdefaults": {
           "arrowcolor": "#2a3f5f",
           "arrowhead": 0,
           "arrowwidth": 1
          },
          "autotypenumbers": "strict",
          "coloraxis": {
           "colorbar": {
            "outlinewidth": 0,
            "ticks": ""
           }
          },
          "colorscale": {
           "diverging": [
            [
             0,
             "#8e0152"
            ],
            [
             0.1,
             "#c51b7d"
            ],
            [
             0.2,
             "#de77ae"
            ],
            [
             0.3,
             "#f1b6da"
            ],
            [
             0.4,
             "#fde0ef"
            ],
            [
             0.5,
             "#f7f7f7"
            ],
            [
             0.6,
             "#e6f5d0"
            ],
            [
             0.7,
             "#b8e186"
            ],
            [
             0.8,
             "#7fbc41"
            ],
            [
             0.9,
             "#4d9221"
            ],
            [
             1,
             "#276419"
            ]
           ],
           "sequential": [
            [
             0,
             "#0d0887"
            ],
            [
             0.1111111111111111,
             "#46039f"
            ],
            [
             0.2222222222222222,
             "#7201a8"
            ],
            [
             0.3333333333333333,
             "#9c179e"
            ],
            [
             0.4444444444444444,
             "#bd3786"
            ],
            [
             0.5555555555555556,
             "#d8576b"
            ],
            [
             0.6666666666666666,
             "#ed7953"
            ],
            [
             0.7777777777777778,
             "#fb9f3a"
            ],
            [
             0.8888888888888888,
             "#fdca26"
            ],
            [
             1,
             "#f0f921"
            ]
           ],
           "sequentialminus": [
            [
             0,
             "#0d0887"
            ],
            [
             0.1111111111111111,
             "#46039f"
            ],
            [
             0.2222222222222222,
             "#7201a8"
            ],
            [
             0.3333333333333333,
             "#9c179e"
            ],
            [
             0.4444444444444444,
             "#bd3786"
            ],
            [
             0.5555555555555556,
             "#d8576b"
            ],
            [
             0.6666666666666666,
             "#ed7953"
            ],
            [
             0.7777777777777778,
             "#fb9f3a"
            ],
            [
             0.8888888888888888,
             "#fdca26"
            ],
            [
             1,
             "#f0f921"
            ]
           ]
          },
          "colorway": [
           "#636efa",
           "#EF553B",
           "#00cc96",
           "#ab63fa",
           "#FFA15A",
           "#19d3f3",
           "#FF6692",
           "#B6E880",
           "#FF97FF",
           "#FECB52"
          ],
          "font": {
           "color": "#2a3f5f"
          },
          "geo": {
           "bgcolor": "white",
           "lakecolor": "white",
           "landcolor": "#E5ECF6",
           "showlakes": true,
           "showland": true,
           "subunitcolor": "white"
          },
          "hoverlabel": {
           "align": "left"
          },
          "hovermode": "closest",
          "mapbox": {
           "style": "light"
          },
          "paper_bgcolor": "white",
          "plot_bgcolor": "#E5ECF6",
          "polar": {
           "angularaxis": {
            "gridcolor": "white",
            "linecolor": "white",
            "ticks": ""
           },
           "bgcolor": "#E5ECF6",
           "radialaxis": {
            "gridcolor": "white",
            "linecolor": "white",
            "ticks": ""
           }
          },
          "scene": {
           "xaxis": {
            "backgroundcolor": "#E5ECF6",
            "gridcolor": "white",
            "gridwidth": 2,
            "linecolor": "white",
            "showbackground": true,
            "ticks": "",
            "zerolinecolor": "white"
           },
           "yaxis": {
            "backgroundcolor": "#E5ECF6",
            "gridcolor": "white",
            "gridwidth": 2,
            "linecolor": "white",
            "showbackground": true,
            "ticks": "",
            "zerolinecolor": "white"
           },
           "zaxis": {
            "backgroundcolor": "#E5ECF6",
            "gridcolor": "white",
            "gridwidth": 2,
            "linecolor": "white",
            "showbackground": true,
            "ticks": "",
            "zerolinecolor": "white"
           }
          },
          "shapedefaults": {
           "line": {
            "color": "#2a3f5f"
           }
          },
          "ternary": {
           "aaxis": {
            "gridcolor": "white",
            "linecolor": "white",
            "ticks": ""
           },
           "baxis": {
            "gridcolor": "white",
            "linecolor": "white",
            "ticks": ""
           },
           "bgcolor": "#E5ECF6",
           "caxis": {
            "gridcolor": "white",
            "linecolor": "white",
            "ticks": ""
           }
          },
          "title": {
           "x": 0.05
          },
          "xaxis": {
           "automargin": true,
           "gridcolor": "white",
           "linecolor": "white",
           "ticks": "",
           "title": {
            "standoff": 15
           },
           "zerolinecolor": "white",
           "zerolinewidth": 2
          },
          "yaxis": {
           "automargin": true,
           "gridcolor": "white",
           "linecolor": "white",
           "ticks": "",
           "title": {
            "standoff": 15
           },
           "zerolinecolor": "white",
           "zerolinewidth": 2
          }
         }
        },
        "title": {
         "text": "Strength of topics terms (Cluster 4)"
        },
        "xaxis": {
         "anchor": "y",
         "domain": [
          0,
          1
         ],
         "title": {
          "text": "Term"
         }
        },
        "yaxis": {
         "anchor": "x",
         "domain": [
          0,
          1
         ],
         "title": {
          "text": "Strength"
         }
        }
       }
      },
      "text/html": [
       "<div>                            <div id=\"7321092e-2030-4a2e-8d81-a914d1ca93fc\" class=\"plotly-graph-div\" style=\"height:525px; width:100%;\"></div>            <script type=\"text/javascript\">                require([\"plotly\"], function(Plotly) {                    window.PLOTLYENV=window.PLOTLYENV || {};                                    if (document.getElementById(\"7321092e-2030-4a2e-8d81-a914d1ca93fc\")) {                    Plotly.newPlot(                        \"7321092e-2030-4a2e-8d81-a914d1ca93fc\",                        [{\"alignmentgroup\":\"True\",\"hovertemplate\":\"Topic=0<br>Term=%{x}<br>Strength=%{y}<extra></extra>\",\"legendgroup\":\"0\",\"marker\":{\"color\":\"#636efa\",\"pattern\":{\"shape\":\"\"}},\"name\":\"0\",\"offsetgroup\":\"0\",\"orientation\":\"v\",\"showlegend\":true,\"textposition\":\"auto\",\"x\":[\"health\",\"employ\",\"public\",\"evalu\",\"graduat\",\"criteria\",\"concept\",\"qualiti\",\"teach\",\"busi\"],\"xaxis\":\"x\",\"y\":[0.215,0.213,0.201,0.161,0.142,0.137,0.113,0.112,0.108,0.105],\"yaxis\":\"y\",\"type\":\"bar\"},{\"alignmentgroup\":\"True\",\"hovertemplate\":\"Topic=1<br>Term=%{x}<br>Strength=%{y}<extra></extra>\",\"legendgroup\":\"1\",\"marker\":{\"color\":\"#EF553B\",\"pattern\":{\"shape\":\"\"}},\"name\":\"1\",\"offsetgroup\":\"1\",\"orientation\":\"v\",\"showlegend\":true,\"textposition\":\"auto\",\"x\":[\"health\",\"public\",\"employ\",\"evalu\",\"criteria\",\"qualiti\",\"cap\",\"poland\",\"graduat\",\"prefer\"],\"xaxis\":\"x\",\"y\":[0.341,0.32,0.246,-0.21,-0.2,-0.196,-0.161,0.144,0.129,0.11],\"yaxis\":\"y\",\"type\":\"bar\"},{\"alignmentgroup\":\"True\",\"hovertemplate\":\"Topic=6<br>Term=%{x}<br>Strength=%{y}<extra></extra>\",\"legendgroup\":\"6\",\"marker\":{\"color\":\"#00cc96\",\"pattern\":{\"shape\":\"\"}},\"name\":\"6\",\"offsetgroup\":\"6\",\"orientation\":\"v\",\"showlegend\":true,\"textposition\":\"auto\",\"x\":[\"sustain\",\"medic\",\"spanish\",\"first\",\"field\",\"model\",\"reform\",\"medicin\",\"canada\",\"scientif\"],\"xaxis\":\"x\",\"y\":[0.297,-0.277,-0.14,-0.139,0.137,0.132,-0.12,-0.12,-0.12,-0.12],\"yaxis\":\"y\",\"type\":\"bar\"}],                        {\"template\":{\"data\":{\"histogram2dcontour\":[{\"type\":\"histogram2dcontour\",\"colorbar\":{\"outlinewidth\":0,\"ticks\":\"\"},\"colorscale\":[[0.0,\"#0d0887\"],[0.1111111111111111,\"#46039f\"],[0.2222222222222222,\"#7201a8\"],[0.3333333333333333,\"#9c179e\"],[0.4444444444444444,\"#bd3786\"],[0.5555555555555556,\"#d8576b\"],[0.6666666666666666,\"#ed7953\"],[0.7777777777777778,\"#fb9f3a\"],[0.8888888888888888,\"#fdca26\"],[1.0,\"#f0f921\"]]}],\"choropleth\":[{\"type\":\"choropleth\",\"colorbar\":{\"outlinewidth\":0,\"ticks\":\"\"}}],\"histogram2d\":[{\"type\":\"histogram2d\",\"colorbar\":{\"outlinewidth\":0,\"ticks\":\"\"},\"colorscale\":[[0.0,\"#0d0887\"],[0.1111111111111111,\"#46039f\"],[0.2222222222222222,\"#7201a8\"],[0.3333333333333333,\"#9c179e\"],[0.4444444444444444,\"#bd3786\"],[0.5555555555555556,\"#d8576b\"],[0.6666666666666666,\"#ed7953\"],[0.7777777777777778,\"#fb9f3a\"],[0.8888888888888888,\"#fdca26\"],[1.0,\"#f0f921\"]]}],\"heatmap\":[{\"type\":\"heatmap\",\"colorbar\":{\"outlinewidth\":0,\"ticks\":\"\"},\"colorscale\":[[0.0,\"#0d0887\"],[0.1111111111111111,\"#46039f\"],[0.2222222222222222,\"#7201a8\"],[0.3333333333333333,\"#9c179e\"],[0.4444444444444444,\"#bd3786\"],[0.5555555555555556,\"#d8576b\"],[0.6666666666666666,\"#ed7953\"],[0.7777777777777778,\"#fb9f3a\"],[0.8888888888888888,\"#fdca26\"],[1.0,\"#f0f921\"]]}],\"heatmapgl\":[{\"type\":\"heatmapgl\",\"colorbar\":{\"outlinewidth\":0,\"ticks\":\"\"},\"colorscale\":[[0.0,\"#0d0887\"],[0.1111111111111111,\"#46039f\"],[0.2222222222222222,\"#7201a8\"],[0.3333333333333333,\"#9c179e\"],[0.4444444444444444,\"#bd3786\"],[0.5555555555555556,\"#d8576b\"],[0.6666666666666666,\"#ed7953\"],[0.7777777777777778,\"#fb9f3a\"],[0.8888888888888888,\"#fdca26\"],[1.0,\"#f0f921\"]]}],\"contourcarpet\":[{\"type\":\"contourcarpet\",\"colorbar\":{\"outlinewidth\":0,\"ticks\":\"\"}}],\"contour\":[{\"type\":\"contour\",\"colorbar\":{\"outlinewidth\":0,\"ticks\":\"\"},\"colorscale\":[[0.0,\"#0d0887\"],[0.1111111111111111,\"#46039f\"],[0.2222222222222222,\"#7201a8\"],[0.3333333333333333,\"#9c179e\"],[0.4444444444444444,\"#bd3786\"],[0.5555555555555556,\"#d8576b\"],[0.6666666666666666,\"#ed7953\"],[0.7777777777777778,\"#fb9f3a\"],[0.8888888888888888,\"#fdca26\"],[1.0,\"#f0f921\"]]}],\"surface\":[{\"type\":\"surface\",\"colorbar\":{\"outlinewidth\":0,\"ticks\":\"\"},\"colorscale\":[[0.0,\"#0d0887\"],[0.1111111111111111,\"#46039f\"],[0.2222222222222222,\"#7201a8\"],[0.3333333333333333,\"#9c179e\"],[0.4444444444444444,\"#bd3786\"],[0.5555555555555556,\"#d8576b\"],[0.6666666666666666,\"#ed7953\"],[0.7777777777777778,\"#fb9f3a\"],[0.8888888888888888,\"#fdca26\"],[1.0,\"#f0f921\"]]}],\"mesh3d\":[{\"type\":\"mesh3d\",\"colorbar\":{\"outlinewidth\":0,\"ticks\":\"\"}}],\"scatter\":[{\"fillpattern\":{\"fillmode\":\"overlay\",\"size\":10,\"solidity\":0.2},\"type\":\"scatter\"}],\"parcoords\":[{\"type\":\"parcoords\",\"line\":{\"colorbar\":{\"outlinewidth\":0,\"ticks\":\"\"}}}],\"scatterpolargl\":[{\"type\":\"scatterpolargl\",\"marker\":{\"colorbar\":{\"outlinewidth\":0,\"ticks\":\"\"}}}],\"bar\":[{\"error_x\":{\"color\":\"#2a3f5f\"},\"error_y\":{\"color\":\"#2a3f5f\"},\"marker\":{\"line\":{\"color\":\"#E5ECF6\",\"width\":0.5},\"pattern\":{\"fillmode\":\"overlay\",\"size\":10,\"solidity\":0.2}},\"type\":\"bar\"}],\"scattergeo\":[{\"type\":\"scattergeo\",\"marker\":{\"colorbar\":{\"outlinewidth\":0,\"ticks\":\"\"}}}],\"scatterpolar\":[{\"type\":\"scatterpolar\",\"marker\":{\"colorbar\":{\"outlinewidth\":0,\"ticks\":\"\"}}}],\"histogram\":[{\"marker\":{\"pattern\":{\"fillmode\":\"overlay\",\"size\":10,\"solidity\":0.2}},\"type\":\"histogram\"}],\"scattergl\":[{\"type\":\"scattergl\",\"marker\":{\"colorbar\":{\"outlinewidth\":0,\"ticks\":\"\"}}}],\"scatter3d\":[{\"type\":\"scatter3d\",\"line\":{\"colorbar\":{\"outlinewidth\":0,\"ticks\":\"\"}},\"marker\":{\"colorbar\":{\"outlinewidth\":0,\"ticks\":\"\"}}}],\"scattermapbox\":[{\"type\":\"scattermapbox\",\"marker\":{\"colorbar\":{\"outlinewidth\":0,\"ticks\":\"\"}}}],\"scatterternary\":[{\"type\":\"scatterternary\",\"marker\":{\"colorbar\":{\"outlinewidth\":0,\"ticks\":\"\"}}}],\"scattercarpet\":[{\"type\":\"scattercarpet\",\"marker\":{\"colorbar\":{\"outlinewidth\":0,\"ticks\":\"\"}}}],\"carpet\":[{\"aaxis\":{\"endlinecolor\":\"#2a3f5f\",\"gridcolor\":\"white\",\"linecolor\":\"white\",\"minorgridcolor\":\"white\",\"startlinecolor\":\"#2a3f5f\"},\"baxis\":{\"endlinecolor\":\"#2a3f5f\",\"gridcolor\":\"white\",\"linecolor\":\"white\",\"minorgridcolor\":\"white\",\"startlinecolor\":\"#2a3f5f\"},\"type\":\"carpet\"}],\"table\":[{\"cells\":{\"fill\":{\"color\":\"#EBF0F8\"},\"line\":{\"color\":\"white\"}},\"header\":{\"fill\":{\"color\":\"#C8D4E3\"},\"line\":{\"color\":\"white\"}},\"type\":\"table\"}],\"barpolar\":[{\"marker\":{\"line\":{\"color\":\"#E5ECF6\",\"width\":0.5},\"pattern\":{\"fillmode\":\"overlay\",\"size\":10,\"solidity\":0.2}},\"type\":\"barpolar\"}],\"pie\":[{\"automargin\":true,\"type\":\"pie\"}]},\"layout\":{\"autotypenumbers\":\"strict\",\"colorway\":[\"#636efa\",\"#EF553B\",\"#00cc96\",\"#ab63fa\",\"#FFA15A\",\"#19d3f3\",\"#FF6692\",\"#B6E880\",\"#FF97FF\",\"#FECB52\"],\"font\":{\"color\":\"#2a3f5f\"},\"hovermode\":\"closest\",\"hoverlabel\":{\"align\":\"left\"},\"paper_bgcolor\":\"white\",\"plot_bgcolor\":\"#E5ECF6\",\"polar\":{\"bgcolor\":\"#E5ECF6\",\"angularaxis\":{\"gridcolor\":\"white\",\"linecolor\":\"white\",\"ticks\":\"\"},\"radialaxis\":{\"gridcolor\":\"white\",\"linecolor\":\"white\",\"ticks\":\"\"}},\"ternary\":{\"bgcolor\":\"#E5ECF6\",\"aaxis\":{\"gridcolor\":\"white\",\"linecolor\":\"white\",\"ticks\":\"\"},\"baxis\":{\"gridcolor\":\"white\",\"linecolor\":\"white\",\"ticks\":\"\"},\"caxis\":{\"gridcolor\":\"white\",\"linecolor\":\"white\",\"ticks\":\"\"}},\"coloraxis\":{\"colorbar\":{\"outlinewidth\":0,\"ticks\":\"\"}},\"colorscale\":{\"sequential\":[[0.0,\"#0d0887\"],[0.1111111111111111,\"#46039f\"],[0.2222222222222222,\"#7201a8\"],[0.3333333333333333,\"#9c179e\"],[0.4444444444444444,\"#bd3786\"],[0.5555555555555556,\"#d8576b\"],[0.6666666666666666,\"#ed7953\"],[0.7777777777777778,\"#fb9f3a\"],[0.8888888888888888,\"#fdca26\"],[1.0,\"#f0f921\"]],\"sequentialminus\":[[0.0,\"#0d0887\"],[0.1111111111111111,\"#46039f\"],[0.2222222222222222,\"#7201a8\"],[0.3333333333333333,\"#9c179e\"],[0.4444444444444444,\"#bd3786\"],[0.5555555555555556,\"#d8576b\"],[0.6666666666666666,\"#ed7953\"],[0.7777777777777778,\"#fb9f3a\"],[0.8888888888888888,\"#fdca26\"],[1.0,\"#f0f921\"]],\"diverging\":[[0,\"#8e0152\"],[0.1,\"#c51b7d\"],[0.2,\"#de77ae\"],[0.3,\"#f1b6da\"],[0.4,\"#fde0ef\"],[0.5,\"#f7f7f7\"],[0.6,\"#e6f5d0\"],[0.7,\"#b8e186\"],[0.8,\"#7fbc41\"],[0.9,\"#4d9221\"],[1,\"#276419\"]]},\"xaxis\":{\"gridcolor\":\"white\",\"linecolor\":\"white\",\"ticks\":\"\",\"title\":{\"standoff\":15},\"zerolinecolor\":\"white\",\"automargin\":true,\"zerolinewidth\":2},\"yaxis\":{\"gridcolor\":\"white\",\"linecolor\":\"white\",\"ticks\":\"\",\"title\":{\"standoff\":15},\"zerolinecolor\":\"white\",\"automargin\":true,\"zerolinewidth\":2},\"scene\":{\"xaxis\":{\"backgroundcolor\":\"#E5ECF6\",\"gridcolor\":\"white\",\"linecolor\":\"white\",\"showbackground\":true,\"ticks\":\"\",\"zerolinecolor\":\"white\",\"gridwidth\":2},\"yaxis\":{\"backgroundcolor\":\"#E5ECF6\",\"gridcolor\":\"white\",\"linecolor\":\"white\",\"showbackground\":true,\"ticks\":\"\",\"zerolinecolor\":\"white\",\"gridwidth\":2},\"zaxis\":{\"backgroundcolor\":\"#E5ECF6\",\"gridcolor\":\"white\",\"linecolor\":\"white\",\"showbackground\":true,\"ticks\":\"\",\"zerolinecolor\":\"white\",\"gridwidth\":2}},\"shapedefaults\":{\"line\":{\"color\":\"#2a3f5f\"}},\"annotationdefaults\":{\"arrowcolor\":\"#2a3f5f\",\"arrowhead\":0,\"arrowwidth\":1},\"geo\":{\"bgcolor\":\"white\",\"landcolor\":\"#E5ECF6\",\"subunitcolor\":\"white\",\"showland\":true,\"showlakes\":true,\"lakecolor\":\"white\"},\"title\":{\"x\":0.05},\"mapbox\":{\"style\":\"light\"}}},\"xaxis\":{\"anchor\":\"y\",\"domain\":[0.0,1.0],\"title\":{\"text\":\"Term\"}},\"yaxis\":{\"anchor\":\"x\",\"domain\":[0.0,1.0],\"title\":{\"text\":\"Strength\"}},\"legend\":{\"title\":{\"text\":\"Topic\"},\"tracegroupgap\":0},\"title\":{\"text\":\"Strength of topics terms (Cluster 4)\"},\"barmode\":\"relative\",\"font\":{\"size\":18}},                        {\"responsive\": true}                    ).then(function(){\n",
       "                            \n",
       "var gd = document.getElementById('7321092e-2030-4a2e-8d81-a914d1ca93fc');\n",
       "var x = new MutationObserver(function (mutations, observer) {{\n",
       "        var display = window.getComputedStyle(gd).display;\n",
       "        if (!display || display === 'none') {{\n",
       "            console.log([gd, 'removed!']);\n",
       "            Plotly.purge(gd);\n",
       "            observer.disconnect();\n",
       "        }}\n",
       "}});\n",
       "\n",
       "// Listen for the removal of the full notebook cells\n",
       "var notebookContainer = gd.closest('#notebook-container');\n",
       "if (notebookContainer) {{\n",
       "    x.observe(notebookContainer, {childList: true});\n",
       "}}\n",
       "\n",
       "// Listen for the clearing of the current output cell\n",
       "var outputEl = gd.closest('.output');\n",
       "if (outputEl) {{\n",
       "    x.observe(outputEl, {childList: true});\n",
       "}}\n",
       "\n",
       "                        })                };                });            </script>        </div>"
      ]
     },
     "metadata": {},
     "output_type": "display_data"
    }
   ],
   "source": [
    "table_strength = pd.DataFrame(strengths_per_topic)\n",
    "table_strength = table_strength[table_strength[\"Topic\"].isin(relevant_topics)]\n",
    "\n",
    "\n",
    "fig = px.bar(table_strength, color=\"Topic\", x=\"Term\", y=\"Strength\", title=f\"Strength of topics terms (Cluster {cluster_id})\")\n",
    "fig.update_layout(\n",
    "    font=dict(\n",
    "        size=18\n",
    "    )\n",
    ")\n",
    "fig.show()"
   ]
  }
 ],
 "metadata": {
  "kernelspec": {
   "display_name": "Python 3",
   "language": "python",
   "name": "python3"
  },
  "language_info": {
   "codemirror_mode": {
    "name": "ipython",
    "version": 3
   },
   "file_extension": ".py",
   "mimetype": "text/x-python",
   "name": "python",
   "nbconvert_exporter": "python",
   "pygments_lexer": "ipython3",
   "version": "3.8.12"
  }
 },
 "nbformat": 4,
 "nbformat_minor": 4
}
